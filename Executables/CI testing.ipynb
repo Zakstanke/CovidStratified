{
 "cells": [
  {
   "cell_type": "raw",
   "id": "ef1bb6ae",
   "metadata": {},
   "source": [
    "import os\n",
    "os.chdir('C:/Users/zakst/Documents/NIH')\n",
    "os.getcwd()"
   ]
  },
  {
   "cell_type": "code",
   "execution_count": 53,
   "id": "bb9acc7c",
   "metadata": {},
   "outputs": [],
   "source": [
    "# Initialization\n",
    "import numpy as np\n",
    "from numpy import linalg as la\n",
    "import pandas as pd\n",
    "from scipy import optimize\n",
    "import warnings\n",
    "import math\n",
    "import sys\n",
    "from tabulate import tabulate\n",
    "import csv\n",
    "\n",
    "import CovidEM\n",
    "import CovidEM2\n",
    "import CovidCI\n",
    "\n",
    "import imp\n",
    "imp.reload(CovidCI)\n",
    "imp.reload(CovidEM) #applies changes made to file\n",
    "imp.reload(CovidEM2)\n",
    "\n",
    "# Read in data\n",
    "cases = pd.read_csv('CovidStratified/Data/cases.csv', index_col=0)\n",
    "cases = cases.sort_index(ascending = True)\n",
    "# to retrieve entries as plain data types: cases.iloc[i,j].values\n",
    "cases_dict = {}\n",
    "cases_mat = cases.to_dict(\"split\")[\"data\"] # temp variable to hold onto arrays\n",
    "for i in range(len(cases)):\n",
    "    cases_dict[cases.index[i]] = cases_mat[i]\n",
    "del cases_mat\n",
    "\n",
    "prem = {\n",
    "\"can\" : pd.read_csv('CovidStratified/Data/premCan.csv', index_col=0).to_numpy(),\n",
    "\"chn\" : pd.read_csv('CovidStratified/Data/premChn.csv', index_col=0).to_numpy(),\n",
    "\"gbr\" : pd.read_csv('CovidStratified/Data/premGbr.csv', index_col=0).to_numpy(),\n",
    "\"isr\" : pd.read_csv('CovidStratified/Data/premIsr.csv', index_col=0).to_numpy(),\n",
    "\"ita\" : pd.read_csv('CovidStratified/Data/premIta.csv', index_col=0).to_numpy(),\n",
    "\"nld\" : pd.read_csv('CovidStratified/Data/premNLD.csv', index_col=0).to_numpy(),\n",
    "}\n",
    "# to retrieve entries: prem[\"can\"]\n",
    "\n",
    "countries = list(prem)\n",
    "\n",
    "# print(cases)\n",
    "# print(prem[\"can\"])"
   ]
  },
  {
   "cell_type": "code",
   "execution_count": 54,
   "id": "a954c45a",
   "metadata": {},
   "outputs": [
    {
     "name": "stdout",
     "output_type": "stream",
     "text": [
      "The estimate is: k=4.233, p=0.086\n"
     ]
    }
   ],
   "source": [
    "# Example of Confidence intervals\n",
    "\n",
    "import numpy as np               # for numerical operations\n",
    "from scipy import stats          # for stats functions\n",
    "from scipy import optimize as op # to maximize the likelihood\n",
    "\n",
    "import numdifftools as nd        # to compute gradient and Hessian numerically;\n",
    "                                 # the package can be found on pypi.\n",
    "                                 # Another good package for that purpose\n",
    "                                 # (using automatic differentiation) is autograd\n",
    "\n",
    "from ci_rvm import find_CI\n",
    "np.random.seed(451)\n",
    "\n",
    "# Define the size of the data set\n",
    "n = 100\n",
    "\n",
    "# Define the true parameters\n",
    "k, p = 5, 0.1\n",
    "\n",
    "# Generate the data set\n",
    "data = np.random.negative_binomial(k, p, size=n)\n",
    "\n",
    "# Because the parameters are constrained to the positive range and the\n",
    "# interval (0, 1), respectively, we work on a transformed parameter space\n",
    "# with unbounded domain.\n",
    "def transform_parameters(params):\n",
    "    k, p = params\n",
    "    return np.exp(k), 1/(1+np.exp(-p))\n",
    "    #return k, p\n",
    "\n",
    "# Log-Likelihood function for a negative binomial model\n",
    "def logL(params):\n",
    "    k, p = transform_parameters(params)\n",
    "    return stats.nbinom.logpmf(data, k, p).sum()\n",
    "\n",
    "# negative log-Likelihood function for optimization (because we use\n",
    "# minimization algorithms instead of maximization algorithms)\n",
    "negLogL = lambda params: -logL(params)\n",
    "\n",
    "# Initial guess\n",
    "x0 = [4, 0.2]\n",
    "\n",
    "# Maximize the likelihood\n",
    "result = op.minimize(negLogL, x0)\n",
    "#print(result.x)\n",
    "\n",
    "# Print the result (we need to transform the parameters to the original\n",
    "# parameter space to make them interpretable)\n",
    "print(\"The estimate is: k={:5.3f}, p={:5.3f}\".format(*transform_parameters(result.x)))\n",
    "\n"
   ]
  },
  {
   "cell_type": "code",
   "execution_count": 55,
   "id": "df73bed2",
   "metadata": {},
   "outputs": [
    {
     "name": "stdout",
     "output_type": "stream",
     "text": [
      "Confidence interval for k: [3.106, 5.687]\n",
      "\n",
      "\n",
      "trans: k:  4.2334692165135435\n",
      "trans: k - upper: -1.4535306447825596\n",
      "trans: k - lower: 1.1274530109756\n",
      "\n",
      "\n",
      "non-trans: k:  1.4430218026703197\n",
      "non-trans: k - upper:  0.30968086046292687\n",
      "non-trans: k - lower:  -0.2951610412647001\n"
     ]
    }
   ],
   "source": [
    "np.random.seed(451)\n",
    "\n",
    "# Define gradient and Hessian\n",
    "jac = nd.Gradient(logL)\n",
    "hess = nd.Hessian(logL)\n",
    "\n",
    "# Find confidence intervals for all parameters.\n",
    "# Note: For complicated problems, it is worthwile doing this in parallel.\n",
    "#       However, then we would need to encapsulate the procedure in a\n",
    "#       method and define the likelihood function, gradient, and Hessian\n",
    "#       on the top level of the module.\n",
    "CIs = find_CI(result.x, logL, jac, hess, alpha = 0.95,\n",
    "              disp=False) # the disp argument lets the algorithm print\n",
    "                         # status messages.\n",
    "    \n",
    "#print(result.x)\n",
    "#print(CIs)\n",
    "    \n",
    "# CIs is a 2D numpy array with CIs[i, 0] containing the lower bound of the\n",
    "# confidence interval for the i-th parameter and CIs[i, 1] containing the\n",
    "# respective upper bound.\n",
    "\n",
    "# Print the confidence intervals. Note: we need to transform the parameters\n",
    "# back to the original parameter space.\n",
    "original_lower = transform_parameters(CIs[:,0])\n",
    "original_upper = transform_parameters(CIs[:,1])\n",
    "print(\"Confidence interval for k: [{:5.3f}, {:5.3f}]\".format(\n",
    "   original_lower[0], original_upper[0]))\n",
    "#print(\"Confidence interval for p: [{:5.3f}, {:5.3f}]\".format(\n",
    "#   original_lower[1], original_upper[1]))\n",
    "print(\"\\n\")\n",
    "print(\"trans: k: \", transform_parameters(result.x)[0])\n",
    "print(\"trans: k - upper:\", transform_parameters(result.x)[0] - original_upper[0])\n",
    "print(\"trans: k - lower:\", transform_parameters(result.x)[0] - original_lower[0])\n",
    "print(\"\\n\")\n",
    "print(\"non-trans: k: \", result.x[0])\n",
    "print(\"non-trans: k - upper: \", result.x[0] - CIs[0,0])\n",
    "print(\"non-trans: k - lower: \", result.x[0] - CIs[0,1])"
   ]
  },
  {
   "cell_type": "code",
   "execution_count": 56,
   "id": "086a5b02",
   "metadata": {},
   "outputs": [
    {
     "name": "stdout",
     "output_type": "stream",
     "text": [
      "Cumulative country calculation with randomized starting points:\n",
      "\n",
      "20.00 %, 40.00 %, 60.00 %, 80.00 %, 100.00 %, ---------  ---------  -  ---------  ----------  ---------  ---------  ----------  ---------  ---------  -  ---------  ---------  ---------  ----------  ----------  --------  ---------  -  ---------  --------  --------  --------  --------  -------  ---------  -  ---------  ---------  --------  --------  -------  --------\n",
      " 0.253339   0.462547  1  -1.18867   -0.42436    -0.203693   0.276034   0.106561   -1.12905   -0.377968  1  -0.328142   0.246316  -0.172576   0.130968    0.755308   -1.61294  -0.774383  1  0.097179   0.433981  0.457346  0.496305  0.543279  1.54297  -0.91415   1  0.0149168  -11.815    0.725677  0.926855  1.21733  0.316785\n",
      " 0.125223  -0.835606  1  -0.198507   0.0747159  -0.209705   0.38781   -1.08294    -1.0949    -0.867423  1  -0.818391  -0.569434  -0.698618  -1.53556    -0.878421   -1.61338  -0.774422  1  0.0970696  0.433867  0.457173  0.496066  0.543027  1.54403  -0.914004  1  0.0152858  -16.3496   0.726298  0.927521  1.21791  0.316785\n",
      "-1.03021   -0.256254  1   0.128913   0.124506    0.283578   0.117458   0.587226   -0.476217  -1.03928   1   0.309271   0.491863  -0.320072   0.75644     0.299125   -1.61323  -0.774578  1  0.0971088  0.433814  0.457066  0.496017  0.542979  1.54396  -0.913185  1  0.0150008  -13.6044   0.726565  0.927576  1.21797  0.316785\n",
      " 0.177234  -0.574742  1  -0.292248   0.01137    -1.33935    0.88846   -0.0221312  -0.147327   0.137638  1   0.530182  -0.408497  -1.24185    0.0998282   0.0998161  -1.61423  -0.773886  1  0.0969136  0.433793  0.45716   0.495981  0.542906  1.54601  -0.919951  1  0.015747    -8.93182  0.726408  0.927754  1.21834  0.316786\n",
      " 0.338418  -1.56821   1  -0.686387   0.433958    0.452679  -0.979651   0.137742    0.346855  -0.265049  1  -0.410827  -0.793559   0.172056   0.603049   -0.329284   -1.6133   -0.774307  1  0.0970713  0.433883  0.457192  0.496007  0.542966  1.54386  -0.914912  1  0.015294   -19.1022   0.726123  0.927632  1.21792  0.316785\n",
      "---------  ---------  -  ---------  ----------  ---------  ---------  ----------  ---------  ---------  -  ---------  ---------  ---------  ----------  ----------  --------  ---------  -  ---------  --------  --------  --------  --------  -------  ---------  -  ---------  ---------  --------  --------  -------  --------\n"
     ]
    }
   ],
   "source": [
    "imp.reload(CovidEM2)\n",
    "\n",
    "starts = 5 #number of different starting points to test\n",
    "trials = 1 # Number of trials per start point\n",
    "iters = (starts * trials)\n",
    "theta_iter = [[0] * 33] * iters\n",
    "best_res = optimize.OptimizeResult(x = 100, fun = 100, success = False) #placeholder var to track best result\n",
    "\n",
    "print (\"Cumulative country calculation with randomized starting points:\\n\")\n",
    "kwargs = dict(args = (prem, cases_dict, countries), method=\"L-BFGS-B\")\n",
    "for i in range(0, starts):\n",
    "    theta_guess = np.random.gamma(4, 1/4, 14) # mean = 1, sd = 2\n",
    "    for k in range(len(theta_guess)): theta_guess[k] = math.log(theta_guess[k], math.e)\n",
    "    for j in range(0, trials):\n",
    "        res = optimize.basinhopping(CovidEM2.Covid_KL2, theta_guess, minimizer_kwargs = kwargs)\n",
    "        out_start = np.insert(np.insert(theta_guess, 2,1),10,1)\n",
    "        out_end = np.insert(np.insert(res.x, 2,1),10,1)\n",
    "        theta_iter[((i*trials)+j)] = np.append(np.append(out_start, out_end), res.fun)\n",
    "        if (res.fun < best_res.fun): \n",
    "            best_res = res\n",
    "            \n",
    "    print(f\"{((((i+1)*trials)/iters)*100):.2f}\",\"%, \", end = \"\")\n",
    "\n",
    "\n",
    "print(tabulate(theta_iter))\n"
   ]
  },
  {
   "cell_type": "raw",
   "id": "de055ff8",
   "metadata": {},
   "source": [
    "theta_header = [\"s0-9i\",\"s10-19i\",\"s20-29i\",\"s30-39i\",\"s40-49i\",\"s50-59i\",\"s60-69i\",\"s70-79i\",\n",
    "                \"v0-9i\",\"v10-19i\",\"v20-29i\",\"v30-39i\",\"v40-49i\",\"v50-59i\",\"v60-69i\",\"v70-79i\",\n",
    "                \"s0-9\",\"s10-19\",\"s20-29\",\"s30-39\",\"s40-49\",\"s50-59\",\"s60-69\",\"s70-79\",\n",
    "                \"v0-9\",\"v10-19\",\"v20-29\",\"v30-39\",\"v40-49\",\"v50-59\",\"v60-69\",\"v70-79\", \"kl_div\"]\n",
    "\n",
    "\n",
    "with open('CovidStratified/Output/ThetaIterations2.csv', 'w', encoding='UTF8', newline='') as f:\n",
    "    writer = csv.writer(f)\n",
    "\n",
    "    # write the header\n",
    "    writer.writerow(theta_header)\n",
    "\n",
    "    # write multiple rows\n",
    "    writer.writerows(theta_iter)\n",
    "    \n",
    "f.close()"
   ]
  },
  {
   "cell_type": "code",
   "execution_count": 71,
   "id": "86433ce7",
   "metadata": {
    "scrolled": true
   },
   "outputs": [],
   "source": [
    "imp.reload(CovidEM2) #applies changes made to file\n",
    "np.random.seed(451)\n",
    "\n",
    "best_res_x = [0]*14\n",
    "best_est = [0.219294308, 0.423309799, 1.124597388, 1.511734653, 1.560386081, 1.727919503, 1.734579037, \n",
    "            3.77747199,  0.71170154,  0.769347828, 0.104869899, 2.090248998, 1.98923028,  3.373799478]\n",
    "for i in range(0, len(best_est)):\n",
    "    best_est[i] = math.log(best_est[i])\n",
    "    best_res_x[i] = (best_res.x[i])\n",
    "\n",
    "# Initialize variables\n",
    "CovidEM2.set_prem(prem)\n",
    "CovidEM2.set_cases(cases_dict)\n",
    "CovidEM2.set_countries(countries)\n"
   ]
  },
  {
   "cell_type": "code",
   "execution_count": 58,
   "id": "0d2e098b",
   "metadata": {},
   "outputs": [
    {
     "name": "stderr",
     "output_type": "stream",
     "text": [
      "C:\\Users\\zakst\\Documents\\NIH\\Git clone\\CovidEM\\Executables\\CovidEM2.py:239: RuntimeWarning: overflow encountered in exp\n",
      "  params[i] = np.exp(params_in[i])\n"
     ]
    },
    {
     "name": "stdout",
     "output_type": "stream",
     "text": [
      "Traceback (most recent call last):\n",
      "  File \"C:\\Users\\zakst\\anaconda3\\lib\\site-packages\\ci_rvm\\ci_rvm.py\", line 805, in find_CI_bound\n",
      "    precise, fActual, JActual = test_precision()\n",
      "  File \"C:\\Users\\zakst\\anaconda3\\lib\\site-packages\\ci_rvm\\ci_rvm.py\", line 372, in test_precision\n",
      "    fActual = fun(xTmp)\n",
      "  File \"C:\\Users\\zakst\\anaconda3\\lib\\site-packages\\ci_rvm\\ci_rvm.py\", line 146, in __call__\n",
      "    return self.fun(*args, **kwargs)\n",
      "  File \"C:\\Users\\zakst\\anaconda3\\lib\\site-packages\\ci_rvm\\ci_rvm.py\", line 246, in <lambda>\n",
      "    fun = lambda x: fun2(flip(x))\n",
      "  File \"C:\\Users\\zakst\\Documents\\NIH\\Git clone\\CovidEM\\Executables\\CovidEM2.py\", line 293, in neg_Covid_KL2\n",
      "    return -1 * Covid_KL2(theta0, prem_global, cases_global, countries_global)\n",
      "  File \"C:\\Users\\zakst\\Documents\\NIH\\Git clone\\CovidEM\\Executables\\CovidEM2.py\", line 254, in Covid_KL2\n",
      "    res = Covid_KL_k2(theta0, prem_in[country_codes[i]], cases_in[country_codes[i]])\n",
      "  File \"C:\\Users\\zakst\\Documents\\NIH\\Git clone\\CovidEM\\Executables\\CovidEM2.py\", line 226, in Covid_KL_k2\n",
      "    u_tilda = scv_eig2(s = theta0[0:(int(len(theta0)/2))], c = prem_in, v = theta0[(int(len(theta0)/2)):])\n",
      "  File \"C:\\Users\\zakst\\Documents\\NIH\\Git clone\\CovidEM\\Executables\\CovidEM2.py\", line 155, in scv_eig2\n",
      "    eigs = la.eig(builder)\n",
      "  File \"<__array_function__ internals>\", line 5, in eig\n",
      "  File \"C:\\Users\\zakst\\anaconda3\\lib\\site-packages\\numpy\\linalg\\linalg.py\", line 1317, in eig\n",
      "    _assert_finite(a)\n",
      "  File \"C:\\Users\\zakst\\anaconda3\\lib\\site-packages\\numpy\\linalg\\linalg.py\", line 208, in _assert_finite\n",
      "    raise LinAlgError(\"Array must not contain infs or NaNs\")\n",
      "numpy.linalg.LinAlgError: Array must not contain infs or NaNs\n"
     ]
    },
    {
     "name": "stderr",
     "output_type": "stream",
     "text": [
      "C:\\Users\\zakst\\Documents\\NIH\\Git clone\\CovidEM\\Executables\\CovidEM2.py:172: UserWarning: Eigenvector contains both negative and positive elements\n",
      "  warnings.warn(\"Eigenvector contains both negative and positive elements\")\n"
     ]
    },
    {
     "name": "stdout",
     "output_type": "stream",
     "text": [
      "Traceback (most recent call last):\n",
      "  File \"C:\\Users\\zakst\\anaconda3\\lib\\site-packages\\ci_rvm\\ci_rvm.py\", line 805, in find_CI_bound\n",
      "    precise, fActual, JActual = test_precision()\n",
      "  File \"C:\\Users\\zakst\\anaconda3\\lib\\site-packages\\ci_rvm\\ci_rvm.py\", line 372, in test_precision\n",
      "    fActual = fun(xTmp)\n",
      "  File \"C:\\Users\\zakst\\anaconda3\\lib\\site-packages\\ci_rvm\\ci_rvm.py\", line 146, in __call__\n",
      "    return self.fun(*args, **kwargs)\n",
      "  File \"C:\\Users\\zakst\\Documents\\NIH\\Git clone\\CovidEM\\Executables\\CovidEM2.py\", line 293, in neg_Covid_KL2\n",
      "    return -1 * Covid_KL2(theta0, prem_global, cases_global, countries_global)\n",
      "  File \"C:\\Users\\zakst\\Documents\\NIH\\Git clone\\CovidEM\\Executables\\CovidEM2.py\", line 254, in Covid_KL2\n",
      "    res = Covid_KL_k2(theta0, prem_in[country_codes[i]], cases_in[country_codes[i]])\n",
      "  File \"C:\\Users\\zakst\\Documents\\NIH\\Git clone\\CovidEM\\Executables\\CovidEM2.py\", line 226, in Covid_KL_k2\n",
      "    u_tilda = scv_eig2(s = theta0[0:(int(len(theta0)/2))], c = prem_in, v = theta0[(int(len(theta0)/2)):])\n",
      "  File \"C:\\Users\\zakst\\Documents\\NIH\\Git clone\\CovidEM\\Executables\\CovidEM2.py\", line 188, in scv_eig2\n",
      "    assert(sum((i > 0) for i in eig) >= len(eig)), eig #Assert positive\n",
      "AssertionError: [-2.760944400297583e-82, 0.9999999999999991, 5.382806030746964e-16, 3.4362647027183335e-16, 2.034363582234801e-32, 1.338938061420566e-33, -7.469266537754441e-52, 7.98403241551049e-53, -1.2745155669406713e-80, -1.073561647423323e-80, -1.0442662925776176e-80, -2.786037481517372e-81, -2.3994868379080413e-82, -9.879725613771813e-82, -2.824821216065711e-81, -9.275333153421644e-82]\n"
     ]
    },
    {
     "name": "stderr",
     "output_type": "stream",
     "text": [
      "C:\\Users\\zakst\\Documents\\NIH\\Git clone\\CovidEM\\Executables\\CovidEM2.py:239: RuntimeWarning: overflow encountered in exp\n",
      "  params[i] = np.exp(params_in[i])\n"
     ]
    },
    {
     "name": "stdout",
     "output_type": "stream",
     "text": [
      "Traceback (most recent call last):\n",
      "  File \"C:\\Users\\zakst\\anaconda3\\lib\\site-packages\\ci_rvm\\ci_rvm.py\", line 805, in find_CI_bound\n",
      "    precise, fActual, JActual = test_precision()\n",
      "  File \"C:\\Users\\zakst\\anaconda3\\lib\\site-packages\\ci_rvm\\ci_rvm.py\", line 372, in test_precision\n",
      "    fActual = fun(xTmp)\n",
      "  File \"C:\\Users\\zakst\\anaconda3\\lib\\site-packages\\ci_rvm\\ci_rvm.py\", line 146, in __call__\n",
      "    return self.fun(*args, **kwargs)\n",
      "  File \"C:\\Users\\zakst\\anaconda3\\lib\\site-packages\\ci_rvm\\ci_rvm.py\", line 246, in <lambda>\n",
      "    fun = lambda x: fun2(flip(x))\n",
      "  File \"C:\\Users\\zakst\\Documents\\NIH\\Git clone\\CovidEM\\Executables\\CovidEM2.py\", line 293, in neg_Covid_KL2\n",
      "    return -1 * Covid_KL2(theta0, prem_global, cases_global, countries_global)\n",
      "  File \"C:\\Users\\zakst\\Documents\\NIH\\Git clone\\CovidEM\\Executables\\CovidEM2.py\", line 254, in Covid_KL2\n",
      "    res = Covid_KL_k2(theta0, prem_in[country_codes[i]], cases_in[country_codes[i]])\n",
      "  File \"C:\\Users\\zakst\\Documents\\NIH\\Git clone\\CovidEM\\Executables\\CovidEM2.py\", line 226, in Covid_KL_k2\n",
      "    u_tilda = scv_eig2(s = theta0[0:(int(len(theta0)/2))], c = prem_in, v = theta0[(int(len(theta0)/2)):])\n",
      "  File \"C:\\Users\\zakst\\Documents\\NIH\\Git clone\\CovidEM\\Executables\\CovidEM2.py\", line 155, in scv_eig2\n",
      "    eigs = la.eig(builder)\n",
      "  File \"<__array_function__ internals>\", line 5, in eig\n",
      "  File \"C:\\Users\\zakst\\anaconda3\\lib\\site-packages\\numpy\\linalg\\linalg.py\", line 1317, in eig\n",
      "    _assert_finite(a)\n",
      "  File \"C:\\Users\\zakst\\anaconda3\\lib\\site-packages\\numpy\\linalg\\linalg.py\", line 208, in _assert_finite\n",
      "    raise LinAlgError(\"Array must not contain infs or NaNs\")\n",
      "numpy.linalg.LinAlgError: Array must not contain infs or NaNs\n"
     ]
    },
    {
     "name": "stderr",
     "output_type": "stream",
     "text": [
      "C:\\Users\\zakst\\Documents\\NIH\\Git clone\\CovidEM\\Executables\\CovidEM2.py:172: UserWarning: Eigenvector contains both negative and positive elements\n",
      "  warnings.warn(\"Eigenvector contains both negative and positive elements\")\n"
     ]
    },
    {
     "name": "stdout",
     "output_type": "stream",
     "text": [
      "Traceback (most recent call last):\n",
      "  File \"C:\\Users\\zakst\\anaconda3\\lib\\site-packages\\ci_rvm\\ci_rvm.py\", line 805, in find_CI_bound\n",
      "    precise, fActual, JActual = test_precision()\n",
      "  File \"C:\\Users\\zakst\\anaconda3\\lib\\site-packages\\ci_rvm\\ci_rvm.py\", line 372, in test_precision\n",
      "    fActual = fun(xTmp)\n",
      "  File \"C:\\Users\\zakst\\anaconda3\\lib\\site-packages\\ci_rvm\\ci_rvm.py\", line 146, in __call__\n",
      "    return self.fun(*args, **kwargs)\n",
      "  File \"C:\\Users\\zakst\\Documents\\NIH\\Git clone\\CovidEM\\Executables\\CovidEM2.py\", line 293, in neg_Covid_KL2\n",
      "    return -1 * Covid_KL2(theta0, prem_global, cases_global, countries_global)\n",
      "  File \"C:\\Users\\zakst\\Documents\\NIH\\Git clone\\CovidEM\\Executables\\CovidEM2.py\", line 254, in Covid_KL2\n",
      "    res = Covid_KL_k2(theta0, prem_in[country_codes[i]], cases_in[country_codes[i]])\n",
      "  File \"C:\\Users\\zakst\\Documents\\NIH\\Git clone\\CovidEM\\Executables\\CovidEM2.py\", line 226, in Covid_KL_k2\n",
      "    u_tilda = scv_eig2(s = theta0[0:(int(len(theta0)/2))], c = prem_in, v = theta0[(int(len(theta0)/2)):])\n",
      "  File \"C:\\Users\\zakst\\Documents\\NIH\\Git clone\\CovidEM\\Executables\\CovidEM2.py\", line 188, in scv_eig2\n",
      "    assert(sum((i > 0) for i in eig) >= len(eig)), eig #Assert positive\n",
      "AssertionError: [-4.559198685997546e-25, -3.4473958277510366e-25, -8.032577840796977e-25, -1.7395613042690705e-24, -2.8913654771884986e-24, -2.9875608438824047e-24, -4.2152752898517936e-24, -3.7131954778775855e-24, 1.1303579511924196, -0.1303579511924196, -6.762215000239951e-24, -6.722051806945253e-24, -5.6783544226879604e-24, -4.8983911056362864e-24, -4.791976944789243e-24, -2.826730287178831e-24]\n"
     ]
    },
    {
     "name": "stderr",
     "output_type": "stream",
     "text": [
      "C:\\Users\\zakst\\Documents\\NIH\\Git clone\\CovidEM\\Executables\\CovidEM2.py:239: RuntimeWarning: overflow encountered in exp\n",
      "  params[i] = np.exp(params_in[i])\n"
     ]
    },
    {
     "name": "stdout",
     "output_type": "stream",
     "text": [
      "Traceback (most recent call last):\n",
      "  File \"C:\\Users\\zakst\\anaconda3\\lib\\site-packages\\ci_rvm\\ci_rvm.py\", line 805, in find_CI_bound\n",
      "    precise, fActual, JActual = test_precision()\n",
      "  File \"C:\\Users\\zakst\\anaconda3\\lib\\site-packages\\ci_rvm\\ci_rvm.py\", line 372, in test_precision\n",
      "    fActual = fun(xTmp)\n",
      "  File \"C:\\Users\\zakst\\anaconda3\\lib\\site-packages\\ci_rvm\\ci_rvm.py\", line 146, in __call__\n",
      "    return self.fun(*args, **kwargs)\n",
      "  File \"C:\\Users\\zakst\\anaconda3\\lib\\site-packages\\ci_rvm\\ci_rvm.py\", line 246, in <lambda>\n",
      "    fun = lambda x: fun2(flip(x))\n",
      "  File \"C:\\Users\\zakst\\Documents\\NIH\\Git clone\\CovidEM\\Executables\\CovidEM2.py\", line 293, in neg_Covid_KL2\n",
      "    return -1 * Covid_KL2(theta0, prem_global, cases_global, countries_global)\n",
      "  File \"C:\\Users\\zakst\\Documents\\NIH\\Git clone\\CovidEM\\Executables\\CovidEM2.py\", line 254, in Covid_KL2\n",
      "    res = Covid_KL_k2(theta0, prem_in[country_codes[i]], cases_in[country_codes[i]])\n",
      "  File \"C:\\Users\\zakst\\Documents\\NIH\\Git clone\\CovidEM\\Executables\\CovidEM2.py\", line 226, in Covid_KL_k2\n",
      "    u_tilda = scv_eig2(s = theta0[0:(int(len(theta0)/2))], c = prem_in, v = theta0[(int(len(theta0)/2)):])\n",
      "  File \"C:\\Users\\zakst\\Documents\\NIH\\Git clone\\CovidEM\\Executables\\CovidEM2.py\", line 155, in scv_eig2\n",
      "    eigs = la.eig(builder)\n",
      "  File \"<__array_function__ internals>\", line 5, in eig\n",
      "  File \"C:\\Users\\zakst\\anaconda3\\lib\\site-packages\\numpy\\linalg\\linalg.py\", line 1317, in eig\n",
      "    _assert_finite(a)\n",
      "  File \"C:\\Users\\zakst\\anaconda3\\lib\\site-packages\\numpy\\linalg\\linalg.py\", line 208, in _assert_finite\n",
      "    raise LinAlgError(\"Array must not contain infs or NaNs\")\n",
      "numpy.linalg.LinAlgError: Array must not contain infs or NaNs\n"
     ]
    },
    {
     "name": "stderr",
     "output_type": "stream",
     "text": [
      "C:\\Users\\zakst\\Documents\\NIH\\Git clone\\CovidEM\\Executables\\CovidEM2.py:172: UserWarning: Eigenvector contains both negative and positive elements\n",
      "  warnings.warn(\"Eigenvector contains both negative and positive elements\")\n"
     ]
    },
    {
     "name": "stdout",
     "output_type": "stream",
     "text": [
      "Traceback (most recent call last):\n",
      "  File \"C:\\Users\\zakst\\anaconda3\\lib\\site-packages\\ci_rvm\\ci_rvm.py\", line 805, in find_CI_bound\n",
      "    precise, fActual, JActual = test_precision()\n",
      "  File \"C:\\Users\\zakst\\anaconda3\\lib\\site-packages\\ci_rvm\\ci_rvm.py\", line 372, in test_precision\n",
      "    fActual = fun(xTmp)\n",
      "  File \"C:\\Users\\zakst\\anaconda3\\lib\\site-packages\\ci_rvm\\ci_rvm.py\", line 146, in __call__\n",
      "    return self.fun(*args, **kwargs)\n",
      "  File \"C:\\Users\\zakst\\Documents\\NIH\\Git clone\\CovidEM\\Executables\\CovidEM2.py\", line 293, in neg_Covid_KL2\n",
      "    return -1 * Covid_KL2(theta0, prem_global, cases_global, countries_global)\n",
      "  File \"C:\\Users\\zakst\\Documents\\NIH\\Git clone\\CovidEM\\Executables\\CovidEM2.py\", line 254, in Covid_KL2\n",
      "    res = Covid_KL_k2(theta0, prem_in[country_codes[i]], cases_in[country_codes[i]])\n",
      "  File \"C:\\Users\\zakst\\Documents\\NIH\\Git clone\\CovidEM\\Executables\\CovidEM2.py\", line 226, in Covid_KL_k2\n",
      "    u_tilda = scv_eig2(s = theta0[0:(int(len(theta0)/2))], c = prem_in, v = theta0[(int(len(theta0)/2)):])\n",
      "  File \"C:\\Users\\zakst\\Documents\\NIH\\Git clone\\CovidEM\\Executables\\CovidEM2.py\", line 188, in scv_eig2\n",
      "    assert(sum((i > 0) for i in eig) >= len(eig)), eig #Assert positive\n",
      "AssertionError: [-4.2632948344209616e-11, -0.09068369802642365, 1.090683718823053, -2.0741691163958388e-10, -6.845511036563691e-10, -1.8133013431024289e-09, -2.7191647529870172e-09, -2.5160551615231105e-09, -1.968047789228929e-09, -1.6577440728197795e-09, -1.4213941738149092e-09, -2.640457600305003e-09, -2.130120468208211e-09, -1.3547213424210202e-09, -6.023413886006261e-10, -1.038680221175117e-09]\n"
     ]
    },
    {
     "name": "stderr",
     "output_type": "stream",
     "text": [
      "C:\\Users\\zakst\\Documents\\NIH\\Git clone\\CovidEM\\Executables\\CovidEM2.py:172: UserWarning: Eigenvector contains both negative and positive elements\n",
      "  warnings.warn(\"Eigenvector contains both negative and positive elements\")\n"
     ]
    },
    {
     "name": "stdout",
     "output_type": "stream",
     "text": [
      "Traceback (most recent call last):\n",
      "  File \"C:\\Users\\zakst\\anaconda3\\lib\\site-packages\\ci_rvm\\ci_rvm.py\", line 805, in find_CI_bound\n",
      "    precise, fActual, JActual = test_precision()\n",
      "  File \"C:\\Users\\zakst\\anaconda3\\lib\\site-packages\\ci_rvm\\ci_rvm.py\", line 372, in test_precision\n",
      "    fActual = fun(xTmp)\n",
      "  File \"C:\\Users\\zakst\\anaconda3\\lib\\site-packages\\ci_rvm\\ci_rvm.py\", line 146, in __call__\n",
      "    return self.fun(*args, **kwargs)\n",
      "  File \"C:\\Users\\zakst\\anaconda3\\lib\\site-packages\\ci_rvm\\ci_rvm.py\", line 246, in <lambda>\n",
      "    fun = lambda x: fun2(flip(x))\n",
      "  File \"C:\\Users\\zakst\\Documents\\NIH\\Git clone\\CovidEM\\Executables\\CovidEM2.py\", line 293, in neg_Covid_KL2\n",
      "    return -1 * Covid_KL2(theta0, prem_global, cases_global, countries_global)\n",
      "  File \"C:\\Users\\zakst\\Documents\\NIH\\Git clone\\CovidEM\\Executables\\CovidEM2.py\", line 254, in Covid_KL2\n",
      "    res = Covid_KL_k2(theta0, prem_in[country_codes[i]], cases_in[country_codes[i]])\n",
      "  File \"C:\\Users\\zakst\\Documents\\NIH\\Git clone\\CovidEM\\Executables\\CovidEM2.py\", line 226, in Covid_KL_k2\n",
      "    u_tilda = scv_eig2(s = theta0[0:(int(len(theta0)/2))], c = prem_in, v = theta0[(int(len(theta0)/2)):])\n",
      "  File \"C:\\Users\\zakst\\Documents\\NIH\\Git clone\\CovidEM\\Executables\\CovidEM2.py\", line 188, in scv_eig2\n",
      "    assert(sum((i > 0) for i in eig) >= len(eig)), eig #Assert positive\n",
      "AssertionError: [2.0606330640021278e-07, -0.008362173494639398, 1.0082620285421584, 9.94542935896809e-07, 4.862560010030654e-06, 7.95184328191044e-06, 9.413986169686146e-06, 1.0545090012640228e-05, 9.882636301245468e-06, 7.347277988000609e-06, 6.291248026503741e-06, 1.3436263252076159e-05, 1.2154240000526887e-05, 7.137216185891211e-06, 3.6319789518456575e-06, 6.290006058434978e-06]\n"
     ]
    },
    {
     "name": "stderr",
     "output_type": "stream",
     "text": [
      "C:\\Users\\zakst\\Documents\\NIH\\Git clone\\CovidEM\\Executables\\CovidEM2.py:239: RuntimeWarning: overflow encountered in exp\n",
      "  params[i] = np.exp(params_in[i])\n"
     ]
    },
    {
     "name": "stdout",
     "output_type": "stream",
     "text": [
      "Traceback (most recent call last):\n",
      "  File \"C:\\Users\\zakst\\anaconda3\\lib\\site-packages\\ci_rvm\\ci_rvm.py\", line 805, in find_CI_bound\n",
      "    precise, fActual, JActual = test_precision()\n",
      "  File \"C:\\Users\\zakst\\anaconda3\\lib\\site-packages\\ci_rvm\\ci_rvm.py\", line 372, in test_precision\n",
      "    fActual = fun(xTmp)\n",
      "  File \"C:\\Users\\zakst\\anaconda3\\lib\\site-packages\\ci_rvm\\ci_rvm.py\", line 146, in __call__\n",
      "    return self.fun(*args, **kwargs)\n",
      "  File \"C:\\Users\\zakst\\Documents\\NIH\\Git clone\\CovidEM\\Executables\\CovidEM2.py\", line 293, in neg_Covid_KL2\n",
      "    return -1 * Covid_KL2(theta0, prem_global, cases_global, countries_global)\n",
      "  File \"C:\\Users\\zakst\\Documents\\NIH\\Git clone\\CovidEM\\Executables\\CovidEM2.py\", line 254, in Covid_KL2\n",
      "    res = Covid_KL_k2(theta0, prem_in[country_codes[i]], cases_in[country_codes[i]])\n",
      "  File \"C:\\Users\\zakst\\Documents\\NIH\\Git clone\\CovidEM\\Executables\\CovidEM2.py\", line 226, in Covid_KL_k2\n",
      "    u_tilda = scv_eig2(s = theta0[0:(int(len(theta0)/2))], c = prem_in, v = theta0[(int(len(theta0)/2)):])\n",
      "  File \"C:\\Users\\zakst\\Documents\\NIH\\Git clone\\CovidEM\\Executables\\CovidEM2.py\", line 155, in scv_eig2\n",
      "    eigs = la.eig(builder)\n",
      "  File \"<__array_function__ internals>\", line 5, in eig\n",
      "  File \"C:\\Users\\zakst\\anaconda3\\lib\\site-packages\\numpy\\linalg\\linalg.py\", line 1317, in eig\n",
      "    _assert_finite(a)\n",
      "  File \"C:\\Users\\zakst\\anaconda3\\lib\\site-packages\\numpy\\linalg\\linalg.py\", line 208, in _assert_finite\n",
      "    raise LinAlgError(\"Array must not contain infs or NaNs\")\n",
      "numpy.linalg.LinAlgError: Array must not contain infs or NaNs\n"
     ]
    },
    {
     "name": "stderr",
     "output_type": "stream",
     "text": [
      "C:\\Users\\zakst\\Documents\\NIH\\Git clone\\CovidEM\\Executables\\CovidEM2.py:172: UserWarning: Eigenvector contains both negative and positive elements\n",
      "  warnings.warn(\"Eigenvector contains both negative and positive elements\")\n"
     ]
    },
    {
     "name": "stdout",
     "output_type": "stream",
     "text": [
      "Traceback (most recent call last):\n",
      "  File \"C:\\Users\\zakst\\anaconda3\\lib\\site-packages\\ci_rvm\\ci_rvm.py\", line 805, in find_CI_bound\n",
      "    precise, fActual, JActual = test_precision()\n",
      "  File \"C:\\Users\\zakst\\anaconda3\\lib\\site-packages\\ci_rvm\\ci_rvm.py\", line 372, in test_precision\n",
      "    fActual = fun(xTmp)\n",
      "  File \"C:\\Users\\zakst\\anaconda3\\lib\\site-packages\\ci_rvm\\ci_rvm.py\", line 146, in __call__\n",
      "    return self.fun(*args, **kwargs)\n",
      "  File \"C:\\Users\\zakst\\anaconda3\\lib\\site-packages\\ci_rvm\\ci_rvm.py\", line 246, in <lambda>\n",
      "    fun = lambda x: fun2(flip(x))\n",
      "  File \"C:\\Users\\zakst\\Documents\\NIH\\Git clone\\CovidEM\\Executables\\CovidEM2.py\", line 293, in neg_Covid_KL2\n",
      "    return -1 * Covid_KL2(theta0, prem_global, cases_global, countries_global)\n",
      "  File \"C:\\Users\\zakst\\Documents\\NIH\\Git clone\\CovidEM\\Executables\\CovidEM2.py\", line 254, in Covid_KL2\n",
      "    res = Covid_KL_k2(theta0, prem_in[country_codes[i]], cases_in[country_codes[i]])\n",
      "  File \"C:\\Users\\zakst\\Documents\\NIH\\Git clone\\CovidEM\\Executables\\CovidEM2.py\", line 226, in Covid_KL_k2\n",
      "    u_tilda = scv_eig2(s = theta0[0:(int(len(theta0)/2))], c = prem_in, v = theta0[(int(len(theta0)/2)):])\n",
      "  File \"C:\\Users\\zakst\\Documents\\NIH\\Git clone\\CovidEM\\Executables\\CovidEM2.py\", line 188, in scv_eig2\n",
      "    assert(sum((i > 0) for i in eig) >= len(eig)), eig #Assert positive\n",
      "AssertionError: [3.4681049172856094e-34, 3.0271139489194478e-34, 5.325182063664668e-34, 8.358827933166346e-34, 3.0091973586246444e-33, 3.40803247184149e-33, 3.694845544369155e-33, 3.5261331209614685e-33, 1.0403984015740961, -0.04039840157409612, 6.578343055403627e-33, 6.854277311606614e-33, 5.305723246248862e-33, 4.618752950605473e-33, 4.423146646617177e-33, 2.8097024744806415e-33]\n"
     ]
    },
    {
     "name": "stderr",
     "output_type": "stream",
     "text": [
      "C:\\Users\\zakst\\Documents\\NIH\\Git clone\\CovidEM\\Executables\\CovidEM2.py:172: UserWarning: Eigenvector contains both negative and positive elements\n",
      "  warnings.warn(\"Eigenvector contains both negative and positive elements\")\n"
     ]
    },
    {
     "name": "stdout",
     "output_type": "stream",
     "text": [
      "Traceback (most recent call last):\n",
      "  File \"C:\\Users\\zakst\\anaconda3\\lib\\site-packages\\ci_rvm\\ci_rvm.py\", line 805, in find_CI_bound\n",
      "    precise, fActual, JActual = test_precision()\n",
      "  File \"C:\\Users\\zakst\\anaconda3\\lib\\site-packages\\ci_rvm\\ci_rvm.py\", line 372, in test_precision\n",
      "    fActual = fun(xTmp)\n",
      "  File \"C:\\Users\\zakst\\anaconda3\\lib\\site-packages\\ci_rvm\\ci_rvm.py\", line 146, in __call__\n",
      "    return self.fun(*args, **kwargs)\n",
      "  File \"C:\\Users\\zakst\\Documents\\NIH\\Git clone\\CovidEM\\Executables\\CovidEM2.py\", line 293, in neg_Covid_KL2\n",
      "    return -1 * Covid_KL2(theta0, prem_global, cases_global, countries_global)\n",
      "  File \"C:\\Users\\zakst\\Documents\\NIH\\Git clone\\CovidEM\\Executables\\CovidEM2.py\", line 254, in Covid_KL2\n",
      "    res = Covid_KL_k2(theta0, prem_in[country_codes[i]], cases_in[country_codes[i]])\n",
      "  File \"C:\\Users\\zakst\\Documents\\NIH\\Git clone\\CovidEM\\Executables\\CovidEM2.py\", line 226, in Covid_KL_k2\n",
      "    u_tilda = scv_eig2(s = theta0[0:(int(len(theta0)/2))], c = prem_in, v = theta0[(int(len(theta0)/2)):])\n",
      "  File \"C:\\Users\\zakst\\Documents\\NIH\\Git clone\\CovidEM\\Executables\\CovidEM2.py\", line 188, in scv_eig2\n",
      "    assert(sum((i > 0) for i in eig) >= len(eig)), eig #Assert positive\n",
      "AssertionError: [-0.029992954110719422, -0.02617907232878234, -0.04605956399274846, -0.07229816359901833, -0.2602603831208507, -0.2947551978370686, -0.3195719100858915, -0.30497638589225845, 7.997488962746888, -2.997534943665258, -0.569035853318931, -0.59290084525525, -0.4588908475950904, -0.39947256732875397, -0.3825516332540344, -0.24300864136223274]\n"
     ]
    },
    {
     "name": "stderr",
     "output_type": "stream",
     "text": [
      "C:\\Users\\zakst\\Documents\\NIH\\Git clone\\CovidEM\\Executables\\CovidEM2.py:172: UserWarning: Eigenvector contains both negative and positive elements\n",
      "  warnings.warn(\"Eigenvector contains both negative and positive elements\")\n"
     ]
    },
    {
     "name": "stdout",
     "output_type": "stream",
     "text": [
      "Traceback (most recent call last):\n",
      "  File \"C:\\Users\\zakst\\anaconda3\\lib\\site-packages\\ci_rvm\\ci_rvm.py\", line 805, in find_CI_bound\n",
      "    precise, fActual, JActual = test_precision()\n",
      "  File \"C:\\Users\\zakst\\anaconda3\\lib\\site-packages\\ci_rvm\\ci_rvm.py\", line 372, in test_precision\n",
      "    fActual = fun(xTmp)\n",
      "  File \"C:\\Users\\zakst\\anaconda3\\lib\\site-packages\\ci_rvm\\ci_rvm.py\", line 146, in __call__\n",
      "    return self.fun(*args, **kwargs)\n",
      "  File \"C:\\Users\\zakst\\anaconda3\\lib\\site-packages\\ci_rvm\\ci_rvm.py\", line 246, in <lambda>\n",
      "    fun = lambda x: fun2(flip(x))\n",
      "  File \"C:\\Users\\zakst\\Documents\\NIH\\Git clone\\CovidEM\\Executables\\CovidEM2.py\", line 293, in neg_Covid_KL2\n",
      "    return -1 * Covid_KL2(theta0, prem_global, cases_global, countries_global)\n",
      "  File \"C:\\Users\\zakst\\Documents\\NIH\\Git clone\\CovidEM\\Executables\\CovidEM2.py\", line 254, in Covid_KL2\n",
      "    res = Covid_KL_k2(theta0, prem_in[country_codes[i]], cases_in[country_codes[i]])\n",
      "  File \"C:\\Users\\zakst\\Documents\\NIH\\Git clone\\CovidEM\\Executables\\CovidEM2.py\", line 226, in Covid_KL_k2\n",
      "    u_tilda = scv_eig2(s = theta0[0:(int(len(theta0)/2))], c = prem_in, v = theta0[(int(len(theta0)/2)):])\n",
      "  File \"C:\\Users\\zakst\\Documents\\NIH\\Git clone\\CovidEM\\Executables\\CovidEM2.py\", line 188, in scv_eig2\n",
      "    assert(sum((i > 0) for i in eig) >= len(eig)), eig #Assert positive\n",
      "AssertionError: [1.3897621756470832e-33, 1.2130482366789724e-33, 2.1339736613252058e-33, 3.34963833676732e-33, 1.2058881209517657e-32, 1.3657188158762557e-32, 1.480645083364231e-32, 1.4130342192588433e-32, 1.0526371345372143, -0.052637134537214345, 2.6363684275764393e-32, 2.746950089760744e-32, 2.1259596218811046e-32, 1.850695296297175e-32, 1.772441295859272e-32, 1.1259014111236875e-32]\n"
     ]
    },
    {
     "name": "stderr",
     "output_type": "stream",
     "text": [
      "C:\\Users\\zakst\\Documents\\NIH\\Git clone\\CovidEM\\Executables\\CovidEM2.py:172: UserWarning: Eigenvector contains both negative and positive elements\n",
      "  warnings.warn(\"Eigenvector contains both negative and positive elements\")\n"
     ]
    },
    {
     "name": "stdout",
     "output_type": "stream",
     "text": [
      "Traceback (most recent call last):\n",
      "  File \"C:\\Users\\zakst\\anaconda3\\lib\\site-packages\\ci_rvm\\ci_rvm.py\", line 805, in find_CI_bound\n",
      "    precise, fActual, JActual = test_precision()\n",
      "  File \"C:\\Users\\zakst\\anaconda3\\lib\\site-packages\\ci_rvm\\ci_rvm.py\", line 372, in test_precision\n",
      "    fActual = fun(xTmp)\n",
      "  File \"C:\\Users\\zakst\\anaconda3\\lib\\site-packages\\ci_rvm\\ci_rvm.py\", line 146, in __call__\n",
      "    return self.fun(*args, **kwargs)\n",
      "  File \"C:\\Users\\zakst\\Documents\\NIH\\Git clone\\CovidEM\\Executables\\CovidEM2.py\", line 293, in neg_Covid_KL2\n",
      "    return -1 * Covid_KL2(theta0, prem_global, cases_global, countries_global)\n",
      "  File \"C:\\Users\\zakst\\Documents\\NIH\\Git clone\\CovidEM\\Executables\\CovidEM2.py\", line 254, in Covid_KL2\n",
      "    res = Covid_KL_k2(theta0, prem_in[country_codes[i]], cases_in[country_codes[i]])\n",
      "  File \"C:\\Users\\zakst\\Documents\\NIH\\Git clone\\CovidEM\\Executables\\CovidEM2.py\", line 226, in Covid_KL_k2\n",
      "    u_tilda = scv_eig2(s = theta0[0:(int(len(theta0)/2))], c = prem_in, v = theta0[(int(len(theta0)/2)):])\n",
      "  File \"C:\\Users\\zakst\\Documents\\NIH\\Git clone\\CovidEM\\Executables\\CovidEM2.py\", line 188, in scv_eig2\n",
      "    assert(sum((i > 0) for i in eig) >= len(eig)), eig #Assert positive\n",
      "AssertionError: [6.962280454574413e-83, 6.076974784963886e-83, 1.0691916412562113e-82, 1.6782689254722625e-82, 6.041436119802473e-82, 6.84217348405934e-82, 7.418266467162044e-82, 7.079454117758776e-82, 1.0576761435154753, -0.05767614351547534, 1.3208712789270707e-81, 1.3762673164353332e-81, 1.0652206936042416e-81, 9.272930631901468e-82, 8.88017401746932e-82, 5.640961783632707e-82]\n"
     ]
    },
    {
     "name": "stderr",
     "output_type": "stream",
     "text": [
      "C:\\Users\\zakst\\Documents\\NIH\\Git clone\\CovidEM\\Executables\\CovidEM2.py:172: UserWarning: Eigenvector contains both negative and positive elements\n",
      "  warnings.warn(\"Eigenvector contains both negative and positive elements\")\n"
     ]
    },
    {
     "name": "stdout",
     "output_type": "stream",
     "text": [
      "Traceback (most recent call last):\n",
      "  File \"C:\\Users\\zakst\\anaconda3\\lib\\site-packages\\ci_rvm\\ci_rvm.py\", line 805, in find_CI_bound\n",
      "    precise, fActual, JActual = test_precision()\n",
      "  File \"C:\\Users\\zakst\\anaconda3\\lib\\site-packages\\ci_rvm\\ci_rvm.py\", line 372, in test_precision\n",
      "    fActual = fun(xTmp)\n",
      "  File \"C:\\Users\\zakst\\anaconda3\\lib\\site-packages\\ci_rvm\\ci_rvm.py\", line 146, in __call__\n",
      "    return self.fun(*args, **kwargs)\n",
      "  File \"C:\\Users\\zakst\\anaconda3\\lib\\site-packages\\ci_rvm\\ci_rvm.py\", line 246, in <lambda>\n",
      "    fun = lambda x: fun2(flip(x))\n",
      "  File \"C:\\Users\\zakst\\Documents\\NIH\\Git clone\\CovidEM\\Executables\\CovidEM2.py\", line 293, in neg_Covid_KL2\n",
      "    return -1 * Covid_KL2(theta0, prem_global, cases_global, countries_global)\n",
      "  File \"C:\\Users\\zakst\\Documents\\NIH\\Git clone\\CovidEM\\Executables\\CovidEM2.py\", line 254, in Covid_KL2\n",
      "    res = Covid_KL_k2(theta0, prem_in[country_codes[i]], cases_in[country_codes[i]])\n",
      "  File \"C:\\Users\\zakst\\Documents\\NIH\\Git clone\\CovidEM\\Executables\\CovidEM2.py\", line 226, in Covid_KL_k2\n",
      "    u_tilda = scv_eig2(s = theta0[0:(int(len(theta0)/2))], c = prem_in, v = theta0[(int(len(theta0)/2)):])\n",
      "  File \"C:\\Users\\zakst\\Documents\\NIH\\Git clone\\CovidEM\\Executables\\CovidEM2.py\", line 188, in scv_eig2\n",
      "    assert(sum((i > 0) for i in eig) >= len(eig)), eig #Assert positive\n",
      "AssertionError: [1.2840932566860354e-113, -0.021352885271641288, 1.0213528852716414, 4.328483885386967e-33, 2.061730783970412e-112, 5.461300375853085e-112, 8.189182003635813e-112, 7.57748629474031e-112, 5.926991427646865e-112, 4.992477805980915e-112, 4.280703539488698e-112, 7.952063124867789e-112, 6.415051784712197e-112, 4.079866700119513e-112, 1.813983796319152e-112, 3.128041881940333e-112]\n"
     ]
    },
    {
     "name": "stderr",
     "output_type": "stream",
     "text": [
      "C:\\Users\\zakst\\Documents\\NIH\\Git clone\\CovidEM\\Executables\\CovidEM2.py:239: RuntimeWarning: overflow encountered in exp\n",
      "  params[i] = np.exp(params_in[i])\n"
     ]
    },
    {
     "name": "stdout",
     "output_type": "stream",
     "text": [
      "Traceback (most recent call last):\n",
      "  File \"C:\\Users\\zakst\\anaconda3\\lib\\site-packages\\ci_rvm\\ci_rvm.py\", line 805, in find_CI_bound\n",
      "    precise, fActual, JActual = test_precision()\n",
      "  File \"C:\\Users\\zakst\\anaconda3\\lib\\site-packages\\ci_rvm\\ci_rvm.py\", line 372, in test_precision\n",
      "    fActual = fun(xTmp)\n",
      "  File \"C:\\Users\\zakst\\anaconda3\\lib\\site-packages\\ci_rvm\\ci_rvm.py\", line 146, in __call__\n",
      "    return self.fun(*args, **kwargs)\n",
      "  File \"C:\\Users\\zakst\\Documents\\NIH\\Git clone\\CovidEM\\Executables\\CovidEM2.py\", line 293, in neg_Covid_KL2\n",
      "    return -1 * Covid_KL2(theta0, prem_global, cases_global, countries_global)\n",
      "  File \"C:\\Users\\zakst\\Documents\\NIH\\Git clone\\CovidEM\\Executables\\CovidEM2.py\", line 254, in Covid_KL2\n",
      "    res = Covid_KL_k2(theta0, prem_in[country_codes[i]], cases_in[country_codes[i]])\n",
      "  File \"C:\\Users\\zakst\\Documents\\NIH\\Git clone\\CovidEM\\Executables\\CovidEM2.py\", line 226, in Covid_KL_k2\n",
      "    u_tilda = scv_eig2(s = theta0[0:(int(len(theta0)/2))], c = prem_in, v = theta0[(int(len(theta0)/2)):])\n",
      "  File \"C:\\Users\\zakst\\Documents\\NIH\\Git clone\\CovidEM\\Executables\\CovidEM2.py\", line 155, in scv_eig2\n",
      "    eigs = la.eig(builder)\n",
      "  File \"<__array_function__ internals>\", line 5, in eig\n",
      "  File \"C:\\Users\\zakst\\anaconda3\\lib\\site-packages\\numpy\\linalg\\linalg.py\", line 1317, in eig\n",
      "    _assert_finite(a)\n",
      "  File \"C:\\Users\\zakst\\anaconda3\\lib\\site-packages\\numpy\\linalg\\linalg.py\", line 208, in _assert_finite\n",
      "    raise LinAlgError(\"Array must not contain infs or NaNs\")\n",
      "numpy.linalg.LinAlgError: Array must not contain infs or NaNs\n"
     ]
    },
    {
     "name": "stderr",
     "output_type": "stream",
     "text": [
      "C:\\Users\\zakst\\Documents\\NIH\\Git clone\\CovidEM\\Executables\\CovidEM2.py:172: UserWarning: Eigenvector contains both negative and positive elements\n",
      "  warnings.warn(\"Eigenvector contains both negative and positive elements\")\n"
     ]
    },
    {
     "name": "stdout",
     "output_type": "stream",
     "text": [
      "Traceback (most recent call last):\n",
      "  File \"C:\\Users\\zakst\\anaconda3\\lib\\site-packages\\ci_rvm\\ci_rvm.py\", line 805, in find_CI_bound\n",
      "    precise, fActual, JActual = test_precision()\n",
      "  File \"C:\\Users\\zakst\\anaconda3\\lib\\site-packages\\ci_rvm\\ci_rvm.py\", line 372, in test_precision\n",
      "    fActual = fun(xTmp)\n",
      "  File \"C:\\Users\\zakst\\anaconda3\\lib\\site-packages\\ci_rvm\\ci_rvm.py\", line 146, in __call__\n",
      "    return self.fun(*args, **kwargs)\n",
      "  File \"C:\\Users\\zakst\\anaconda3\\lib\\site-packages\\ci_rvm\\ci_rvm.py\", line 246, in <lambda>\n",
      "    fun = lambda x: fun2(flip(x))\n",
      "  File \"C:\\Users\\zakst\\Documents\\NIH\\Git clone\\CovidEM\\Executables\\CovidEM2.py\", line 293, in neg_Covid_KL2\n",
      "    return -1 * Covid_KL2(theta0, prem_global, cases_global, countries_global)\n",
      "  File \"C:\\Users\\zakst\\Documents\\NIH\\Git clone\\CovidEM\\Executables\\CovidEM2.py\", line 254, in Covid_KL2\n",
      "    res = Covid_KL_k2(theta0, prem_in[country_codes[i]], cases_in[country_codes[i]])\n",
      "  File \"C:\\Users\\zakst\\Documents\\NIH\\Git clone\\CovidEM\\Executables\\CovidEM2.py\", line 226, in Covid_KL_k2\n",
      "    u_tilda = scv_eig2(s = theta0[0:(int(len(theta0)/2))], c = prem_in, v = theta0[(int(len(theta0)/2)):])\n",
      "  File \"C:\\Users\\zakst\\Documents\\NIH\\Git clone\\CovidEM\\Executables\\CovidEM2.py\", line 188, in scv_eig2\n",
      "    assert(sum((i > 0) for i in eig) >= len(eig)), eig #Assert positive\n",
      "AssertionError: [-1.8605271081961802e-07, -2.2624128478341394e-07, -3.5247684305480295e-07, -5.761782050130422e-07, -2.5107913134272878e-06, -2.359719984212922e-06, -2.2949636562191786e-06, -2.392188244964209e-06, 1.0276111813889204, -0.02758627233459959, -3.063726308792431e-06, -3.748195386455871e-06, -2.551056277882764e-06, -1.7427105316933662e-06, -1.6559908689177691e-06, -1.2487627047365416e-06]\n"
     ]
    },
    {
     "name": "stderr",
     "output_type": "stream",
     "text": [
      "C:\\Users\\zakst\\Documents\\NIH\\Git clone\\CovidEM\\Executables\\CovidEM2.py:172: UserWarning: Eigenvector contains both negative and positive elements\n",
      "  warnings.warn(\"Eigenvector contains both negative and positive elements\")\n"
     ]
    },
    {
     "name": "stdout",
     "output_type": "stream",
     "text": [
      "Traceback (most recent call last):\n",
      "  File \"C:\\Users\\zakst\\anaconda3\\lib\\site-packages\\ci_rvm\\ci_rvm.py\", line 805, in find_CI_bound\n",
      "    precise, fActual, JActual = test_precision()\n",
      "  File \"C:\\Users\\zakst\\anaconda3\\lib\\site-packages\\ci_rvm\\ci_rvm.py\", line 372, in test_precision\n",
      "    fActual = fun(xTmp)\n",
      "  File \"C:\\Users\\zakst\\anaconda3\\lib\\site-packages\\ci_rvm\\ci_rvm.py\", line 146, in __call__\n",
      "    return self.fun(*args, **kwargs)\n",
      "  File \"C:\\Users\\zakst\\Documents\\NIH\\Git clone\\CovidEM\\Executables\\CovidEM2.py\", line 293, in neg_Covid_KL2\n",
      "    return -1 * Covid_KL2(theta0, prem_global, cases_global, countries_global)\n",
      "  File \"C:\\Users\\zakst\\Documents\\NIH\\Git clone\\CovidEM\\Executables\\CovidEM2.py\", line 254, in Covid_KL2\n",
      "    res = Covid_KL_k2(theta0, prem_in[country_codes[i]], cases_in[country_codes[i]])\n",
      "  File \"C:\\Users\\zakst\\Documents\\NIH\\Git clone\\CovidEM\\Executables\\CovidEM2.py\", line 226, in Covid_KL_k2\n",
      "    u_tilda = scv_eig2(s = theta0[0:(int(len(theta0)/2))], c = prem_in, v = theta0[(int(len(theta0)/2)):])\n",
      "  File \"C:\\Users\\zakst\\Documents\\NIH\\Git clone\\CovidEM\\Executables\\CovidEM2.py\", line 188, in scv_eig2\n",
      "    assert(sum((i > 0) for i in eig) >= len(eig)), eig #Assert positive\n",
      "AssertionError: [4.3927699006605176e-10, 3.9893972153271776e-10, 5.402538630856964e-10, 5.41942265020637e-10, 1.7967817547903946e-09, 2.082219817650442e-09, 2.196114278891556e-09, 2.0973262877951526e-09, 1.0244136796430898, -0.02441370278263461, 2.7421434981404654e-09, 2.95794685415338e-09, 2.4333865037351036e-09, 1.621150825179111e-09, 1.8486483990784874e-09, 1.4434135987331295e-09]\n"
     ]
    },
    {
     "name": "stderr",
     "output_type": "stream",
     "text": [
      "C:\\Users\\zakst\\Documents\\NIH\\Git clone\\CovidEM\\Executables\\CovidEM2.py:239: RuntimeWarning: overflow encountered in exp\n",
      "  params[i] = np.exp(params_in[i])\n"
     ]
    },
    {
     "name": "stdout",
     "output_type": "stream",
     "text": [
      "Traceback (most recent call last):\n",
      "  File \"C:\\Users\\zakst\\anaconda3\\lib\\site-packages\\ci_rvm\\ci_rvm.py\", line 805, in find_CI_bound\n",
      "    precise, fActual, JActual = test_precision()\n",
      "  File \"C:\\Users\\zakst\\anaconda3\\lib\\site-packages\\ci_rvm\\ci_rvm.py\", line 372, in test_precision\n",
      "    fActual = fun(xTmp)\n",
      "  File \"C:\\Users\\zakst\\anaconda3\\lib\\site-packages\\ci_rvm\\ci_rvm.py\", line 146, in __call__\n",
      "    return self.fun(*args, **kwargs)\n",
      "  File \"C:\\Users\\zakst\\anaconda3\\lib\\site-packages\\ci_rvm\\ci_rvm.py\", line 246, in <lambda>\n",
      "    fun = lambda x: fun2(flip(x))\n",
      "  File \"C:\\Users\\zakst\\Documents\\NIH\\Git clone\\CovidEM\\Executables\\CovidEM2.py\", line 293, in neg_Covid_KL2\n",
      "    return -1 * Covid_KL2(theta0, prem_global, cases_global, countries_global)\n",
      "  File \"C:\\Users\\zakst\\Documents\\NIH\\Git clone\\CovidEM\\Executables\\CovidEM2.py\", line 254, in Covid_KL2\n",
      "    res = Covid_KL_k2(theta0, prem_in[country_codes[i]], cases_in[country_codes[i]])\n",
      "  File \"C:\\Users\\zakst\\Documents\\NIH\\Git clone\\CovidEM\\Executables\\CovidEM2.py\", line 226, in Covid_KL_k2\n",
      "    u_tilda = scv_eig2(s = theta0[0:(int(len(theta0)/2))], c = prem_in, v = theta0[(int(len(theta0)/2)):])\n",
      "  File \"C:\\Users\\zakst\\Documents\\NIH\\Git clone\\CovidEM\\Executables\\CovidEM2.py\", line 155, in scv_eig2\n",
      "    eigs = la.eig(builder)\n",
      "  File \"<__array_function__ internals>\", line 5, in eig\n",
      "  File \"C:\\Users\\zakst\\anaconda3\\lib\\site-packages\\numpy\\linalg\\linalg.py\", line 1317, in eig\n",
      "    _assert_finite(a)\n",
      "  File \"C:\\Users\\zakst\\anaconda3\\lib\\site-packages\\numpy\\linalg\\linalg.py\", line 208, in _assert_finite\n",
      "    raise LinAlgError(\"Array must not contain infs or NaNs\")\n",
      "numpy.linalg.LinAlgError: Array must not contain infs or NaNs\n"
     ]
    },
    {
     "name": "stderr",
     "output_type": "stream",
     "text": [
      "C:\\Users\\zakst\\Documents\\NIH\\Git clone\\CovidEM\\Executables\\CovidEM2.py:239: RuntimeWarning: overflow encountered in exp\n",
      "  params[i] = np.exp(params_in[i])\n"
     ]
    },
    {
     "name": "stdout",
     "output_type": "stream",
     "text": [
      "Traceback (most recent call last):\n",
      "  File \"C:\\Users\\zakst\\anaconda3\\lib\\site-packages\\ci_rvm\\ci_rvm.py\", line 805, in find_CI_bound\n",
      "    precise, fActual, JActual = test_precision()\n",
      "  File \"C:\\Users\\zakst\\anaconda3\\lib\\site-packages\\ci_rvm\\ci_rvm.py\", line 372, in test_precision\n",
      "    fActual = fun(xTmp)\n",
      "  File \"C:\\Users\\zakst\\anaconda3\\lib\\site-packages\\ci_rvm\\ci_rvm.py\", line 146, in __call__\n",
      "    return self.fun(*args, **kwargs)\n",
      "  File \"C:\\Users\\zakst\\Documents\\NIH\\Git clone\\CovidEM\\Executables\\CovidEM2.py\", line 293, in neg_Covid_KL2\n",
      "    return -1 * Covid_KL2(theta0, prem_global, cases_global, countries_global)\n",
      "  File \"C:\\Users\\zakst\\Documents\\NIH\\Git clone\\CovidEM\\Executables\\CovidEM2.py\", line 254, in Covid_KL2\n",
      "    res = Covid_KL_k2(theta0, prem_in[country_codes[i]], cases_in[country_codes[i]])\n",
      "  File \"C:\\Users\\zakst\\Documents\\NIH\\Git clone\\CovidEM\\Executables\\CovidEM2.py\", line 226, in Covid_KL_k2\n",
      "    u_tilda = scv_eig2(s = theta0[0:(int(len(theta0)/2))], c = prem_in, v = theta0[(int(len(theta0)/2)):])\n",
      "  File \"C:\\Users\\zakst\\Documents\\NIH\\Git clone\\CovidEM\\Executables\\CovidEM2.py\", line 155, in scv_eig2\n",
      "    eigs = la.eig(builder)\n",
      "  File \"<__array_function__ internals>\", line 5, in eig\n",
      "  File \"C:\\Users\\zakst\\anaconda3\\lib\\site-packages\\numpy\\linalg\\linalg.py\", line 1317, in eig\n",
      "    _assert_finite(a)\n",
      "  File \"C:\\Users\\zakst\\anaconda3\\lib\\site-packages\\numpy\\linalg\\linalg.py\", line 208, in _assert_finite\n",
      "    raise LinAlgError(\"Array must not contain infs or NaNs\")\n",
      "numpy.linalg.LinAlgError: Array must not contain infs or NaNs\n"
     ]
    },
    {
     "name": "stderr",
     "output_type": "stream",
     "text": [
      "C:\\Users\\zakst\\Documents\\NIH\\Git clone\\CovidEM\\Executables\\CovidEM2.py:239: RuntimeWarning: overflow encountered in exp\n",
      "  params[i] = np.exp(params_in[i])\n"
     ]
    },
    {
     "name": "stdout",
     "output_type": "stream",
     "text": [
      "Traceback (most recent call last):\n",
      "  File \"C:\\Users\\zakst\\anaconda3\\lib\\site-packages\\ci_rvm\\ci_rvm.py\", line 805, in find_CI_bound\n",
      "    precise, fActual, JActual = test_precision()\n",
      "  File \"C:\\Users\\zakst\\anaconda3\\lib\\site-packages\\ci_rvm\\ci_rvm.py\", line 372, in test_precision\n",
      "    fActual = fun(xTmp)\n",
      "  File \"C:\\Users\\zakst\\anaconda3\\lib\\site-packages\\ci_rvm\\ci_rvm.py\", line 146, in __call__\n",
      "    return self.fun(*args, **kwargs)\n",
      "  File \"C:\\Users\\zakst\\anaconda3\\lib\\site-packages\\ci_rvm\\ci_rvm.py\", line 246, in <lambda>\n",
      "    fun = lambda x: fun2(flip(x))\n",
      "  File \"C:\\Users\\zakst\\Documents\\NIH\\Git clone\\CovidEM\\Executables\\CovidEM2.py\", line 293, in neg_Covid_KL2\n",
      "    return -1 * Covid_KL2(theta0, prem_global, cases_global, countries_global)\n",
      "  File \"C:\\Users\\zakst\\Documents\\NIH\\Git clone\\CovidEM\\Executables\\CovidEM2.py\", line 254, in Covid_KL2\n",
      "    res = Covid_KL_k2(theta0, prem_in[country_codes[i]], cases_in[country_codes[i]])\n",
      "  File \"C:\\Users\\zakst\\Documents\\NIH\\Git clone\\CovidEM\\Executables\\CovidEM2.py\", line 226, in Covid_KL_k2\n",
      "    u_tilda = scv_eig2(s = theta0[0:(int(len(theta0)/2))], c = prem_in, v = theta0[(int(len(theta0)/2)):])\n",
      "  File \"C:\\Users\\zakst\\Documents\\NIH\\Git clone\\CovidEM\\Executables\\CovidEM2.py\", line 155, in scv_eig2\n",
      "    eigs = la.eig(builder)\n",
      "  File \"<__array_function__ internals>\", line 5, in eig\n",
      "  File \"C:\\Users\\zakst\\anaconda3\\lib\\site-packages\\numpy\\linalg\\linalg.py\", line 1317, in eig\n",
      "    _assert_finite(a)\n",
      "  File \"C:\\Users\\zakst\\anaconda3\\lib\\site-packages\\numpy\\linalg\\linalg.py\", line 208, in _assert_finite\n",
      "    raise LinAlgError(\"Array must not contain infs or NaNs\")\n",
      "numpy.linalg.LinAlgError: Array must not contain infs or NaNs\n"
     ]
    },
    {
     "name": "stderr",
     "output_type": "stream",
     "text": [
      "C:\\Users\\zakst\\Documents\\NIH\\Git clone\\CovidEM\\Executables\\CovidEM2.py:172: UserWarning: Eigenvector contains both negative and positive elements\n",
      "  warnings.warn(\"Eigenvector contains both negative and positive elements\")\n"
     ]
    },
    {
     "name": "stdout",
     "output_type": "stream",
     "text": [
      "Traceback (most recent call last):\n",
      "  File \"C:\\Users\\zakst\\anaconda3\\lib\\site-packages\\ci_rvm\\ci_rvm.py\", line 805, in find_CI_bound\n",
      "    precise, fActual, JActual = test_precision()\n",
      "  File \"C:\\Users\\zakst\\anaconda3\\lib\\site-packages\\ci_rvm\\ci_rvm.py\", line 372, in test_precision\n",
      "    fActual = fun(xTmp)\n",
      "  File \"C:\\Users\\zakst\\anaconda3\\lib\\site-packages\\ci_rvm\\ci_rvm.py\", line 146, in __call__\n",
      "    return self.fun(*args, **kwargs)\n",
      "  File \"C:\\Users\\zakst\\Documents\\NIH\\Git clone\\CovidEM\\Executables\\CovidEM2.py\", line 293, in neg_Covid_KL2\n",
      "    return -1 * Covid_KL2(theta0, prem_global, cases_global, countries_global)\n",
      "  File \"C:\\Users\\zakst\\Documents\\NIH\\Git clone\\CovidEM\\Executables\\CovidEM2.py\", line 254, in Covid_KL2\n",
      "    res = Covid_KL_k2(theta0, prem_in[country_codes[i]], cases_in[country_codes[i]])\n",
      "  File \"C:\\Users\\zakst\\Documents\\NIH\\Git clone\\CovidEM\\Executables\\CovidEM2.py\", line 226, in Covid_KL_k2\n",
      "    u_tilda = scv_eig2(s = theta0[0:(int(len(theta0)/2))], c = prem_in, v = theta0[(int(len(theta0)/2)):])\n",
      "  File \"C:\\Users\\zakst\\Documents\\NIH\\Git clone\\CovidEM\\Executables\\CovidEM2.py\", line 188, in scv_eig2\n",
      "    assert(sum((i > 0) for i in eig) >= len(eig)), eig #Assert positive\n",
      "AssertionError: [9.64689863800527e-08, 1.0131434261170065, -0.01316933139982741, 6.396935534499643e-07, 1.4143168536102258e-06, 1.4753145460308279e-06, 1.862923141669878e-06, 2.370655407082191e-06, 4.453262780241014e-06, 3.7511131686217077e-06, 3.544448072639726e-06, 2.179533977560319e-06, 1.225971118027672e-06, 1.0011925448955007e-06, 1.0776756405097362e-06, 8.127130299003807e-07]\n"
     ]
    },
    {
     "name": "stderr",
     "output_type": "stream",
     "text": [
      "C:\\Users\\zakst\\Documents\\NIH\\Git clone\\CovidEM\\Executables\\CovidEM2.py:172: UserWarning: Eigenvector contains both negative and positive elements\n",
      "  warnings.warn(\"Eigenvector contains both negative and positive elements\")\n"
     ]
    },
    {
     "name": "stdout",
     "output_type": "stream",
     "text": [
      "Traceback (most recent call last):\n",
      "  File \"C:\\Users\\zakst\\anaconda3\\lib\\site-packages\\ci_rvm\\ci_rvm.py\", line 805, in find_CI_bound\n",
      "    precise, fActual, JActual = test_precision()\n",
      "  File \"C:\\Users\\zakst\\anaconda3\\lib\\site-packages\\ci_rvm\\ci_rvm.py\", line 372, in test_precision\n",
      "    fActual = fun(xTmp)\n",
      "  File \"C:\\Users\\zakst\\anaconda3\\lib\\site-packages\\ci_rvm\\ci_rvm.py\", line 146, in __call__\n",
      "    return self.fun(*args, **kwargs)\n",
      "  File \"C:\\Users\\zakst\\anaconda3\\lib\\site-packages\\ci_rvm\\ci_rvm.py\", line 246, in <lambda>\n",
      "    fun = lambda x: fun2(flip(x))\n",
      "  File \"C:\\Users\\zakst\\Documents\\NIH\\Git clone\\CovidEM\\Executables\\CovidEM2.py\", line 293, in neg_Covid_KL2\n",
      "    return -1 * Covid_KL2(theta0, prem_global, cases_global, countries_global)\n",
      "  File \"C:\\Users\\zakst\\Documents\\NIH\\Git clone\\CovidEM\\Executables\\CovidEM2.py\", line 254, in Covid_KL2\n",
      "    res = Covid_KL_k2(theta0, prem_in[country_codes[i]], cases_in[country_codes[i]])\n",
      "  File \"C:\\Users\\zakst\\Documents\\NIH\\Git clone\\CovidEM\\Executables\\CovidEM2.py\", line 226, in Covid_KL_k2\n",
      "    u_tilda = scv_eig2(s = theta0[0:(int(len(theta0)/2))], c = prem_in, v = theta0[(int(len(theta0)/2)):])\n",
      "  File \"C:\\Users\\zakst\\Documents\\NIH\\Git clone\\CovidEM\\Executables\\CovidEM2.py\", line 188, in scv_eig2\n",
      "    assert(sum((i > 0) for i in eig) >= len(eig)), eig #Assert positive\n",
      "AssertionError: [-2.546996708370971e-10, -2.2233225166788823e-10, -3.9056156292340886e-10, -6.138216061747571e-10, -2.2099620522806837e-09, -2.5020259680833736e-09, -2.7126818250920358e-09, -2.5891997491519645e-09, 1.01932890553183, -0.019328871574180437, -4.8310030131676645e-09, -5.0333534121438895e-09, -3.8957937495555155e-09, -3.391412109153878e-09, -3.247712461925508e-09, -2.0630899726175426e-09]\n",
      "Traceback (most recent call last):\n",
      "  File \"C:\\Users\\zakst\\anaconda3\\lib\\site-packages\\ci_rvm\\ci_rvm.py\", line 805, in find_CI_bound\n",
      "    precise, fActual, JActual = test_precision()\n",
      "  File \"C:\\Users\\zakst\\anaconda3\\lib\\site-packages\\ci_rvm\\ci_rvm.py\", line 372, in test_precision\n",
      "    fActual = fun(xTmp)\n",
      "  File \"C:\\Users\\zakst\\anaconda3\\lib\\site-packages\\ci_rvm\\ci_rvm.py\", line 146, in __call__\n",
      "    return self.fun(*args, **kwargs)\n",
      "  File \"C:\\Users\\zakst\\Documents\\NIH\\Git clone\\CovidEM\\Executables\\CovidEM2.py\", line 293, in neg_Covid_KL2\n",
      "    return -1 * Covid_KL2(theta0, prem_global, cases_global, countries_global)\n",
      "  File \"C:\\Users\\zakst\\Documents\\NIH\\Git clone\\CovidEM\\Executables\\CovidEM2.py\", line 254, in Covid_KL2\n",
      "    res = Covid_KL_k2(theta0, prem_in[country_codes[i]], cases_in[country_codes[i]])\n",
      "  File \"C:\\Users\\zakst\\Documents\\NIH\\Git clone\\CovidEM\\Executables\\CovidEM2.py\", line 226, in Covid_KL_k2\n",
      "    u_tilda = scv_eig2(s = theta0[0:(int(len(theta0)/2))], c = prem_in, v = theta0[(int(len(theta0)/2)):])\n",
      "  File \"C:\\Users\\zakst\\Documents\\NIH\\Git clone\\CovidEM\\Executables\\CovidEM2.py\", line 150, in scv_eig2\n",
      "    else: assert(False), \"Unknown number detected in SCV: (%f)\" % builder[i,j]\n",
      "AssertionError: Unknown number detected in SCV: (nan)\n"
     ]
    },
    {
     "name": "stderr",
     "output_type": "stream",
     "text": [
      "C:\\Users\\zakst\\Documents\\NIH\\Git clone\\CovidEM\\Executables\\CovidEM2.py:239: RuntimeWarning: overflow encountered in exp\n",
      "  params[i] = np.exp(params_in[i])\n",
      "C:\\Users\\zakst\\Documents\\NIH\\Git clone\\CovidEM\\Executables\\CovidEM2.py:139: RuntimeWarning: invalid value encountered in matmul\n",
      "  builder = np.matmul(np.matmul(s,c),v)\n",
      "C:\\Users\\zakst\\Documents\\NIH\\Git clone\\CovidEM\\Executables\\CovidEM2.py:172: UserWarning: Eigenvector contains both negative and positive elements\n",
      "  warnings.warn(\"Eigenvector contains both negative and positive elements\")\n"
     ]
    },
    {
     "name": "stdout",
     "output_type": "stream",
     "text": [
      "Traceback (most recent call last):\n",
      "  File \"C:\\Users\\zakst\\anaconda3\\lib\\site-packages\\ci_rvm\\ci_rvm.py\", line 805, in find_CI_bound\n",
      "    precise, fActual, JActual = test_precision()\n",
      "  File \"C:\\Users\\zakst\\anaconda3\\lib\\site-packages\\ci_rvm\\ci_rvm.py\", line 372, in test_precision\n",
      "    fActual = fun(xTmp)\n",
      "  File \"C:\\Users\\zakst\\anaconda3\\lib\\site-packages\\ci_rvm\\ci_rvm.py\", line 146, in __call__\n",
      "    return self.fun(*args, **kwargs)\n",
      "  File \"C:\\Users\\zakst\\anaconda3\\lib\\site-packages\\ci_rvm\\ci_rvm.py\", line 246, in <lambda>\n",
      "    fun = lambda x: fun2(flip(x))\n",
      "  File \"C:\\Users\\zakst\\Documents\\NIH\\Git clone\\CovidEM\\Executables\\CovidEM2.py\", line 293, in neg_Covid_KL2\n",
      "    return -1 * Covid_KL2(theta0, prem_global, cases_global, countries_global)\n",
      "  File \"C:\\Users\\zakst\\Documents\\NIH\\Git clone\\CovidEM\\Executables\\CovidEM2.py\", line 254, in Covid_KL2\n",
      "    res = Covid_KL_k2(theta0, prem_in[country_codes[i]], cases_in[country_codes[i]])\n",
      "  File \"C:\\Users\\zakst\\Documents\\NIH\\Git clone\\CovidEM\\Executables\\CovidEM2.py\", line 226, in Covid_KL_k2\n",
      "    u_tilda = scv_eig2(s = theta0[0:(int(len(theta0)/2))], c = prem_in, v = theta0[(int(len(theta0)/2)):])\n",
      "  File \"C:\\Users\\zakst\\Documents\\NIH\\Git clone\\CovidEM\\Executables\\CovidEM2.py\", line 188, in scv_eig2\n",
      "    assert(sum((i > 0) for i in eig) >= len(eig)), eig #Assert positive\n",
      "AssertionError: [-3.752849527307318e-33, -3.275630783138253e-33, -5.762104992171212e-33, -9.044905792151984e-33, -3.2560102850104896e-32, -3.6874744790546825e-32, -3.998025686274197e-32, -3.8153820282513464e-32, 1.4852932205633897, -0.4852932205633895, -7.11827215031493e-32, -7.416845645493912e-32, -5.741079771577237e-32, -4.997824958469448e-32, -4.7862535551612963e-32, -3.0401901626086634e-32]\n"
     ]
    },
    {
     "name": "stderr",
     "output_type": "stream",
     "text": [
      "C:\\Users\\zakst\\Documents\\NIH\\Git clone\\CovidEM\\Executables\\CovidEM2.py:172: UserWarning: Eigenvector contains both negative and positive elements\n",
      "  warnings.warn(\"Eigenvector contains both negative and positive elements\")\n"
     ]
    },
    {
     "name": "stdout",
     "output_type": "stream",
     "text": [
      "Traceback (most recent call last):\n",
      "  File \"C:\\Users\\zakst\\anaconda3\\lib\\site-packages\\ci_rvm\\ci_rvm.py\", line 1214, in find_CI_bound\n",
      "    H = hess(x)\n",
      "  File \"C:\\Users\\zakst\\anaconda3\\lib\\site-packages\\ci_rvm\\ci_rvm.py\", line 146, in __call__\n",
      "    return self.fun(*args, **kwargs)\n",
      "  File \"C:\\Users\\zakst\\anaconda3\\lib\\site-packages\\ci_rvm\\ci_rvm.py\", line 255, in <lambda>\n",
      "    hess = lambda x: np.asarray(hess2(x))\n",
      "  File \"C:\\Users\\zakst\\anaconda3\\lib\\site-packages\\numdifftools\\core.py\", line 538, in __call__\n",
      "    return super(Hessdiag, self).__call__(np.atleast_1d(x), *args, **kwds)\n",
      "  File \"C:\\Users\\zakst\\anaconda3\\lib\\site-packages\\numdifftools\\core.py\", line 288, in __call__\n",
      "    results, f_xi = self._derivative(x_i, args, kwds)\n",
      "  File \"C:\\Users\\zakst\\anaconda3\\lib\\site-packages\\numdifftools\\core.py\", line 238, in _derivative_nonzero_order\n",
      "    results = [diff(f, fxi, x_i, h) for h in steps]\n",
      "  File \"C:\\Users\\zakst\\anaconda3\\lib\\site-packages\\numdifftools\\core.py\", line 238, in <listcomp>\n",
      "    results = [diff(f, fxi, x_i, h) for h in steps]\n",
      "  File \"C:\\Users\\zakst\\anaconda3\\lib\\site-packages\\numdifftools\\finite_difference.py\", line 282, in _central_even\n",
      "    hess[i, i] = (f(x + 2 * e_i) - 2 * f_x + f(x - 2 * e_i)) / (4. * hess[i, i])\n",
      "  File \"C:\\Users\\zakst\\anaconda3\\lib\\site-packages\\numdifftools\\core.py\", line 257, in export_fun\n",
      "    return fun(x, *args, **kwds)\n",
      "  File \"C:\\Users\\zakst\\Documents\\NIH\\Git clone\\CovidEM\\Executables\\CovidEM2.py\", line 293, in neg_Covid_KL2\n",
      "    return -1 * Covid_KL2(theta0, prem_global, cases_global, countries_global)\n",
      "  File \"C:\\Users\\zakst\\Documents\\NIH\\Git clone\\CovidEM\\Executables\\CovidEM2.py\", line 254, in Covid_KL2\n",
      "    res = Covid_KL_k2(theta0, prem_in[country_codes[i]], cases_in[country_codes[i]])\n",
      "  File \"C:\\Users\\zakst\\Documents\\NIH\\Git clone\\CovidEM\\Executables\\CovidEM2.py\", line 226, in Covid_KL_k2\n",
      "    u_tilda = scv_eig2(s = theta0[0:(int(len(theta0)/2))], c = prem_in, v = theta0[(int(len(theta0)/2)):])\n",
      "  File \"C:\\Users\\zakst\\Documents\\NIH\\Git clone\\CovidEM\\Executables\\CovidEM2.py\", line 188, in scv_eig2\n",
      "    assert(sum((i > 0) for i in eig) >= len(eig)), eig #Assert positive\n",
      "AssertionError: [0.006318946987376986, 0.008971519611670987, 0.008999123881659753, 0.019186007854168807, 0.040811882625626246, 0.04863326903260445, 0.08562425931601723, 0.05998733407081287, -0.0694093412645513, 0.09016306152399653, 0.07237198327420144, 0.15291555276893884, 0.15097074998552013, 0.09513584197312226, 0.1601723173739655, 0.06914749098486923]\n"
     ]
    },
    {
     "name": "stderr",
     "output_type": "stream",
     "text": [
      "C:\\Users\\zakst\\Documents\\NIH\\Git clone\\CovidEM\\Executables\\CovidEM2.py:172: UserWarning: Eigenvector contains both negative and positive elements\n",
      "  warnings.warn(\"Eigenvector contains both negative and positive elements\")\n"
     ]
    },
    {
     "name": "stdout",
     "output_type": "stream",
     "text": [
      "Traceback (most recent call last):\n",
      "  File \"C:\\Users\\zakst\\anaconda3\\lib\\site-packages\\ci_rvm\\ci_rvm.py\", line 805, in find_CI_bound\n",
      "    precise, fActual, JActual = test_precision()\n",
      "  File \"C:\\Users\\zakst\\anaconda3\\lib\\site-packages\\ci_rvm\\ci_rvm.py\", line 372, in test_precision\n",
      "    fActual = fun(xTmp)\n",
      "  File \"C:\\Users\\zakst\\anaconda3\\lib\\site-packages\\ci_rvm\\ci_rvm.py\", line 146, in __call__\n",
      "    return self.fun(*args, **kwargs)\n",
      "  File \"C:\\Users\\zakst\\anaconda3\\lib\\site-packages\\ci_rvm\\ci_rvm.py\", line 246, in <lambda>\n",
      "    fun = lambda x: fun2(flip(x))\n",
      "  File \"C:\\Users\\zakst\\Documents\\NIH\\Git clone\\CovidEM\\Executables\\CovidEM2.py\", line 293, in neg_Covid_KL2\n",
      "    return -1 * Covid_KL2(theta0, prem_global, cases_global, countries_global)\n",
      "  File \"C:\\Users\\zakst\\Documents\\NIH\\Git clone\\CovidEM\\Executables\\CovidEM2.py\", line 254, in Covid_KL2\n",
      "    res = Covid_KL_k2(theta0, prem_in[country_codes[i]], cases_in[country_codes[i]])\n",
      "  File \"C:\\Users\\zakst\\Documents\\NIH\\Git clone\\CovidEM\\Executables\\CovidEM2.py\", line 226, in Covid_KL_k2\n",
      "    u_tilda = scv_eig2(s = theta0[0:(int(len(theta0)/2))], c = prem_in, v = theta0[(int(len(theta0)/2)):])\n",
      "  File \"C:\\Users\\zakst\\Documents\\NIH\\Git clone\\CovidEM\\Executables\\CovidEM2.py\", line 188, in scv_eig2\n",
      "    assert(sum((i > 0) for i in eig) >= len(eig)), eig #Assert positive\n",
      "AssertionError: [-9.943032287093549e-11, 1.000000020578925, -6.723542238166244e-10, -6.474401831437309e-10, -1.2840394295456855e-09, -8.431449397404558e-10, -1.0027483045062655e-09, -1.7646919590732846e-09, -4.768598306510618e-09, -3.545229866106373e-09, -2.9402798450981604e-09, -1.1496310711130018e-09, -1.9458649417655997e-10, -2.9803561845842306e-10, -9.917034525249722e-10, -3.7701112006725733e-10]\n"
     ]
    },
    {
     "name": "stderr",
     "output_type": "stream",
     "text": [
      "C:\\Users\\zakst\\Documents\\NIH\\Git clone\\CovidEM\\Executables\\CovidEM2.py:172: UserWarning: Eigenvector contains both negative and positive elements\n",
      "  warnings.warn(\"Eigenvector contains both negative and positive elements\")\n"
     ]
    },
    {
     "name": "stdout",
     "output_type": "stream",
     "text": [
      "Traceback (most recent call last):\n",
      "  File \"C:\\Users\\zakst\\anaconda3\\lib\\site-packages\\ci_rvm\\ci_rvm.py\", line 805, in find_CI_bound\n",
      "    precise, fActual, JActual = test_precision()\n",
      "  File \"C:\\Users\\zakst\\anaconda3\\lib\\site-packages\\ci_rvm\\ci_rvm.py\", line 372, in test_precision\n",
      "    fActual = fun(xTmp)\n",
      "  File \"C:\\Users\\zakst\\anaconda3\\lib\\site-packages\\ci_rvm\\ci_rvm.py\", line 146, in __call__\n",
      "    return self.fun(*args, **kwargs)\n",
      "  File \"C:\\Users\\zakst\\Documents\\NIH\\Git clone\\CovidEM\\Executables\\CovidEM2.py\", line 293, in neg_Covid_KL2\n",
      "    return -1 * Covid_KL2(theta0, prem_global, cases_global, countries_global)\n",
      "  File \"C:\\Users\\zakst\\Documents\\NIH\\Git clone\\CovidEM\\Executables\\CovidEM2.py\", line 254, in Covid_KL2\n",
      "    res = Covid_KL_k2(theta0, prem_in[country_codes[i]], cases_in[country_codes[i]])\n",
      "  File \"C:\\Users\\zakst\\Documents\\NIH\\Git clone\\CovidEM\\Executables\\CovidEM2.py\", line 226, in Covid_KL_k2\n",
      "    u_tilda = scv_eig2(s = theta0[0:(int(len(theta0)/2))], c = prem_in, v = theta0[(int(len(theta0)/2)):])\n",
      "  File \"C:\\Users\\zakst\\Documents\\NIH\\Git clone\\CovidEM\\Executables\\CovidEM2.py\", line 188, in scv_eig2\n",
      "    assert(sum((i > 0) for i in eig) >= len(eig)), eig #Assert positive\n",
      "AssertionError: [2.9286801919541803e-07, -0.024855741899807694, 1.0247134105860844, 1.4134963117286529e-06, 6.910937091728563e-06, 1.1301595984667556e-05, 1.3379657572020854e-05, 1.4987242480723457e-05, 1.404572053804652e-05, 1.044233645649711e-05, 8.941451599480806e-06, 1.9096321912631247e-05, 1.7274249295282125e-05, 1.0143789464751616e-05, 5.161959529811867e-06, 8.93968746691475e-06]\n"
     ]
    },
    {
     "name": "stderr",
     "output_type": "stream",
     "text": [
      "C:\\Users\\zakst\\Documents\\NIH\\Git clone\\CovidEM\\Executables\\CovidEM2.py:172: UserWarning: Eigenvector contains both negative and positive elements\n",
      "  warnings.warn(\"Eigenvector contains both negative and positive elements\")\n"
     ]
    },
    {
     "name": "stdout",
     "output_type": "stream",
     "text": [
      "Traceback (most recent call last):\n",
      "  File \"C:\\Users\\zakst\\anaconda3\\lib\\site-packages\\ci_rvm\\ci_rvm.py\", line 805, in find_CI_bound\n",
      "    precise, fActual, JActual = test_precision()\n",
      "  File \"C:\\Users\\zakst\\anaconda3\\lib\\site-packages\\ci_rvm\\ci_rvm.py\", line 372, in test_precision\n",
      "    fActual = fun(xTmp)\n",
      "  File \"C:\\Users\\zakst\\anaconda3\\lib\\site-packages\\ci_rvm\\ci_rvm.py\", line 146, in __call__\n",
      "    return self.fun(*args, **kwargs)\n",
      "  File \"C:\\Users\\zakst\\anaconda3\\lib\\site-packages\\ci_rvm\\ci_rvm.py\", line 246, in <lambda>\n",
      "    fun = lambda x: fun2(flip(x))\n",
      "  File \"C:\\Users\\zakst\\Documents\\NIH\\Git clone\\CovidEM\\Executables\\CovidEM2.py\", line 293, in neg_Covid_KL2\n",
      "    return -1 * Covid_KL2(theta0, prem_global, cases_global, countries_global)\n",
      "  File \"C:\\Users\\zakst\\Documents\\NIH\\Git clone\\CovidEM\\Executables\\CovidEM2.py\", line 254, in Covid_KL2\n",
      "    res = Covid_KL_k2(theta0, prem_in[country_codes[i]], cases_in[country_codes[i]])\n",
      "  File \"C:\\Users\\zakst\\Documents\\NIH\\Git clone\\CovidEM\\Executables\\CovidEM2.py\", line 226, in Covid_KL_k2\n",
      "    u_tilda = scv_eig2(s = theta0[0:(int(len(theta0)/2))], c = prem_in, v = theta0[(int(len(theta0)/2)):])\n",
      "  File \"C:\\Users\\zakst\\Documents\\NIH\\Git clone\\CovidEM\\Executables\\CovidEM2.py\", line 188, in scv_eig2\n",
      "    assert(sum((i > 0) for i in eig) >= len(eig)), eig #Assert positive\n",
      "AssertionError: [6.875910975450635e-83, 0.0097486866274348, 0.9902513133725651, -5.0704934680930754e-33, -9.21575179740427e-33, 5.458366851956921e-65, -3.484236366144279e-65, 4.0579157534353037e-81, 3.1740729619258945e-81, 2.6736142628892758e-81, 2.2924448135305744e-81, 4.258567709561199e-81, 3.435483960585023e-81, 2.1849109064073376e-81, 9.714613143091603e-82, 1.6751922944460597e-81]\n"
     ]
    },
    {
     "name": "stderr",
     "output_type": "stream",
     "text": [
      "C:\\Users\\zakst\\Documents\\NIH\\Git clone\\CovidEM\\Executables\\CovidEM2.py:172: UserWarning: Eigenvector contains both negative and positive elements\n",
      "  warnings.warn(\"Eigenvector contains both negative and positive elements\")\n"
     ]
    },
    {
     "name": "stdout",
     "output_type": "stream",
     "text": [
      "Traceback (most recent call last):\n",
      "  File \"C:\\Users\\zakst\\anaconda3\\lib\\site-packages\\ci_rvm\\ci_rvm.py\", line 805, in find_CI_bound\n",
      "    precise, fActual, JActual = test_precision()\n",
      "  File \"C:\\Users\\zakst\\anaconda3\\lib\\site-packages\\ci_rvm\\ci_rvm.py\", line 372, in test_precision\n",
      "    fActual = fun(xTmp)\n",
      "  File \"C:\\Users\\zakst\\anaconda3\\lib\\site-packages\\ci_rvm\\ci_rvm.py\", line 146, in __call__\n",
      "    return self.fun(*args, **kwargs)\n",
      "  File \"C:\\Users\\zakst\\Documents\\NIH\\Git clone\\CovidEM\\Executables\\CovidEM2.py\", line 293, in neg_Covid_KL2\n",
      "    return -1 * Covid_KL2(theta0, prem_global, cases_global, countries_global)\n",
      "  File \"C:\\Users\\zakst\\Documents\\NIH\\Git clone\\CovidEM\\Executables\\CovidEM2.py\", line 254, in Covid_KL2\n",
      "    res = Covid_KL_k2(theta0, prem_in[country_codes[i]], cases_in[country_codes[i]])\n",
      "  File \"C:\\Users\\zakst\\Documents\\NIH\\Git clone\\CovidEM\\Executables\\CovidEM2.py\", line 226, in Covid_KL_k2\n",
      "    u_tilda = scv_eig2(s = theta0[0:(int(len(theta0)/2))], c = prem_in, v = theta0[(int(len(theta0)/2)):])\n",
      "  File \"C:\\Users\\zakst\\Documents\\NIH\\Git clone\\CovidEM\\Executables\\CovidEM2.py\", line 188, in scv_eig2\n",
      "    assert(sum((i > 0) for i in eig) >= len(eig)), eig #Assert positive\n",
      "AssertionError: [1.6042273886763235e-07, -0.13310783433794957, 1.133029579074629, 7.804872079694701e-07, 2.57588437195147e-06, 6.823237251956626e-06, 1.0231891283547057e-05, 9.467614217870383e-06, 7.405534145932115e-06, 6.2378974756976336e-06, 5.348539259836153e-06, 9.935731691695452e-06, 8.015392824926134e-06, 5.097657099623885e-06, 2.266540697177992e-06, 3.908433053416105e-06]\n",
      "\n",
      "\n",
      "\n",
      "Done a1\n",
      "\n",
      "\n"
     ]
    },
    {
     "name": "stderr",
     "output_type": "stream",
     "text": [
      "C:\\Users\\zakst\\Documents\\NIH\\Git clone\\CovidEM\\Executables\\CovidEM2.py:239: RuntimeWarning: overflow encountered in exp\n",
      "  params[i] = np.exp(params_in[i])\n"
     ]
    },
    {
     "name": "stdout",
     "output_type": "stream",
     "text": [
      "Traceback (most recent call last):\n",
      "  File \"C:\\Users\\zakst\\anaconda3\\lib\\site-packages\\ci_rvm\\ci_rvm.py\", line 805, in find_CI_bound\n",
      "    precise, fActual, JActual = test_precision()\n",
      "  File \"C:\\Users\\zakst\\anaconda3\\lib\\site-packages\\ci_rvm\\ci_rvm.py\", line 372, in test_precision\n",
      "    fActual = fun(xTmp)\n",
      "  File \"C:\\Users\\zakst\\anaconda3\\lib\\site-packages\\ci_rvm\\ci_rvm.py\", line 146, in __call__\n",
      "    return self.fun(*args, **kwargs)\n",
      "  File \"C:\\Users\\zakst\\anaconda3\\lib\\site-packages\\ci_rvm\\ci_rvm.py\", line 246, in <lambda>\n",
      "    fun = lambda x: fun2(flip(x))\n",
      "  File \"C:\\Users\\zakst\\Documents\\NIH\\Git clone\\CovidEM\\Executables\\CovidEM2.py\", line 293, in neg_Covid_KL2\n",
      "    return -1 * Covid_KL2(theta0, prem_global, cases_global, countries_global)\n",
      "  File \"C:\\Users\\zakst\\Documents\\NIH\\Git clone\\CovidEM\\Executables\\CovidEM2.py\", line 254, in Covid_KL2\n",
      "    res = Covid_KL_k2(theta0, prem_in[country_codes[i]], cases_in[country_codes[i]])\n",
      "  File \"C:\\Users\\zakst\\Documents\\NIH\\Git clone\\CovidEM\\Executables\\CovidEM2.py\", line 226, in Covid_KL_k2\n",
      "    u_tilda = scv_eig2(s = theta0[0:(int(len(theta0)/2))], c = prem_in, v = theta0[(int(len(theta0)/2)):])\n",
      "  File \"C:\\Users\\zakst\\Documents\\NIH\\Git clone\\CovidEM\\Executables\\CovidEM2.py\", line 155, in scv_eig2\n",
      "    eigs = la.eig(builder)\n",
      "  File \"<__array_function__ internals>\", line 5, in eig\n",
      "  File \"C:\\Users\\zakst\\anaconda3\\lib\\site-packages\\numpy\\linalg\\linalg.py\", line 1317, in eig\n",
      "    _assert_finite(a)\n",
      "  File \"C:\\Users\\zakst\\anaconda3\\lib\\site-packages\\numpy\\linalg\\linalg.py\", line 208, in _assert_finite\n",
      "    raise LinAlgError(\"Array must not contain infs or NaNs\")\n",
      "numpy.linalg.LinAlgError: Array must not contain infs or NaNs\n"
     ]
    },
    {
     "name": "stderr",
     "output_type": "stream",
     "text": [
      "C:\\Users\\zakst\\Documents\\NIH\\Git clone\\CovidEM\\Executables\\CovidEM2.py:172: UserWarning: Eigenvector contains both negative and positive elements\n",
      "  warnings.warn(\"Eigenvector contains both negative and positive elements\")\n"
     ]
    },
    {
     "name": "stdout",
     "output_type": "stream",
     "text": [
      "Traceback (most recent call last):\n",
      "  File \"C:\\Users\\zakst\\anaconda3\\lib\\site-packages\\ci_rvm\\ci_rvm.py\", line 805, in find_CI_bound\n",
      "    precise, fActual, JActual = test_precision()\n",
      "  File \"C:\\Users\\zakst\\anaconda3\\lib\\site-packages\\ci_rvm\\ci_rvm.py\", line 372, in test_precision\n",
      "    fActual = fun(xTmp)\n",
      "  File \"C:\\Users\\zakst\\anaconda3\\lib\\site-packages\\ci_rvm\\ci_rvm.py\", line 146, in __call__\n",
      "    return self.fun(*args, **kwargs)\n",
      "  File \"C:\\Users\\zakst\\Documents\\NIH\\Git clone\\CovidEM\\Executables\\CovidEM2.py\", line 293, in neg_Covid_KL2\n",
      "    return -1 * Covid_KL2(theta0, prem_global, cases_global, countries_global)\n",
      "  File \"C:\\Users\\zakst\\Documents\\NIH\\Git clone\\CovidEM\\Executables\\CovidEM2.py\", line 254, in Covid_KL2\n",
      "    res = Covid_KL_k2(theta0, prem_in[country_codes[i]], cases_in[country_codes[i]])\n",
      "  File \"C:\\Users\\zakst\\Documents\\NIH\\Git clone\\CovidEM\\Executables\\CovidEM2.py\", line 226, in Covid_KL_k2\n",
      "    u_tilda = scv_eig2(s = theta0[0:(int(len(theta0)/2))], c = prem_in, v = theta0[(int(len(theta0)/2)):])\n",
      "  File \"C:\\Users\\zakst\\Documents\\NIH\\Git clone\\CovidEM\\Executables\\CovidEM2.py\", line 188, in scv_eig2\n",
      "    assert(sum((i > 0) for i in eig) >= len(eig)), eig #Assert positive\n",
      "AssertionError: [-2.760944400297583e-82, 0.9999999999999991, 5.382806030746964e-16, 3.4362647027183335e-16, 2.034363582234801e-32, 1.338938061420566e-33, -7.469266537754441e-52, 7.98403241551049e-53, -1.2745155669406713e-80, -1.073561647423323e-80, -1.0442662925776176e-80, -2.786037481517372e-81, -2.3994868379080413e-82, -9.879725613771813e-82, -2.824821216065711e-81, -9.275333153421644e-82]\n"
     ]
    },
    {
     "name": "stderr",
     "output_type": "stream",
     "text": [
      "C:\\Users\\zakst\\Documents\\NIH\\Git clone\\CovidEM\\Executables\\CovidEM2.py:239: RuntimeWarning: overflow encountered in exp\n",
      "  params[i] = np.exp(params_in[i])\n"
     ]
    },
    {
     "name": "stdout",
     "output_type": "stream",
     "text": [
      "Traceback (most recent call last):\n",
      "  File \"C:\\Users\\zakst\\anaconda3\\lib\\site-packages\\ci_rvm\\ci_rvm.py\", line 805, in find_CI_bound\n",
      "    precise, fActual, JActual = test_precision()\n",
      "  File \"C:\\Users\\zakst\\anaconda3\\lib\\site-packages\\ci_rvm\\ci_rvm.py\", line 372, in test_precision\n",
      "    fActual = fun(xTmp)\n",
      "  File \"C:\\Users\\zakst\\anaconda3\\lib\\site-packages\\ci_rvm\\ci_rvm.py\", line 146, in __call__\n",
      "    return self.fun(*args, **kwargs)\n",
      "  File \"C:\\Users\\zakst\\anaconda3\\lib\\site-packages\\ci_rvm\\ci_rvm.py\", line 246, in <lambda>\n",
      "    fun = lambda x: fun2(flip(x))\n",
      "  File \"C:\\Users\\zakst\\Documents\\NIH\\Git clone\\CovidEM\\Executables\\CovidEM2.py\", line 293, in neg_Covid_KL2\n",
      "    return -1 * Covid_KL2(theta0, prem_global, cases_global, countries_global)\n",
      "  File \"C:\\Users\\zakst\\Documents\\NIH\\Git clone\\CovidEM\\Executables\\CovidEM2.py\", line 254, in Covid_KL2\n",
      "    res = Covid_KL_k2(theta0, prem_in[country_codes[i]], cases_in[country_codes[i]])\n",
      "  File \"C:\\Users\\zakst\\Documents\\NIH\\Git clone\\CovidEM\\Executables\\CovidEM2.py\", line 226, in Covid_KL_k2\n",
      "    u_tilda = scv_eig2(s = theta0[0:(int(len(theta0)/2))], c = prem_in, v = theta0[(int(len(theta0)/2)):])\n",
      "  File \"C:\\Users\\zakst\\Documents\\NIH\\Git clone\\CovidEM\\Executables\\CovidEM2.py\", line 155, in scv_eig2\n",
      "    eigs = la.eig(builder)\n",
      "  File \"<__array_function__ internals>\", line 5, in eig\n",
      "  File \"C:\\Users\\zakst\\anaconda3\\lib\\site-packages\\numpy\\linalg\\linalg.py\", line 1317, in eig\n",
      "    _assert_finite(a)\n",
      "  File \"C:\\Users\\zakst\\anaconda3\\lib\\site-packages\\numpy\\linalg\\linalg.py\", line 208, in _assert_finite\n",
      "    raise LinAlgError(\"Array must not contain infs or NaNs\")\n",
      "numpy.linalg.LinAlgError: Array must not contain infs or NaNs\n"
     ]
    },
    {
     "name": "stderr",
     "output_type": "stream",
     "text": [
      "C:\\Users\\zakst\\Documents\\NIH\\Git clone\\CovidEM\\Executables\\CovidEM2.py:172: UserWarning: Eigenvector contains both negative and positive elements\n",
      "  warnings.warn(\"Eigenvector contains both negative and positive elements\")\n"
     ]
    },
    {
     "name": "stdout",
     "output_type": "stream",
     "text": [
      "Traceback (most recent call last):\n",
      "  File \"C:\\Users\\zakst\\anaconda3\\lib\\site-packages\\ci_rvm\\ci_rvm.py\", line 805, in find_CI_bound\n",
      "    precise, fActual, JActual = test_precision()\n",
      "  File \"C:\\Users\\zakst\\anaconda3\\lib\\site-packages\\ci_rvm\\ci_rvm.py\", line 372, in test_precision\n",
      "    fActual = fun(xTmp)\n",
      "  File \"C:\\Users\\zakst\\anaconda3\\lib\\site-packages\\ci_rvm\\ci_rvm.py\", line 146, in __call__\n",
      "    return self.fun(*args, **kwargs)\n",
      "  File \"C:\\Users\\zakst\\Documents\\NIH\\Git clone\\CovidEM\\Executables\\CovidEM2.py\", line 293, in neg_Covid_KL2\n",
      "    return -1 * Covid_KL2(theta0, prem_global, cases_global, countries_global)\n",
      "  File \"C:\\Users\\zakst\\Documents\\NIH\\Git clone\\CovidEM\\Executables\\CovidEM2.py\", line 254, in Covid_KL2\n",
      "    res = Covid_KL_k2(theta0, prem_in[country_codes[i]], cases_in[country_codes[i]])\n",
      "  File \"C:\\Users\\zakst\\Documents\\NIH\\Git clone\\CovidEM\\Executables\\CovidEM2.py\", line 226, in Covid_KL_k2\n",
      "    u_tilda = scv_eig2(s = theta0[0:(int(len(theta0)/2))], c = prem_in, v = theta0[(int(len(theta0)/2)):])\n",
      "  File \"C:\\Users\\zakst\\Documents\\NIH\\Git clone\\CovidEM\\Executables\\CovidEM2.py\", line 188, in scv_eig2\n",
      "    assert(sum((i > 0) for i in eig) >= len(eig)), eig #Assert positive\n",
      "AssertionError: [-4.559198685997546e-25, -3.4473958277510366e-25, -8.032577840796977e-25, -1.7395613042690705e-24, -2.8913654771884986e-24, -2.9875608438824047e-24, -4.2152752898517936e-24, -3.7131954778775855e-24, 1.1303579511924196, -0.1303579511924196, -6.762215000239951e-24, -6.722051806945253e-24, -5.6783544226879604e-24, -4.8983911056362864e-24, -4.791976944789243e-24, -2.826730287178831e-24]\n"
     ]
    },
    {
     "name": "stderr",
     "output_type": "stream",
     "text": [
      "C:\\Users\\zakst\\Documents\\NIH\\Git clone\\CovidEM\\Executables\\CovidEM2.py:239: RuntimeWarning: overflow encountered in exp\n",
      "  params[i] = np.exp(params_in[i])\n"
     ]
    },
    {
     "name": "stdout",
     "output_type": "stream",
     "text": [
      "Traceback (most recent call last):\n",
      "  File \"C:\\Users\\zakst\\anaconda3\\lib\\site-packages\\ci_rvm\\ci_rvm.py\", line 805, in find_CI_bound\n",
      "    precise, fActual, JActual = test_precision()\n",
      "  File \"C:\\Users\\zakst\\anaconda3\\lib\\site-packages\\ci_rvm\\ci_rvm.py\", line 372, in test_precision\n",
      "    fActual = fun(xTmp)\n",
      "  File \"C:\\Users\\zakst\\anaconda3\\lib\\site-packages\\ci_rvm\\ci_rvm.py\", line 146, in __call__\n",
      "    return self.fun(*args, **kwargs)\n",
      "  File \"C:\\Users\\zakst\\anaconda3\\lib\\site-packages\\ci_rvm\\ci_rvm.py\", line 246, in <lambda>\n",
      "    fun = lambda x: fun2(flip(x))\n",
      "  File \"C:\\Users\\zakst\\Documents\\NIH\\Git clone\\CovidEM\\Executables\\CovidEM2.py\", line 293, in neg_Covid_KL2\n",
      "    return -1 * Covid_KL2(theta0, prem_global, cases_global, countries_global)\n",
      "  File \"C:\\Users\\zakst\\Documents\\NIH\\Git clone\\CovidEM\\Executables\\CovidEM2.py\", line 254, in Covid_KL2\n",
      "    res = Covid_KL_k2(theta0, prem_in[country_codes[i]], cases_in[country_codes[i]])\n",
      "  File \"C:\\Users\\zakst\\Documents\\NIH\\Git clone\\CovidEM\\Executables\\CovidEM2.py\", line 226, in Covid_KL_k2\n",
      "    u_tilda = scv_eig2(s = theta0[0:(int(len(theta0)/2))], c = prem_in, v = theta0[(int(len(theta0)/2)):])\n",
      "  File \"C:\\Users\\zakst\\Documents\\NIH\\Git clone\\CovidEM\\Executables\\CovidEM2.py\", line 155, in scv_eig2\n",
      "    eigs = la.eig(builder)\n",
      "  File \"<__array_function__ internals>\", line 5, in eig\n",
      "  File \"C:\\Users\\zakst\\anaconda3\\lib\\site-packages\\numpy\\linalg\\linalg.py\", line 1317, in eig\n",
      "    _assert_finite(a)\n",
      "  File \"C:\\Users\\zakst\\anaconda3\\lib\\site-packages\\numpy\\linalg\\linalg.py\", line 208, in _assert_finite\n",
      "    raise LinAlgError(\"Array must not contain infs or NaNs\")\n",
      "numpy.linalg.LinAlgError: Array must not contain infs or NaNs\n"
     ]
    },
    {
     "name": "stderr",
     "output_type": "stream",
     "text": [
      "C:\\Users\\zakst\\Documents\\NIH\\Git clone\\CovidEM\\Executables\\CovidEM2.py:172: UserWarning: Eigenvector contains both negative and positive elements\n",
      "  warnings.warn(\"Eigenvector contains both negative and positive elements\")\n"
     ]
    },
    {
     "name": "stdout",
     "output_type": "stream",
     "text": [
      "Traceback (most recent call last):\n",
      "  File \"C:\\Users\\zakst\\anaconda3\\lib\\site-packages\\ci_rvm\\ci_rvm.py\", line 805, in find_CI_bound\n",
      "    precise, fActual, JActual = test_precision()\n",
      "  File \"C:\\Users\\zakst\\anaconda3\\lib\\site-packages\\ci_rvm\\ci_rvm.py\", line 372, in test_precision\n",
      "    fActual = fun(xTmp)\n",
      "  File \"C:\\Users\\zakst\\anaconda3\\lib\\site-packages\\ci_rvm\\ci_rvm.py\", line 146, in __call__\n",
      "    return self.fun(*args, **kwargs)\n",
      "  File \"C:\\Users\\zakst\\Documents\\NIH\\Git clone\\CovidEM\\Executables\\CovidEM2.py\", line 293, in neg_Covid_KL2\n",
      "    return -1 * Covid_KL2(theta0, prem_global, cases_global, countries_global)\n",
      "  File \"C:\\Users\\zakst\\Documents\\NIH\\Git clone\\CovidEM\\Executables\\CovidEM2.py\", line 254, in Covid_KL2\n",
      "    res = Covid_KL_k2(theta0, prem_in[country_codes[i]], cases_in[country_codes[i]])\n",
      "  File \"C:\\Users\\zakst\\Documents\\NIH\\Git clone\\CovidEM\\Executables\\CovidEM2.py\", line 226, in Covid_KL_k2\n",
      "    u_tilda = scv_eig2(s = theta0[0:(int(len(theta0)/2))], c = prem_in, v = theta0[(int(len(theta0)/2)):])\n",
      "  File \"C:\\Users\\zakst\\Documents\\NIH\\Git clone\\CovidEM\\Executables\\CovidEM2.py\", line 188, in scv_eig2\n",
      "    assert(sum((i > 0) for i in eig) >= len(eig)), eig #Assert positive\n",
      "AssertionError: [-4.2632948344209616e-11, -0.09068369802642365, 1.090683718823053, -2.0741691163958388e-10, -6.845511036563691e-10, -1.8133013431024289e-09, -2.7191647529870172e-09, -2.5160551615231105e-09, -1.968047789228929e-09, -1.6577440728197795e-09, -1.4213941738149092e-09, -2.640457600305003e-09, -2.130120468208211e-09, -1.3547213424210202e-09, -6.023413886006261e-10, -1.038680221175117e-09]\n"
     ]
    },
    {
     "name": "stderr",
     "output_type": "stream",
     "text": [
      "C:\\Users\\zakst\\Documents\\NIH\\Git clone\\CovidEM\\Executables\\CovidEM2.py:172: UserWarning: Eigenvector contains both negative and positive elements\n",
      "  warnings.warn(\"Eigenvector contains both negative and positive elements\")\n"
     ]
    },
    {
     "name": "stdout",
     "output_type": "stream",
     "text": [
      "Traceback (most recent call last):\n",
      "  File \"C:\\Users\\zakst\\anaconda3\\lib\\site-packages\\ci_rvm\\ci_rvm.py\", line 805, in find_CI_bound\n",
      "    precise, fActual, JActual = test_precision()\n",
      "  File \"C:\\Users\\zakst\\anaconda3\\lib\\site-packages\\ci_rvm\\ci_rvm.py\", line 372, in test_precision\n",
      "    fActual = fun(xTmp)\n",
      "  File \"C:\\Users\\zakst\\anaconda3\\lib\\site-packages\\ci_rvm\\ci_rvm.py\", line 146, in __call__\n",
      "    return self.fun(*args, **kwargs)\n",
      "  File \"C:\\Users\\zakst\\anaconda3\\lib\\site-packages\\ci_rvm\\ci_rvm.py\", line 246, in <lambda>\n",
      "    fun = lambda x: fun2(flip(x))\n",
      "  File \"C:\\Users\\zakst\\Documents\\NIH\\Git clone\\CovidEM\\Executables\\CovidEM2.py\", line 293, in neg_Covid_KL2\n",
      "    return -1 * Covid_KL2(theta0, prem_global, cases_global, countries_global)\n",
      "  File \"C:\\Users\\zakst\\Documents\\NIH\\Git clone\\CovidEM\\Executables\\CovidEM2.py\", line 254, in Covid_KL2\n",
      "    res = Covid_KL_k2(theta0, prem_in[country_codes[i]], cases_in[country_codes[i]])\n",
      "  File \"C:\\Users\\zakst\\Documents\\NIH\\Git clone\\CovidEM\\Executables\\CovidEM2.py\", line 226, in Covid_KL_k2\n",
      "    u_tilda = scv_eig2(s = theta0[0:(int(len(theta0)/2))], c = prem_in, v = theta0[(int(len(theta0)/2)):])\n",
      "  File \"C:\\Users\\zakst\\Documents\\NIH\\Git clone\\CovidEM\\Executables\\CovidEM2.py\", line 188, in scv_eig2\n",
      "    assert(sum((i > 0) for i in eig) >= len(eig)), eig #Assert positive\n",
      "AssertionError: [2.0606330640021278e-07, -0.008362173494639398, 1.0082620285421584, 9.94542935896809e-07, 4.862560010030654e-06, 7.95184328191044e-06, 9.413986169686146e-06, 1.0545090012640228e-05, 9.882636301245468e-06, 7.347277988000609e-06, 6.291248026503741e-06, 1.3436263252076159e-05, 1.2154240000526887e-05, 7.137216185891211e-06, 3.6319789518456575e-06, 6.290006058434978e-06]\n"
     ]
    },
    {
     "name": "stderr",
     "output_type": "stream",
     "text": [
      "C:\\Users\\zakst\\Documents\\NIH\\Git clone\\CovidEM\\Executables\\CovidEM2.py:239: RuntimeWarning: overflow encountered in exp\n",
      "  params[i] = np.exp(params_in[i])\n"
     ]
    },
    {
     "name": "stdout",
     "output_type": "stream",
     "text": [
      "Traceback (most recent call last):\n",
      "  File \"C:\\Users\\zakst\\anaconda3\\lib\\site-packages\\ci_rvm\\ci_rvm.py\", line 805, in find_CI_bound\n",
      "    precise, fActual, JActual = test_precision()\n",
      "  File \"C:\\Users\\zakst\\anaconda3\\lib\\site-packages\\ci_rvm\\ci_rvm.py\", line 372, in test_precision\n",
      "    fActual = fun(xTmp)\n",
      "  File \"C:\\Users\\zakst\\anaconda3\\lib\\site-packages\\ci_rvm\\ci_rvm.py\", line 146, in __call__\n",
      "    return self.fun(*args, **kwargs)\n",
      "  File \"C:\\Users\\zakst\\Documents\\NIH\\Git clone\\CovidEM\\Executables\\CovidEM2.py\", line 293, in neg_Covid_KL2\n",
      "    return -1 * Covid_KL2(theta0, prem_global, cases_global, countries_global)\n",
      "  File \"C:\\Users\\zakst\\Documents\\NIH\\Git clone\\CovidEM\\Executables\\CovidEM2.py\", line 254, in Covid_KL2\n",
      "    res = Covid_KL_k2(theta0, prem_in[country_codes[i]], cases_in[country_codes[i]])\n",
      "  File \"C:\\Users\\zakst\\Documents\\NIH\\Git clone\\CovidEM\\Executables\\CovidEM2.py\", line 226, in Covid_KL_k2\n",
      "    u_tilda = scv_eig2(s = theta0[0:(int(len(theta0)/2))], c = prem_in, v = theta0[(int(len(theta0)/2)):])\n",
      "  File \"C:\\Users\\zakst\\Documents\\NIH\\Git clone\\CovidEM\\Executables\\CovidEM2.py\", line 155, in scv_eig2\n",
      "    eigs = la.eig(builder)\n",
      "  File \"<__array_function__ internals>\", line 5, in eig\n",
      "  File \"C:\\Users\\zakst\\anaconda3\\lib\\site-packages\\numpy\\linalg\\linalg.py\", line 1317, in eig\n",
      "    _assert_finite(a)\n",
      "  File \"C:\\Users\\zakst\\anaconda3\\lib\\site-packages\\numpy\\linalg\\linalg.py\", line 208, in _assert_finite\n",
      "    raise LinAlgError(\"Array must not contain infs or NaNs\")\n",
      "numpy.linalg.LinAlgError: Array must not contain infs or NaNs\n"
     ]
    },
    {
     "name": "stderr",
     "output_type": "stream",
     "text": [
      "C:\\Users\\zakst\\Documents\\NIH\\Git clone\\CovidEM\\Executables\\CovidEM2.py:172: UserWarning: Eigenvector contains both negative and positive elements\n",
      "  warnings.warn(\"Eigenvector contains both negative and positive elements\")\n"
     ]
    },
    {
     "name": "stdout",
     "output_type": "stream",
     "text": [
      "Traceback (most recent call last):\n",
      "  File \"C:\\Users\\zakst\\anaconda3\\lib\\site-packages\\ci_rvm\\ci_rvm.py\", line 805, in find_CI_bound\n",
      "    precise, fActual, JActual = test_precision()\n",
      "  File \"C:\\Users\\zakst\\anaconda3\\lib\\site-packages\\ci_rvm\\ci_rvm.py\", line 372, in test_precision\n",
      "    fActual = fun(xTmp)\n",
      "  File \"C:\\Users\\zakst\\anaconda3\\lib\\site-packages\\ci_rvm\\ci_rvm.py\", line 146, in __call__\n",
      "    return self.fun(*args, **kwargs)\n",
      "  File \"C:\\Users\\zakst\\anaconda3\\lib\\site-packages\\ci_rvm\\ci_rvm.py\", line 246, in <lambda>\n",
      "    fun = lambda x: fun2(flip(x))\n",
      "  File \"C:\\Users\\zakst\\Documents\\NIH\\Git clone\\CovidEM\\Executables\\CovidEM2.py\", line 293, in neg_Covid_KL2\n",
      "    return -1 * Covid_KL2(theta0, prem_global, cases_global, countries_global)\n",
      "  File \"C:\\Users\\zakst\\Documents\\NIH\\Git clone\\CovidEM\\Executables\\CovidEM2.py\", line 254, in Covid_KL2\n",
      "    res = Covid_KL_k2(theta0, prem_in[country_codes[i]], cases_in[country_codes[i]])\n",
      "  File \"C:\\Users\\zakst\\Documents\\NIH\\Git clone\\CovidEM\\Executables\\CovidEM2.py\", line 226, in Covid_KL_k2\n",
      "    u_tilda = scv_eig2(s = theta0[0:(int(len(theta0)/2))], c = prem_in, v = theta0[(int(len(theta0)/2)):])\n",
      "  File \"C:\\Users\\zakst\\Documents\\NIH\\Git clone\\CovidEM\\Executables\\CovidEM2.py\", line 188, in scv_eig2\n",
      "    assert(sum((i > 0) for i in eig) >= len(eig)), eig #Assert positive\n",
      "AssertionError: [3.4681049172856094e-34, 3.0271139489194478e-34, 5.325182063664668e-34, 8.358827933166346e-34, 3.0091973586246444e-33, 3.40803247184149e-33, 3.694845544369155e-33, 3.5261331209614685e-33, 1.0403984015740961, -0.04039840157409612, 6.578343055403627e-33, 6.854277311606614e-33, 5.305723246248862e-33, 4.618752950605473e-33, 4.423146646617177e-33, 2.8097024744806415e-33]\n"
     ]
    },
    {
     "name": "stderr",
     "output_type": "stream",
     "text": [
      "C:\\Users\\zakst\\Documents\\NIH\\Git clone\\CovidEM\\Executables\\CovidEM2.py:172: UserWarning: Eigenvector contains both negative and positive elements\n",
      "  warnings.warn(\"Eigenvector contains both negative and positive elements\")\n"
     ]
    },
    {
     "name": "stdout",
     "output_type": "stream",
     "text": [
      "Traceback (most recent call last):\n",
      "  File \"C:\\Users\\zakst\\anaconda3\\lib\\site-packages\\ci_rvm\\ci_rvm.py\", line 805, in find_CI_bound\n",
      "    precise, fActual, JActual = test_precision()\n",
      "  File \"C:\\Users\\zakst\\anaconda3\\lib\\site-packages\\ci_rvm\\ci_rvm.py\", line 372, in test_precision\n",
      "    fActual = fun(xTmp)\n",
      "  File \"C:\\Users\\zakst\\anaconda3\\lib\\site-packages\\ci_rvm\\ci_rvm.py\", line 146, in __call__\n",
      "    return self.fun(*args, **kwargs)\n",
      "  File \"C:\\Users\\zakst\\Documents\\NIH\\Git clone\\CovidEM\\Executables\\CovidEM2.py\", line 293, in neg_Covid_KL2\n",
      "    return -1 * Covid_KL2(theta0, prem_global, cases_global, countries_global)\n",
      "  File \"C:\\Users\\zakst\\Documents\\NIH\\Git clone\\CovidEM\\Executables\\CovidEM2.py\", line 254, in Covid_KL2\n",
      "    res = Covid_KL_k2(theta0, prem_in[country_codes[i]], cases_in[country_codes[i]])\n",
      "  File \"C:\\Users\\zakst\\Documents\\NIH\\Git clone\\CovidEM\\Executables\\CovidEM2.py\", line 226, in Covid_KL_k2\n",
      "    u_tilda = scv_eig2(s = theta0[0:(int(len(theta0)/2))], c = prem_in, v = theta0[(int(len(theta0)/2)):])\n",
      "  File \"C:\\Users\\zakst\\Documents\\NIH\\Git clone\\CovidEM\\Executables\\CovidEM2.py\", line 188, in scv_eig2\n",
      "    assert(sum((i > 0) for i in eig) >= len(eig)), eig #Assert positive\n",
      "AssertionError: [-0.029992954110719422, -0.02617907232878234, -0.04605956399274846, -0.07229816359901833, -0.2602603831208507, -0.2947551978370686, -0.3195719100858915, -0.30497638589225845, 7.997488962746888, -2.997534943665258, -0.569035853318931, -0.59290084525525, -0.4588908475950904, -0.39947256732875397, -0.3825516332540344, -0.24300864136223274]\n"
     ]
    },
    {
     "name": "stderr",
     "output_type": "stream",
     "text": [
      "C:\\Users\\zakst\\Documents\\NIH\\Git clone\\CovidEM\\Executables\\CovidEM2.py:172: UserWarning: Eigenvector contains both negative and positive elements\n",
      "  warnings.warn(\"Eigenvector contains both negative and positive elements\")\n"
     ]
    },
    {
     "name": "stdout",
     "output_type": "stream",
     "text": [
      "Traceback (most recent call last):\n",
      "  File \"C:\\Users\\zakst\\anaconda3\\lib\\site-packages\\ci_rvm\\ci_rvm.py\", line 805, in find_CI_bound\n",
      "    precise, fActual, JActual = test_precision()\n",
      "  File \"C:\\Users\\zakst\\anaconda3\\lib\\site-packages\\ci_rvm\\ci_rvm.py\", line 372, in test_precision\n",
      "    fActual = fun(xTmp)\n",
      "  File \"C:\\Users\\zakst\\anaconda3\\lib\\site-packages\\ci_rvm\\ci_rvm.py\", line 146, in __call__\n",
      "    return self.fun(*args, **kwargs)\n",
      "  File \"C:\\Users\\zakst\\anaconda3\\lib\\site-packages\\ci_rvm\\ci_rvm.py\", line 246, in <lambda>\n",
      "    fun = lambda x: fun2(flip(x))\n",
      "  File \"C:\\Users\\zakst\\Documents\\NIH\\Git clone\\CovidEM\\Executables\\CovidEM2.py\", line 293, in neg_Covid_KL2\n",
      "    return -1 * Covid_KL2(theta0, prem_global, cases_global, countries_global)\n",
      "  File \"C:\\Users\\zakst\\Documents\\NIH\\Git clone\\CovidEM\\Executables\\CovidEM2.py\", line 254, in Covid_KL2\n",
      "    res = Covid_KL_k2(theta0, prem_in[country_codes[i]], cases_in[country_codes[i]])\n",
      "  File \"C:\\Users\\zakst\\Documents\\NIH\\Git clone\\CovidEM\\Executables\\CovidEM2.py\", line 226, in Covid_KL_k2\n",
      "    u_tilda = scv_eig2(s = theta0[0:(int(len(theta0)/2))], c = prem_in, v = theta0[(int(len(theta0)/2)):])\n",
      "  File \"C:\\Users\\zakst\\Documents\\NIH\\Git clone\\CovidEM\\Executables\\CovidEM2.py\", line 188, in scv_eig2\n",
      "    assert(sum((i > 0) for i in eig) >= len(eig)), eig #Assert positive\n",
      "AssertionError: [1.3897621756470832e-33, 1.2130482366789724e-33, 2.1339736613252058e-33, 3.34963833676732e-33, 1.2058881209517657e-32, 1.3657188158762557e-32, 1.480645083364231e-32, 1.4130342192588433e-32, 1.0526371345372143, -0.052637134537214345, 2.6363684275764393e-32, 2.746950089760744e-32, 2.1259596218811046e-32, 1.850695296297175e-32, 1.772441295859272e-32, 1.1259014111236875e-32]\n"
     ]
    },
    {
     "name": "stderr",
     "output_type": "stream",
     "text": [
      "C:\\Users\\zakst\\Documents\\NIH\\Git clone\\CovidEM\\Executables\\CovidEM2.py:172: UserWarning: Eigenvector contains both negative and positive elements\n",
      "  warnings.warn(\"Eigenvector contains both negative and positive elements\")\n"
     ]
    },
    {
     "name": "stdout",
     "output_type": "stream",
     "text": [
      "Traceback (most recent call last):\n",
      "  File \"C:\\Users\\zakst\\anaconda3\\lib\\site-packages\\ci_rvm\\ci_rvm.py\", line 805, in find_CI_bound\n",
      "    precise, fActual, JActual = test_precision()\n",
      "  File \"C:\\Users\\zakst\\anaconda3\\lib\\site-packages\\ci_rvm\\ci_rvm.py\", line 372, in test_precision\n",
      "    fActual = fun(xTmp)\n",
      "  File \"C:\\Users\\zakst\\anaconda3\\lib\\site-packages\\ci_rvm\\ci_rvm.py\", line 146, in __call__\n",
      "    return self.fun(*args, **kwargs)\n",
      "  File \"C:\\Users\\zakst\\Documents\\NIH\\Git clone\\CovidEM\\Executables\\CovidEM2.py\", line 293, in neg_Covid_KL2\n",
      "    return -1 * Covid_KL2(theta0, prem_global, cases_global, countries_global)\n",
      "  File \"C:\\Users\\zakst\\Documents\\NIH\\Git clone\\CovidEM\\Executables\\CovidEM2.py\", line 254, in Covid_KL2\n",
      "    res = Covid_KL_k2(theta0, prem_in[country_codes[i]], cases_in[country_codes[i]])\n",
      "  File \"C:\\Users\\zakst\\Documents\\NIH\\Git clone\\CovidEM\\Executables\\CovidEM2.py\", line 226, in Covid_KL_k2\n",
      "    u_tilda = scv_eig2(s = theta0[0:(int(len(theta0)/2))], c = prem_in, v = theta0[(int(len(theta0)/2)):])\n",
      "  File \"C:\\Users\\zakst\\Documents\\NIH\\Git clone\\CovidEM\\Executables\\CovidEM2.py\", line 188, in scv_eig2\n",
      "    assert(sum((i > 0) for i in eig) >= len(eig)), eig #Assert positive\n",
      "AssertionError: [6.962280454574413e-83, 6.076974784963886e-83, 1.0691916412562113e-82, 1.6782689254722625e-82, 6.041436119802473e-82, 6.84217348405934e-82, 7.418266467162044e-82, 7.079454117758776e-82, 1.0576761435154753, -0.05767614351547534, 1.3208712789270707e-81, 1.3762673164353332e-81, 1.0652206936042416e-81, 9.272930631901468e-82, 8.88017401746932e-82, 5.640961783632707e-82]\n"
     ]
    },
    {
     "name": "stderr",
     "output_type": "stream",
     "text": [
      "C:\\Users\\zakst\\Documents\\NIH\\Git clone\\CovidEM\\Executables\\CovidEM2.py:172: UserWarning: Eigenvector contains both negative and positive elements\n",
      "  warnings.warn(\"Eigenvector contains both negative and positive elements\")\n"
     ]
    },
    {
     "name": "stdout",
     "output_type": "stream",
     "text": [
      "Traceback (most recent call last):\n",
      "  File \"C:\\Users\\zakst\\anaconda3\\lib\\site-packages\\ci_rvm\\ci_rvm.py\", line 805, in find_CI_bound\n",
      "    precise, fActual, JActual = test_precision()\n",
      "  File \"C:\\Users\\zakst\\anaconda3\\lib\\site-packages\\ci_rvm\\ci_rvm.py\", line 372, in test_precision\n",
      "    fActual = fun(xTmp)\n",
      "  File \"C:\\Users\\zakst\\anaconda3\\lib\\site-packages\\ci_rvm\\ci_rvm.py\", line 146, in __call__\n",
      "    return self.fun(*args, **kwargs)\n",
      "  File \"C:\\Users\\zakst\\anaconda3\\lib\\site-packages\\ci_rvm\\ci_rvm.py\", line 246, in <lambda>\n",
      "    fun = lambda x: fun2(flip(x))\n",
      "  File \"C:\\Users\\zakst\\Documents\\NIH\\Git clone\\CovidEM\\Executables\\CovidEM2.py\", line 293, in neg_Covid_KL2\n",
      "    return -1 * Covid_KL2(theta0, prem_global, cases_global, countries_global)\n",
      "  File \"C:\\Users\\zakst\\Documents\\NIH\\Git clone\\CovidEM\\Executables\\CovidEM2.py\", line 254, in Covid_KL2\n",
      "    res = Covid_KL_k2(theta0, prem_in[country_codes[i]], cases_in[country_codes[i]])\n",
      "  File \"C:\\Users\\zakst\\Documents\\NIH\\Git clone\\CovidEM\\Executables\\CovidEM2.py\", line 226, in Covid_KL_k2\n",
      "    u_tilda = scv_eig2(s = theta0[0:(int(len(theta0)/2))], c = prem_in, v = theta0[(int(len(theta0)/2)):])\n",
      "  File \"C:\\Users\\zakst\\Documents\\NIH\\Git clone\\CovidEM\\Executables\\CovidEM2.py\", line 188, in scv_eig2\n",
      "    assert(sum((i > 0) for i in eig) >= len(eig)), eig #Assert positive\n",
      "AssertionError: [1.2840932566860354e-113, -0.021352885271641288, 1.0213528852716414, 4.328483885386967e-33, 2.061730783970412e-112, 5.461300375853085e-112, 8.189182003635813e-112, 7.57748629474031e-112, 5.926991427646865e-112, 4.992477805980915e-112, 4.280703539488698e-112, 7.952063124867789e-112, 6.415051784712197e-112, 4.079866700119513e-112, 1.813983796319152e-112, 3.128041881940333e-112]\n"
     ]
    },
    {
     "name": "stderr",
     "output_type": "stream",
     "text": [
      "C:\\Users\\zakst\\Documents\\NIH\\Git clone\\CovidEM\\Executables\\CovidEM2.py:239: RuntimeWarning: overflow encountered in exp\n",
      "  params[i] = np.exp(params_in[i])\n"
     ]
    },
    {
     "name": "stdout",
     "output_type": "stream",
     "text": [
      "Traceback (most recent call last):\n",
      "  File \"C:\\Users\\zakst\\anaconda3\\lib\\site-packages\\ci_rvm\\ci_rvm.py\", line 805, in find_CI_bound\n",
      "    precise, fActual, JActual = test_precision()\n",
      "  File \"C:\\Users\\zakst\\anaconda3\\lib\\site-packages\\ci_rvm\\ci_rvm.py\", line 372, in test_precision\n",
      "    fActual = fun(xTmp)\n",
      "  File \"C:\\Users\\zakst\\anaconda3\\lib\\site-packages\\ci_rvm\\ci_rvm.py\", line 146, in __call__\n",
      "    return self.fun(*args, **kwargs)\n",
      "  File \"C:\\Users\\zakst\\Documents\\NIH\\Git clone\\CovidEM\\Executables\\CovidEM2.py\", line 293, in neg_Covid_KL2\n",
      "    return -1 * Covid_KL2(theta0, prem_global, cases_global, countries_global)\n",
      "  File \"C:\\Users\\zakst\\Documents\\NIH\\Git clone\\CovidEM\\Executables\\CovidEM2.py\", line 254, in Covid_KL2\n",
      "    res = Covid_KL_k2(theta0, prem_in[country_codes[i]], cases_in[country_codes[i]])\n",
      "  File \"C:\\Users\\zakst\\Documents\\NIH\\Git clone\\CovidEM\\Executables\\CovidEM2.py\", line 226, in Covid_KL_k2\n",
      "    u_tilda = scv_eig2(s = theta0[0:(int(len(theta0)/2))], c = prem_in, v = theta0[(int(len(theta0)/2)):])\n",
      "  File \"C:\\Users\\zakst\\Documents\\NIH\\Git clone\\CovidEM\\Executables\\CovidEM2.py\", line 155, in scv_eig2\n",
      "    eigs = la.eig(builder)\n",
      "  File \"<__array_function__ internals>\", line 5, in eig\n",
      "  File \"C:\\Users\\zakst\\anaconda3\\lib\\site-packages\\numpy\\linalg\\linalg.py\", line 1317, in eig\n",
      "    _assert_finite(a)\n",
      "  File \"C:\\Users\\zakst\\anaconda3\\lib\\site-packages\\numpy\\linalg\\linalg.py\", line 208, in _assert_finite\n",
      "    raise LinAlgError(\"Array must not contain infs or NaNs\")\n",
      "numpy.linalg.LinAlgError: Array must not contain infs or NaNs\n"
     ]
    },
    {
     "name": "stderr",
     "output_type": "stream",
     "text": [
      "C:\\Users\\zakst\\Documents\\NIH\\Git clone\\CovidEM\\Executables\\CovidEM2.py:172: UserWarning: Eigenvector contains both negative and positive elements\n",
      "  warnings.warn(\"Eigenvector contains both negative and positive elements\")\n"
     ]
    },
    {
     "name": "stdout",
     "output_type": "stream",
     "text": [
      "Traceback (most recent call last):\n",
      "  File \"C:\\Users\\zakst\\anaconda3\\lib\\site-packages\\ci_rvm\\ci_rvm.py\", line 805, in find_CI_bound\n",
      "    precise, fActual, JActual = test_precision()\n",
      "  File \"C:\\Users\\zakst\\anaconda3\\lib\\site-packages\\ci_rvm\\ci_rvm.py\", line 372, in test_precision\n",
      "    fActual = fun(xTmp)\n",
      "  File \"C:\\Users\\zakst\\anaconda3\\lib\\site-packages\\ci_rvm\\ci_rvm.py\", line 146, in __call__\n",
      "    return self.fun(*args, **kwargs)\n",
      "  File \"C:\\Users\\zakst\\anaconda3\\lib\\site-packages\\ci_rvm\\ci_rvm.py\", line 246, in <lambda>\n",
      "    fun = lambda x: fun2(flip(x))\n",
      "  File \"C:\\Users\\zakst\\Documents\\NIH\\Git clone\\CovidEM\\Executables\\CovidEM2.py\", line 293, in neg_Covid_KL2\n",
      "    return -1 * Covid_KL2(theta0, prem_global, cases_global, countries_global)\n",
      "  File \"C:\\Users\\zakst\\Documents\\NIH\\Git clone\\CovidEM\\Executables\\CovidEM2.py\", line 254, in Covid_KL2\n",
      "    res = Covid_KL_k2(theta0, prem_in[country_codes[i]], cases_in[country_codes[i]])\n",
      "  File \"C:\\Users\\zakst\\Documents\\NIH\\Git clone\\CovidEM\\Executables\\CovidEM2.py\", line 226, in Covid_KL_k2\n",
      "    u_tilda = scv_eig2(s = theta0[0:(int(len(theta0)/2))], c = prem_in, v = theta0[(int(len(theta0)/2)):])\n",
      "  File \"C:\\Users\\zakst\\Documents\\NIH\\Git clone\\CovidEM\\Executables\\CovidEM2.py\", line 188, in scv_eig2\n",
      "    assert(sum((i > 0) for i in eig) >= len(eig)), eig #Assert positive\n",
      "AssertionError: [-1.8605271081961802e-07, -2.2624128478341394e-07, -3.5247684305480295e-07, -5.761782050130422e-07, -2.5107913134272878e-06, -2.359719984212922e-06, -2.2949636562191786e-06, -2.392188244964209e-06, 1.0276111813889204, -0.02758627233459959, -3.063726308792431e-06, -3.748195386455871e-06, -2.551056277882764e-06, -1.7427105316933662e-06, -1.6559908689177691e-06, -1.2487627047365416e-06]\n"
     ]
    },
    {
     "name": "stderr",
     "output_type": "stream",
     "text": [
      "C:\\Users\\zakst\\Documents\\NIH\\Git clone\\CovidEM\\Executables\\CovidEM2.py:172: UserWarning: Eigenvector contains both negative and positive elements\n",
      "  warnings.warn(\"Eigenvector contains both negative and positive elements\")\n"
     ]
    },
    {
     "name": "stdout",
     "output_type": "stream",
     "text": [
      "Traceback (most recent call last):\n",
      "  File \"C:\\Users\\zakst\\anaconda3\\lib\\site-packages\\ci_rvm\\ci_rvm.py\", line 805, in find_CI_bound\n",
      "    precise, fActual, JActual = test_precision()\n",
      "  File \"C:\\Users\\zakst\\anaconda3\\lib\\site-packages\\ci_rvm\\ci_rvm.py\", line 372, in test_precision\n",
      "    fActual = fun(xTmp)\n",
      "  File \"C:\\Users\\zakst\\anaconda3\\lib\\site-packages\\ci_rvm\\ci_rvm.py\", line 146, in __call__\n",
      "    return self.fun(*args, **kwargs)\n",
      "  File \"C:\\Users\\zakst\\Documents\\NIH\\Git clone\\CovidEM\\Executables\\CovidEM2.py\", line 293, in neg_Covid_KL2\n",
      "    return -1 * Covid_KL2(theta0, prem_global, cases_global, countries_global)\n",
      "  File \"C:\\Users\\zakst\\Documents\\NIH\\Git clone\\CovidEM\\Executables\\CovidEM2.py\", line 254, in Covid_KL2\n",
      "    res = Covid_KL_k2(theta0, prem_in[country_codes[i]], cases_in[country_codes[i]])\n",
      "  File \"C:\\Users\\zakst\\Documents\\NIH\\Git clone\\CovidEM\\Executables\\CovidEM2.py\", line 226, in Covid_KL_k2\n",
      "    u_tilda = scv_eig2(s = theta0[0:(int(len(theta0)/2))], c = prem_in, v = theta0[(int(len(theta0)/2)):])\n",
      "  File \"C:\\Users\\zakst\\Documents\\NIH\\Git clone\\CovidEM\\Executables\\CovidEM2.py\", line 188, in scv_eig2\n",
      "    assert(sum((i > 0) for i in eig) >= len(eig)), eig #Assert positive\n",
      "AssertionError: [4.3927699006605176e-10, 3.9893972153271776e-10, 5.402538630856964e-10, 5.41942265020637e-10, 1.7967817547903946e-09, 2.082219817650442e-09, 2.196114278891556e-09, 2.0973262877951526e-09, 1.0244136796430898, -0.02441370278263461, 2.7421434981404654e-09, 2.95794685415338e-09, 2.4333865037351036e-09, 1.621150825179111e-09, 1.8486483990784874e-09, 1.4434135987331295e-09]\n"
     ]
    },
    {
     "name": "stderr",
     "output_type": "stream",
     "text": [
      "C:\\Users\\zakst\\Documents\\NIH\\Git clone\\CovidEM\\Executables\\CovidEM2.py:239: RuntimeWarning: overflow encountered in exp\n",
      "  params[i] = np.exp(params_in[i])\n"
     ]
    },
    {
     "name": "stdout",
     "output_type": "stream",
     "text": [
      "Traceback (most recent call last):\n",
      "  File \"C:\\Users\\zakst\\anaconda3\\lib\\site-packages\\ci_rvm\\ci_rvm.py\", line 805, in find_CI_bound\n",
      "    precise, fActual, JActual = test_precision()\n",
      "  File \"C:\\Users\\zakst\\anaconda3\\lib\\site-packages\\ci_rvm\\ci_rvm.py\", line 372, in test_precision\n",
      "    fActual = fun(xTmp)\n",
      "  File \"C:\\Users\\zakst\\anaconda3\\lib\\site-packages\\ci_rvm\\ci_rvm.py\", line 146, in __call__\n",
      "    return self.fun(*args, **kwargs)\n",
      "  File \"C:\\Users\\zakst\\anaconda3\\lib\\site-packages\\ci_rvm\\ci_rvm.py\", line 246, in <lambda>\n",
      "    fun = lambda x: fun2(flip(x))\n",
      "  File \"C:\\Users\\zakst\\Documents\\NIH\\Git clone\\CovidEM\\Executables\\CovidEM2.py\", line 293, in neg_Covid_KL2\n",
      "    return -1 * Covid_KL2(theta0, prem_global, cases_global, countries_global)\n",
      "  File \"C:\\Users\\zakst\\Documents\\NIH\\Git clone\\CovidEM\\Executables\\CovidEM2.py\", line 254, in Covid_KL2\n",
      "    res = Covid_KL_k2(theta0, prem_in[country_codes[i]], cases_in[country_codes[i]])\n",
      "  File \"C:\\Users\\zakst\\Documents\\NIH\\Git clone\\CovidEM\\Executables\\CovidEM2.py\", line 226, in Covid_KL_k2\n",
      "    u_tilda = scv_eig2(s = theta0[0:(int(len(theta0)/2))], c = prem_in, v = theta0[(int(len(theta0)/2)):])\n",
      "  File \"C:\\Users\\zakst\\Documents\\NIH\\Git clone\\CovidEM\\Executables\\CovidEM2.py\", line 155, in scv_eig2\n",
      "    eigs = la.eig(builder)\n",
      "  File \"<__array_function__ internals>\", line 5, in eig\n",
      "  File \"C:\\Users\\zakst\\anaconda3\\lib\\site-packages\\numpy\\linalg\\linalg.py\", line 1317, in eig\n",
      "    _assert_finite(a)\n",
      "  File \"C:\\Users\\zakst\\anaconda3\\lib\\site-packages\\numpy\\linalg\\linalg.py\", line 208, in _assert_finite\n",
      "    raise LinAlgError(\"Array must not contain infs or NaNs\")\n",
      "numpy.linalg.LinAlgError: Array must not contain infs or NaNs\n"
     ]
    },
    {
     "name": "stderr",
     "output_type": "stream",
     "text": [
      "C:\\Users\\zakst\\Documents\\NIH\\Git clone\\CovidEM\\Executables\\CovidEM2.py:239: RuntimeWarning: overflow encountered in exp\n",
      "  params[i] = np.exp(params_in[i])\n"
     ]
    },
    {
     "name": "stdout",
     "output_type": "stream",
     "text": [
      "Traceback (most recent call last):\n",
      "  File \"C:\\Users\\zakst\\anaconda3\\lib\\site-packages\\ci_rvm\\ci_rvm.py\", line 805, in find_CI_bound\n",
      "    precise, fActual, JActual = test_precision()\n",
      "  File \"C:\\Users\\zakst\\anaconda3\\lib\\site-packages\\ci_rvm\\ci_rvm.py\", line 372, in test_precision\n",
      "    fActual = fun(xTmp)\n",
      "  File \"C:\\Users\\zakst\\anaconda3\\lib\\site-packages\\ci_rvm\\ci_rvm.py\", line 146, in __call__\n",
      "    return self.fun(*args, **kwargs)\n",
      "  File \"C:\\Users\\zakst\\Documents\\NIH\\Git clone\\CovidEM\\Executables\\CovidEM2.py\", line 293, in neg_Covid_KL2\n",
      "    return -1 * Covid_KL2(theta0, prem_global, cases_global, countries_global)\n",
      "  File \"C:\\Users\\zakst\\Documents\\NIH\\Git clone\\CovidEM\\Executables\\CovidEM2.py\", line 254, in Covid_KL2\n",
      "    res = Covid_KL_k2(theta0, prem_in[country_codes[i]], cases_in[country_codes[i]])\n",
      "  File \"C:\\Users\\zakst\\Documents\\NIH\\Git clone\\CovidEM\\Executables\\CovidEM2.py\", line 226, in Covid_KL_k2\n",
      "    u_tilda = scv_eig2(s = theta0[0:(int(len(theta0)/2))], c = prem_in, v = theta0[(int(len(theta0)/2)):])\n",
      "  File \"C:\\Users\\zakst\\Documents\\NIH\\Git clone\\CovidEM\\Executables\\CovidEM2.py\", line 155, in scv_eig2\n",
      "    eigs = la.eig(builder)\n",
      "  File \"<__array_function__ internals>\", line 5, in eig\n",
      "  File \"C:\\Users\\zakst\\anaconda3\\lib\\site-packages\\numpy\\linalg\\linalg.py\", line 1317, in eig\n",
      "    _assert_finite(a)\n",
      "  File \"C:\\Users\\zakst\\anaconda3\\lib\\site-packages\\numpy\\linalg\\linalg.py\", line 208, in _assert_finite\n",
      "    raise LinAlgError(\"Array must not contain infs or NaNs\")\n",
      "numpy.linalg.LinAlgError: Array must not contain infs or NaNs\n"
     ]
    },
    {
     "name": "stderr",
     "output_type": "stream",
     "text": [
      "C:\\Users\\zakst\\Documents\\NIH\\Git clone\\CovidEM\\Executables\\CovidEM2.py:239: RuntimeWarning: overflow encountered in exp\n",
      "  params[i] = np.exp(params_in[i])\n"
     ]
    },
    {
     "name": "stdout",
     "output_type": "stream",
     "text": [
      "Traceback (most recent call last):\n",
      "  File \"C:\\Users\\zakst\\anaconda3\\lib\\site-packages\\ci_rvm\\ci_rvm.py\", line 805, in find_CI_bound\n",
      "    precise, fActual, JActual = test_precision()\n",
      "  File \"C:\\Users\\zakst\\anaconda3\\lib\\site-packages\\ci_rvm\\ci_rvm.py\", line 372, in test_precision\n",
      "    fActual = fun(xTmp)\n",
      "  File \"C:\\Users\\zakst\\anaconda3\\lib\\site-packages\\ci_rvm\\ci_rvm.py\", line 146, in __call__\n",
      "    return self.fun(*args, **kwargs)\n",
      "  File \"C:\\Users\\zakst\\anaconda3\\lib\\site-packages\\ci_rvm\\ci_rvm.py\", line 246, in <lambda>\n",
      "    fun = lambda x: fun2(flip(x))\n",
      "  File \"C:\\Users\\zakst\\Documents\\NIH\\Git clone\\CovidEM\\Executables\\CovidEM2.py\", line 293, in neg_Covid_KL2\n",
      "    return -1 * Covid_KL2(theta0, prem_global, cases_global, countries_global)\n",
      "  File \"C:\\Users\\zakst\\Documents\\NIH\\Git clone\\CovidEM\\Executables\\CovidEM2.py\", line 254, in Covid_KL2\n",
      "    res = Covid_KL_k2(theta0, prem_in[country_codes[i]], cases_in[country_codes[i]])\n",
      "  File \"C:\\Users\\zakst\\Documents\\NIH\\Git clone\\CovidEM\\Executables\\CovidEM2.py\", line 226, in Covid_KL_k2\n",
      "    u_tilda = scv_eig2(s = theta0[0:(int(len(theta0)/2))], c = prem_in, v = theta0[(int(len(theta0)/2)):])\n",
      "  File \"C:\\Users\\zakst\\Documents\\NIH\\Git clone\\CovidEM\\Executables\\CovidEM2.py\", line 155, in scv_eig2\n",
      "    eigs = la.eig(builder)\n",
      "  File \"<__array_function__ internals>\", line 5, in eig\n",
      "  File \"C:\\Users\\zakst\\anaconda3\\lib\\site-packages\\numpy\\linalg\\linalg.py\", line 1317, in eig\n",
      "    _assert_finite(a)\n",
      "  File \"C:\\Users\\zakst\\anaconda3\\lib\\site-packages\\numpy\\linalg\\linalg.py\", line 208, in _assert_finite\n",
      "    raise LinAlgError(\"Array must not contain infs or NaNs\")\n",
      "numpy.linalg.LinAlgError: Array must not contain infs or NaNs\n"
     ]
    },
    {
     "name": "stderr",
     "output_type": "stream",
     "text": [
      "C:\\Users\\zakst\\Documents\\NIH\\Git clone\\CovidEM\\Executables\\CovidEM2.py:172: UserWarning: Eigenvector contains both negative and positive elements\n",
      "  warnings.warn(\"Eigenvector contains both negative and positive elements\")\n"
     ]
    },
    {
     "name": "stdout",
     "output_type": "stream",
     "text": [
      "Traceback (most recent call last):\n",
      "  File \"C:\\Users\\zakst\\anaconda3\\lib\\site-packages\\ci_rvm\\ci_rvm.py\", line 805, in find_CI_bound\n",
      "    precise, fActual, JActual = test_precision()\n",
      "  File \"C:\\Users\\zakst\\anaconda3\\lib\\site-packages\\ci_rvm\\ci_rvm.py\", line 372, in test_precision\n",
      "    fActual = fun(xTmp)\n",
      "  File \"C:\\Users\\zakst\\anaconda3\\lib\\site-packages\\ci_rvm\\ci_rvm.py\", line 146, in __call__\n",
      "    return self.fun(*args, **kwargs)\n",
      "  File \"C:\\Users\\zakst\\Documents\\NIH\\Git clone\\CovidEM\\Executables\\CovidEM2.py\", line 293, in neg_Covid_KL2\n",
      "    return -1 * Covid_KL2(theta0, prem_global, cases_global, countries_global)\n",
      "  File \"C:\\Users\\zakst\\Documents\\NIH\\Git clone\\CovidEM\\Executables\\CovidEM2.py\", line 254, in Covid_KL2\n",
      "    res = Covid_KL_k2(theta0, prem_in[country_codes[i]], cases_in[country_codes[i]])\n",
      "  File \"C:\\Users\\zakst\\Documents\\NIH\\Git clone\\CovidEM\\Executables\\CovidEM2.py\", line 226, in Covid_KL_k2\n",
      "    u_tilda = scv_eig2(s = theta0[0:(int(len(theta0)/2))], c = prem_in, v = theta0[(int(len(theta0)/2)):])\n",
      "  File \"C:\\Users\\zakst\\Documents\\NIH\\Git clone\\CovidEM\\Executables\\CovidEM2.py\", line 188, in scv_eig2\n",
      "    assert(sum((i > 0) for i in eig) >= len(eig)), eig #Assert positive\n",
      "AssertionError: [9.64689863800527e-08, 1.0131434261170065, -0.01316933139982741, 6.396935534499643e-07, 1.4143168536102258e-06, 1.4753145460308279e-06, 1.862923141669878e-06, 2.370655407082191e-06, 4.453262780241014e-06, 3.7511131686217077e-06, 3.544448072639726e-06, 2.179533977560319e-06, 1.225971118027672e-06, 1.0011925448955007e-06, 1.0776756405097362e-06, 8.127130299003807e-07]\n"
     ]
    },
    {
     "name": "stderr",
     "output_type": "stream",
     "text": [
      "C:\\Users\\zakst\\Documents\\NIH\\Git clone\\CovidEM\\Executables\\CovidEM2.py:172: UserWarning: Eigenvector contains both negative and positive elements\n",
      "  warnings.warn(\"Eigenvector contains both negative and positive elements\")\n"
     ]
    },
    {
     "name": "stdout",
     "output_type": "stream",
     "text": [
      "Traceback (most recent call last):\n",
      "  File \"C:\\Users\\zakst\\anaconda3\\lib\\site-packages\\ci_rvm\\ci_rvm.py\", line 805, in find_CI_bound\n",
      "    precise, fActual, JActual = test_precision()\n",
      "  File \"C:\\Users\\zakst\\anaconda3\\lib\\site-packages\\ci_rvm\\ci_rvm.py\", line 372, in test_precision\n",
      "    fActual = fun(xTmp)\n",
      "  File \"C:\\Users\\zakst\\anaconda3\\lib\\site-packages\\ci_rvm\\ci_rvm.py\", line 146, in __call__\n",
      "    return self.fun(*args, **kwargs)\n",
      "  File \"C:\\Users\\zakst\\anaconda3\\lib\\site-packages\\ci_rvm\\ci_rvm.py\", line 246, in <lambda>\n",
      "    fun = lambda x: fun2(flip(x))\n",
      "  File \"C:\\Users\\zakst\\Documents\\NIH\\Git clone\\CovidEM\\Executables\\CovidEM2.py\", line 293, in neg_Covid_KL2\n",
      "    return -1 * Covid_KL2(theta0, prem_global, cases_global, countries_global)\n",
      "  File \"C:\\Users\\zakst\\Documents\\NIH\\Git clone\\CovidEM\\Executables\\CovidEM2.py\", line 254, in Covid_KL2\n",
      "    res = Covid_KL_k2(theta0, prem_in[country_codes[i]], cases_in[country_codes[i]])\n",
      "  File \"C:\\Users\\zakst\\Documents\\NIH\\Git clone\\CovidEM\\Executables\\CovidEM2.py\", line 226, in Covid_KL_k2\n",
      "    u_tilda = scv_eig2(s = theta0[0:(int(len(theta0)/2))], c = prem_in, v = theta0[(int(len(theta0)/2)):])\n",
      "  File \"C:\\Users\\zakst\\Documents\\NIH\\Git clone\\CovidEM\\Executables\\CovidEM2.py\", line 188, in scv_eig2\n",
      "    assert(sum((i > 0) for i in eig) >= len(eig)), eig #Assert positive\n",
      "AssertionError: [-2.546996708370971e-10, -2.2233225166788823e-10, -3.9056156292340886e-10, -6.138216061747571e-10, -2.2099620522806837e-09, -2.5020259680833736e-09, -2.7126818250920358e-09, -2.5891997491519645e-09, 1.01932890553183, -0.019328871574180437, -4.8310030131676645e-09, -5.0333534121438895e-09, -3.8957937495555155e-09, -3.391412109153878e-09, -3.247712461925508e-09, -2.0630899726175426e-09]\n"
     ]
    },
    {
     "name": "stderr",
     "output_type": "stream",
     "text": [
      "C:\\Users\\zakst\\Documents\\NIH\\Git clone\\CovidEM\\Executables\\CovidEM2.py:239: RuntimeWarning: overflow encountered in exp\n",
      "  params[i] = np.exp(params_in[i])\n",
      "C:\\Users\\zakst\\Documents\\NIH\\Git clone\\CovidEM\\Executables\\CovidEM2.py:139: RuntimeWarning: invalid value encountered in matmul\n",
      "  builder = np.matmul(np.matmul(s,c),v)\n"
     ]
    },
    {
     "name": "stdout",
     "output_type": "stream",
     "text": [
      "Traceback (most recent call last):\n",
      "  File \"C:\\Users\\zakst\\anaconda3\\lib\\site-packages\\ci_rvm\\ci_rvm.py\", line 805, in find_CI_bound\n",
      "    precise, fActual, JActual = test_precision()\n",
      "  File \"C:\\Users\\zakst\\anaconda3\\lib\\site-packages\\ci_rvm\\ci_rvm.py\", line 372, in test_precision\n",
      "    fActual = fun(xTmp)\n",
      "  File \"C:\\Users\\zakst\\anaconda3\\lib\\site-packages\\ci_rvm\\ci_rvm.py\", line 146, in __call__\n",
      "    return self.fun(*args, **kwargs)\n",
      "  File \"C:\\Users\\zakst\\Documents\\NIH\\Git clone\\CovidEM\\Executables\\CovidEM2.py\", line 293, in neg_Covid_KL2\n",
      "    return -1 * Covid_KL2(theta0, prem_global, cases_global, countries_global)\n",
      "  File \"C:\\Users\\zakst\\Documents\\NIH\\Git clone\\CovidEM\\Executables\\CovidEM2.py\", line 254, in Covid_KL2\n",
      "    res = Covid_KL_k2(theta0, prem_in[country_codes[i]], cases_in[country_codes[i]])\n",
      "  File \"C:\\Users\\zakst\\Documents\\NIH\\Git clone\\CovidEM\\Executables\\CovidEM2.py\", line 226, in Covid_KL_k2\n",
      "    u_tilda = scv_eig2(s = theta0[0:(int(len(theta0)/2))], c = prem_in, v = theta0[(int(len(theta0)/2)):])\n",
      "  File \"C:\\Users\\zakst\\Documents\\NIH\\Git clone\\CovidEM\\Executables\\CovidEM2.py\", line 150, in scv_eig2\n",
      "    else: assert(False), \"Unknown number detected in SCV: (%f)\" % builder[i,j]\n",
      "AssertionError: Unknown number detected in SCV: (nan)\n"
     ]
    },
    {
     "name": "stderr",
     "output_type": "stream",
     "text": [
      "C:\\Users\\zakst\\Documents\\NIH\\Git clone\\CovidEM\\Executables\\CovidEM2.py:172: UserWarning: Eigenvector contains both negative and positive elements\n",
      "  warnings.warn(\"Eigenvector contains both negative and positive elements\")\n"
     ]
    },
    {
     "name": "stdout",
     "output_type": "stream",
     "text": [
      "Traceback (most recent call last):\n",
      "  File \"C:\\Users\\zakst\\anaconda3\\lib\\site-packages\\ci_rvm\\ci_rvm.py\", line 805, in find_CI_bound\n",
      "    precise, fActual, JActual = test_precision()\n",
      "  File \"C:\\Users\\zakst\\anaconda3\\lib\\site-packages\\ci_rvm\\ci_rvm.py\", line 372, in test_precision\n",
      "    fActual = fun(xTmp)\n",
      "  File \"C:\\Users\\zakst\\anaconda3\\lib\\site-packages\\ci_rvm\\ci_rvm.py\", line 146, in __call__\n",
      "    return self.fun(*args, **kwargs)\n",
      "  File \"C:\\Users\\zakst\\anaconda3\\lib\\site-packages\\ci_rvm\\ci_rvm.py\", line 246, in <lambda>\n",
      "    fun = lambda x: fun2(flip(x))\n",
      "  File \"C:\\Users\\zakst\\Documents\\NIH\\Git clone\\CovidEM\\Executables\\CovidEM2.py\", line 293, in neg_Covid_KL2\n",
      "    return -1 * Covid_KL2(theta0, prem_global, cases_global, countries_global)\n",
      "  File \"C:\\Users\\zakst\\Documents\\NIH\\Git clone\\CovidEM\\Executables\\CovidEM2.py\", line 254, in Covid_KL2\n",
      "    res = Covid_KL_k2(theta0, prem_in[country_codes[i]], cases_in[country_codes[i]])\n",
      "  File \"C:\\Users\\zakst\\Documents\\NIH\\Git clone\\CovidEM\\Executables\\CovidEM2.py\", line 226, in Covid_KL_k2\n",
      "    u_tilda = scv_eig2(s = theta0[0:(int(len(theta0)/2))], c = prem_in, v = theta0[(int(len(theta0)/2)):])\n",
      "  File \"C:\\Users\\zakst\\Documents\\NIH\\Git clone\\CovidEM\\Executables\\CovidEM2.py\", line 188, in scv_eig2\n",
      "    assert(sum((i > 0) for i in eig) >= len(eig)), eig #Assert positive\n",
      "AssertionError: [-3.752849527307318e-33, -3.275630783138253e-33, -5.762104992171212e-33, -9.044905792151984e-33, -3.2560102850104896e-32, -3.6874744790546825e-32, -3.998025686274197e-32, -3.8153820282513464e-32, 1.4852932205633897, -0.4852932205633895, -7.11827215031493e-32, -7.416845645493912e-32, -5.741079771577237e-32, -4.997824958469448e-32, -4.7862535551612963e-32, -3.0401901626086634e-32]\n"
     ]
    },
    {
     "name": "stderr",
     "output_type": "stream",
     "text": [
      "C:\\Users\\zakst\\Documents\\NIH\\Git clone\\CovidEM\\Executables\\CovidEM2.py:172: UserWarning: Eigenvector contains both negative and positive elements\n",
      "  warnings.warn(\"Eigenvector contains both negative and positive elements\")\n"
     ]
    },
    {
     "name": "stdout",
     "output_type": "stream",
     "text": [
      "Traceback (most recent call last):\n",
      "  File \"C:\\Users\\zakst\\anaconda3\\lib\\site-packages\\ci_rvm\\ci_rvm.py\", line 1214, in find_CI_bound\n",
      "    H = hess(x)\n",
      "  File \"C:\\Users\\zakst\\anaconda3\\lib\\site-packages\\ci_rvm\\ci_rvm.py\", line 146, in __call__\n",
      "    return self.fun(*args, **kwargs)\n",
      "  File \"C:\\Users\\zakst\\anaconda3\\lib\\site-packages\\ci_rvm\\ci_rvm.py\", line 255, in <lambda>\n",
      "    hess = lambda x: np.asarray(hess2(x))\n",
      "  File \"C:\\Users\\zakst\\anaconda3\\lib\\site-packages\\numdifftools\\core.py\", line 538, in __call__\n",
      "    return super(Hessdiag, self).__call__(np.atleast_1d(x), *args, **kwds)\n",
      "  File \"C:\\Users\\zakst\\anaconda3\\lib\\site-packages\\numdifftools\\core.py\", line 288, in __call__\n",
      "    results, f_xi = self._derivative(x_i, args, kwds)\n",
      "  File \"C:\\Users\\zakst\\anaconda3\\lib\\site-packages\\numdifftools\\core.py\", line 238, in _derivative_nonzero_order\n",
      "    results = [diff(f, fxi, x_i, h) for h in steps]\n",
      "  File \"C:\\Users\\zakst\\anaconda3\\lib\\site-packages\\numdifftools\\core.py\", line 238, in <listcomp>\n",
      "    results = [diff(f, fxi, x_i, h) for h in steps]\n",
      "  File \"C:\\Users\\zakst\\anaconda3\\lib\\site-packages\\numdifftools\\finite_difference.py\", line 282, in _central_even\n",
      "    hess[i, i] = (f(x + 2 * e_i) - 2 * f_x + f(x - 2 * e_i)) / (4. * hess[i, i])\n",
      "  File \"C:\\Users\\zakst\\anaconda3\\lib\\site-packages\\numdifftools\\core.py\", line 257, in export_fun\n",
      "    return fun(x, *args, **kwds)\n",
      "  File \"C:\\Users\\zakst\\Documents\\NIH\\Git clone\\CovidEM\\Executables\\CovidEM2.py\", line 293, in neg_Covid_KL2\n",
      "    return -1 * Covid_KL2(theta0, prem_global, cases_global, countries_global)\n",
      "  File \"C:\\Users\\zakst\\Documents\\NIH\\Git clone\\CovidEM\\Executables\\CovidEM2.py\", line 254, in Covid_KL2\n",
      "    res = Covid_KL_k2(theta0, prem_in[country_codes[i]], cases_in[country_codes[i]])\n",
      "  File \"C:\\Users\\zakst\\Documents\\NIH\\Git clone\\CovidEM\\Executables\\CovidEM2.py\", line 226, in Covid_KL_k2\n",
      "    u_tilda = scv_eig2(s = theta0[0:(int(len(theta0)/2))], c = prem_in, v = theta0[(int(len(theta0)/2)):])\n",
      "  File \"C:\\Users\\zakst\\Documents\\NIH\\Git clone\\CovidEM\\Executables\\CovidEM2.py\", line 188, in scv_eig2\n",
      "    assert(sum((i > 0) for i in eig) >= len(eig)), eig #Assert positive\n",
      "AssertionError: [0.006318946987376986, 0.008971519611670987, 0.008999123881659753, 0.019186007854168807, 0.040811882625626246, 0.04863326903260445, 0.08562425931601723, 0.05998733407081287, -0.0694093412645513, 0.09016306152399653, 0.07237198327420144, 0.15291555276893884, 0.15097074998552013, 0.09513584197312226, 0.1601723173739655, 0.06914749098486923]\n"
     ]
    },
    {
     "name": "stderr",
     "output_type": "stream",
     "text": [
      "C:\\Users\\zakst\\Documents\\NIH\\Git clone\\CovidEM\\Executables\\CovidEM2.py:172: UserWarning: Eigenvector contains both negative and positive elements\n",
      "  warnings.warn(\"Eigenvector contains both negative and positive elements\")\n"
     ]
    },
    {
     "name": "stdout",
     "output_type": "stream",
     "text": [
      "Traceback (most recent call last):\n",
      "  File \"C:\\Users\\zakst\\anaconda3\\lib\\site-packages\\ci_rvm\\ci_rvm.py\", line 805, in find_CI_bound\n",
      "    precise, fActual, JActual = test_precision()\n",
      "  File \"C:\\Users\\zakst\\anaconda3\\lib\\site-packages\\ci_rvm\\ci_rvm.py\", line 372, in test_precision\n",
      "    fActual = fun(xTmp)\n",
      "  File \"C:\\Users\\zakst\\anaconda3\\lib\\site-packages\\ci_rvm\\ci_rvm.py\", line 146, in __call__\n",
      "    return self.fun(*args, **kwargs)\n",
      "  File \"C:\\Users\\zakst\\anaconda3\\lib\\site-packages\\ci_rvm\\ci_rvm.py\", line 246, in <lambda>\n",
      "    fun = lambda x: fun2(flip(x))\n",
      "  File \"C:\\Users\\zakst\\Documents\\NIH\\Git clone\\CovidEM\\Executables\\CovidEM2.py\", line 293, in neg_Covid_KL2\n",
      "    return -1 * Covid_KL2(theta0, prem_global, cases_global, countries_global)\n",
      "  File \"C:\\Users\\zakst\\Documents\\NIH\\Git clone\\CovidEM\\Executables\\CovidEM2.py\", line 254, in Covid_KL2\n",
      "    res = Covid_KL_k2(theta0, prem_in[country_codes[i]], cases_in[country_codes[i]])\n",
      "  File \"C:\\Users\\zakst\\Documents\\NIH\\Git clone\\CovidEM\\Executables\\CovidEM2.py\", line 226, in Covid_KL_k2\n",
      "    u_tilda = scv_eig2(s = theta0[0:(int(len(theta0)/2))], c = prem_in, v = theta0[(int(len(theta0)/2)):])\n",
      "  File \"C:\\Users\\zakst\\Documents\\NIH\\Git clone\\CovidEM\\Executables\\CovidEM2.py\", line 188, in scv_eig2\n",
      "    assert(sum((i > 0) for i in eig) >= len(eig)), eig #Assert positive\n",
      "AssertionError: [-9.943032287093549e-11, 1.000000020578925, -6.723542238166244e-10, -6.474401831437309e-10, -1.2840394295456855e-09, -8.431449397404558e-10, -1.0027483045062655e-09, -1.7646919590732846e-09, -4.768598306510618e-09, -3.545229866106373e-09, -2.9402798450981604e-09, -1.1496310711130018e-09, -1.9458649417655997e-10, -2.9803561845842306e-10, -9.917034525249722e-10, -3.7701112006725733e-10]\n"
     ]
    },
    {
     "name": "stderr",
     "output_type": "stream",
     "text": [
      "C:\\Users\\zakst\\Documents\\NIH\\Git clone\\CovidEM\\Executables\\CovidEM2.py:172: UserWarning: Eigenvector contains both negative and positive elements\n",
      "  warnings.warn(\"Eigenvector contains both negative and positive elements\")\n"
     ]
    },
    {
     "name": "stdout",
     "output_type": "stream",
     "text": [
      "Traceback (most recent call last):\n",
      "  File \"C:\\Users\\zakst\\anaconda3\\lib\\site-packages\\ci_rvm\\ci_rvm.py\", line 805, in find_CI_bound\n",
      "    precise, fActual, JActual = test_precision()\n",
      "  File \"C:\\Users\\zakst\\anaconda3\\lib\\site-packages\\ci_rvm\\ci_rvm.py\", line 372, in test_precision\n",
      "    fActual = fun(xTmp)\n",
      "  File \"C:\\Users\\zakst\\anaconda3\\lib\\site-packages\\ci_rvm\\ci_rvm.py\", line 146, in __call__\n",
      "    return self.fun(*args, **kwargs)\n",
      "  File \"C:\\Users\\zakst\\Documents\\NIH\\Git clone\\CovidEM\\Executables\\CovidEM2.py\", line 293, in neg_Covid_KL2\n",
      "    return -1 * Covid_KL2(theta0, prem_global, cases_global, countries_global)\n",
      "  File \"C:\\Users\\zakst\\Documents\\NIH\\Git clone\\CovidEM\\Executables\\CovidEM2.py\", line 254, in Covid_KL2\n",
      "    res = Covid_KL_k2(theta0, prem_in[country_codes[i]], cases_in[country_codes[i]])\n",
      "  File \"C:\\Users\\zakst\\Documents\\NIH\\Git clone\\CovidEM\\Executables\\CovidEM2.py\", line 226, in Covid_KL_k2\n",
      "    u_tilda = scv_eig2(s = theta0[0:(int(len(theta0)/2))], c = prem_in, v = theta0[(int(len(theta0)/2)):])\n",
      "  File \"C:\\Users\\zakst\\Documents\\NIH\\Git clone\\CovidEM\\Executables\\CovidEM2.py\", line 188, in scv_eig2\n",
      "    assert(sum((i > 0) for i in eig) >= len(eig)), eig #Assert positive\n",
      "AssertionError: [2.9286801919541803e-07, -0.024855741899807694, 1.0247134105860844, 1.4134963117286529e-06, 6.910937091728563e-06, 1.1301595984667556e-05, 1.3379657572020854e-05, 1.4987242480723457e-05, 1.404572053804652e-05, 1.044233645649711e-05, 8.941451599480806e-06, 1.9096321912631247e-05, 1.7274249295282125e-05, 1.0143789464751616e-05, 5.161959529811867e-06, 8.93968746691475e-06]\n"
     ]
    },
    {
     "name": "stderr",
     "output_type": "stream",
     "text": [
      "C:\\Users\\zakst\\Documents\\NIH\\Git clone\\CovidEM\\Executables\\CovidEM2.py:172: UserWarning: Eigenvector contains both negative and positive elements\n",
      "  warnings.warn(\"Eigenvector contains both negative and positive elements\")\n"
     ]
    },
    {
     "name": "stdout",
     "output_type": "stream",
     "text": [
      "Traceback (most recent call last):\n",
      "  File \"C:\\Users\\zakst\\anaconda3\\lib\\site-packages\\ci_rvm\\ci_rvm.py\", line 805, in find_CI_bound\n",
      "    precise, fActual, JActual = test_precision()\n",
      "  File \"C:\\Users\\zakst\\anaconda3\\lib\\site-packages\\ci_rvm\\ci_rvm.py\", line 372, in test_precision\n",
      "    fActual = fun(xTmp)\n",
      "  File \"C:\\Users\\zakst\\anaconda3\\lib\\site-packages\\ci_rvm\\ci_rvm.py\", line 146, in __call__\n",
      "    return self.fun(*args, **kwargs)\n",
      "  File \"C:\\Users\\zakst\\anaconda3\\lib\\site-packages\\ci_rvm\\ci_rvm.py\", line 246, in <lambda>\n",
      "    fun = lambda x: fun2(flip(x))\n",
      "  File \"C:\\Users\\zakst\\Documents\\NIH\\Git clone\\CovidEM\\Executables\\CovidEM2.py\", line 293, in neg_Covid_KL2\n",
      "    return -1 * Covid_KL2(theta0, prem_global, cases_global, countries_global)\n",
      "  File \"C:\\Users\\zakst\\Documents\\NIH\\Git clone\\CovidEM\\Executables\\CovidEM2.py\", line 254, in Covid_KL2\n",
      "    res = Covid_KL_k2(theta0, prem_in[country_codes[i]], cases_in[country_codes[i]])\n",
      "  File \"C:\\Users\\zakst\\Documents\\NIH\\Git clone\\CovidEM\\Executables\\CovidEM2.py\", line 226, in Covid_KL_k2\n",
      "    u_tilda = scv_eig2(s = theta0[0:(int(len(theta0)/2))], c = prem_in, v = theta0[(int(len(theta0)/2)):])\n",
      "  File \"C:\\Users\\zakst\\Documents\\NIH\\Git clone\\CovidEM\\Executables\\CovidEM2.py\", line 188, in scv_eig2\n",
      "    assert(sum((i > 0) for i in eig) >= len(eig)), eig #Assert positive\n",
      "AssertionError: [6.875910975450635e-83, 0.0097486866274348, 0.9902513133725651, -5.0704934680930754e-33, -9.21575179740427e-33, 5.458366851956921e-65, -3.484236366144279e-65, 4.0579157534353037e-81, 3.1740729619258945e-81, 2.6736142628892758e-81, 2.2924448135305744e-81, 4.258567709561199e-81, 3.435483960585023e-81, 2.1849109064073376e-81, 9.714613143091603e-82, 1.6751922944460597e-81]\n"
     ]
    },
    {
     "name": "stderr",
     "output_type": "stream",
     "text": [
      "C:\\Users\\zakst\\Documents\\NIH\\Git clone\\CovidEM\\Executables\\CovidEM2.py:172: UserWarning: Eigenvector contains both negative and positive elements\n",
      "  warnings.warn(\"Eigenvector contains both negative and positive elements\")\n"
     ]
    },
    {
     "name": "stdout",
     "output_type": "stream",
     "text": [
      "Traceback (most recent call last):\n",
      "  File \"C:\\Users\\zakst\\anaconda3\\lib\\site-packages\\ci_rvm\\ci_rvm.py\", line 805, in find_CI_bound\n",
      "    precise, fActual, JActual = test_precision()\n",
      "  File \"C:\\Users\\zakst\\anaconda3\\lib\\site-packages\\ci_rvm\\ci_rvm.py\", line 372, in test_precision\n",
      "    fActual = fun(xTmp)\n",
      "  File \"C:\\Users\\zakst\\anaconda3\\lib\\site-packages\\ci_rvm\\ci_rvm.py\", line 146, in __call__\n",
      "    return self.fun(*args, **kwargs)\n",
      "  File \"C:\\Users\\zakst\\Documents\\NIH\\Git clone\\CovidEM\\Executables\\CovidEM2.py\", line 293, in neg_Covid_KL2\n",
      "    return -1 * Covid_KL2(theta0, prem_global, cases_global, countries_global)\n",
      "  File \"C:\\Users\\zakst\\Documents\\NIH\\Git clone\\CovidEM\\Executables\\CovidEM2.py\", line 254, in Covid_KL2\n",
      "    res = Covid_KL_k2(theta0, prem_in[country_codes[i]], cases_in[country_codes[i]])\n",
      "  File \"C:\\Users\\zakst\\Documents\\NIH\\Git clone\\CovidEM\\Executables\\CovidEM2.py\", line 226, in Covid_KL_k2\n",
      "    u_tilda = scv_eig2(s = theta0[0:(int(len(theta0)/2))], c = prem_in, v = theta0[(int(len(theta0)/2)):])\n",
      "  File \"C:\\Users\\zakst\\Documents\\NIH\\Git clone\\CovidEM\\Executables\\CovidEM2.py\", line 188, in scv_eig2\n",
      "    assert(sum((i > 0) for i in eig) >= len(eig)), eig #Assert positive\n",
      "AssertionError: [1.6042273886763235e-07, -0.13310783433794957, 1.133029579074629, 7.804872079694701e-07, 2.57588437195147e-06, 6.823237251956626e-06, 1.0231891283547057e-05, 9.467614217870383e-06, 7.405534145932115e-06, 6.2378974756976336e-06, 5.348539259836153e-06, 9.935731691695452e-06, 8.015392824926134e-06, 5.097657099623885e-06, 2.266540697177992e-06, 3.908433053416105e-06]\n",
      "\n",
      "\n",
      "\n",
      "Done a2\n",
      "\n",
      "\n"
     ]
    },
    {
     "name": "stderr",
     "output_type": "stream",
     "text": [
      "C:\\Users\\zakst\\Documents\\NIH\\Git clone\\CovidEM\\Executables\\CovidEM2.py:239: RuntimeWarning: overflow encountered in exp\n",
      "  params[i] = np.exp(params_in[i])\n"
     ]
    },
    {
     "name": "stdout",
     "output_type": "stream",
     "text": [
      "Traceback (most recent call last):\n",
      "  File \"C:\\Users\\zakst\\anaconda3\\lib\\site-packages\\ci_rvm\\ci_rvm.py\", line 805, in find_CI_bound\n",
      "    precise, fActual, JActual = test_precision()\n",
      "  File \"C:\\Users\\zakst\\anaconda3\\lib\\site-packages\\ci_rvm\\ci_rvm.py\", line 372, in test_precision\n",
      "    fActual = fun(xTmp)\n",
      "  File \"C:\\Users\\zakst\\anaconda3\\lib\\site-packages\\ci_rvm\\ci_rvm.py\", line 146, in __call__\n",
      "    return self.fun(*args, **kwargs)\n",
      "  File \"C:\\Users\\zakst\\anaconda3\\lib\\site-packages\\ci_rvm\\ci_rvm.py\", line 246, in <lambda>\n",
      "    fun = lambda x: fun2(flip(x))\n",
      "  File \"C:\\Users\\zakst\\Documents\\NIH\\Git clone\\CovidEM\\Executables\\CovidEM2.py\", line 293, in neg_Covid_KL2\n",
      "    return -1 * Covid_KL2(theta0, prem_global, cases_global, countries_global)\n",
      "  File \"C:\\Users\\zakst\\Documents\\NIH\\Git clone\\CovidEM\\Executables\\CovidEM2.py\", line 254, in Covid_KL2\n",
      "    res = Covid_KL_k2(theta0, prem_in[country_codes[i]], cases_in[country_codes[i]])\n",
      "  File \"C:\\Users\\zakst\\Documents\\NIH\\Git clone\\CovidEM\\Executables\\CovidEM2.py\", line 226, in Covid_KL_k2\n",
      "    u_tilda = scv_eig2(s = theta0[0:(int(len(theta0)/2))], c = prem_in, v = theta0[(int(len(theta0)/2)):])\n",
      "  File \"C:\\Users\\zakst\\Documents\\NIH\\Git clone\\CovidEM\\Executables\\CovidEM2.py\", line 155, in scv_eig2\n",
      "    eigs = la.eig(builder)\n",
      "  File \"<__array_function__ internals>\", line 5, in eig\n",
      "  File \"C:\\Users\\zakst\\anaconda3\\lib\\site-packages\\numpy\\linalg\\linalg.py\", line 1317, in eig\n",
      "    _assert_finite(a)\n",
      "  File \"C:\\Users\\zakst\\anaconda3\\lib\\site-packages\\numpy\\linalg\\linalg.py\", line 208, in _assert_finite\n",
      "    raise LinAlgError(\"Array must not contain infs or NaNs\")\n",
      "numpy.linalg.LinAlgError: Array must not contain infs or NaNs\n"
     ]
    },
    {
     "name": "stderr",
     "output_type": "stream",
     "text": [
      "C:\\Users\\zakst\\Documents\\NIH\\Git clone\\CovidEM\\Executables\\CovidEM2.py:172: UserWarning: Eigenvector contains both negative and positive elements\n",
      "  warnings.warn(\"Eigenvector contains both negative and positive elements\")\n"
     ]
    },
    {
     "name": "stdout",
     "output_type": "stream",
     "text": [
      "Traceback (most recent call last):\n",
      "  File \"C:\\Users\\zakst\\anaconda3\\lib\\site-packages\\ci_rvm\\ci_rvm.py\", line 805, in find_CI_bound\n",
      "    precise, fActual, JActual = test_precision()\n",
      "  File \"C:\\Users\\zakst\\anaconda3\\lib\\site-packages\\ci_rvm\\ci_rvm.py\", line 372, in test_precision\n",
      "    fActual = fun(xTmp)\n",
      "  File \"C:\\Users\\zakst\\anaconda3\\lib\\site-packages\\ci_rvm\\ci_rvm.py\", line 146, in __call__\n",
      "    return self.fun(*args, **kwargs)\n",
      "  File \"C:\\Users\\zakst\\Documents\\NIH\\Git clone\\CovidEM\\Executables\\CovidEM2.py\", line 293, in neg_Covid_KL2\n",
      "    return -1 * Covid_KL2(theta0, prem_global, cases_global, countries_global)\n",
      "  File \"C:\\Users\\zakst\\Documents\\NIH\\Git clone\\CovidEM\\Executables\\CovidEM2.py\", line 254, in Covid_KL2\n",
      "    res = Covid_KL_k2(theta0, prem_in[country_codes[i]], cases_in[country_codes[i]])\n",
      "  File \"C:\\Users\\zakst\\Documents\\NIH\\Git clone\\CovidEM\\Executables\\CovidEM2.py\", line 226, in Covid_KL_k2\n",
      "    u_tilda = scv_eig2(s = theta0[0:(int(len(theta0)/2))], c = prem_in, v = theta0[(int(len(theta0)/2)):])\n",
      "  File \"C:\\Users\\zakst\\Documents\\NIH\\Git clone\\CovidEM\\Executables\\CovidEM2.py\", line 188, in scv_eig2\n",
      "    assert(sum((i > 0) for i in eig) >= len(eig)), eig #Assert positive\n",
      "AssertionError: [-2.760944400297583e-82, 0.9999999999999991, 5.382806030746964e-16, 3.4362647027183335e-16, 2.034363582234801e-32, 1.338938061420566e-33, -7.469266537754441e-52, 7.98403241551049e-53, -1.2745155669406713e-80, -1.073561647423323e-80, -1.0442662925776176e-80, -2.786037481517372e-81, -2.3994868379080413e-82, -9.879725613771813e-82, -2.824821216065711e-81, -9.275333153421644e-82]\n"
     ]
    },
    {
     "name": "stderr",
     "output_type": "stream",
     "text": [
      "C:\\Users\\zakst\\Documents\\NIH\\Git clone\\CovidEM\\Executables\\CovidEM2.py:239: RuntimeWarning: overflow encountered in exp\n",
      "  params[i] = np.exp(params_in[i])\n"
     ]
    },
    {
     "name": "stdout",
     "output_type": "stream",
     "text": [
      "Traceback (most recent call last):\n",
      "  File \"C:\\Users\\zakst\\anaconda3\\lib\\site-packages\\ci_rvm\\ci_rvm.py\", line 805, in find_CI_bound\n",
      "    precise, fActual, JActual = test_precision()\n",
      "  File \"C:\\Users\\zakst\\anaconda3\\lib\\site-packages\\ci_rvm\\ci_rvm.py\", line 372, in test_precision\n",
      "    fActual = fun(xTmp)\n",
      "  File \"C:\\Users\\zakst\\anaconda3\\lib\\site-packages\\ci_rvm\\ci_rvm.py\", line 146, in __call__\n",
      "    return self.fun(*args, **kwargs)\n",
      "  File \"C:\\Users\\zakst\\anaconda3\\lib\\site-packages\\ci_rvm\\ci_rvm.py\", line 246, in <lambda>\n",
      "    fun = lambda x: fun2(flip(x))\n",
      "  File \"C:\\Users\\zakst\\Documents\\NIH\\Git clone\\CovidEM\\Executables\\CovidEM2.py\", line 293, in neg_Covid_KL2\n",
      "    return -1 * Covid_KL2(theta0, prem_global, cases_global, countries_global)\n",
      "  File \"C:\\Users\\zakst\\Documents\\NIH\\Git clone\\CovidEM\\Executables\\CovidEM2.py\", line 254, in Covid_KL2\n",
      "    res = Covid_KL_k2(theta0, prem_in[country_codes[i]], cases_in[country_codes[i]])\n",
      "  File \"C:\\Users\\zakst\\Documents\\NIH\\Git clone\\CovidEM\\Executables\\CovidEM2.py\", line 226, in Covid_KL_k2\n",
      "    u_tilda = scv_eig2(s = theta0[0:(int(len(theta0)/2))], c = prem_in, v = theta0[(int(len(theta0)/2)):])\n",
      "  File \"C:\\Users\\zakst\\Documents\\NIH\\Git clone\\CovidEM\\Executables\\CovidEM2.py\", line 155, in scv_eig2\n",
      "    eigs = la.eig(builder)\n",
      "  File \"<__array_function__ internals>\", line 5, in eig\n",
      "  File \"C:\\Users\\zakst\\anaconda3\\lib\\site-packages\\numpy\\linalg\\linalg.py\", line 1317, in eig\n",
      "    _assert_finite(a)\n",
      "  File \"C:\\Users\\zakst\\anaconda3\\lib\\site-packages\\numpy\\linalg\\linalg.py\", line 208, in _assert_finite\n",
      "    raise LinAlgError(\"Array must not contain infs or NaNs\")\n",
      "numpy.linalg.LinAlgError: Array must not contain infs or NaNs\n"
     ]
    },
    {
     "name": "stderr",
     "output_type": "stream",
     "text": [
      "C:\\Users\\zakst\\Documents\\NIH\\Git clone\\CovidEM\\Executables\\CovidEM2.py:172: UserWarning: Eigenvector contains both negative and positive elements\n",
      "  warnings.warn(\"Eigenvector contains both negative and positive elements\")\n"
     ]
    },
    {
     "name": "stdout",
     "output_type": "stream",
     "text": [
      "Traceback (most recent call last):\n",
      "  File \"C:\\Users\\zakst\\anaconda3\\lib\\site-packages\\ci_rvm\\ci_rvm.py\", line 805, in find_CI_bound\n",
      "    precise, fActual, JActual = test_precision()\n",
      "  File \"C:\\Users\\zakst\\anaconda3\\lib\\site-packages\\ci_rvm\\ci_rvm.py\", line 372, in test_precision\n",
      "    fActual = fun(xTmp)\n",
      "  File \"C:\\Users\\zakst\\anaconda3\\lib\\site-packages\\ci_rvm\\ci_rvm.py\", line 146, in __call__\n",
      "    return self.fun(*args, **kwargs)\n",
      "  File \"C:\\Users\\zakst\\Documents\\NIH\\Git clone\\CovidEM\\Executables\\CovidEM2.py\", line 293, in neg_Covid_KL2\n",
      "    return -1 * Covid_KL2(theta0, prem_global, cases_global, countries_global)\n",
      "  File \"C:\\Users\\zakst\\Documents\\NIH\\Git clone\\CovidEM\\Executables\\CovidEM2.py\", line 254, in Covid_KL2\n",
      "    res = Covid_KL_k2(theta0, prem_in[country_codes[i]], cases_in[country_codes[i]])\n",
      "  File \"C:\\Users\\zakst\\Documents\\NIH\\Git clone\\CovidEM\\Executables\\CovidEM2.py\", line 226, in Covid_KL_k2\n",
      "    u_tilda = scv_eig2(s = theta0[0:(int(len(theta0)/2))], c = prem_in, v = theta0[(int(len(theta0)/2)):])\n",
      "  File \"C:\\Users\\zakst\\Documents\\NIH\\Git clone\\CovidEM\\Executables\\CovidEM2.py\", line 188, in scv_eig2\n",
      "    assert(sum((i > 0) for i in eig) >= len(eig)), eig #Assert positive\n",
      "AssertionError: [-4.559198685997546e-25, -3.4473958277510366e-25, -8.032577840796977e-25, -1.7395613042690705e-24, -2.8913654771884986e-24, -2.9875608438824047e-24, -4.2152752898517936e-24, -3.7131954778775855e-24, 1.1303579511924196, -0.1303579511924196, -6.762215000239951e-24, -6.722051806945253e-24, -5.6783544226879604e-24, -4.8983911056362864e-24, -4.791976944789243e-24, -2.826730287178831e-24]\n"
     ]
    },
    {
     "name": "stderr",
     "output_type": "stream",
     "text": [
      "C:\\Users\\zakst\\Documents\\NIH\\Git clone\\CovidEM\\Executables\\CovidEM2.py:239: RuntimeWarning: overflow encountered in exp\n",
      "  params[i] = np.exp(params_in[i])\n"
     ]
    },
    {
     "name": "stdout",
     "output_type": "stream",
     "text": [
      "Traceback (most recent call last):\n",
      "  File \"C:\\Users\\zakst\\anaconda3\\lib\\site-packages\\ci_rvm\\ci_rvm.py\", line 805, in find_CI_bound\n",
      "    precise, fActual, JActual = test_precision()\n",
      "  File \"C:\\Users\\zakst\\anaconda3\\lib\\site-packages\\ci_rvm\\ci_rvm.py\", line 372, in test_precision\n",
      "    fActual = fun(xTmp)\n",
      "  File \"C:\\Users\\zakst\\anaconda3\\lib\\site-packages\\ci_rvm\\ci_rvm.py\", line 146, in __call__\n",
      "    return self.fun(*args, **kwargs)\n",
      "  File \"C:\\Users\\zakst\\anaconda3\\lib\\site-packages\\ci_rvm\\ci_rvm.py\", line 246, in <lambda>\n",
      "    fun = lambda x: fun2(flip(x))\n",
      "  File \"C:\\Users\\zakst\\Documents\\NIH\\Git clone\\CovidEM\\Executables\\CovidEM2.py\", line 293, in neg_Covid_KL2\n",
      "    return -1 * Covid_KL2(theta0, prem_global, cases_global, countries_global)\n",
      "  File \"C:\\Users\\zakst\\Documents\\NIH\\Git clone\\CovidEM\\Executables\\CovidEM2.py\", line 254, in Covid_KL2\n",
      "    res = Covid_KL_k2(theta0, prem_in[country_codes[i]], cases_in[country_codes[i]])\n",
      "  File \"C:\\Users\\zakst\\Documents\\NIH\\Git clone\\CovidEM\\Executables\\CovidEM2.py\", line 226, in Covid_KL_k2\n",
      "    u_tilda = scv_eig2(s = theta0[0:(int(len(theta0)/2))], c = prem_in, v = theta0[(int(len(theta0)/2)):])\n",
      "  File \"C:\\Users\\zakst\\Documents\\NIH\\Git clone\\CovidEM\\Executables\\CovidEM2.py\", line 155, in scv_eig2\n",
      "    eigs = la.eig(builder)\n",
      "  File \"<__array_function__ internals>\", line 5, in eig\n",
      "  File \"C:\\Users\\zakst\\anaconda3\\lib\\site-packages\\numpy\\linalg\\linalg.py\", line 1317, in eig\n",
      "    _assert_finite(a)\n",
      "  File \"C:\\Users\\zakst\\anaconda3\\lib\\site-packages\\numpy\\linalg\\linalg.py\", line 208, in _assert_finite\n",
      "    raise LinAlgError(\"Array must not contain infs or NaNs\")\n",
      "numpy.linalg.LinAlgError: Array must not contain infs or NaNs\n"
     ]
    },
    {
     "name": "stderr",
     "output_type": "stream",
     "text": [
      "C:\\Users\\zakst\\Documents\\NIH\\Git clone\\CovidEM\\Executables\\CovidEM2.py:172: UserWarning: Eigenvector contains both negative and positive elements\n",
      "  warnings.warn(\"Eigenvector contains both negative and positive elements\")\n"
     ]
    },
    {
     "name": "stdout",
     "output_type": "stream",
     "text": [
      "Traceback (most recent call last):\n",
      "  File \"C:\\Users\\zakst\\anaconda3\\lib\\site-packages\\ci_rvm\\ci_rvm.py\", line 805, in find_CI_bound\n",
      "    precise, fActual, JActual = test_precision()\n",
      "  File \"C:\\Users\\zakst\\anaconda3\\lib\\site-packages\\ci_rvm\\ci_rvm.py\", line 372, in test_precision\n",
      "    fActual = fun(xTmp)\n",
      "  File \"C:\\Users\\zakst\\anaconda3\\lib\\site-packages\\ci_rvm\\ci_rvm.py\", line 146, in __call__\n",
      "    return self.fun(*args, **kwargs)\n",
      "  File \"C:\\Users\\zakst\\Documents\\NIH\\Git clone\\CovidEM\\Executables\\CovidEM2.py\", line 293, in neg_Covid_KL2\n",
      "    return -1 * Covid_KL2(theta0, prem_global, cases_global, countries_global)\n",
      "  File \"C:\\Users\\zakst\\Documents\\NIH\\Git clone\\CovidEM\\Executables\\CovidEM2.py\", line 254, in Covid_KL2\n",
      "    res = Covid_KL_k2(theta0, prem_in[country_codes[i]], cases_in[country_codes[i]])\n",
      "  File \"C:\\Users\\zakst\\Documents\\NIH\\Git clone\\CovidEM\\Executables\\CovidEM2.py\", line 226, in Covid_KL_k2\n",
      "    u_tilda = scv_eig2(s = theta0[0:(int(len(theta0)/2))], c = prem_in, v = theta0[(int(len(theta0)/2)):])\n",
      "  File \"C:\\Users\\zakst\\Documents\\NIH\\Git clone\\CovidEM\\Executables\\CovidEM2.py\", line 188, in scv_eig2\n",
      "    assert(sum((i > 0) for i in eig) >= len(eig)), eig #Assert positive\n",
      "AssertionError: [-4.2632948344209616e-11, -0.09068369802642365, 1.090683718823053, -2.0741691163958388e-10, -6.845511036563691e-10, -1.8133013431024289e-09, -2.7191647529870172e-09, -2.5160551615231105e-09, -1.968047789228929e-09, -1.6577440728197795e-09, -1.4213941738149092e-09, -2.640457600305003e-09, -2.130120468208211e-09, -1.3547213424210202e-09, -6.023413886006261e-10, -1.038680221175117e-09]\n"
     ]
    },
    {
     "name": "stderr",
     "output_type": "stream",
     "text": [
      "C:\\Users\\zakst\\Documents\\NIH\\Git clone\\CovidEM\\Executables\\CovidEM2.py:172: UserWarning: Eigenvector contains both negative and positive elements\n",
      "  warnings.warn(\"Eigenvector contains both negative and positive elements\")\n"
     ]
    },
    {
     "name": "stdout",
     "output_type": "stream",
     "text": [
      "Traceback (most recent call last):\n",
      "  File \"C:\\Users\\zakst\\anaconda3\\lib\\site-packages\\ci_rvm\\ci_rvm.py\", line 805, in find_CI_bound\n",
      "    precise, fActual, JActual = test_precision()\n",
      "  File \"C:\\Users\\zakst\\anaconda3\\lib\\site-packages\\ci_rvm\\ci_rvm.py\", line 372, in test_precision\n",
      "    fActual = fun(xTmp)\n",
      "  File \"C:\\Users\\zakst\\anaconda3\\lib\\site-packages\\ci_rvm\\ci_rvm.py\", line 146, in __call__\n",
      "    return self.fun(*args, **kwargs)\n",
      "  File \"C:\\Users\\zakst\\anaconda3\\lib\\site-packages\\ci_rvm\\ci_rvm.py\", line 246, in <lambda>\n",
      "    fun = lambda x: fun2(flip(x))\n",
      "  File \"C:\\Users\\zakst\\Documents\\NIH\\Git clone\\CovidEM\\Executables\\CovidEM2.py\", line 293, in neg_Covid_KL2\n",
      "    return -1 * Covid_KL2(theta0, prem_global, cases_global, countries_global)\n",
      "  File \"C:\\Users\\zakst\\Documents\\NIH\\Git clone\\CovidEM\\Executables\\CovidEM2.py\", line 254, in Covid_KL2\n",
      "    res = Covid_KL_k2(theta0, prem_in[country_codes[i]], cases_in[country_codes[i]])\n",
      "  File \"C:\\Users\\zakst\\Documents\\NIH\\Git clone\\CovidEM\\Executables\\CovidEM2.py\", line 226, in Covid_KL_k2\n",
      "    u_tilda = scv_eig2(s = theta0[0:(int(len(theta0)/2))], c = prem_in, v = theta0[(int(len(theta0)/2)):])\n",
      "  File \"C:\\Users\\zakst\\Documents\\NIH\\Git clone\\CovidEM\\Executables\\CovidEM2.py\", line 188, in scv_eig2\n",
      "    assert(sum((i > 0) for i in eig) >= len(eig)), eig #Assert positive\n",
      "AssertionError: [2.0606330640021278e-07, -0.008362173494639398, 1.0082620285421584, 9.94542935896809e-07, 4.862560010030654e-06, 7.95184328191044e-06, 9.413986169686146e-06, 1.0545090012640228e-05, 9.882636301245468e-06, 7.347277988000609e-06, 6.291248026503741e-06, 1.3436263252076159e-05, 1.2154240000526887e-05, 7.137216185891211e-06, 3.6319789518456575e-06, 6.290006058434978e-06]\n"
     ]
    },
    {
     "name": "stderr",
     "output_type": "stream",
     "text": [
      "C:\\Users\\zakst\\Documents\\NIH\\Git clone\\CovidEM\\Executables\\CovidEM2.py:239: RuntimeWarning: overflow encountered in exp\n",
      "  params[i] = np.exp(params_in[i])\n"
     ]
    },
    {
     "name": "stdout",
     "output_type": "stream",
     "text": [
      "Traceback (most recent call last):\n",
      "  File \"C:\\Users\\zakst\\anaconda3\\lib\\site-packages\\ci_rvm\\ci_rvm.py\", line 805, in find_CI_bound\n",
      "    precise, fActual, JActual = test_precision()\n",
      "  File \"C:\\Users\\zakst\\anaconda3\\lib\\site-packages\\ci_rvm\\ci_rvm.py\", line 372, in test_precision\n",
      "    fActual = fun(xTmp)\n",
      "  File \"C:\\Users\\zakst\\anaconda3\\lib\\site-packages\\ci_rvm\\ci_rvm.py\", line 146, in __call__\n",
      "    return self.fun(*args, **kwargs)\n",
      "  File \"C:\\Users\\zakst\\Documents\\NIH\\Git clone\\CovidEM\\Executables\\CovidEM2.py\", line 293, in neg_Covid_KL2\n",
      "    return -1 * Covid_KL2(theta0, prem_global, cases_global, countries_global)\n",
      "  File \"C:\\Users\\zakst\\Documents\\NIH\\Git clone\\CovidEM\\Executables\\CovidEM2.py\", line 254, in Covid_KL2\n",
      "    res = Covid_KL_k2(theta0, prem_in[country_codes[i]], cases_in[country_codes[i]])\n",
      "  File \"C:\\Users\\zakst\\Documents\\NIH\\Git clone\\CovidEM\\Executables\\CovidEM2.py\", line 226, in Covid_KL_k2\n",
      "    u_tilda = scv_eig2(s = theta0[0:(int(len(theta0)/2))], c = prem_in, v = theta0[(int(len(theta0)/2)):])\n",
      "  File \"C:\\Users\\zakst\\Documents\\NIH\\Git clone\\CovidEM\\Executables\\CovidEM2.py\", line 155, in scv_eig2\n",
      "    eigs = la.eig(builder)\n",
      "  File \"<__array_function__ internals>\", line 5, in eig\n",
      "  File \"C:\\Users\\zakst\\anaconda3\\lib\\site-packages\\numpy\\linalg\\linalg.py\", line 1317, in eig\n",
      "    _assert_finite(a)\n",
      "  File \"C:\\Users\\zakst\\anaconda3\\lib\\site-packages\\numpy\\linalg\\linalg.py\", line 208, in _assert_finite\n",
      "    raise LinAlgError(\"Array must not contain infs or NaNs\")\n",
      "numpy.linalg.LinAlgError: Array must not contain infs or NaNs\n"
     ]
    },
    {
     "name": "stderr",
     "output_type": "stream",
     "text": [
      "C:\\Users\\zakst\\Documents\\NIH\\Git clone\\CovidEM\\Executables\\CovidEM2.py:172: UserWarning: Eigenvector contains both negative and positive elements\n",
      "  warnings.warn(\"Eigenvector contains both negative and positive elements\")\n"
     ]
    },
    {
     "name": "stdout",
     "output_type": "stream",
     "text": [
      "Traceback (most recent call last):\n",
      "  File \"C:\\Users\\zakst\\anaconda3\\lib\\site-packages\\ci_rvm\\ci_rvm.py\", line 805, in find_CI_bound\n",
      "    precise, fActual, JActual = test_precision()\n",
      "  File \"C:\\Users\\zakst\\anaconda3\\lib\\site-packages\\ci_rvm\\ci_rvm.py\", line 372, in test_precision\n",
      "    fActual = fun(xTmp)\n",
      "  File \"C:\\Users\\zakst\\anaconda3\\lib\\site-packages\\ci_rvm\\ci_rvm.py\", line 146, in __call__\n",
      "    return self.fun(*args, **kwargs)\n",
      "  File \"C:\\Users\\zakst\\anaconda3\\lib\\site-packages\\ci_rvm\\ci_rvm.py\", line 246, in <lambda>\n",
      "    fun = lambda x: fun2(flip(x))\n",
      "  File \"C:\\Users\\zakst\\Documents\\NIH\\Git clone\\CovidEM\\Executables\\CovidEM2.py\", line 293, in neg_Covid_KL2\n",
      "    return -1 * Covid_KL2(theta0, prem_global, cases_global, countries_global)\n",
      "  File \"C:\\Users\\zakst\\Documents\\NIH\\Git clone\\CovidEM\\Executables\\CovidEM2.py\", line 254, in Covid_KL2\n",
      "    res = Covid_KL_k2(theta0, prem_in[country_codes[i]], cases_in[country_codes[i]])\n",
      "  File \"C:\\Users\\zakst\\Documents\\NIH\\Git clone\\CovidEM\\Executables\\CovidEM2.py\", line 226, in Covid_KL_k2\n",
      "    u_tilda = scv_eig2(s = theta0[0:(int(len(theta0)/2))], c = prem_in, v = theta0[(int(len(theta0)/2)):])\n",
      "  File \"C:\\Users\\zakst\\Documents\\NIH\\Git clone\\CovidEM\\Executables\\CovidEM2.py\", line 188, in scv_eig2\n",
      "    assert(sum((i > 0) for i in eig) >= len(eig)), eig #Assert positive\n",
      "AssertionError: [3.4681049172856094e-34, 3.0271139489194478e-34, 5.325182063664668e-34, 8.358827933166346e-34, 3.0091973586246444e-33, 3.40803247184149e-33, 3.694845544369155e-33, 3.5261331209614685e-33, 1.0403984015740961, -0.04039840157409612, 6.578343055403627e-33, 6.854277311606614e-33, 5.305723246248862e-33, 4.618752950605473e-33, 4.423146646617177e-33, 2.8097024744806415e-33]\n"
     ]
    },
    {
     "name": "stderr",
     "output_type": "stream",
     "text": [
      "C:\\Users\\zakst\\Documents\\NIH\\Git clone\\CovidEM\\Executables\\CovidEM2.py:172: UserWarning: Eigenvector contains both negative and positive elements\n",
      "  warnings.warn(\"Eigenvector contains both negative and positive elements\")\n"
     ]
    },
    {
     "name": "stdout",
     "output_type": "stream",
     "text": [
      "Traceback (most recent call last):\n",
      "  File \"C:\\Users\\zakst\\anaconda3\\lib\\site-packages\\ci_rvm\\ci_rvm.py\", line 805, in find_CI_bound\n",
      "    precise, fActual, JActual = test_precision()\n",
      "  File \"C:\\Users\\zakst\\anaconda3\\lib\\site-packages\\ci_rvm\\ci_rvm.py\", line 372, in test_precision\n",
      "    fActual = fun(xTmp)\n",
      "  File \"C:\\Users\\zakst\\anaconda3\\lib\\site-packages\\ci_rvm\\ci_rvm.py\", line 146, in __call__\n",
      "    return self.fun(*args, **kwargs)\n",
      "  File \"C:\\Users\\zakst\\Documents\\NIH\\Git clone\\CovidEM\\Executables\\CovidEM2.py\", line 293, in neg_Covid_KL2\n",
      "    return -1 * Covid_KL2(theta0, prem_global, cases_global, countries_global)\n",
      "  File \"C:\\Users\\zakst\\Documents\\NIH\\Git clone\\CovidEM\\Executables\\CovidEM2.py\", line 254, in Covid_KL2\n",
      "    res = Covid_KL_k2(theta0, prem_in[country_codes[i]], cases_in[country_codes[i]])\n",
      "  File \"C:\\Users\\zakst\\Documents\\NIH\\Git clone\\CovidEM\\Executables\\CovidEM2.py\", line 226, in Covid_KL_k2\n",
      "    u_tilda = scv_eig2(s = theta0[0:(int(len(theta0)/2))], c = prem_in, v = theta0[(int(len(theta0)/2)):])\n",
      "  File \"C:\\Users\\zakst\\Documents\\NIH\\Git clone\\CovidEM\\Executables\\CovidEM2.py\", line 188, in scv_eig2\n",
      "    assert(sum((i > 0) for i in eig) >= len(eig)), eig #Assert positive\n",
      "AssertionError: [-0.029992954110719422, -0.02617907232878234, -0.04605956399274846, -0.07229816359901833, -0.2602603831208507, -0.2947551978370686, -0.3195719100858915, -0.30497638589225845, 7.997488962746888, -2.997534943665258, -0.569035853318931, -0.59290084525525, -0.4588908475950904, -0.39947256732875397, -0.3825516332540344, -0.24300864136223274]\n"
     ]
    },
    {
     "name": "stderr",
     "output_type": "stream",
     "text": [
      "C:\\Users\\zakst\\Documents\\NIH\\Git clone\\CovidEM\\Executables\\CovidEM2.py:172: UserWarning: Eigenvector contains both negative and positive elements\n",
      "  warnings.warn(\"Eigenvector contains both negative and positive elements\")\n"
     ]
    },
    {
     "name": "stdout",
     "output_type": "stream",
     "text": [
      "Traceback (most recent call last):\n",
      "  File \"C:\\Users\\zakst\\anaconda3\\lib\\site-packages\\ci_rvm\\ci_rvm.py\", line 805, in find_CI_bound\n",
      "    precise, fActual, JActual = test_precision()\n",
      "  File \"C:\\Users\\zakst\\anaconda3\\lib\\site-packages\\ci_rvm\\ci_rvm.py\", line 372, in test_precision\n",
      "    fActual = fun(xTmp)\n",
      "  File \"C:\\Users\\zakst\\anaconda3\\lib\\site-packages\\ci_rvm\\ci_rvm.py\", line 146, in __call__\n",
      "    return self.fun(*args, **kwargs)\n",
      "  File \"C:\\Users\\zakst\\anaconda3\\lib\\site-packages\\ci_rvm\\ci_rvm.py\", line 246, in <lambda>\n",
      "    fun = lambda x: fun2(flip(x))\n",
      "  File \"C:\\Users\\zakst\\Documents\\NIH\\Git clone\\CovidEM\\Executables\\CovidEM2.py\", line 293, in neg_Covid_KL2\n",
      "    return -1 * Covid_KL2(theta0, prem_global, cases_global, countries_global)\n",
      "  File \"C:\\Users\\zakst\\Documents\\NIH\\Git clone\\CovidEM\\Executables\\CovidEM2.py\", line 254, in Covid_KL2\n",
      "    res = Covid_KL_k2(theta0, prem_in[country_codes[i]], cases_in[country_codes[i]])\n",
      "  File \"C:\\Users\\zakst\\Documents\\NIH\\Git clone\\CovidEM\\Executables\\CovidEM2.py\", line 226, in Covid_KL_k2\n",
      "    u_tilda = scv_eig2(s = theta0[0:(int(len(theta0)/2))], c = prem_in, v = theta0[(int(len(theta0)/2)):])\n",
      "  File \"C:\\Users\\zakst\\Documents\\NIH\\Git clone\\CovidEM\\Executables\\CovidEM2.py\", line 188, in scv_eig2\n",
      "    assert(sum((i > 0) for i in eig) >= len(eig)), eig #Assert positive\n",
      "AssertionError: [1.3897621756470832e-33, 1.2130482366789724e-33, 2.1339736613252058e-33, 3.34963833676732e-33, 1.2058881209517657e-32, 1.3657188158762557e-32, 1.480645083364231e-32, 1.4130342192588433e-32, 1.0526371345372143, -0.052637134537214345, 2.6363684275764393e-32, 2.746950089760744e-32, 2.1259596218811046e-32, 1.850695296297175e-32, 1.772441295859272e-32, 1.1259014111236875e-32]\n"
     ]
    },
    {
     "name": "stderr",
     "output_type": "stream",
     "text": [
      "C:\\Users\\zakst\\Documents\\NIH\\Git clone\\CovidEM\\Executables\\CovidEM2.py:172: UserWarning: Eigenvector contains both negative and positive elements\n",
      "  warnings.warn(\"Eigenvector contains both negative and positive elements\")\n"
     ]
    },
    {
     "name": "stdout",
     "output_type": "stream",
     "text": [
      "Traceback (most recent call last):\n",
      "  File \"C:\\Users\\zakst\\anaconda3\\lib\\site-packages\\ci_rvm\\ci_rvm.py\", line 805, in find_CI_bound\n",
      "    precise, fActual, JActual = test_precision()\n",
      "  File \"C:\\Users\\zakst\\anaconda3\\lib\\site-packages\\ci_rvm\\ci_rvm.py\", line 372, in test_precision\n",
      "    fActual = fun(xTmp)\n",
      "  File \"C:\\Users\\zakst\\anaconda3\\lib\\site-packages\\ci_rvm\\ci_rvm.py\", line 146, in __call__\n",
      "    return self.fun(*args, **kwargs)\n",
      "  File \"C:\\Users\\zakst\\Documents\\NIH\\Git clone\\CovidEM\\Executables\\CovidEM2.py\", line 293, in neg_Covid_KL2\n",
      "    return -1 * Covid_KL2(theta0, prem_global, cases_global, countries_global)\n",
      "  File \"C:\\Users\\zakst\\Documents\\NIH\\Git clone\\CovidEM\\Executables\\CovidEM2.py\", line 254, in Covid_KL2\n",
      "    res = Covid_KL_k2(theta0, prem_in[country_codes[i]], cases_in[country_codes[i]])\n",
      "  File \"C:\\Users\\zakst\\Documents\\NIH\\Git clone\\CovidEM\\Executables\\CovidEM2.py\", line 226, in Covid_KL_k2\n",
      "    u_tilda = scv_eig2(s = theta0[0:(int(len(theta0)/2))], c = prem_in, v = theta0[(int(len(theta0)/2)):])\n",
      "  File \"C:\\Users\\zakst\\Documents\\NIH\\Git clone\\CovidEM\\Executables\\CovidEM2.py\", line 188, in scv_eig2\n",
      "    assert(sum((i > 0) for i in eig) >= len(eig)), eig #Assert positive\n",
      "AssertionError: [6.962280454574413e-83, 6.076974784963886e-83, 1.0691916412562113e-82, 1.6782689254722625e-82, 6.041436119802473e-82, 6.84217348405934e-82, 7.418266467162044e-82, 7.079454117758776e-82, 1.0576761435154753, -0.05767614351547534, 1.3208712789270707e-81, 1.3762673164353332e-81, 1.0652206936042416e-81, 9.272930631901468e-82, 8.88017401746932e-82, 5.640961783632707e-82]\n"
     ]
    },
    {
     "name": "stderr",
     "output_type": "stream",
     "text": [
      "C:\\Users\\zakst\\Documents\\NIH\\Git clone\\CovidEM\\Executables\\CovidEM2.py:172: UserWarning: Eigenvector contains both negative and positive elements\n",
      "  warnings.warn(\"Eigenvector contains both negative and positive elements\")\n"
     ]
    },
    {
     "name": "stdout",
     "output_type": "stream",
     "text": [
      "Traceback (most recent call last):\n",
      "  File \"C:\\Users\\zakst\\anaconda3\\lib\\site-packages\\ci_rvm\\ci_rvm.py\", line 805, in find_CI_bound\n",
      "    precise, fActual, JActual = test_precision()\n",
      "  File \"C:\\Users\\zakst\\anaconda3\\lib\\site-packages\\ci_rvm\\ci_rvm.py\", line 372, in test_precision\n",
      "    fActual = fun(xTmp)\n",
      "  File \"C:\\Users\\zakst\\anaconda3\\lib\\site-packages\\ci_rvm\\ci_rvm.py\", line 146, in __call__\n",
      "    return self.fun(*args, **kwargs)\n",
      "  File \"C:\\Users\\zakst\\anaconda3\\lib\\site-packages\\ci_rvm\\ci_rvm.py\", line 246, in <lambda>\n",
      "    fun = lambda x: fun2(flip(x))\n",
      "  File \"C:\\Users\\zakst\\Documents\\NIH\\Git clone\\CovidEM\\Executables\\CovidEM2.py\", line 293, in neg_Covid_KL2\n",
      "    return -1 * Covid_KL2(theta0, prem_global, cases_global, countries_global)\n",
      "  File \"C:\\Users\\zakst\\Documents\\NIH\\Git clone\\CovidEM\\Executables\\CovidEM2.py\", line 254, in Covid_KL2\n",
      "    res = Covid_KL_k2(theta0, prem_in[country_codes[i]], cases_in[country_codes[i]])\n",
      "  File \"C:\\Users\\zakst\\Documents\\NIH\\Git clone\\CovidEM\\Executables\\CovidEM2.py\", line 226, in Covid_KL_k2\n",
      "    u_tilda = scv_eig2(s = theta0[0:(int(len(theta0)/2))], c = prem_in, v = theta0[(int(len(theta0)/2)):])\n",
      "  File \"C:\\Users\\zakst\\Documents\\NIH\\Git clone\\CovidEM\\Executables\\CovidEM2.py\", line 188, in scv_eig2\n",
      "    assert(sum((i > 0) for i in eig) >= len(eig)), eig #Assert positive\n",
      "AssertionError: [1.2840932566860354e-113, -0.021352885271641288, 1.0213528852716414, 4.328483885386967e-33, 2.061730783970412e-112, 5.461300375853085e-112, 8.189182003635813e-112, 7.57748629474031e-112, 5.926991427646865e-112, 4.992477805980915e-112, 4.280703539488698e-112, 7.952063124867789e-112, 6.415051784712197e-112, 4.079866700119513e-112, 1.813983796319152e-112, 3.128041881940333e-112]\n"
     ]
    },
    {
     "name": "stderr",
     "output_type": "stream",
     "text": [
      "C:\\Users\\zakst\\Documents\\NIH\\Git clone\\CovidEM\\Executables\\CovidEM2.py:239: RuntimeWarning: overflow encountered in exp\n",
      "  params[i] = np.exp(params_in[i])\n"
     ]
    },
    {
     "name": "stdout",
     "output_type": "stream",
     "text": [
      "Traceback (most recent call last):\n",
      "  File \"C:\\Users\\zakst\\anaconda3\\lib\\site-packages\\ci_rvm\\ci_rvm.py\", line 805, in find_CI_bound\n",
      "    precise, fActual, JActual = test_precision()\n",
      "  File \"C:\\Users\\zakst\\anaconda3\\lib\\site-packages\\ci_rvm\\ci_rvm.py\", line 372, in test_precision\n",
      "    fActual = fun(xTmp)\n",
      "  File \"C:\\Users\\zakst\\anaconda3\\lib\\site-packages\\ci_rvm\\ci_rvm.py\", line 146, in __call__\n",
      "    return self.fun(*args, **kwargs)\n",
      "  File \"C:\\Users\\zakst\\Documents\\NIH\\Git clone\\CovidEM\\Executables\\CovidEM2.py\", line 293, in neg_Covid_KL2\n",
      "    return -1 * Covid_KL2(theta0, prem_global, cases_global, countries_global)\n",
      "  File \"C:\\Users\\zakst\\Documents\\NIH\\Git clone\\CovidEM\\Executables\\CovidEM2.py\", line 254, in Covid_KL2\n",
      "    res = Covid_KL_k2(theta0, prem_in[country_codes[i]], cases_in[country_codes[i]])\n",
      "  File \"C:\\Users\\zakst\\Documents\\NIH\\Git clone\\CovidEM\\Executables\\CovidEM2.py\", line 226, in Covid_KL_k2\n",
      "    u_tilda = scv_eig2(s = theta0[0:(int(len(theta0)/2))], c = prem_in, v = theta0[(int(len(theta0)/2)):])\n",
      "  File \"C:\\Users\\zakst\\Documents\\NIH\\Git clone\\CovidEM\\Executables\\CovidEM2.py\", line 155, in scv_eig2\n",
      "    eigs = la.eig(builder)\n",
      "  File \"<__array_function__ internals>\", line 5, in eig\n",
      "  File \"C:\\Users\\zakst\\anaconda3\\lib\\site-packages\\numpy\\linalg\\linalg.py\", line 1317, in eig\n",
      "    _assert_finite(a)\n",
      "  File \"C:\\Users\\zakst\\anaconda3\\lib\\site-packages\\numpy\\linalg\\linalg.py\", line 208, in _assert_finite\n",
      "    raise LinAlgError(\"Array must not contain infs or NaNs\")\n",
      "numpy.linalg.LinAlgError: Array must not contain infs or NaNs\n"
     ]
    },
    {
     "name": "stderr",
     "output_type": "stream",
     "text": [
      "C:\\Users\\zakst\\Documents\\NIH\\Git clone\\CovidEM\\Executables\\CovidEM2.py:172: UserWarning: Eigenvector contains both negative and positive elements\n",
      "  warnings.warn(\"Eigenvector contains both negative and positive elements\")\n"
     ]
    },
    {
     "name": "stdout",
     "output_type": "stream",
     "text": [
      "Traceback (most recent call last):\n",
      "  File \"C:\\Users\\zakst\\anaconda3\\lib\\site-packages\\ci_rvm\\ci_rvm.py\", line 805, in find_CI_bound\n",
      "    precise, fActual, JActual = test_precision()\n",
      "  File \"C:\\Users\\zakst\\anaconda3\\lib\\site-packages\\ci_rvm\\ci_rvm.py\", line 372, in test_precision\n",
      "    fActual = fun(xTmp)\n",
      "  File \"C:\\Users\\zakst\\anaconda3\\lib\\site-packages\\ci_rvm\\ci_rvm.py\", line 146, in __call__\n",
      "    return self.fun(*args, **kwargs)\n",
      "  File \"C:\\Users\\zakst\\anaconda3\\lib\\site-packages\\ci_rvm\\ci_rvm.py\", line 246, in <lambda>\n",
      "    fun = lambda x: fun2(flip(x))\n",
      "  File \"C:\\Users\\zakst\\Documents\\NIH\\Git clone\\CovidEM\\Executables\\CovidEM2.py\", line 293, in neg_Covid_KL2\n",
      "    return -1 * Covid_KL2(theta0, prem_global, cases_global, countries_global)\n",
      "  File \"C:\\Users\\zakst\\Documents\\NIH\\Git clone\\CovidEM\\Executables\\CovidEM2.py\", line 254, in Covid_KL2\n",
      "    res = Covid_KL_k2(theta0, prem_in[country_codes[i]], cases_in[country_codes[i]])\n",
      "  File \"C:\\Users\\zakst\\Documents\\NIH\\Git clone\\CovidEM\\Executables\\CovidEM2.py\", line 226, in Covid_KL_k2\n",
      "    u_tilda = scv_eig2(s = theta0[0:(int(len(theta0)/2))], c = prem_in, v = theta0[(int(len(theta0)/2)):])\n",
      "  File \"C:\\Users\\zakst\\Documents\\NIH\\Git clone\\CovidEM\\Executables\\CovidEM2.py\", line 188, in scv_eig2\n",
      "    assert(sum((i > 0) for i in eig) >= len(eig)), eig #Assert positive\n",
      "AssertionError: [-1.8605271081961802e-07, -2.2624128478341394e-07, -3.5247684305480295e-07, -5.761782050130422e-07, -2.5107913134272878e-06, -2.359719984212922e-06, -2.2949636562191786e-06, -2.392188244964209e-06, 1.0276111813889204, -0.02758627233459959, -3.063726308792431e-06, -3.748195386455871e-06, -2.551056277882764e-06, -1.7427105316933662e-06, -1.6559908689177691e-06, -1.2487627047365416e-06]\n"
     ]
    },
    {
     "name": "stderr",
     "output_type": "stream",
     "text": [
      "C:\\Users\\zakst\\Documents\\NIH\\Git clone\\CovidEM\\Executables\\CovidEM2.py:172: UserWarning: Eigenvector contains both negative and positive elements\n",
      "  warnings.warn(\"Eigenvector contains both negative and positive elements\")\n"
     ]
    },
    {
     "name": "stdout",
     "output_type": "stream",
     "text": [
      "Traceback (most recent call last):\n",
      "  File \"C:\\Users\\zakst\\anaconda3\\lib\\site-packages\\ci_rvm\\ci_rvm.py\", line 805, in find_CI_bound\n",
      "    precise, fActual, JActual = test_precision()\n",
      "  File \"C:\\Users\\zakst\\anaconda3\\lib\\site-packages\\ci_rvm\\ci_rvm.py\", line 372, in test_precision\n",
      "    fActual = fun(xTmp)\n",
      "  File \"C:\\Users\\zakst\\anaconda3\\lib\\site-packages\\ci_rvm\\ci_rvm.py\", line 146, in __call__\n",
      "    return self.fun(*args, **kwargs)\n",
      "  File \"C:\\Users\\zakst\\Documents\\NIH\\Git clone\\CovidEM\\Executables\\CovidEM2.py\", line 293, in neg_Covid_KL2\n",
      "    return -1 * Covid_KL2(theta0, prem_global, cases_global, countries_global)\n",
      "  File \"C:\\Users\\zakst\\Documents\\NIH\\Git clone\\CovidEM\\Executables\\CovidEM2.py\", line 254, in Covid_KL2\n",
      "    res = Covid_KL_k2(theta0, prem_in[country_codes[i]], cases_in[country_codes[i]])\n",
      "  File \"C:\\Users\\zakst\\Documents\\NIH\\Git clone\\CovidEM\\Executables\\CovidEM2.py\", line 226, in Covid_KL_k2\n",
      "    u_tilda = scv_eig2(s = theta0[0:(int(len(theta0)/2))], c = prem_in, v = theta0[(int(len(theta0)/2)):])\n",
      "  File \"C:\\Users\\zakst\\Documents\\NIH\\Git clone\\CovidEM\\Executables\\CovidEM2.py\", line 188, in scv_eig2\n",
      "    assert(sum((i > 0) for i in eig) >= len(eig)), eig #Assert positive\n",
      "AssertionError: [4.3927699006605176e-10, 3.9893972153271776e-10, 5.402538630856964e-10, 5.41942265020637e-10, 1.7967817547903946e-09, 2.082219817650442e-09, 2.196114278891556e-09, 2.0973262877951526e-09, 1.0244136796430898, -0.02441370278263461, 2.7421434981404654e-09, 2.95794685415338e-09, 2.4333865037351036e-09, 1.621150825179111e-09, 1.8486483990784874e-09, 1.4434135987331295e-09]\n"
     ]
    },
    {
     "name": "stderr",
     "output_type": "stream",
     "text": [
      "C:\\Users\\zakst\\Documents\\NIH\\Git clone\\CovidEM\\Executables\\CovidEM2.py:239: RuntimeWarning: overflow encountered in exp\n",
      "  params[i] = np.exp(params_in[i])\n"
     ]
    },
    {
     "name": "stdout",
     "output_type": "stream",
     "text": [
      "Traceback (most recent call last):\n",
      "  File \"C:\\Users\\zakst\\anaconda3\\lib\\site-packages\\ci_rvm\\ci_rvm.py\", line 805, in find_CI_bound\n",
      "    precise, fActual, JActual = test_precision()\n",
      "  File \"C:\\Users\\zakst\\anaconda3\\lib\\site-packages\\ci_rvm\\ci_rvm.py\", line 372, in test_precision\n",
      "    fActual = fun(xTmp)\n",
      "  File \"C:\\Users\\zakst\\anaconda3\\lib\\site-packages\\ci_rvm\\ci_rvm.py\", line 146, in __call__\n",
      "    return self.fun(*args, **kwargs)\n",
      "  File \"C:\\Users\\zakst\\anaconda3\\lib\\site-packages\\ci_rvm\\ci_rvm.py\", line 246, in <lambda>\n",
      "    fun = lambda x: fun2(flip(x))\n",
      "  File \"C:\\Users\\zakst\\Documents\\NIH\\Git clone\\CovidEM\\Executables\\CovidEM2.py\", line 293, in neg_Covid_KL2\n",
      "    return -1 * Covid_KL2(theta0, prem_global, cases_global, countries_global)\n",
      "  File \"C:\\Users\\zakst\\Documents\\NIH\\Git clone\\CovidEM\\Executables\\CovidEM2.py\", line 254, in Covid_KL2\n",
      "    res = Covid_KL_k2(theta0, prem_in[country_codes[i]], cases_in[country_codes[i]])\n",
      "  File \"C:\\Users\\zakst\\Documents\\NIH\\Git clone\\CovidEM\\Executables\\CovidEM2.py\", line 226, in Covid_KL_k2\n",
      "    u_tilda = scv_eig2(s = theta0[0:(int(len(theta0)/2))], c = prem_in, v = theta0[(int(len(theta0)/2)):])\n",
      "  File \"C:\\Users\\zakst\\Documents\\NIH\\Git clone\\CovidEM\\Executables\\CovidEM2.py\", line 155, in scv_eig2\n",
      "    eigs = la.eig(builder)\n",
      "  File \"<__array_function__ internals>\", line 5, in eig\n",
      "  File \"C:\\Users\\zakst\\anaconda3\\lib\\site-packages\\numpy\\linalg\\linalg.py\", line 1317, in eig\n",
      "    _assert_finite(a)\n",
      "  File \"C:\\Users\\zakst\\anaconda3\\lib\\site-packages\\numpy\\linalg\\linalg.py\", line 208, in _assert_finite\n",
      "    raise LinAlgError(\"Array must not contain infs or NaNs\")\n",
      "numpy.linalg.LinAlgError: Array must not contain infs or NaNs\n"
     ]
    },
    {
     "name": "stderr",
     "output_type": "stream",
     "text": [
      "C:\\Users\\zakst\\Documents\\NIH\\Git clone\\CovidEM\\Executables\\CovidEM2.py:239: RuntimeWarning: overflow encountered in exp\n",
      "  params[i] = np.exp(params_in[i])\n"
     ]
    },
    {
     "name": "stdout",
     "output_type": "stream",
     "text": [
      "Traceback (most recent call last):\n",
      "  File \"C:\\Users\\zakst\\anaconda3\\lib\\site-packages\\ci_rvm\\ci_rvm.py\", line 805, in find_CI_bound\n",
      "    precise, fActual, JActual = test_precision()\n",
      "  File \"C:\\Users\\zakst\\anaconda3\\lib\\site-packages\\ci_rvm\\ci_rvm.py\", line 372, in test_precision\n",
      "    fActual = fun(xTmp)\n",
      "  File \"C:\\Users\\zakst\\anaconda3\\lib\\site-packages\\ci_rvm\\ci_rvm.py\", line 146, in __call__\n",
      "    return self.fun(*args, **kwargs)\n",
      "  File \"C:\\Users\\zakst\\Documents\\NIH\\Git clone\\CovidEM\\Executables\\CovidEM2.py\", line 293, in neg_Covid_KL2\n",
      "    return -1 * Covid_KL2(theta0, prem_global, cases_global, countries_global)\n",
      "  File \"C:\\Users\\zakst\\Documents\\NIH\\Git clone\\CovidEM\\Executables\\CovidEM2.py\", line 254, in Covid_KL2\n",
      "    res = Covid_KL_k2(theta0, prem_in[country_codes[i]], cases_in[country_codes[i]])\n",
      "  File \"C:\\Users\\zakst\\Documents\\NIH\\Git clone\\CovidEM\\Executables\\CovidEM2.py\", line 226, in Covid_KL_k2\n",
      "    u_tilda = scv_eig2(s = theta0[0:(int(len(theta0)/2))], c = prem_in, v = theta0[(int(len(theta0)/2)):])\n",
      "  File \"C:\\Users\\zakst\\Documents\\NIH\\Git clone\\CovidEM\\Executables\\CovidEM2.py\", line 155, in scv_eig2\n",
      "    eigs = la.eig(builder)\n",
      "  File \"<__array_function__ internals>\", line 5, in eig\n",
      "  File \"C:\\Users\\zakst\\anaconda3\\lib\\site-packages\\numpy\\linalg\\linalg.py\", line 1317, in eig\n",
      "    _assert_finite(a)\n",
      "  File \"C:\\Users\\zakst\\anaconda3\\lib\\site-packages\\numpy\\linalg\\linalg.py\", line 208, in _assert_finite\n",
      "    raise LinAlgError(\"Array must not contain infs or NaNs\")\n",
      "numpy.linalg.LinAlgError: Array must not contain infs or NaNs\n"
     ]
    },
    {
     "name": "stderr",
     "output_type": "stream",
     "text": [
      "C:\\Users\\zakst\\Documents\\NIH\\Git clone\\CovidEM\\Executables\\CovidEM2.py:239: RuntimeWarning: overflow encountered in exp\n",
      "  params[i] = np.exp(params_in[i])\n"
     ]
    },
    {
     "name": "stdout",
     "output_type": "stream",
     "text": [
      "Traceback (most recent call last):\n",
      "  File \"C:\\Users\\zakst\\anaconda3\\lib\\site-packages\\ci_rvm\\ci_rvm.py\", line 805, in find_CI_bound\n",
      "    precise, fActual, JActual = test_precision()\n",
      "  File \"C:\\Users\\zakst\\anaconda3\\lib\\site-packages\\ci_rvm\\ci_rvm.py\", line 372, in test_precision\n",
      "    fActual = fun(xTmp)\n",
      "  File \"C:\\Users\\zakst\\anaconda3\\lib\\site-packages\\ci_rvm\\ci_rvm.py\", line 146, in __call__\n",
      "    return self.fun(*args, **kwargs)\n",
      "  File \"C:\\Users\\zakst\\anaconda3\\lib\\site-packages\\ci_rvm\\ci_rvm.py\", line 246, in <lambda>\n",
      "    fun = lambda x: fun2(flip(x))\n",
      "  File \"C:\\Users\\zakst\\Documents\\NIH\\Git clone\\CovidEM\\Executables\\CovidEM2.py\", line 293, in neg_Covid_KL2\n",
      "    return -1 * Covid_KL2(theta0, prem_global, cases_global, countries_global)\n",
      "  File \"C:\\Users\\zakst\\Documents\\NIH\\Git clone\\CovidEM\\Executables\\CovidEM2.py\", line 254, in Covid_KL2\n",
      "    res = Covid_KL_k2(theta0, prem_in[country_codes[i]], cases_in[country_codes[i]])\n",
      "  File \"C:\\Users\\zakst\\Documents\\NIH\\Git clone\\CovidEM\\Executables\\CovidEM2.py\", line 226, in Covid_KL_k2\n",
      "    u_tilda = scv_eig2(s = theta0[0:(int(len(theta0)/2))], c = prem_in, v = theta0[(int(len(theta0)/2)):])\n",
      "  File \"C:\\Users\\zakst\\Documents\\NIH\\Git clone\\CovidEM\\Executables\\CovidEM2.py\", line 155, in scv_eig2\n",
      "    eigs = la.eig(builder)\n",
      "  File \"<__array_function__ internals>\", line 5, in eig\n",
      "  File \"C:\\Users\\zakst\\anaconda3\\lib\\site-packages\\numpy\\linalg\\linalg.py\", line 1317, in eig\n",
      "    _assert_finite(a)\n",
      "  File \"C:\\Users\\zakst\\anaconda3\\lib\\site-packages\\numpy\\linalg\\linalg.py\", line 208, in _assert_finite\n",
      "    raise LinAlgError(\"Array must not contain infs or NaNs\")\n",
      "numpy.linalg.LinAlgError: Array must not contain infs or NaNs\n"
     ]
    },
    {
     "name": "stderr",
     "output_type": "stream",
     "text": [
      "C:\\Users\\zakst\\Documents\\NIH\\Git clone\\CovidEM\\Executables\\CovidEM2.py:172: UserWarning: Eigenvector contains both negative and positive elements\n",
      "  warnings.warn(\"Eigenvector contains both negative and positive elements\")\n"
     ]
    },
    {
     "name": "stdout",
     "output_type": "stream",
     "text": [
      "Traceback (most recent call last):\n",
      "  File \"C:\\Users\\zakst\\anaconda3\\lib\\site-packages\\ci_rvm\\ci_rvm.py\", line 805, in find_CI_bound\n",
      "    precise, fActual, JActual = test_precision()\n",
      "  File \"C:\\Users\\zakst\\anaconda3\\lib\\site-packages\\ci_rvm\\ci_rvm.py\", line 372, in test_precision\n",
      "    fActual = fun(xTmp)\n",
      "  File \"C:\\Users\\zakst\\anaconda3\\lib\\site-packages\\ci_rvm\\ci_rvm.py\", line 146, in __call__\n",
      "    return self.fun(*args, **kwargs)\n",
      "  File \"C:\\Users\\zakst\\Documents\\NIH\\Git clone\\CovidEM\\Executables\\CovidEM2.py\", line 293, in neg_Covid_KL2\n",
      "    return -1 * Covid_KL2(theta0, prem_global, cases_global, countries_global)\n",
      "  File \"C:\\Users\\zakst\\Documents\\NIH\\Git clone\\CovidEM\\Executables\\CovidEM2.py\", line 254, in Covid_KL2\n",
      "    res = Covid_KL_k2(theta0, prem_in[country_codes[i]], cases_in[country_codes[i]])\n",
      "  File \"C:\\Users\\zakst\\Documents\\NIH\\Git clone\\CovidEM\\Executables\\CovidEM2.py\", line 226, in Covid_KL_k2\n",
      "    u_tilda = scv_eig2(s = theta0[0:(int(len(theta0)/2))], c = prem_in, v = theta0[(int(len(theta0)/2)):])\n",
      "  File \"C:\\Users\\zakst\\Documents\\NIH\\Git clone\\CovidEM\\Executables\\CovidEM2.py\", line 188, in scv_eig2\n",
      "    assert(sum((i > 0) for i in eig) >= len(eig)), eig #Assert positive\n",
      "AssertionError: [9.64689863800527e-08, 1.0131434261170065, -0.01316933139982741, 6.396935534499643e-07, 1.4143168536102258e-06, 1.4753145460308279e-06, 1.862923141669878e-06, 2.370655407082191e-06, 4.453262780241014e-06, 3.7511131686217077e-06, 3.544448072639726e-06, 2.179533977560319e-06, 1.225971118027672e-06, 1.0011925448955007e-06, 1.0776756405097362e-06, 8.127130299003807e-07]\n"
     ]
    },
    {
     "name": "stderr",
     "output_type": "stream",
     "text": [
      "C:\\Users\\zakst\\Documents\\NIH\\Git clone\\CovidEM\\Executables\\CovidEM2.py:172: UserWarning: Eigenvector contains both negative and positive elements\n",
      "  warnings.warn(\"Eigenvector contains both negative and positive elements\")\n"
     ]
    },
    {
     "name": "stdout",
     "output_type": "stream",
     "text": [
      "Traceback (most recent call last):\n",
      "  File \"C:\\Users\\zakst\\anaconda3\\lib\\site-packages\\ci_rvm\\ci_rvm.py\", line 805, in find_CI_bound\n",
      "    precise, fActual, JActual = test_precision()\n",
      "  File \"C:\\Users\\zakst\\anaconda3\\lib\\site-packages\\ci_rvm\\ci_rvm.py\", line 372, in test_precision\n",
      "    fActual = fun(xTmp)\n",
      "  File \"C:\\Users\\zakst\\anaconda3\\lib\\site-packages\\ci_rvm\\ci_rvm.py\", line 146, in __call__\n",
      "    return self.fun(*args, **kwargs)\n",
      "  File \"C:\\Users\\zakst\\anaconda3\\lib\\site-packages\\ci_rvm\\ci_rvm.py\", line 246, in <lambda>\n",
      "    fun = lambda x: fun2(flip(x))\n",
      "  File \"C:\\Users\\zakst\\Documents\\NIH\\Git clone\\CovidEM\\Executables\\CovidEM2.py\", line 293, in neg_Covid_KL2\n",
      "    return -1 * Covid_KL2(theta0, prem_global, cases_global, countries_global)\n",
      "  File \"C:\\Users\\zakst\\Documents\\NIH\\Git clone\\CovidEM\\Executables\\CovidEM2.py\", line 254, in Covid_KL2\n",
      "    res = Covid_KL_k2(theta0, prem_in[country_codes[i]], cases_in[country_codes[i]])\n",
      "  File \"C:\\Users\\zakst\\Documents\\NIH\\Git clone\\CovidEM\\Executables\\CovidEM2.py\", line 226, in Covid_KL_k2\n",
      "    u_tilda = scv_eig2(s = theta0[0:(int(len(theta0)/2))], c = prem_in, v = theta0[(int(len(theta0)/2)):])\n",
      "  File \"C:\\Users\\zakst\\Documents\\NIH\\Git clone\\CovidEM\\Executables\\CovidEM2.py\", line 188, in scv_eig2\n",
      "    assert(sum((i > 0) for i in eig) >= len(eig)), eig #Assert positive\n",
      "AssertionError: [-2.546996708370971e-10, -2.2233225166788823e-10, -3.9056156292340886e-10, -6.138216061747571e-10, -2.2099620522806837e-09, -2.5020259680833736e-09, -2.7126818250920358e-09, -2.5891997491519645e-09, 1.01932890553183, -0.019328871574180437, -4.8310030131676645e-09, -5.0333534121438895e-09, -3.8957937495555155e-09, -3.391412109153878e-09, -3.247712461925508e-09, -2.0630899726175426e-09]\n"
     ]
    },
    {
     "name": "stderr",
     "output_type": "stream",
     "text": [
      "C:\\Users\\zakst\\Documents\\NIH\\Git clone\\CovidEM\\Executables\\CovidEM2.py:239: RuntimeWarning: overflow encountered in exp\n",
      "  params[i] = np.exp(params_in[i])\n",
      "C:\\Users\\zakst\\Documents\\NIH\\Git clone\\CovidEM\\Executables\\CovidEM2.py:139: RuntimeWarning: invalid value encountered in matmul\n",
      "  builder = np.matmul(np.matmul(s,c),v)\n"
     ]
    },
    {
     "name": "stdout",
     "output_type": "stream",
     "text": [
      "Traceback (most recent call last):\n",
      "  File \"C:\\Users\\zakst\\anaconda3\\lib\\site-packages\\ci_rvm\\ci_rvm.py\", line 805, in find_CI_bound\n",
      "    precise, fActual, JActual = test_precision()\n",
      "  File \"C:\\Users\\zakst\\anaconda3\\lib\\site-packages\\ci_rvm\\ci_rvm.py\", line 372, in test_precision\n",
      "    fActual = fun(xTmp)\n",
      "  File \"C:\\Users\\zakst\\anaconda3\\lib\\site-packages\\ci_rvm\\ci_rvm.py\", line 146, in __call__\n",
      "    return self.fun(*args, **kwargs)\n",
      "  File \"C:\\Users\\zakst\\Documents\\NIH\\Git clone\\CovidEM\\Executables\\CovidEM2.py\", line 293, in neg_Covid_KL2\n",
      "    return -1 * Covid_KL2(theta0, prem_global, cases_global, countries_global)\n",
      "  File \"C:\\Users\\zakst\\Documents\\NIH\\Git clone\\CovidEM\\Executables\\CovidEM2.py\", line 254, in Covid_KL2\n",
      "    res = Covid_KL_k2(theta0, prem_in[country_codes[i]], cases_in[country_codes[i]])\n",
      "  File \"C:\\Users\\zakst\\Documents\\NIH\\Git clone\\CovidEM\\Executables\\CovidEM2.py\", line 226, in Covid_KL_k2\n",
      "    u_tilda = scv_eig2(s = theta0[0:(int(len(theta0)/2))], c = prem_in, v = theta0[(int(len(theta0)/2)):])\n",
      "  File \"C:\\Users\\zakst\\Documents\\NIH\\Git clone\\CovidEM\\Executables\\CovidEM2.py\", line 150, in scv_eig2\n",
      "    else: assert(False), \"Unknown number detected in SCV: (%f)\" % builder[i,j]\n",
      "AssertionError: Unknown number detected in SCV: (nan)\n"
     ]
    },
    {
     "name": "stderr",
     "output_type": "stream",
     "text": [
      "C:\\Users\\zakst\\Documents\\NIH\\Git clone\\CovidEM\\Executables\\CovidEM2.py:172: UserWarning: Eigenvector contains both negative and positive elements\n",
      "  warnings.warn(\"Eigenvector contains both negative and positive elements\")\n"
     ]
    },
    {
     "name": "stdout",
     "output_type": "stream",
     "text": [
      "Traceback (most recent call last):\n",
      "  File \"C:\\Users\\zakst\\anaconda3\\lib\\site-packages\\ci_rvm\\ci_rvm.py\", line 805, in find_CI_bound\n",
      "    precise, fActual, JActual = test_precision()\n",
      "  File \"C:\\Users\\zakst\\anaconda3\\lib\\site-packages\\ci_rvm\\ci_rvm.py\", line 372, in test_precision\n",
      "    fActual = fun(xTmp)\n",
      "  File \"C:\\Users\\zakst\\anaconda3\\lib\\site-packages\\ci_rvm\\ci_rvm.py\", line 146, in __call__\n",
      "    return self.fun(*args, **kwargs)\n",
      "  File \"C:\\Users\\zakst\\anaconda3\\lib\\site-packages\\ci_rvm\\ci_rvm.py\", line 246, in <lambda>\n",
      "    fun = lambda x: fun2(flip(x))\n",
      "  File \"C:\\Users\\zakst\\Documents\\NIH\\Git clone\\CovidEM\\Executables\\CovidEM2.py\", line 293, in neg_Covid_KL2\n",
      "    return -1 * Covid_KL2(theta0, prem_global, cases_global, countries_global)\n",
      "  File \"C:\\Users\\zakst\\Documents\\NIH\\Git clone\\CovidEM\\Executables\\CovidEM2.py\", line 254, in Covid_KL2\n",
      "    res = Covid_KL_k2(theta0, prem_in[country_codes[i]], cases_in[country_codes[i]])\n",
      "  File \"C:\\Users\\zakst\\Documents\\NIH\\Git clone\\CovidEM\\Executables\\CovidEM2.py\", line 226, in Covid_KL_k2\n",
      "    u_tilda = scv_eig2(s = theta0[0:(int(len(theta0)/2))], c = prem_in, v = theta0[(int(len(theta0)/2)):])\n",
      "  File \"C:\\Users\\zakst\\Documents\\NIH\\Git clone\\CovidEM\\Executables\\CovidEM2.py\", line 188, in scv_eig2\n",
      "    assert(sum((i > 0) for i in eig) >= len(eig)), eig #Assert positive\n",
      "AssertionError: [-3.752849527307318e-33, -3.275630783138253e-33, -5.762104992171212e-33, -9.044905792151984e-33, -3.2560102850104896e-32, -3.6874744790546825e-32, -3.998025686274197e-32, -3.8153820282513464e-32, 1.4852932205633897, -0.4852932205633895, -7.11827215031493e-32, -7.416845645493912e-32, -5.741079771577237e-32, -4.997824958469448e-32, -4.7862535551612963e-32, -3.0401901626086634e-32]\n"
     ]
    },
    {
     "name": "stderr",
     "output_type": "stream",
     "text": [
      "C:\\Users\\zakst\\Documents\\NIH\\Git clone\\CovidEM\\Executables\\CovidEM2.py:172: UserWarning: Eigenvector contains both negative and positive elements\n",
      "  warnings.warn(\"Eigenvector contains both negative and positive elements\")\n"
     ]
    },
    {
     "name": "stdout",
     "output_type": "stream",
     "text": [
      "Traceback (most recent call last):\n",
      "  File \"C:\\Users\\zakst\\anaconda3\\lib\\site-packages\\ci_rvm\\ci_rvm.py\", line 1214, in find_CI_bound\n",
      "    H = hess(x)\n",
      "  File \"C:\\Users\\zakst\\anaconda3\\lib\\site-packages\\ci_rvm\\ci_rvm.py\", line 146, in __call__\n",
      "    return self.fun(*args, **kwargs)\n",
      "  File \"C:\\Users\\zakst\\anaconda3\\lib\\site-packages\\ci_rvm\\ci_rvm.py\", line 255, in <lambda>\n",
      "    hess = lambda x: np.asarray(hess2(x))\n",
      "  File \"C:\\Users\\zakst\\anaconda3\\lib\\site-packages\\numdifftools\\core.py\", line 538, in __call__\n",
      "    return super(Hessdiag, self).__call__(np.atleast_1d(x), *args, **kwds)\n",
      "  File \"C:\\Users\\zakst\\anaconda3\\lib\\site-packages\\numdifftools\\core.py\", line 288, in __call__\n",
      "    results, f_xi = self._derivative(x_i, args, kwds)\n",
      "  File \"C:\\Users\\zakst\\anaconda3\\lib\\site-packages\\numdifftools\\core.py\", line 238, in _derivative_nonzero_order\n",
      "    results = [diff(f, fxi, x_i, h) for h in steps]\n",
      "  File \"C:\\Users\\zakst\\anaconda3\\lib\\site-packages\\numdifftools\\core.py\", line 238, in <listcomp>\n",
      "    results = [diff(f, fxi, x_i, h) for h in steps]\n",
      "  File \"C:\\Users\\zakst\\anaconda3\\lib\\site-packages\\numdifftools\\finite_difference.py\", line 282, in _central_even\n",
      "    hess[i, i] = (f(x + 2 * e_i) - 2 * f_x + f(x - 2 * e_i)) / (4. * hess[i, i])\n",
      "  File \"C:\\Users\\zakst\\anaconda3\\lib\\site-packages\\numdifftools\\core.py\", line 257, in export_fun\n",
      "    return fun(x, *args, **kwds)\n",
      "  File \"C:\\Users\\zakst\\Documents\\NIH\\Git clone\\CovidEM\\Executables\\CovidEM2.py\", line 293, in neg_Covid_KL2\n",
      "    return -1 * Covid_KL2(theta0, prem_global, cases_global, countries_global)\n",
      "  File \"C:\\Users\\zakst\\Documents\\NIH\\Git clone\\CovidEM\\Executables\\CovidEM2.py\", line 254, in Covid_KL2\n",
      "    res = Covid_KL_k2(theta0, prem_in[country_codes[i]], cases_in[country_codes[i]])\n",
      "  File \"C:\\Users\\zakst\\Documents\\NIH\\Git clone\\CovidEM\\Executables\\CovidEM2.py\", line 226, in Covid_KL_k2\n",
      "    u_tilda = scv_eig2(s = theta0[0:(int(len(theta0)/2))], c = prem_in, v = theta0[(int(len(theta0)/2)):])\n",
      "  File \"C:\\Users\\zakst\\Documents\\NIH\\Git clone\\CovidEM\\Executables\\CovidEM2.py\", line 188, in scv_eig2\n",
      "    assert(sum((i > 0) for i in eig) >= len(eig)), eig #Assert positive\n",
      "AssertionError: [0.006318946987376986, 0.008971519611670987, 0.008999123881659753, 0.019186007854168807, 0.040811882625626246, 0.04863326903260445, 0.08562425931601723, 0.05998733407081287, -0.0694093412645513, 0.09016306152399653, 0.07237198327420144, 0.15291555276893884, 0.15097074998552013, 0.09513584197312226, 0.1601723173739655, 0.06914749098486923]\n"
     ]
    },
    {
     "name": "stderr",
     "output_type": "stream",
     "text": [
      "C:\\Users\\zakst\\Documents\\NIH\\Git clone\\CovidEM\\Executables\\CovidEM2.py:172: UserWarning: Eigenvector contains both negative and positive elements\n",
      "  warnings.warn(\"Eigenvector contains both negative and positive elements\")\n"
     ]
    },
    {
     "name": "stdout",
     "output_type": "stream",
     "text": [
      "Traceback (most recent call last):\n",
      "  File \"C:\\Users\\zakst\\anaconda3\\lib\\site-packages\\ci_rvm\\ci_rvm.py\", line 805, in find_CI_bound\n",
      "    precise, fActual, JActual = test_precision()\n",
      "  File \"C:\\Users\\zakst\\anaconda3\\lib\\site-packages\\ci_rvm\\ci_rvm.py\", line 372, in test_precision\n",
      "    fActual = fun(xTmp)\n",
      "  File \"C:\\Users\\zakst\\anaconda3\\lib\\site-packages\\ci_rvm\\ci_rvm.py\", line 146, in __call__\n",
      "    return self.fun(*args, **kwargs)\n",
      "  File \"C:\\Users\\zakst\\anaconda3\\lib\\site-packages\\ci_rvm\\ci_rvm.py\", line 246, in <lambda>\n",
      "    fun = lambda x: fun2(flip(x))\n",
      "  File \"C:\\Users\\zakst\\Documents\\NIH\\Git clone\\CovidEM\\Executables\\CovidEM2.py\", line 293, in neg_Covid_KL2\n",
      "    return -1 * Covid_KL2(theta0, prem_global, cases_global, countries_global)\n",
      "  File \"C:\\Users\\zakst\\Documents\\NIH\\Git clone\\CovidEM\\Executables\\CovidEM2.py\", line 254, in Covid_KL2\n",
      "    res = Covid_KL_k2(theta0, prem_in[country_codes[i]], cases_in[country_codes[i]])\n",
      "  File \"C:\\Users\\zakst\\Documents\\NIH\\Git clone\\CovidEM\\Executables\\CovidEM2.py\", line 226, in Covid_KL_k2\n",
      "    u_tilda = scv_eig2(s = theta0[0:(int(len(theta0)/2))], c = prem_in, v = theta0[(int(len(theta0)/2)):])\n",
      "  File \"C:\\Users\\zakst\\Documents\\NIH\\Git clone\\CovidEM\\Executables\\CovidEM2.py\", line 188, in scv_eig2\n",
      "    assert(sum((i > 0) for i in eig) >= len(eig)), eig #Assert positive\n",
      "AssertionError: [-9.943032287093549e-11, 1.000000020578925, -6.723542238166244e-10, -6.474401831437309e-10, -1.2840394295456855e-09, -8.431449397404558e-10, -1.0027483045062655e-09, -1.7646919590732846e-09, -4.768598306510618e-09, -3.545229866106373e-09, -2.9402798450981604e-09, -1.1496310711130018e-09, -1.9458649417655997e-10, -2.9803561845842306e-10, -9.917034525249722e-10, -3.7701112006725733e-10]\n"
     ]
    },
    {
     "name": "stderr",
     "output_type": "stream",
     "text": [
      "C:\\Users\\zakst\\Documents\\NIH\\Git clone\\CovidEM\\Executables\\CovidEM2.py:172: UserWarning: Eigenvector contains both negative and positive elements\n",
      "  warnings.warn(\"Eigenvector contains both negative and positive elements\")\n"
     ]
    },
    {
     "name": "stdout",
     "output_type": "stream",
     "text": [
      "Traceback (most recent call last):\n",
      "  File \"C:\\Users\\zakst\\anaconda3\\lib\\site-packages\\ci_rvm\\ci_rvm.py\", line 805, in find_CI_bound\n",
      "    precise, fActual, JActual = test_precision()\n",
      "  File \"C:\\Users\\zakst\\anaconda3\\lib\\site-packages\\ci_rvm\\ci_rvm.py\", line 372, in test_precision\n",
      "    fActual = fun(xTmp)\n",
      "  File \"C:\\Users\\zakst\\anaconda3\\lib\\site-packages\\ci_rvm\\ci_rvm.py\", line 146, in __call__\n",
      "    return self.fun(*args, **kwargs)\n",
      "  File \"C:\\Users\\zakst\\Documents\\NIH\\Git clone\\CovidEM\\Executables\\CovidEM2.py\", line 293, in neg_Covid_KL2\n",
      "    return -1 * Covid_KL2(theta0, prem_global, cases_global, countries_global)\n",
      "  File \"C:\\Users\\zakst\\Documents\\NIH\\Git clone\\CovidEM\\Executables\\CovidEM2.py\", line 254, in Covid_KL2\n",
      "    res = Covid_KL_k2(theta0, prem_in[country_codes[i]], cases_in[country_codes[i]])\n",
      "  File \"C:\\Users\\zakst\\Documents\\NIH\\Git clone\\CovidEM\\Executables\\CovidEM2.py\", line 226, in Covid_KL_k2\n",
      "    u_tilda = scv_eig2(s = theta0[0:(int(len(theta0)/2))], c = prem_in, v = theta0[(int(len(theta0)/2)):])\n",
      "  File \"C:\\Users\\zakst\\Documents\\NIH\\Git clone\\CovidEM\\Executables\\CovidEM2.py\", line 188, in scv_eig2\n",
      "    assert(sum((i > 0) for i in eig) >= len(eig)), eig #Assert positive\n",
      "AssertionError: [2.9286801919541803e-07, -0.024855741899807694, 1.0247134105860844, 1.4134963117286529e-06, 6.910937091728563e-06, 1.1301595984667556e-05, 1.3379657572020854e-05, 1.4987242480723457e-05, 1.404572053804652e-05, 1.044233645649711e-05, 8.941451599480806e-06, 1.9096321912631247e-05, 1.7274249295282125e-05, 1.0143789464751616e-05, 5.161959529811867e-06, 8.93968746691475e-06]\n"
     ]
    },
    {
     "name": "stderr",
     "output_type": "stream",
     "text": [
      "C:\\Users\\zakst\\Documents\\NIH\\Git clone\\CovidEM\\Executables\\CovidEM2.py:172: UserWarning: Eigenvector contains both negative and positive elements\n",
      "  warnings.warn(\"Eigenvector contains both negative and positive elements\")\n"
     ]
    },
    {
     "name": "stdout",
     "output_type": "stream",
     "text": [
      "Traceback (most recent call last):\n",
      "  File \"C:\\Users\\zakst\\anaconda3\\lib\\site-packages\\ci_rvm\\ci_rvm.py\", line 805, in find_CI_bound\n",
      "    precise, fActual, JActual = test_precision()\n",
      "  File \"C:\\Users\\zakst\\anaconda3\\lib\\site-packages\\ci_rvm\\ci_rvm.py\", line 372, in test_precision\n",
      "    fActual = fun(xTmp)\n",
      "  File \"C:\\Users\\zakst\\anaconda3\\lib\\site-packages\\ci_rvm\\ci_rvm.py\", line 146, in __call__\n",
      "    return self.fun(*args, **kwargs)\n",
      "  File \"C:\\Users\\zakst\\anaconda3\\lib\\site-packages\\ci_rvm\\ci_rvm.py\", line 246, in <lambda>\n",
      "    fun = lambda x: fun2(flip(x))\n",
      "  File \"C:\\Users\\zakst\\Documents\\NIH\\Git clone\\CovidEM\\Executables\\CovidEM2.py\", line 293, in neg_Covid_KL2\n",
      "    return -1 * Covid_KL2(theta0, prem_global, cases_global, countries_global)\n",
      "  File \"C:\\Users\\zakst\\Documents\\NIH\\Git clone\\CovidEM\\Executables\\CovidEM2.py\", line 254, in Covid_KL2\n",
      "    res = Covid_KL_k2(theta0, prem_in[country_codes[i]], cases_in[country_codes[i]])\n",
      "  File \"C:\\Users\\zakst\\Documents\\NIH\\Git clone\\CovidEM\\Executables\\CovidEM2.py\", line 226, in Covid_KL_k2\n",
      "    u_tilda = scv_eig2(s = theta0[0:(int(len(theta0)/2))], c = prem_in, v = theta0[(int(len(theta0)/2)):])\n",
      "  File \"C:\\Users\\zakst\\Documents\\NIH\\Git clone\\CovidEM\\Executables\\CovidEM2.py\", line 188, in scv_eig2\n",
      "    assert(sum((i > 0) for i in eig) >= len(eig)), eig #Assert positive\n",
      "AssertionError: [6.875910975450635e-83, 0.0097486866274348, 0.9902513133725651, -5.0704934680930754e-33, -9.21575179740427e-33, 5.458366851956921e-65, -3.484236366144279e-65, 4.0579157534353037e-81, 3.1740729619258945e-81, 2.6736142628892758e-81, 2.2924448135305744e-81, 4.258567709561199e-81, 3.435483960585023e-81, 2.1849109064073376e-81, 9.714613143091603e-82, 1.6751922944460597e-81]\n",
      "Traceback (most recent call last):\n",
      "  File \"C:\\Users\\zakst\\anaconda3\\lib\\site-packages\\ci_rvm\\ci_rvm.py\", line 805, in find_CI_bound\n",
      "    precise, fActual, JActual = test_precision()\n",
      "  File \"C:\\Users\\zakst\\anaconda3\\lib\\site-packages\\ci_rvm\\ci_rvm.py\", line 372, in test_precision\n",
      "    fActual = fun(xTmp)\n",
      "  File \"C:\\Users\\zakst\\anaconda3\\lib\\site-packages\\ci_rvm\\ci_rvm.py\", line 146, in __call__\n",
      "    return self.fun(*args, **kwargs)\n",
      "  File \"C:\\Users\\zakst\\Documents\\NIH\\Git clone\\CovidEM\\Executables\\CovidEM2.py\", line 293, in neg_Covid_KL2\n",
      "    return -1 * Covid_KL2(theta0, prem_global, cases_global, countries_global)\n",
      "  File \"C:\\Users\\zakst\\Documents\\NIH\\Git clone\\CovidEM\\Executables\\CovidEM2.py\", line 254, in Covid_KL2\n",
      "    res = Covid_KL_k2(theta0, prem_in[country_codes[i]], cases_in[country_codes[i]])\n",
      "  File \"C:\\Users\\zakst\\Documents\\NIH\\Git clone\\CovidEM\\Executables\\CovidEM2.py\", line 226, in Covid_KL_k2\n",
      "    u_tilda = scv_eig2(s = theta0[0:(int(len(theta0)/2))], c = prem_in, v = theta0[(int(len(theta0)/2)):])\n",
      "  File \"C:\\Users\\zakst\\Documents\\NIH\\Git clone\\CovidEM\\Executables\\CovidEM2.py\", line 188, in scv_eig2\n",
      "    assert(sum((i > 0) for i in eig) >= len(eig)), eig #Assert positive\n",
      "AssertionError: [1.6042273886763235e-07, -0.13310783433794957, 1.133029579074629, 7.804872079694701e-07, 2.57588437195147e-06, 6.823237251956626e-06, 1.0231891283547057e-05, 9.467614217870383e-06, 7.405534145932115e-06, 6.2378974756976336e-06, 5.348539259836153e-06, 9.935731691695452e-06, 8.015392824926134e-06, 5.097657099623885e-06, 2.266540697177992e-06, 3.908433053416105e-06]\n",
      "\n",
      "\n",
      "\n",
      "Done a3\n",
      "\n",
      "\n"
     ]
    },
    {
     "name": "stderr",
     "output_type": "stream",
     "text": [
      "C:\\Users\\zakst\\Documents\\NIH\\Git clone\\CovidEM\\Executables\\CovidEM2.py:172: UserWarning: Eigenvector contains both negative and positive elements\n",
      "  warnings.warn(\"Eigenvector contains both negative and positive elements\")\n"
     ]
    }
   ],
   "source": [
    "cis_2a1 = CovidEM2.CI_calc2(best_res_x, CovidEM2.neg_Covid_KL2)\n",
    "print(\"\\n\\n\\nDone a1\\n\\n\")\n",
    "#cis_2a2 = CovidEM2.CI_calc2(best_res_x, CovidEM2.neg_Covid_KL2)\n",
    "print(\"\\n\\n\\nDone a2\\n\\n\")\n",
    "#cis_2a3 = CovidEM2.CI_calc2(best_res_x, CovidEM2.neg_Covid_KL2)\n",
    "#print(\"\\n\\n\\nDone a3\\n\\n\")"
   ]
  },
  {
   "cell_type": "code",
   "execution_count": 72,
   "id": "a87407ca",
   "metadata": {
    "scrolled": true
   },
   "outputs": [
    {
     "name": "stderr",
     "output_type": "stream",
     "text": [
      "C:\\Users\\zakst\\Documents\\NIH\\Git clone\\CovidEM\\Executables\\CovidEM2.py:239: RuntimeWarning: overflow encountered in exp\n",
      "  params[i] = np.exp(params_in[i])\n"
     ]
    },
    {
     "name": "stdout",
     "output_type": "stream",
     "text": [
      "Traceback (most recent call last):\n",
      "  File \"C:\\Users\\zakst\\anaconda3\\lib\\site-packages\\ci_rvm\\ci_rvm.py\", line 805, in find_CI_bound\n",
      "    precise, fActual, JActual = test_precision()\n",
      "  File \"C:\\Users\\zakst\\anaconda3\\lib\\site-packages\\ci_rvm\\ci_rvm.py\", line 372, in test_precision\n",
      "    fActual = fun(xTmp)\n",
      "  File \"C:\\Users\\zakst\\anaconda3\\lib\\site-packages\\ci_rvm\\ci_rvm.py\", line 146, in __call__\n",
      "    return self.fun(*args, **kwargs)\n",
      "  File \"C:\\Users\\zakst\\anaconda3\\lib\\site-packages\\ci_rvm\\ci_rvm.py\", line 246, in <lambda>\n",
      "    fun = lambda x: fun2(flip(x))\n",
      "  File \"C:\\Users\\zakst\\Documents\\NIH\\Git clone\\CovidEM\\Executables\\CovidEM2.py\", line 293, in neg_Covid_KL2\n",
      "    return -1 * Covid_KL2(theta0, prem_global, cases_global, countries_global)\n",
      "  File \"C:\\Users\\zakst\\Documents\\NIH\\Git clone\\CovidEM\\Executables\\CovidEM2.py\", line 254, in Covid_KL2\n",
      "    res = Covid_KL_k2(theta0, prem_in[country_codes[i]], cases_in[country_codes[i]])\n",
      "  File \"C:\\Users\\zakst\\Documents\\NIH\\Git clone\\CovidEM\\Executables\\CovidEM2.py\", line 226, in Covid_KL_k2\n",
      "    u_tilda = scv_eig2(s = theta0[0:(int(len(theta0)/2))], c = prem_in, v = theta0[(int(len(theta0)/2)):])\n",
      "  File \"C:\\Users\\zakst\\Documents\\NIH\\Git clone\\CovidEM\\Executables\\CovidEM2.py\", line 155, in scv_eig2\n",
      "    eigs = la.eig(builder)\n",
      "  File \"<__array_function__ internals>\", line 5, in eig\n",
      "  File \"C:\\Users\\zakst\\anaconda3\\lib\\site-packages\\numpy\\linalg\\linalg.py\", line 1317, in eig\n",
      "    _assert_finite(a)\n",
      "  File \"C:\\Users\\zakst\\anaconda3\\lib\\site-packages\\numpy\\linalg\\linalg.py\", line 208, in _assert_finite\n",
      "    raise LinAlgError(\"Array must not contain infs or NaNs\")\n",
      "numpy.linalg.LinAlgError: Array must not contain infs or NaNs\n"
     ]
    },
    {
     "name": "stderr",
     "output_type": "stream",
     "text": [
      "C:\\Users\\zakst\\Documents\\NIH\\Git clone\\CovidEM\\Executables\\CovidEM2.py:239: RuntimeWarning: overflow encountered in exp\n",
      "  params[i] = np.exp(params_in[i])\n"
     ]
    },
    {
     "name": "stdout",
     "output_type": "stream",
     "text": [
      "Traceback (most recent call last):\n",
      "  File \"C:\\Users\\zakst\\anaconda3\\lib\\site-packages\\ci_rvm\\ci_rvm.py\", line 805, in find_CI_bound\n",
      "    precise, fActual, JActual = test_precision()\n",
      "  File \"C:\\Users\\zakst\\anaconda3\\lib\\site-packages\\ci_rvm\\ci_rvm.py\", line 372, in test_precision\n",
      "    fActual = fun(xTmp)\n",
      "  File \"C:\\Users\\zakst\\anaconda3\\lib\\site-packages\\ci_rvm\\ci_rvm.py\", line 146, in __call__\n",
      "    return self.fun(*args, **kwargs)\n",
      "  File \"C:\\Users\\zakst\\Documents\\NIH\\Git clone\\CovidEM\\Executables\\CovidEM2.py\", line 293, in neg_Covid_KL2\n",
      "    return -1 * Covid_KL2(theta0, prem_global, cases_global, countries_global)\n",
      "  File \"C:\\Users\\zakst\\Documents\\NIH\\Git clone\\CovidEM\\Executables\\CovidEM2.py\", line 254, in Covid_KL2\n",
      "    res = Covid_KL_k2(theta0, prem_in[country_codes[i]], cases_in[country_codes[i]])\n",
      "  File \"C:\\Users\\zakst\\Documents\\NIH\\Git clone\\CovidEM\\Executables\\CovidEM2.py\", line 226, in Covid_KL_k2\n",
      "    u_tilda = scv_eig2(s = theta0[0:(int(len(theta0)/2))], c = prem_in, v = theta0[(int(len(theta0)/2)):])\n",
      "  File \"C:\\Users\\zakst\\Documents\\NIH\\Git clone\\CovidEM\\Executables\\CovidEM2.py\", line 155, in scv_eig2\n",
      "    eigs = la.eig(builder)\n",
      "  File \"<__array_function__ internals>\", line 5, in eig\n",
      "  File \"C:\\Users\\zakst\\anaconda3\\lib\\site-packages\\numpy\\linalg\\linalg.py\", line 1317, in eig\n",
      "    _assert_finite(a)\n",
      "  File \"C:\\Users\\zakst\\anaconda3\\lib\\site-packages\\numpy\\linalg\\linalg.py\", line 208, in _assert_finite\n",
      "    raise LinAlgError(\"Array must not contain infs or NaNs\")\n",
      "numpy.linalg.LinAlgError: Array must not contain infs or NaNs\n"
     ]
    },
    {
     "name": "stderr",
     "output_type": "stream",
     "text": [
      "C:\\Users\\zakst\\Documents\\NIH\\Git clone\\CovidEM\\Executables\\CovidEM2.py:239: RuntimeWarning: overflow encountered in exp\n",
      "  params[i] = np.exp(params_in[i])\n"
     ]
    },
    {
     "name": "stdout",
     "output_type": "stream",
     "text": [
      "Traceback (most recent call last):\n",
      "  File \"C:\\Users\\zakst\\anaconda3\\lib\\site-packages\\ci_rvm\\ci_rvm.py\", line 805, in find_CI_bound\n",
      "    precise, fActual, JActual = test_precision()\n",
      "  File \"C:\\Users\\zakst\\anaconda3\\lib\\site-packages\\ci_rvm\\ci_rvm.py\", line 372, in test_precision\n",
      "    fActual = fun(xTmp)\n",
      "  File \"C:\\Users\\zakst\\anaconda3\\lib\\site-packages\\ci_rvm\\ci_rvm.py\", line 146, in __call__\n",
      "    return self.fun(*args, **kwargs)\n",
      "  File \"C:\\Users\\zakst\\anaconda3\\lib\\site-packages\\ci_rvm\\ci_rvm.py\", line 246, in <lambda>\n",
      "    fun = lambda x: fun2(flip(x))\n",
      "  File \"C:\\Users\\zakst\\Documents\\NIH\\Git clone\\CovidEM\\Executables\\CovidEM2.py\", line 293, in neg_Covid_KL2\n",
      "    return -1 * Covid_KL2(theta0, prem_global, cases_global, countries_global)\n",
      "  File \"C:\\Users\\zakst\\Documents\\NIH\\Git clone\\CovidEM\\Executables\\CovidEM2.py\", line 254, in Covid_KL2\n",
      "    res = Covid_KL_k2(theta0, prem_in[country_codes[i]], cases_in[country_codes[i]])\n",
      "  File \"C:\\Users\\zakst\\Documents\\NIH\\Git clone\\CovidEM\\Executables\\CovidEM2.py\", line 226, in Covid_KL_k2\n",
      "    u_tilda = scv_eig2(s = theta0[0:(int(len(theta0)/2))], c = prem_in, v = theta0[(int(len(theta0)/2)):])\n",
      "  File \"C:\\Users\\zakst\\Documents\\NIH\\Git clone\\CovidEM\\Executables\\CovidEM2.py\", line 155, in scv_eig2\n",
      "    eigs = la.eig(builder)\n",
      "  File \"<__array_function__ internals>\", line 5, in eig\n",
      "  File \"C:\\Users\\zakst\\anaconda3\\lib\\site-packages\\numpy\\linalg\\linalg.py\", line 1317, in eig\n",
      "    _assert_finite(a)\n",
      "  File \"C:\\Users\\zakst\\anaconda3\\lib\\site-packages\\numpy\\linalg\\linalg.py\", line 208, in _assert_finite\n",
      "    raise LinAlgError(\"Array must not contain infs or NaNs\")\n",
      "numpy.linalg.LinAlgError: Array must not contain infs or NaNs\n"
     ]
    },
    {
     "name": "stderr",
     "output_type": "stream",
     "text": [
      "C:\\Users\\zakst\\Documents\\NIH\\Git clone\\CovidEM\\Executables\\CovidEM2.py:239: RuntimeWarning: overflow encountered in exp\n",
      "  params[i] = np.exp(params_in[i])\n"
     ]
    },
    {
     "name": "stdout",
     "output_type": "stream",
     "text": [
      "Traceback (most recent call last):\n",
      "  File \"C:\\Users\\zakst\\anaconda3\\lib\\site-packages\\ci_rvm\\ci_rvm.py\", line 805, in find_CI_bound\n",
      "    precise, fActual, JActual = test_precision()\n",
      "  File \"C:\\Users\\zakst\\anaconda3\\lib\\site-packages\\ci_rvm\\ci_rvm.py\", line 372, in test_precision\n",
      "    fActual = fun(xTmp)\n",
      "  File \"C:\\Users\\zakst\\anaconda3\\lib\\site-packages\\ci_rvm\\ci_rvm.py\", line 146, in __call__\n",
      "    return self.fun(*args, **kwargs)\n",
      "  File \"C:\\Users\\zakst\\Documents\\NIH\\Git clone\\CovidEM\\Executables\\CovidEM2.py\", line 293, in neg_Covid_KL2\n",
      "    return -1 * Covid_KL2(theta0, prem_global, cases_global, countries_global)\n",
      "  File \"C:\\Users\\zakst\\Documents\\NIH\\Git clone\\CovidEM\\Executables\\CovidEM2.py\", line 254, in Covid_KL2\n",
      "    res = Covid_KL_k2(theta0, prem_in[country_codes[i]], cases_in[country_codes[i]])\n",
      "  File \"C:\\Users\\zakst\\Documents\\NIH\\Git clone\\CovidEM\\Executables\\CovidEM2.py\", line 226, in Covid_KL_k2\n",
      "    u_tilda = scv_eig2(s = theta0[0:(int(len(theta0)/2))], c = prem_in, v = theta0[(int(len(theta0)/2)):])\n",
      "  File \"C:\\Users\\zakst\\Documents\\NIH\\Git clone\\CovidEM\\Executables\\CovidEM2.py\", line 155, in scv_eig2\n",
      "    eigs = la.eig(builder)\n",
      "  File \"<__array_function__ internals>\", line 5, in eig\n",
      "  File \"C:\\Users\\zakst\\anaconda3\\lib\\site-packages\\numpy\\linalg\\linalg.py\", line 1317, in eig\n",
      "    _assert_finite(a)\n",
      "  File \"C:\\Users\\zakst\\anaconda3\\lib\\site-packages\\numpy\\linalg\\linalg.py\", line 208, in _assert_finite\n",
      "    raise LinAlgError(\"Array must not contain infs or NaNs\")\n",
      "numpy.linalg.LinAlgError: Array must not contain infs or NaNs\n"
     ]
    },
    {
     "name": "stderr",
     "output_type": "stream",
     "text": [
      "C:\\Users\\zakst\\Documents\\NIH\\Git clone\\CovidEM\\Executables\\CovidEM2.py:239: RuntimeWarning: overflow encountered in exp\n",
      "  params[i] = np.exp(params_in[i])\n"
     ]
    },
    {
     "name": "stdout",
     "output_type": "stream",
     "text": [
      "Traceback (most recent call last):\n",
      "  File \"C:\\Users\\zakst\\anaconda3\\lib\\site-packages\\ci_rvm\\ci_rvm.py\", line 805, in find_CI_bound\n",
      "    precise, fActual, JActual = test_precision()\n",
      "  File \"C:\\Users\\zakst\\anaconda3\\lib\\site-packages\\ci_rvm\\ci_rvm.py\", line 372, in test_precision\n",
      "    fActual = fun(xTmp)\n",
      "  File \"C:\\Users\\zakst\\anaconda3\\lib\\site-packages\\ci_rvm\\ci_rvm.py\", line 146, in __call__\n",
      "    return self.fun(*args, **kwargs)\n",
      "  File \"C:\\Users\\zakst\\anaconda3\\lib\\site-packages\\ci_rvm\\ci_rvm.py\", line 246, in <lambda>\n",
      "    fun = lambda x: fun2(flip(x))\n",
      "  File \"C:\\Users\\zakst\\Documents\\NIH\\Git clone\\CovidEM\\Executables\\CovidEM2.py\", line 293, in neg_Covid_KL2\n",
      "    return -1 * Covid_KL2(theta0, prem_global, cases_global, countries_global)\n",
      "  File \"C:\\Users\\zakst\\Documents\\NIH\\Git clone\\CovidEM\\Executables\\CovidEM2.py\", line 254, in Covid_KL2\n",
      "    res = Covid_KL_k2(theta0, prem_in[country_codes[i]], cases_in[country_codes[i]])\n",
      "  File \"C:\\Users\\zakst\\Documents\\NIH\\Git clone\\CovidEM\\Executables\\CovidEM2.py\", line 226, in Covid_KL_k2\n",
      "    u_tilda = scv_eig2(s = theta0[0:(int(len(theta0)/2))], c = prem_in, v = theta0[(int(len(theta0)/2)):])\n",
      "  File \"C:\\Users\\zakst\\Documents\\NIH\\Git clone\\CovidEM\\Executables\\CovidEM2.py\", line 155, in scv_eig2\n",
      "    eigs = la.eig(builder)\n",
      "  File \"<__array_function__ internals>\", line 5, in eig\n",
      "  File \"C:\\Users\\zakst\\anaconda3\\lib\\site-packages\\numpy\\linalg\\linalg.py\", line 1317, in eig\n",
      "    _assert_finite(a)\n",
      "  File \"C:\\Users\\zakst\\anaconda3\\lib\\site-packages\\numpy\\linalg\\linalg.py\", line 208, in _assert_finite\n",
      "    raise LinAlgError(\"Array must not contain infs or NaNs\")\n",
      "numpy.linalg.LinAlgError: Array must not contain infs or NaNs\n"
     ]
    },
    {
     "name": "stderr",
     "output_type": "stream",
     "text": [
      "C:\\Users\\zakst\\Documents\\NIH\\Git clone\\CovidEM\\Executables\\CovidEM2.py:239: RuntimeWarning: overflow encountered in exp\n",
      "  params[i] = np.exp(params_in[i])\n"
     ]
    },
    {
     "name": "stdout",
     "output_type": "stream",
     "text": [
      "Traceback (most recent call last):\n",
      "  File \"C:\\Users\\zakst\\anaconda3\\lib\\site-packages\\ci_rvm\\ci_rvm.py\", line 805, in find_CI_bound\n",
      "    precise, fActual, JActual = test_precision()\n",
      "  File \"C:\\Users\\zakst\\anaconda3\\lib\\site-packages\\ci_rvm\\ci_rvm.py\", line 372, in test_precision\n",
      "    fActual = fun(xTmp)\n",
      "  File \"C:\\Users\\zakst\\anaconda3\\lib\\site-packages\\ci_rvm\\ci_rvm.py\", line 146, in __call__\n",
      "    return self.fun(*args, **kwargs)\n",
      "  File \"C:\\Users\\zakst\\Documents\\NIH\\Git clone\\CovidEM\\Executables\\CovidEM2.py\", line 293, in neg_Covid_KL2\n",
      "    return -1 * Covid_KL2(theta0, prem_global, cases_global, countries_global)\n",
      "  File \"C:\\Users\\zakst\\Documents\\NIH\\Git clone\\CovidEM\\Executables\\CovidEM2.py\", line 254, in Covid_KL2\n",
      "    res = Covid_KL_k2(theta0, prem_in[country_codes[i]], cases_in[country_codes[i]])\n",
      "  File \"C:\\Users\\zakst\\Documents\\NIH\\Git clone\\CovidEM\\Executables\\CovidEM2.py\", line 226, in Covid_KL_k2\n",
      "    u_tilda = scv_eig2(s = theta0[0:(int(len(theta0)/2))], c = prem_in, v = theta0[(int(len(theta0)/2)):])\n",
      "  File \"C:\\Users\\zakst\\Documents\\NIH\\Git clone\\CovidEM\\Executables\\CovidEM2.py\", line 155, in scv_eig2\n",
      "    eigs = la.eig(builder)\n",
      "  File \"<__array_function__ internals>\", line 5, in eig\n",
      "  File \"C:\\Users\\zakst\\anaconda3\\lib\\site-packages\\numpy\\linalg\\linalg.py\", line 1317, in eig\n",
      "    _assert_finite(a)\n",
      "  File \"C:\\Users\\zakst\\anaconda3\\lib\\site-packages\\numpy\\linalg\\linalg.py\", line 208, in _assert_finite\n",
      "    raise LinAlgError(\"Array must not contain infs or NaNs\")\n",
      "numpy.linalg.LinAlgError: Array must not contain infs or NaNs\n"
     ]
    },
    {
     "name": "stderr",
     "output_type": "stream",
     "text": [
      "C:\\Users\\zakst\\Documents\\NIH\\Git clone\\CovidEM\\Executables\\CovidEM2.py:239: RuntimeWarning: overflow encountered in exp\n",
      "  params[i] = np.exp(params_in[i])\n"
     ]
    },
    {
     "name": "stdout",
     "output_type": "stream",
     "text": [
      "Traceback (most recent call last):\n",
      "  File \"C:\\Users\\zakst\\anaconda3\\lib\\site-packages\\ci_rvm\\ci_rvm.py\", line 805, in find_CI_bound\n",
      "    precise, fActual, JActual = test_precision()\n",
      "  File \"C:\\Users\\zakst\\anaconda3\\lib\\site-packages\\ci_rvm\\ci_rvm.py\", line 372, in test_precision\n",
      "    fActual = fun(xTmp)\n",
      "  File \"C:\\Users\\zakst\\anaconda3\\lib\\site-packages\\ci_rvm\\ci_rvm.py\", line 146, in __call__\n",
      "    return self.fun(*args, **kwargs)\n",
      "  File \"C:\\Users\\zakst\\anaconda3\\lib\\site-packages\\ci_rvm\\ci_rvm.py\", line 246, in <lambda>\n",
      "    fun = lambda x: fun2(flip(x))\n",
      "  File \"C:\\Users\\zakst\\Documents\\NIH\\Git clone\\CovidEM\\Executables\\CovidEM2.py\", line 293, in neg_Covid_KL2\n",
      "    return -1 * Covid_KL2(theta0, prem_global, cases_global, countries_global)\n",
      "  File \"C:\\Users\\zakst\\Documents\\NIH\\Git clone\\CovidEM\\Executables\\CovidEM2.py\", line 254, in Covid_KL2\n",
      "    res = Covid_KL_k2(theta0, prem_in[country_codes[i]], cases_in[country_codes[i]])\n",
      "  File \"C:\\Users\\zakst\\Documents\\NIH\\Git clone\\CovidEM\\Executables\\CovidEM2.py\", line 226, in Covid_KL_k2\n",
      "    u_tilda = scv_eig2(s = theta0[0:(int(len(theta0)/2))], c = prem_in, v = theta0[(int(len(theta0)/2)):])\n",
      "  File \"C:\\Users\\zakst\\Documents\\NIH\\Git clone\\CovidEM\\Executables\\CovidEM2.py\", line 155, in scv_eig2\n",
      "    eigs = la.eig(builder)\n",
      "  File \"<__array_function__ internals>\", line 5, in eig\n",
      "  File \"C:\\Users\\zakst\\anaconda3\\lib\\site-packages\\numpy\\linalg\\linalg.py\", line 1317, in eig\n",
      "    _assert_finite(a)\n",
      "  File \"C:\\Users\\zakst\\anaconda3\\lib\\site-packages\\numpy\\linalg\\linalg.py\", line 208, in _assert_finite\n",
      "    raise LinAlgError(\"Array must not contain infs or NaNs\")\n",
      "numpy.linalg.LinAlgError: Array must not contain infs or NaNs\n"
     ]
    },
    {
     "name": "stderr",
     "output_type": "stream",
     "text": [
      "C:\\Users\\zakst\\Documents\\NIH\\Git clone\\CovidEM\\Executables\\CovidEM2.py:239: RuntimeWarning: overflow encountered in exp\n",
      "  params[i] = np.exp(params_in[i])\n"
     ]
    },
    {
     "name": "stdout",
     "output_type": "stream",
     "text": [
      "Traceback (most recent call last):\n",
      "  File \"C:\\Users\\zakst\\anaconda3\\lib\\site-packages\\ci_rvm\\ci_rvm.py\", line 805, in find_CI_bound\n",
      "    precise, fActual, JActual = test_precision()\n",
      "  File \"C:\\Users\\zakst\\anaconda3\\lib\\site-packages\\ci_rvm\\ci_rvm.py\", line 372, in test_precision\n",
      "    fActual = fun(xTmp)\n",
      "  File \"C:\\Users\\zakst\\anaconda3\\lib\\site-packages\\ci_rvm\\ci_rvm.py\", line 146, in __call__\n",
      "    return self.fun(*args, **kwargs)\n",
      "  File \"C:\\Users\\zakst\\Documents\\NIH\\Git clone\\CovidEM\\Executables\\CovidEM2.py\", line 293, in neg_Covid_KL2\n",
      "    return -1 * Covid_KL2(theta0, prem_global, cases_global, countries_global)\n",
      "  File \"C:\\Users\\zakst\\Documents\\NIH\\Git clone\\CovidEM\\Executables\\CovidEM2.py\", line 254, in Covid_KL2\n",
      "    res = Covid_KL_k2(theta0, prem_in[country_codes[i]], cases_in[country_codes[i]])\n",
      "  File \"C:\\Users\\zakst\\Documents\\NIH\\Git clone\\CovidEM\\Executables\\CovidEM2.py\", line 226, in Covid_KL_k2\n",
      "    u_tilda = scv_eig2(s = theta0[0:(int(len(theta0)/2))], c = prem_in, v = theta0[(int(len(theta0)/2)):])\n",
      "  File \"C:\\Users\\zakst\\Documents\\NIH\\Git clone\\CovidEM\\Executables\\CovidEM2.py\", line 155, in scv_eig2\n",
      "    eigs = la.eig(builder)\n",
      "  File \"<__array_function__ internals>\", line 5, in eig\n",
      "  File \"C:\\Users\\zakst\\anaconda3\\lib\\site-packages\\numpy\\linalg\\linalg.py\", line 1317, in eig\n",
      "    _assert_finite(a)\n",
      "  File \"C:\\Users\\zakst\\anaconda3\\lib\\site-packages\\numpy\\linalg\\linalg.py\", line 208, in _assert_finite\n",
      "    raise LinAlgError(\"Array must not contain infs or NaNs\")\n",
      "numpy.linalg.LinAlgError: Array must not contain infs or NaNs\n"
     ]
    },
    {
     "name": "stderr",
     "output_type": "stream",
     "text": [
      "C:\\Users\\zakst\\Documents\\NIH\\Git clone\\CovidEM\\Executables\\CovidEM2.py:239: RuntimeWarning: overflow encountered in exp\n",
      "  params[i] = np.exp(params_in[i])\n"
     ]
    },
    {
     "name": "stdout",
     "output_type": "stream",
     "text": [
      "Traceback (most recent call last):\n",
      "  File \"C:\\Users\\zakst\\anaconda3\\lib\\site-packages\\ci_rvm\\ci_rvm.py\", line 805, in find_CI_bound\n",
      "    precise, fActual, JActual = test_precision()\n",
      "  File \"C:\\Users\\zakst\\anaconda3\\lib\\site-packages\\ci_rvm\\ci_rvm.py\", line 372, in test_precision\n",
      "    fActual = fun(xTmp)\n",
      "  File \"C:\\Users\\zakst\\anaconda3\\lib\\site-packages\\ci_rvm\\ci_rvm.py\", line 146, in __call__\n",
      "    return self.fun(*args, **kwargs)\n",
      "  File \"C:\\Users\\zakst\\anaconda3\\lib\\site-packages\\ci_rvm\\ci_rvm.py\", line 246, in <lambda>\n",
      "    fun = lambda x: fun2(flip(x))\n",
      "  File \"C:\\Users\\zakst\\Documents\\NIH\\Git clone\\CovidEM\\Executables\\CovidEM2.py\", line 293, in neg_Covid_KL2\n",
      "    return -1 * Covid_KL2(theta0, prem_global, cases_global, countries_global)\n",
      "  File \"C:\\Users\\zakst\\Documents\\NIH\\Git clone\\CovidEM\\Executables\\CovidEM2.py\", line 254, in Covid_KL2\n",
      "    res = Covid_KL_k2(theta0, prem_in[country_codes[i]], cases_in[country_codes[i]])\n",
      "  File \"C:\\Users\\zakst\\Documents\\NIH\\Git clone\\CovidEM\\Executables\\CovidEM2.py\", line 226, in Covid_KL_k2\n",
      "    u_tilda = scv_eig2(s = theta0[0:(int(len(theta0)/2))], c = prem_in, v = theta0[(int(len(theta0)/2)):])\n",
      "  File \"C:\\Users\\zakst\\Documents\\NIH\\Git clone\\CovidEM\\Executables\\CovidEM2.py\", line 155, in scv_eig2\n",
      "    eigs = la.eig(builder)\n",
      "  File \"<__array_function__ internals>\", line 5, in eig\n",
      "  File \"C:\\Users\\zakst\\anaconda3\\lib\\site-packages\\numpy\\linalg\\linalg.py\", line 1317, in eig\n",
      "    _assert_finite(a)\n",
      "  File \"C:\\Users\\zakst\\anaconda3\\lib\\site-packages\\numpy\\linalg\\linalg.py\", line 208, in _assert_finite\n",
      "    raise LinAlgError(\"Array must not contain infs or NaNs\")\n",
      "numpy.linalg.LinAlgError: Array must not contain infs or NaNs\n"
     ]
    },
    {
     "name": "stderr",
     "output_type": "stream",
     "text": [
      "C:\\Users\\zakst\\Documents\\NIH\\Git clone\\CovidEM\\Executables\\CovidEM2.py:172: UserWarning: Eigenvector contains both negative and positive elements\n",
      "  warnings.warn(\"Eigenvector contains both negative and positive elements\")\n"
     ]
    },
    {
     "name": "stdout",
     "output_type": "stream",
     "text": [
      "Traceback (most recent call last):\n",
      "  File \"C:\\Users\\zakst\\anaconda3\\lib\\site-packages\\ci_rvm\\ci_rvm.py\", line 805, in find_CI_bound\n",
      "    precise, fActual, JActual = test_precision()\n",
      "  File \"C:\\Users\\zakst\\anaconda3\\lib\\site-packages\\ci_rvm\\ci_rvm.py\", line 372, in test_precision\n",
      "    fActual = fun(xTmp)\n",
      "  File \"C:\\Users\\zakst\\anaconda3\\lib\\site-packages\\ci_rvm\\ci_rvm.py\", line 146, in __call__\n",
      "    return self.fun(*args, **kwargs)\n",
      "  File \"C:\\Users\\zakst\\Documents\\NIH\\Git clone\\CovidEM\\Executables\\CovidEM2.py\", line 293, in neg_Covid_KL2\n",
      "    return -1 * Covid_KL2(theta0, prem_global, cases_global, countries_global)\n",
      "  File \"C:\\Users\\zakst\\Documents\\NIH\\Git clone\\CovidEM\\Executables\\CovidEM2.py\", line 254, in Covid_KL2\n",
      "    res = Covid_KL_k2(theta0, prem_in[country_codes[i]], cases_in[country_codes[i]])\n",
      "  File \"C:\\Users\\zakst\\Documents\\NIH\\Git clone\\CovidEM\\Executables\\CovidEM2.py\", line 226, in Covid_KL_k2\n",
      "    u_tilda = scv_eig2(s = theta0[0:(int(len(theta0)/2))], c = prem_in, v = theta0[(int(len(theta0)/2)):])\n",
      "  File \"C:\\Users\\zakst\\Documents\\NIH\\Git clone\\CovidEM\\Executables\\CovidEM2.py\", line 188, in scv_eig2\n",
      "    assert(sum((i > 0) for i in eig) >= len(eig)), eig #Assert positive\n",
      "AssertionError: [-2.343921715459292e-44, -2.0258675449938335e-44, -3.4800463570317056e-44, -5.611944902596555e-44, -1.9392290281656734e-43, -2.1675291178814813e-43, -2.4469219009182906e-43, -2.2988201033468526e-43, 1.0050859318323535, -0.005085931832353511, -4.2980579967384245e-43, -4.458061643812773e-43, -3.480659162617181e-43, -3.045996201647426e-43, -2.937759173233754e-43, -1.8185510233424708e-43]\n"
     ]
    },
    {
     "name": "stderr",
     "output_type": "stream",
     "text": [
      "C:\\Users\\zakst\\Documents\\NIH\\Git clone\\CovidEM\\Executables\\CovidEM2.py:239: RuntimeWarning: overflow encountered in exp\n",
      "  params[i] = np.exp(params_in[i])\n"
     ]
    },
    {
     "name": "stdout",
     "output_type": "stream",
     "text": [
      "Traceback (most recent call last):\n",
      "  File \"C:\\Users\\zakst\\anaconda3\\lib\\site-packages\\ci_rvm\\ci_rvm.py\", line 805, in find_CI_bound\n",
      "    precise, fActual, JActual = test_precision()\n",
      "  File \"C:\\Users\\zakst\\anaconda3\\lib\\site-packages\\ci_rvm\\ci_rvm.py\", line 372, in test_precision\n",
      "    fActual = fun(xTmp)\n",
      "  File \"C:\\Users\\zakst\\anaconda3\\lib\\site-packages\\ci_rvm\\ci_rvm.py\", line 146, in __call__\n",
      "    return self.fun(*args, **kwargs)\n",
      "  File \"C:\\Users\\zakst\\anaconda3\\lib\\site-packages\\ci_rvm\\ci_rvm.py\", line 246, in <lambda>\n",
      "    fun = lambda x: fun2(flip(x))\n",
      "  File \"C:\\Users\\zakst\\Documents\\NIH\\Git clone\\CovidEM\\Executables\\CovidEM2.py\", line 293, in neg_Covid_KL2\n",
      "    return -1 * Covid_KL2(theta0, prem_global, cases_global, countries_global)\n",
      "  File \"C:\\Users\\zakst\\Documents\\NIH\\Git clone\\CovidEM\\Executables\\CovidEM2.py\", line 254, in Covid_KL2\n",
      "    res = Covid_KL_k2(theta0, prem_in[country_codes[i]], cases_in[country_codes[i]])\n",
      "  File \"C:\\Users\\zakst\\Documents\\NIH\\Git clone\\CovidEM\\Executables\\CovidEM2.py\", line 226, in Covid_KL_k2\n",
      "    u_tilda = scv_eig2(s = theta0[0:(int(len(theta0)/2))], c = prem_in, v = theta0[(int(len(theta0)/2)):])\n",
      "  File \"C:\\Users\\zakst\\Documents\\NIH\\Git clone\\CovidEM\\Executables\\CovidEM2.py\", line 155, in scv_eig2\n",
      "    eigs = la.eig(builder)\n",
      "  File \"<__array_function__ internals>\", line 5, in eig\n",
      "  File \"C:\\Users\\zakst\\anaconda3\\lib\\site-packages\\numpy\\linalg\\linalg.py\", line 1317, in eig\n",
      "    _assert_finite(a)\n",
      "  File \"C:\\Users\\zakst\\anaconda3\\lib\\site-packages\\numpy\\linalg\\linalg.py\", line 208, in _assert_finite\n",
      "    raise LinAlgError(\"Array must not contain infs or NaNs\")\n",
      "numpy.linalg.LinAlgError: Array must not contain infs or NaNs\n"
     ]
    },
    {
     "name": "stderr",
     "output_type": "stream",
     "text": [
      "C:\\Users\\zakst\\Documents\\NIH\\Git clone\\CovidEM\\Executables\\CovidEM2.py:172: UserWarning: Eigenvector contains both negative and positive elements\n",
      "  warnings.warn(\"Eigenvector contains both negative and positive elements\")\n"
     ]
    },
    {
     "name": "stdout",
     "output_type": "stream",
     "text": [
      "Traceback (most recent call last):\n",
      "  File \"C:\\Users\\zakst\\anaconda3\\lib\\site-packages\\ci_rvm\\ci_rvm.py\", line 805, in find_CI_bound\n",
      "    precise, fActual, JActual = test_precision()\n",
      "  File \"C:\\Users\\zakst\\anaconda3\\lib\\site-packages\\ci_rvm\\ci_rvm.py\", line 372, in test_precision\n",
      "    fActual = fun(xTmp)\n",
      "  File \"C:\\Users\\zakst\\anaconda3\\lib\\site-packages\\ci_rvm\\ci_rvm.py\", line 146, in __call__\n",
      "    return self.fun(*args, **kwargs)\n",
      "  File \"C:\\Users\\zakst\\Documents\\NIH\\Git clone\\CovidEM\\Executables\\CovidEM2.py\", line 293, in neg_Covid_KL2\n",
      "    return -1 * Covid_KL2(theta0, prem_global, cases_global, countries_global)\n",
      "  File \"C:\\Users\\zakst\\Documents\\NIH\\Git clone\\CovidEM\\Executables\\CovidEM2.py\", line 254, in Covid_KL2\n",
      "    res = Covid_KL_k2(theta0, prem_in[country_codes[i]], cases_in[country_codes[i]])\n",
      "  File \"C:\\Users\\zakst\\Documents\\NIH\\Git clone\\CovidEM\\Executables\\CovidEM2.py\", line 226, in Covid_KL_k2\n",
      "    u_tilda = scv_eig2(s = theta0[0:(int(len(theta0)/2))], c = prem_in, v = theta0[(int(len(theta0)/2)):])\n",
      "  File \"C:\\Users\\zakst\\Documents\\NIH\\Git clone\\CovidEM\\Executables\\CovidEM2.py\", line 188, in scv_eig2\n",
      "    assert(sum((i > 0) for i in eig) >= len(eig)), eig #Assert positive\n",
      "AssertionError: [7.181328922670361e-44, 6.110009288794605e-44, 1.0433741954179487e-43, 1.7457295386694426e-43, 5.8864725836512835e-43, 6.540824102793838e-43, 7.508547854550388e-43, 7.014369210924405e-43, 1.2094989903200182, -0.2094989903200184, 1.3118581291016456e-42, 1.342383236158754e-42, 1.0666314492460096e-42, 9.182090864760277e-43, 8.722622327935867e-43, 5.580685790108695e-43]\n"
     ]
    },
    {
     "name": "stderr",
     "output_type": "stream",
     "text": [
      "C:\\Users\\zakst\\Documents\\NIH\\Git clone\\CovidEM\\Executables\\CovidEM2.py:239: RuntimeWarning: overflow encountered in exp\n",
      "  params[i] = np.exp(params_in[i])\n"
     ]
    },
    {
     "name": "stdout",
     "output_type": "stream",
     "text": [
      "Traceback (most recent call last):\n",
      "  File \"C:\\Users\\zakst\\anaconda3\\lib\\site-packages\\ci_rvm\\ci_rvm.py\", line 805, in find_CI_bound\n",
      "    precise, fActual, JActual = test_precision()\n",
      "  File \"C:\\Users\\zakst\\anaconda3\\lib\\site-packages\\ci_rvm\\ci_rvm.py\", line 372, in test_precision\n",
      "    fActual = fun(xTmp)\n",
      "  File \"C:\\Users\\zakst\\anaconda3\\lib\\site-packages\\ci_rvm\\ci_rvm.py\", line 146, in __call__\n",
      "    return self.fun(*args, **kwargs)\n",
      "  File \"C:\\Users\\zakst\\anaconda3\\lib\\site-packages\\ci_rvm\\ci_rvm.py\", line 246, in <lambda>\n",
      "    fun = lambda x: fun2(flip(x))\n",
      "  File \"C:\\Users\\zakst\\Documents\\NIH\\Git clone\\CovidEM\\Executables\\CovidEM2.py\", line 293, in neg_Covid_KL2\n",
      "    return -1 * Covid_KL2(theta0, prem_global, cases_global, countries_global)\n",
      "  File \"C:\\Users\\zakst\\Documents\\NIH\\Git clone\\CovidEM\\Executables\\CovidEM2.py\", line 254, in Covid_KL2\n",
      "    res = Covid_KL_k2(theta0, prem_in[country_codes[i]], cases_in[country_codes[i]])\n",
      "  File \"C:\\Users\\zakst\\Documents\\NIH\\Git clone\\CovidEM\\Executables\\CovidEM2.py\", line 226, in Covid_KL_k2\n",
      "    u_tilda = scv_eig2(s = theta0[0:(int(len(theta0)/2))], c = prem_in, v = theta0[(int(len(theta0)/2)):])\n",
      "  File \"C:\\Users\\zakst\\Documents\\NIH\\Git clone\\CovidEM\\Executables\\CovidEM2.py\", line 155, in scv_eig2\n",
      "    eigs = la.eig(builder)\n",
      "  File \"<__array_function__ internals>\", line 5, in eig\n",
      "  File \"C:\\Users\\zakst\\anaconda3\\lib\\site-packages\\numpy\\linalg\\linalg.py\", line 1317, in eig\n",
      "    _assert_finite(a)\n",
      "  File \"C:\\Users\\zakst\\anaconda3\\lib\\site-packages\\numpy\\linalg\\linalg.py\", line 208, in _assert_finite\n",
      "    raise LinAlgError(\"Array must not contain infs or NaNs\")\n",
      "numpy.linalg.LinAlgError: Array must not contain infs or NaNs\n"
     ]
    },
    {
     "name": "stderr",
     "output_type": "stream",
     "text": [
      "C:\\Users\\zakst\\Documents\\NIH\\Git clone\\CovidEM\\Executables\\CovidEM2.py:239: RuntimeWarning: overflow encountered in exp\n",
      "  params[i] = np.exp(params_in[i])\n"
     ]
    },
    {
     "name": "stdout",
     "output_type": "stream",
     "text": [
      "Traceback (most recent call last):\n",
      "  File \"C:\\Users\\zakst\\anaconda3\\lib\\site-packages\\ci_rvm\\ci_rvm.py\", line 805, in find_CI_bound\n",
      "    precise, fActual, JActual = test_precision()\n",
      "  File \"C:\\Users\\zakst\\anaconda3\\lib\\site-packages\\ci_rvm\\ci_rvm.py\", line 372, in test_precision\n",
      "    fActual = fun(xTmp)\n",
      "  File \"C:\\Users\\zakst\\anaconda3\\lib\\site-packages\\ci_rvm\\ci_rvm.py\", line 146, in __call__\n",
      "    return self.fun(*args, **kwargs)\n",
      "  File \"C:\\Users\\zakst\\Documents\\NIH\\Git clone\\CovidEM\\Executables\\CovidEM2.py\", line 293, in neg_Covid_KL2\n",
      "    return -1 * Covid_KL2(theta0, prem_global, cases_global, countries_global)\n",
      "  File \"C:\\Users\\zakst\\Documents\\NIH\\Git clone\\CovidEM\\Executables\\CovidEM2.py\", line 254, in Covid_KL2\n",
      "    res = Covid_KL_k2(theta0, prem_in[country_codes[i]], cases_in[country_codes[i]])\n",
      "  File \"C:\\Users\\zakst\\Documents\\NIH\\Git clone\\CovidEM\\Executables\\CovidEM2.py\", line 226, in Covid_KL_k2\n",
      "    u_tilda = scv_eig2(s = theta0[0:(int(len(theta0)/2))], c = prem_in, v = theta0[(int(len(theta0)/2)):])\n",
      "  File \"C:\\Users\\zakst\\Documents\\NIH\\Git clone\\CovidEM\\Executables\\CovidEM2.py\", line 155, in scv_eig2\n",
      "    eigs = la.eig(builder)\n",
      "  File \"<__array_function__ internals>\", line 5, in eig\n",
      "  File \"C:\\Users\\zakst\\anaconda3\\lib\\site-packages\\numpy\\linalg\\linalg.py\", line 1317, in eig\n",
      "    _assert_finite(a)\n",
      "  File \"C:\\Users\\zakst\\anaconda3\\lib\\site-packages\\numpy\\linalg\\linalg.py\", line 208, in _assert_finite\n",
      "    raise LinAlgError(\"Array must not contain infs or NaNs\")\n",
      "numpy.linalg.LinAlgError: Array must not contain infs or NaNs\n"
     ]
    },
    {
     "name": "stderr",
     "output_type": "stream",
     "text": [
      "C:\\Users\\zakst\\Documents\\NIH\\Git clone\\CovidEM\\Executables\\CovidEM2.py:172: UserWarning: Eigenvector contains both negative and positive elements\n",
      "  warnings.warn(\"Eigenvector contains both negative and positive elements\")\n"
     ]
    },
    {
     "name": "stdout",
     "output_type": "stream",
     "text": [
      "Traceback (most recent call last):\n",
      "  File \"C:\\Users\\zakst\\anaconda3\\lib\\site-packages\\ci_rvm\\ci_rvm.py\", line 805, in find_CI_bound\n",
      "    precise, fActual, JActual = test_precision()\n",
      "  File \"C:\\Users\\zakst\\anaconda3\\lib\\site-packages\\ci_rvm\\ci_rvm.py\", line 372, in test_precision\n",
      "    fActual = fun(xTmp)\n",
      "  File \"C:\\Users\\zakst\\anaconda3\\lib\\site-packages\\ci_rvm\\ci_rvm.py\", line 146, in __call__\n",
      "    return self.fun(*args, **kwargs)\n",
      "  File \"C:\\Users\\zakst\\anaconda3\\lib\\site-packages\\ci_rvm\\ci_rvm.py\", line 246, in <lambda>\n",
      "    fun = lambda x: fun2(flip(x))\n",
      "  File \"C:\\Users\\zakst\\Documents\\NIH\\Git clone\\CovidEM\\Executables\\CovidEM2.py\", line 293, in neg_Covid_KL2\n",
      "    return -1 * Covid_KL2(theta0, prem_global, cases_global, countries_global)\n",
      "  File \"C:\\Users\\zakst\\Documents\\NIH\\Git clone\\CovidEM\\Executables\\CovidEM2.py\", line 254, in Covid_KL2\n",
      "    res = Covid_KL_k2(theta0, prem_in[country_codes[i]], cases_in[country_codes[i]])\n",
      "  File \"C:\\Users\\zakst\\Documents\\NIH\\Git clone\\CovidEM\\Executables\\CovidEM2.py\", line 226, in Covid_KL_k2\n",
      "    u_tilda = scv_eig2(s = theta0[0:(int(len(theta0)/2))], c = prem_in, v = theta0[(int(len(theta0)/2)):])\n",
      "  File \"C:\\Users\\zakst\\Documents\\NIH\\Git clone\\CovidEM\\Executables\\CovidEM2.py\", line 188, in scv_eig2\n",
      "    assert(sum((i > 0) for i in eig) >= len(eig)), eig #Assert positive\n",
      "AssertionError: [-1.1085931432211875e-43, -1.1852047606494897e-43, -1.736917718932511e-43, -3.206553082047111e-43, -1.3407993606013377e-42, -1.2102973971360149e-42, -1.200867967097275e-42, -1.2301238790098212e-42, 0.9341046114407361, 0.06589538855926384, -1.5861568918230435e-42, -1.90906399103447e-42, -1.3078375442460837e-42, -8.869161622012586e-43, -8.426176669637973e-43, -6.3184079813018425e-43]\n"
     ]
    },
    {
     "name": "stderr",
     "output_type": "stream",
     "text": [
      "C:\\Users\\zakst\\Documents\\NIH\\Git clone\\CovidEM\\Executables\\CovidEM2.py:239: RuntimeWarning: overflow encountered in exp\n",
      "  params[i] = np.exp(params_in[i])\n"
     ]
    },
    {
     "name": "stdout",
     "output_type": "stream",
     "text": [
      "Traceback (most recent call last):\n",
      "  File \"C:\\Users\\zakst\\anaconda3\\lib\\site-packages\\ci_rvm\\ci_rvm.py\", line 805, in find_CI_bound\n",
      "    precise, fActual, JActual = test_precision()\n",
      "  File \"C:\\Users\\zakst\\anaconda3\\lib\\site-packages\\ci_rvm\\ci_rvm.py\", line 372, in test_precision\n",
      "    fActual = fun(xTmp)\n",
      "  File \"C:\\Users\\zakst\\anaconda3\\lib\\site-packages\\ci_rvm\\ci_rvm.py\", line 146, in __call__\n",
      "    return self.fun(*args, **kwargs)\n",
      "  File \"C:\\Users\\zakst\\Documents\\NIH\\Git clone\\CovidEM\\Executables\\CovidEM2.py\", line 293, in neg_Covid_KL2\n",
      "    return -1 * Covid_KL2(theta0, prem_global, cases_global, countries_global)\n",
      "  File \"C:\\Users\\zakst\\Documents\\NIH\\Git clone\\CovidEM\\Executables\\CovidEM2.py\", line 254, in Covid_KL2\n",
      "    res = Covid_KL_k2(theta0, prem_in[country_codes[i]], cases_in[country_codes[i]])\n",
      "  File \"C:\\Users\\zakst\\Documents\\NIH\\Git clone\\CovidEM\\Executables\\CovidEM2.py\", line 226, in Covid_KL_k2\n",
      "    u_tilda = scv_eig2(s = theta0[0:(int(len(theta0)/2))], c = prem_in, v = theta0[(int(len(theta0)/2)):])\n",
      "  File \"C:\\Users\\zakst\\Documents\\NIH\\Git clone\\CovidEM\\Executables\\CovidEM2.py\", line 155, in scv_eig2\n",
      "    eigs = la.eig(builder)\n",
      "  File \"<__array_function__ internals>\", line 5, in eig\n",
      "  File \"C:\\Users\\zakst\\anaconda3\\lib\\site-packages\\numpy\\linalg\\linalg.py\", line 1317, in eig\n",
      "    _assert_finite(a)\n",
      "  File \"C:\\Users\\zakst\\anaconda3\\lib\\site-packages\\numpy\\linalg\\linalg.py\", line 208, in _assert_finite\n",
      "    raise LinAlgError(\"Array must not contain infs or NaNs\")\n",
      "numpy.linalg.LinAlgError: Array must not contain infs or NaNs\n"
     ]
    },
    {
     "name": "stderr",
     "output_type": "stream",
     "text": [
      "C:\\Users\\zakst\\Documents\\NIH\\Git clone\\CovidEM\\Executables\\CovidEM2.py:239: RuntimeWarning: overflow encountered in exp\n",
      "  params[i] = np.exp(params_in[i])\n"
     ]
    },
    {
     "name": "stdout",
     "output_type": "stream",
     "text": [
      "Traceback (most recent call last):\n",
      "  File \"C:\\Users\\zakst\\anaconda3\\lib\\site-packages\\ci_rvm\\ci_rvm.py\", line 805, in find_CI_bound\n",
      "    precise, fActual, JActual = test_precision()\n",
      "  File \"C:\\Users\\zakst\\anaconda3\\lib\\site-packages\\ci_rvm\\ci_rvm.py\", line 372, in test_precision\n",
      "    fActual = fun(xTmp)\n",
      "  File \"C:\\Users\\zakst\\anaconda3\\lib\\site-packages\\ci_rvm\\ci_rvm.py\", line 146, in __call__\n",
      "    return self.fun(*args, **kwargs)\n",
      "  File \"C:\\Users\\zakst\\anaconda3\\lib\\site-packages\\ci_rvm\\ci_rvm.py\", line 246, in <lambda>\n",
      "    fun = lambda x: fun2(flip(x))\n",
      "  File \"C:\\Users\\zakst\\Documents\\NIH\\Git clone\\CovidEM\\Executables\\CovidEM2.py\", line 293, in neg_Covid_KL2\n",
      "    return -1 * Covid_KL2(theta0, prem_global, cases_global, countries_global)\n",
      "  File \"C:\\Users\\zakst\\Documents\\NIH\\Git clone\\CovidEM\\Executables\\CovidEM2.py\", line 254, in Covid_KL2\n",
      "    res = Covid_KL_k2(theta0, prem_in[country_codes[i]], cases_in[country_codes[i]])\n",
      "  File \"C:\\Users\\zakst\\Documents\\NIH\\Git clone\\CovidEM\\Executables\\CovidEM2.py\", line 226, in Covid_KL_k2\n",
      "    u_tilda = scv_eig2(s = theta0[0:(int(len(theta0)/2))], c = prem_in, v = theta0[(int(len(theta0)/2)):])\n",
      "  File \"C:\\Users\\zakst\\Documents\\NIH\\Git clone\\CovidEM\\Executables\\CovidEM2.py\", line 155, in scv_eig2\n",
      "    eigs = la.eig(builder)\n",
      "  File \"<__array_function__ internals>\", line 5, in eig\n",
      "  File \"C:\\Users\\zakst\\anaconda3\\lib\\site-packages\\numpy\\linalg\\linalg.py\", line 1317, in eig\n",
      "    _assert_finite(a)\n",
      "  File \"C:\\Users\\zakst\\anaconda3\\lib\\site-packages\\numpy\\linalg\\linalg.py\", line 208, in _assert_finite\n",
      "    raise LinAlgError(\"Array must not contain infs or NaNs\")\n",
      "numpy.linalg.LinAlgError: Array must not contain infs or NaNs\n"
     ]
    },
    {
     "name": "stderr",
     "output_type": "stream",
     "text": [
      "C:\\Users\\zakst\\Documents\\NIH\\Git clone\\CovidEM\\Executables\\CovidEM2.py:239: RuntimeWarning: overflow encountered in exp\n",
      "  params[i] = np.exp(params_in[i])\n"
     ]
    },
    {
     "name": "stdout",
     "output_type": "stream",
     "text": [
      "Traceback (most recent call last):\n",
      "  File \"C:\\Users\\zakst\\anaconda3\\lib\\site-packages\\ci_rvm\\ci_rvm.py\", line 805, in find_CI_bound\n",
      "    precise, fActual, JActual = test_precision()\n",
      "  File \"C:\\Users\\zakst\\anaconda3\\lib\\site-packages\\ci_rvm\\ci_rvm.py\", line 372, in test_precision\n",
      "    fActual = fun(xTmp)\n",
      "  File \"C:\\Users\\zakst\\anaconda3\\lib\\site-packages\\ci_rvm\\ci_rvm.py\", line 146, in __call__\n",
      "    return self.fun(*args, **kwargs)\n",
      "  File \"C:\\Users\\zakst\\Documents\\NIH\\Git clone\\CovidEM\\Executables\\CovidEM2.py\", line 293, in neg_Covid_KL2\n",
      "    return -1 * Covid_KL2(theta0, prem_global, cases_global, countries_global)\n",
      "  File \"C:\\Users\\zakst\\Documents\\NIH\\Git clone\\CovidEM\\Executables\\CovidEM2.py\", line 254, in Covid_KL2\n",
      "    res = Covid_KL_k2(theta0, prem_in[country_codes[i]], cases_in[country_codes[i]])\n",
      "  File \"C:\\Users\\zakst\\Documents\\NIH\\Git clone\\CovidEM\\Executables\\CovidEM2.py\", line 226, in Covid_KL_k2\n",
      "    u_tilda = scv_eig2(s = theta0[0:(int(len(theta0)/2))], c = prem_in, v = theta0[(int(len(theta0)/2)):])\n",
      "  File \"C:\\Users\\zakst\\Documents\\NIH\\Git clone\\CovidEM\\Executables\\CovidEM2.py\", line 155, in scv_eig2\n",
      "    eigs = la.eig(builder)\n",
      "  File \"<__array_function__ internals>\", line 5, in eig\n",
      "  File \"C:\\Users\\zakst\\anaconda3\\lib\\site-packages\\numpy\\linalg\\linalg.py\", line 1317, in eig\n",
      "    _assert_finite(a)\n",
      "  File \"C:\\Users\\zakst\\anaconda3\\lib\\site-packages\\numpy\\linalg\\linalg.py\", line 208, in _assert_finite\n",
      "    raise LinAlgError(\"Array must not contain infs or NaNs\")\n",
      "numpy.linalg.LinAlgError: Array must not contain infs or NaNs\n"
     ]
    },
    {
     "name": "stderr",
     "output_type": "stream",
     "text": [
      "C:\\Users\\zakst\\Documents\\NIH\\Git clone\\CovidEM\\Executables\\CovidEM2.py:239: RuntimeWarning: overflow encountered in exp\n",
      "  params[i] = np.exp(params_in[i])\n"
     ]
    },
    {
     "name": "stdout",
     "output_type": "stream",
     "text": [
      "Traceback (most recent call last):\n",
      "  File \"C:\\Users\\zakst\\anaconda3\\lib\\site-packages\\ci_rvm\\ci_rvm.py\", line 805, in find_CI_bound\n",
      "    precise, fActual, JActual = test_precision()\n",
      "  File \"C:\\Users\\zakst\\anaconda3\\lib\\site-packages\\ci_rvm\\ci_rvm.py\", line 372, in test_precision\n",
      "    fActual = fun(xTmp)\n",
      "  File \"C:\\Users\\zakst\\anaconda3\\lib\\site-packages\\ci_rvm\\ci_rvm.py\", line 146, in __call__\n",
      "    return self.fun(*args, **kwargs)\n",
      "  File \"C:\\Users\\zakst\\anaconda3\\lib\\site-packages\\ci_rvm\\ci_rvm.py\", line 246, in <lambda>\n",
      "    fun = lambda x: fun2(flip(x))\n",
      "  File \"C:\\Users\\zakst\\Documents\\NIH\\Git clone\\CovidEM\\Executables\\CovidEM2.py\", line 293, in neg_Covid_KL2\n",
      "    return -1 * Covid_KL2(theta0, prem_global, cases_global, countries_global)\n",
      "  File \"C:\\Users\\zakst\\Documents\\NIH\\Git clone\\CovidEM\\Executables\\CovidEM2.py\", line 254, in Covid_KL2\n",
      "    res = Covid_KL_k2(theta0, prem_in[country_codes[i]], cases_in[country_codes[i]])\n",
      "  File \"C:\\Users\\zakst\\Documents\\NIH\\Git clone\\CovidEM\\Executables\\CovidEM2.py\", line 226, in Covid_KL_k2\n",
      "    u_tilda = scv_eig2(s = theta0[0:(int(len(theta0)/2))], c = prem_in, v = theta0[(int(len(theta0)/2)):])\n",
      "  File \"C:\\Users\\zakst\\Documents\\NIH\\Git clone\\CovidEM\\Executables\\CovidEM2.py\", line 155, in scv_eig2\n",
      "    eigs = la.eig(builder)\n",
      "  File \"<__array_function__ internals>\", line 5, in eig\n",
      "  File \"C:\\Users\\zakst\\anaconda3\\lib\\site-packages\\numpy\\linalg\\linalg.py\", line 1317, in eig\n",
      "    _assert_finite(a)\n",
      "  File \"C:\\Users\\zakst\\anaconda3\\lib\\site-packages\\numpy\\linalg\\linalg.py\", line 208, in _assert_finite\n",
      "    raise LinAlgError(\"Array must not contain infs or NaNs\")\n",
      "numpy.linalg.LinAlgError: Array must not contain infs or NaNs\n"
     ]
    },
    {
     "name": "stderr",
     "output_type": "stream",
     "text": [
      "C:\\Users\\zakst\\Documents\\NIH\\Git clone\\CovidEM\\Executables\\CovidEM2.py:239: RuntimeWarning: overflow encountered in exp\n",
      "  params[i] = np.exp(params_in[i])\n"
     ]
    },
    {
     "name": "stdout",
     "output_type": "stream",
     "text": [
      "Traceback (most recent call last):\n",
      "  File \"C:\\Users\\zakst\\anaconda3\\lib\\site-packages\\ci_rvm\\ci_rvm.py\", line 805, in find_CI_bound\n",
      "    precise, fActual, JActual = test_precision()\n",
      "  File \"C:\\Users\\zakst\\anaconda3\\lib\\site-packages\\ci_rvm\\ci_rvm.py\", line 372, in test_precision\n",
      "    fActual = fun(xTmp)\n",
      "  File \"C:\\Users\\zakst\\anaconda3\\lib\\site-packages\\ci_rvm\\ci_rvm.py\", line 146, in __call__\n",
      "    return self.fun(*args, **kwargs)\n",
      "  File \"C:\\Users\\zakst\\Documents\\NIH\\Git clone\\CovidEM\\Executables\\CovidEM2.py\", line 293, in neg_Covid_KL2\n",
      "    return -1 * Covid_KL2(theta0, prem_global, cases_global, countries_global)\n",
      "  File \"C:\\Users\\zakst\\Documents\\NIH\\Git clone\\CovidEM\\Executables\\CovidEM2.py\", line 254, in Covid_KL2\n",
      "    res = Covid_KL_k2(theta0, prem_in[country_codes[i]], cases_in[country_codes[i]])\n",
      "  File \"C:\\Users\\zakst\\Documents\\NIH\\Git clone\\CovidEM\\Executables\\CovidEM2.py\", line 226, in Covid_KL_k2\n",
      "    u_tilda = scv_eig2(s = theta0[0:(int(len(theta0)/2))], c = prem_in, v = theta0[(int(len(theta0)/2)):])\n",
      "  File \"C:\\Users\\zakst\\Documents\\NIH\\Git clone\\CovidEM\\Executables\\CovidEM2.py\", line 155, in scv_eig2\n",
      "    eigs = la.eig(builder)\n",
      "  File \"<__array_function__ internals>\", line 5, in eig\n",
      "  File \"C:\\Users\\zakst\\anaconda3\\lib\\site-packages\\numpy\\linalg\\linalg.py\", line 1317, in eig\n",
      "    _assert_finite(a)\n",
      "  File \"C:\\Users\\zakst\\anaconda3\\lib\\site-packages\\numpy\\linalg\\linalg.py\", line 208, in _assert_finite\n",
      "    raise LinAlgError(\"Array must not contain infs or NaNs\")\n",
      "numpy.linalg.LinAlgError: Array must not contain infs or NaNs\n"
     ]
    },
    {
     "name": "stderr",
     "output_type": "stream",
     "text": [
      "C:\\Users\\zakst\\Documents\\NIH\\Git clone\\CovidEM\\Executables\\CovidEM2.py:239: RuntimeWarning: overflow encountered in exp\n",
      "  params[i] = np.exp(params_in[i])\n",
      "C:\\Users\\zakst\\Documents\\NIH\\Git clone\\CovidEM\\Executables\\CovidEM2.py:139: RuntimeWarning: invalid value encountered in matmul\n",
      "  builder = np.matmul(np.matmul(s,c),v)\n"
     ]
    },
    {
     "name": "stdout",
     "output_type": "stream",
     "text": [
      "Traceback (most recent call last):\n",
      "  File \"C:\\Users\\zakst\\anaconda3\\lib\\site-packages\\ci_rvm\\ci_rvm.py\", line 805, in find_CI_bound\n",
      "    precise, fActual, JActual = test_precision()\n",
      "  File \"C:\\Users\\zakst\\anaconda3\\lib\\site-packages\\ci_rvm\\ci_rvm.py\", line 372, in test_precision\n",
      "    fActual = fun(xTmp)\n",
      "  File \"C:\\Users\\zakst\\anaconda3\\lib\\site-packages\\ci_rvm\\ci_rvm.py\", line 146, in __call__\n",
      "    return self.fun(*args, **kwargs)\n",
      "  File \"C:\\Users\\zakst\\anaconda3\\lib\\site-packages\\ci_rvm\\ci_rvm.py\", line 246, in <lambda>\n",
      "    fun = lambda x: fun2(flip(x))\n",
      "  File \"C:\\Users\\zakst\\Documents\\NIH\\Git clone\\CovidEM\\Executables\\CovidEM2.py\", line 293, in neg_Covid_KL2\n",
      "    return -1 * Covid_KL2(theta0, prem_global, cases_global, countries_global)\n",
      "  File \"C:\\Users\\zakst\\Documents\\NIH\\Git clone\\CovidEM\\Executables\\CovidEM2.py\", line 254, in Covid_KL2\n",
      "    res = Covid_KL_k2(theta0, prem_in[country_codes[i]], cases_in[country_codes[i]])\n",
      "  File \"C:\\Users\\zakst\\Documents\\NIH\\Git clone\\CovidEM\\Executables\\CovidEM2.py\", line 226, in Covid_KL_k2\n",
      "    u_tilda = scv_eig2(s = theta0[0:(int(len(theta0)/2))], c = prem_in, v = theta0[(int(len(theta0)/2)):])\n",
      "  File \"C:\\Users\\zakst\\Documents\\NIH\\Git clone\\CovidEM\\Executables\\CovidEM2.py\", line 150, in scv_eig2\n",
      "    else: assert(False), \"Unknown number detected in SCV: (%f)\" % builder[i,j]\n",
      "AssertionError: Unknown number detected in SCV: (nan)\n"
     ]
    },
    {
     "name": "stderr",
     "output_type": "stream",
     "text": [
      "C:\\Users\\zakst\\Documents\\NIH\\Git clone\\CovidEM\\Executables\\CovidEM2.py:239: RuntimeWarning: overflow encountered in exp\n",
      "  params[i] = np.exp(params_in[i])\n"
     ]
    },
    {
     "name": "stdout",
     "output_type": "stream",
     "text": [
      "Traceback (most recent call last):\n",
      "  File \"C:\\Users\\zakst\\anaconda3\\lib\\site-packages\\ci_rvm\\ci_rvm.py\", line 805, in find_CI_bound\n",
      "    precise, fActual, JActual = test_precision()\n",
      "  File \"C:\\Users\\zakst\\anaconda3\\lib\\site-packages\\ci_rvm\\ci_rvm.py\", line 372, in test_precision\n",
      "    fActual = fun(xTmp)\n",
      "  File \"C:\\Users\\zakst\\anaconda3\\lib\\site-packages\\ci_rvm\\ci_rvm.py\", line 146, in __call__\n",
      "    return self.fun(*args, **kwargs)\n",
      "  File \"C:\\Users\\zakst\\Documents\\NIH\\Git clone\\CovidEM\\Executables\\CovidEM2.py\", line 293, in neg_Covid_KL2\n",
      "    return -1 * Covid_KL2(theta0, prem_global, cases_global, countries_global)\n",
      "  File \"C:\\Users\\zakst\\Documents\\NIH\\Git clone\\CovidEM\\Executables\\CovidEM2.py\", line 254, in Covid_KL2\n",
      "    res = Covid_KL_k2(theta0, prem_in[country_codes[i]], cases_in[country_codes[i]])\n",
      "  File \"C:\\Users\\zakst\\Documents\\NIH\\Git clone\\CovidEM\\Executables\\CovidEM2.py\", line 226, in Covid_KL_k2\n",
      "    u_tilda = scv_eig2(s = theta0[0:(int(len(theta0)/2))], c = prem_in, v = theta0[(int(len(theta0)/2)):])\n",
      "  File \"C:\\Users\\zakst\\Documents\\NIH\\Git clone\\CovidEM\\Executables\\CovidEM2.py\", line 155, in scv_eig2\n",
      "    eigs = la.eig(builder)\n",
      "  File \"<__array_function__ internals>\", line 5, in eig\n",
      "  File \"C:\\Users\\zakst\\anaconda3\\lib\\site-packages\\numpy\\linalg\\linalg.py\", line 1317, in eig\n",
      "    _assert_finite(a)\n",
      "  File \"C:\\Users\\zakst\\anaconda3\\lib\\site-packages\\numpy\\linalg\\linalg.py\", line 208, in _assert_finite\n",
      "    raise LinAlgError(\"Array must not contain infs or NaNs\")\n",
      "numpy.linalg.LinAlgError: Array must not contain infs or NaNs\n"
     ]
    },
    {
     "name": "stderr",
     "output_type": "stream",
     "text": [
      "C:\\Users\\zakst\\Documents\\NIH\\Git clone\\CovidEM\\Executables\\CovidEM2.py:172: UserWarning: Eigenvector contains both negative and positive elements\n",
      "  warnings.warn(\"Eigenvector contains both negative and positive elements\")\n"
     ]
    },
    {
     "name": "stdout",
     "output_type": "stream",
     "text": [
      "Traceback (most recent call last):\n",
      "  File \"C:\\Users\\zakst\\anaconda3\\lib\\site-packages\\ci_rvm\\ci_rvm.py\", line 805, in find_CI_bound\n",
      "    precise, fActual, JActual = test_precision()\n",
      "  File \"C:\\Users\\zakst\\anaconda3\\lib\\site-packages\\ci_rvm\\ci_rvm.py\", line 372, in test_precision\n",
      "    fActual = fun(xTmp)\n",
      "  File \"C:\\Users\\zakst\\anaconda3\\lib\\site-packages\\ci_rvm\\ci_rvm.py\", line 146, in __call__\n",
      "    return self.fun(*args, **kwargs)\n",
      "  File \"C:\\Users\\zakst\\anaconda3\\lib\\site-packages\\ci_rvm\\ci_rvm.py\", line 246, in <lambda>\n",
      "    fun = lambda x: fun2(flip(x))\n",
      "  File \"C:\\Users\\zakst\\Documents\\NIH\\Git clone\\CovidEM\\Executables\\CovidEM2.py\", line 293, in neg_Covid_KL2\n",
      "    return -1 * Covid_KL2(theta0, prem_global, cases_global, countries_global)\n",
      "  File \"C:\\Users\\zakst\\Documents\\NIH\\Git clone\\CovidEM\\Executables\\CovidEM2.py\", line 254, in Covid_KL2\n",
      "    res = Covid_KL_k2(theta0, prem_in[country_codes[i]], cases_in[country_codes[i]])\n",
      "  File \"C:\\Users\\zakst\\Documents\\NIH\\Git clone\\CovidEM\\Executables\\CovidEM2.py\", line 226, in Covid_KL_k2\n",
      "    u_tilda = scv_eig2(s = theta0[0:(int(len(theta0)/2))], c = prem_in, v = theta0[(int(len(theta0)/2)):])\n",
      "  File \"C:\\Users\\zakst\\Documents\\NIH\\Git clone\\CovidEM\\Executables\\CovidEM2.py\", line 188, in scv_eig2\n",
      "    assert(sum((i > 0) for i in eig) >= len(eig)), eig #Assert positive\n",
      "AssertionError: [-3.059839660512761e-23, -2.661403625584027e-23, -4.646754205384896e-23, -7.360779177468592e-23, -2.6115713943410644e-22, -2.9398952308719705e-22, -3.2337690751401353e-22, -3.062195839836853e-22, 1.1256322960705423, -0.1256322960705425, -5.690064478193575e-22, -5.923525691152568e-22, -4.619655164889064e-22, -4.036561747088585e-22, -3.8808399719550983e-22, -2.42748424003097e-22]\n"
     ]
    },
    {
     "name": "stderr",
     "output_type": "stream",
     "text": [
      "C:\\Users\\zakst\\Documents\\NIH\\Git clone\\CovidEM\\Executables\\CovidEM2.py:172: UserWarning: Eigenvector contains both negative and positive elements\n",
      "  warnings.warn(\"Eigenvector contains both negative and positive elements\")\n"
     ]
    },
    {
     "name": "stdout",
     "output_type": "stream",
     "text": [
      "Traceback (most recent call last):\n",
      "  File \"C:\\Users\\zakst\\anaconda3\\lib\\site-packages\\ci_rvm\\ci_rvm.py\", line 805, in find_CI_bound\n",
      "    precise, fActual, JActual = test_precision()\n",
      "  File \"C:\\Users\\zakst\\anaconda3\\lib\\site-packages\\ci_rvm\\ci_rvm.py\", line 372, in test_precision\n",
      "    fActual = fun(xTmp)\n",
      "  File \"C:\\Users\\zakst\\anaconda3\\lib\\site-packages\\ci_rvm\\ci_rvm.py\", line 146, in __call__\n",
      "    return self.fun(*args, **kwargs)\n",
      "  File \"C:\\Users\\zakst\\Documents\\NIH\\Git clone\\CovidEM\\Executables\\CovidEM2.py\", line 293, in neg_Covid_KL2\n",
      "    return -1 * Covid_KL2(theta0, prem_global, cases_global, countries_global)\n",
      "  File \"C:\\Users\\zakst\\Documents\\NIH\\Git clone\\CovidEM\\Executables\\CovidEM2.py\", line 254, in Covid_KL2\n",
      "    res = Covid_KL_k2(theta0, prem_in[country_codes[i]], cases_in[country_codes[i]])\n",
      "  File \"C:\\Users\\zakst\\Documents\\NIH\\Git clone\\CovidEM\\Executables\\CovidEM2.py\", line 226, in Covid_KL_k2\n",
      "    u_tilda = scv_eig2(s = theta0[0:(int(len(theta0)/2))], c = prem_in, v = theta0[(int(len(theta0)/2)):])\n",
      "  File \"C:\\Users\\zakst\\Documents\\NIH\\Git clone\\CovidEM\\Executables\\CovidEM2.py\", line 188, in scv_eig2\n",
      "    assert(sum((i > 0) for i in eig) >= len(eig)), eig #Assert positive\n",
      "AssertionError: [-2.872141333782565e-44, -2.534395674480849e-44, -4.531739741127761e-44, -6.968976357706336e-44, -2.594692664689007e-43, -2.9852503402997615e-43, -3.1335798174625335e-43, -3.042519344349955e-43, 1.085188626096788, -0.08518862609678789, -5.686008659442345e-43, -5.935923161729923e-43, -4.508948909129399e-43, -3.8961190053605234e-43, -3.700836689081125e-43, -2.4216815430915132e-43]\n"
     ]
    },
    {
     "name": "stderr",
     "output_type": "stream",
     "text": [
      "C:\\Users\\zakst\\Documents\\NIH\\Git clone\\CovidEM\\Executables\\CovidEM2.py:239: RuntimeWarning: overflow encountered in exp\n",
      "  params[i] = np.exp(params_in[i])\n",
      "C:\\Users\\zakst\\Documents\\NIH\\Git clone\\CovidEM\\Executables\\CovidEM2.py:139: RuntimeWarning: invalid value encountered in matmul\n",
      "  builder = np.matmul(np.matmul(s,c),v)\n"
     ]
    },
    {
     "name": "stdout",
     "output_type": "stream",
     "text": [
      "Traceback (most recent call last):\n",
      "  File \"C:\\Users\\zakst\\anaconda3\\lib\\site-packages\\ci_rvm\\ci_rvm.py\", line 805, in find_CI_bound\n",
      "    precise, fActual, JActual = test_precision()\n",
      "  File \"C:\\Users\\zakst\\anaconda3\\lib\\site-packages\\ci_rvm\\ci_rvm.py\", line 372, in test_precision\n",
      "    fActual = fun(xTmp)\n",
      "  File \"C:\\Users\\zakst\\anaconda3\\lib\\site-packages\\ci_rvm\\ci_rvm.py\", line 146, in __call__\n",
      "    return self.fun(*args, **kwargs)\n",
      "  File \"C:\\Users\\zakst\\anaconda3\\lib\\site-packages\\ci_rvm\\ci_rvm.py\", line 246, in <lambda>\n",
      "    fun = lambda x: fun2(flip(x))\n",
      "  File \"C:\\Users\\zakst\\Documents\\NIH\\Git clone\\CovidEM\\Executables\\CovidEM2.py\", line 293, in neg_Covid_KL2\n",
      "    return -1 * Covid_KL2(theta0, prem_global, cases_global, countries_global)\n",
      "  File \"C:\\Users\\zakst\\Documents\\NIH\\Git clone\\CovidEM\\Executables\\CovidEM2.py\", line 254, in Covid_KL2\n",
      "    res = Covid_KL_k2(theta0, prem_in[country_codes[i]], cases_in[country_codes[i]])\n",
      "  File \"C:\\Users\\zakst\\Documents\\NIH\\Git clone\\CovidEM\\Executables\\CovidEM2.py\", line 226, in Covid_KL_k2\n",
      "    u_tilda = scv_eig2(s = theta0[0:(int(len(theta0)/2))], c = prem_in, v = theta0[(int(len(theta0)/2)):])\n",
      "  File \"C:\\Users\\zakst\\Documents\\NIH\\Git clone\\CovidEM\\Executables\\CovidEM2.py\", line 150, in scv_eig2\n",
      "    else: assert(False), \"Unknown number detected in SCV: (%f)\" % builder[i,j]\n",
      "AssertionError: Unknown number detected in SCV: (nan)\n"
     ]
    },
    {
     "name": "stderr",
     "output_type": "stream",
     "text": [
      "C:\\Users\\zakst\\Documents\\NIH\\Git clone\\CovidEM\\Executables\\CovidEM2.py:172: UserWarning: Eigenvector contains both negative and positive elements\n",
      "  warnings.warn(\"Eigenvector contains both negative and positive elements\")\n"
     ]
    },
    {
     "name": "stdout",
     "output_type": "stream",
     "text": [
      "Traceback (most recent call last):\n",
      "  File \"C:\\Users\\zakst\\anaconda3\\lib\\site-packages\\ci_rvm\\ci_rvm.py\", line 805, in find_CI_bound\n",
      "    precise, fActual, JActual = test_precision()\n",
      "  File \"C:\\Users\\zakst\\anaconda3\\lib\\site-packages\\ci_rvm\\ci_rvm.py\", line 372, in test_precision\n",
      "    fActual = fun(xTmp)\n",
      "  File \"C:\\Users\\zakst\\anaconda3\\lib\\site-packages\\ci_rvm\\ci_rvm.py\", line 146, in __call__\n",
      "    return self.fun(*args, **kwargs)\n",
      "  File \"C:\\Users\\zakst\\Documents\\NIH\\Git clone\\CovidEM\\Executables\\CovidEM2.py\", line 293, in neg_Covid_KL2\n",
      "    return -1 * Covid_KL2(theta0, prem_global, cases_global, countries_global)\n",
      "  File \"C:\\Users\\zakst\\Documents\\NIH\\Git clone\\CovidEM\\Executables\\CovidEM2.py\", line 254, in Covid_KL2\n",
      "    res = Covid_KL_k2(theta0, prem_in[country_codes[i]], cases_in[country_codes[i]])\n",
      "  File \"C:\\Users\\zakst\\Documents\\NIH\\Git clone\\CovidEM\\Executables\\CovidEM2.py\", line 226, in Covid_KL_k2\n",
      "    u_tilda = scv_eig2(s = theta0[0:(int(len(theta0)/2))], c = prem_in, v = theta0[(int(len(theta0)/2)):])\n",
      "  File \"C:\\Users\\zakst\\Documents\\NIH\\Git clone\\CovidEM\\Executables\\CovidEM2.py\", line 188, in scv_eig2\n",
      "    assert(sum((i > 0) for i in eig) >= len(eig)), eig #Assert positive\n",
      "AssertionError: [2.489067539980139e-43, 2.3365921366877663e-43, 3.226277609730031e-43, 3.0146707554955444e-43, 1.017821865093389e-42, 1.2017212370840529e-42, 1.238535394051649e-42, 1.2083307672442651e-42, 1.020764252416904, -0.020764252416904112, 1.5378927015951776e-42, 1.6752412505152878e-42, 1.3617945804955977e-42, 9.161958013641204e-43, 1.0535813582800111e-42, 8.27201914297513e-43]\n"
     ]
    },
    {
     "name": "stderr",
     "output_type": "stream",
     "text": [
      "C:\\Users\\zakst\\Documents\\NIH\\Git clone\\CovidEM\\Executables\\CovidEM2.py:239: RuntimeWarning: overflow encountered in exp\n",
      "  params[i] = np.exp(params_in[i])\n",
      "C:\\Users\\zakst\\Documents\\NIH\\Git clone\\CovidEM\\Executables\\CovidEM2.py:139: RuntimeWarning: invalid value encountered in matmul\n",
      "  builder = np.matmul(np.matmul(s,c),v)\n"
     ]
    },
    {
     "name": "stdout",
     "output_type": "stream",
     "text": [
      "Traceback (most recent call last):\n",
      "  File \"C:\\Users\\zakst\\anaconda3\\lib\\site-packages\\ci_rvm\\ci_rvm.py\", line 805, in find_CI_bound\n",
      "    precise, fActual, JActual = test_precision()\n",
      "  File \"C:\\Users\\zakst\\anaconda3\\lib\\site-packages\\ci_rvm\\ci_rvm.py\", line 372, in test_precision\n",
      "    fActual = fun(xTmp)\n",
      "  File \"C:\\Users\\zakst\\anaconda3\\lib\\site-packages\\ci_rvm\\ci_rvm.py\", line 146, in __call__\n",
      "    return self.fun(*args, **kwargs)\n",
      "  File \"C:\\Users\\zakst\\anaconda3\\lib\\site-packages\\ci_rvm\\ci_rvm.py\", line 246, in <lambda>\n",
      "    fun = lambda x: fun2(flip(x))\n",
      "  File \"C:\\Users\\zakst\\Documents\\NIH\\Git clone\\CovidEM\\Executables\\CovidEM2.py\", line 293, in neg_Covid_KL2\n",
      "    return -1 * Covid_KL2(theta0, prem_global, cases_global, countries_global)\n",
      "  File \"C:\\Users\\zakst\\Documents\\NIH\\Git clone\\CovidEM\\Executables\\CovidEM2.py\", line 254, in Covid_KL2\n",
      "    res = Covid_KL_k2(theta0, prem_in[country_codes[i]], cases_in[country_codes[i]])\n",
      "  File \"C:\\Users\\zakst\\Documents\\NIH\\Git clone\\CovidEM\\Executables\\CovidEM2.py\", line 226, in Covid_KL_k2\n",
      "    u_tilda = scv_eig2(s = theta0[0:(int(len(theta0)/2))], c = prem_in, v = theta0[(int(len(theta0)/2)):])\n",
      "  File \"C:\\Users\\zakst\\Documents\\NIH\\Git clone\\CovidEM\\Executables\\CovidEM2.py\", line 150, in scv_eig2\n",
      "    else: assert(False), \"Unknown number detected in SCV: (%f)\" % builder[i,j]\n",
      "AssertionError: Unknown number detected in SCV: (nan)\n",
      "Traceback (most recent call last):\n",
      "  File \"C:\\Users\\zakst\\anaconda3\\lib\\site-packages\\ci_rvm\\ci_rvm.py\", line 805, in find_CI_bound\n",
      "    precise, fActual, JActual = test_precision()\n",
      "  File \"C:\\Users\\zakst\\anaconda3\\lib\\site-packages\\ci_rvm\\ci_rvm.py\", line 372, in test_precision\n",
      "    fActual = fun(xTmp)\n",
      "  File \"C:\\Users\\zakst\\anaconda3\\lib\\site-packages\\ci_rvm\\ci_rvm.py\", line 146, in __call__\n",
      "    return self.fun(*args, **kwargs)\n",
      "  File \"C:\\Users\\zakst\\Documents\\NIH\\Git clone\\CovidEM\\Executables\\CovidEM2.py\", line 293, in neg_Covid_KL2\n",
      "    return -1 * Covid_KL2(theta0, prem_global, cases_global, countries_global)\n",
      "  File \"C:\\Users\\zakst\\Documents\\NIH\\Git clone\\CovidEM\\Executables\\CovidEM2.py\", line 254, in Covid_KL2\n",
      "    res = Covid_KL_k2(theta0, prem_in[country_codes[i]], cases_in[country_codes[i]])\n",
      "  File \"C:\\Users\\zakst\\Documents\\NIH\\Git clone\\CovidEM\\Executables\\CovidEM2.py\", line 226, in Covid_KL_k2\n",
      "    u_tilda = scv_eig2(s = theta0[0:(int(len(theta0)/2))], c = prem_in, v = theta0[(int(len(theta0)/2)):])\n",
      "  File \"C:\\Users\\zakst\\Documents\\NIH\\Git clone\\CovidEM\\Executables\\CovidEM2.py\", line 188, in scv_eig2\n",
      "    assert(sum((i > 0) for i in eig) >= len(eig)), eig #Assert positive\n",
      "AssertionError: [1.946721585013699e-44, 1.7250444352929626e-44, 3.0752601198031045e-44, 4.70100784007975e-44, 1.7446718768995744e-43, 2.0015867860652297e-43, 2.114006127694529e-43, 2.046021546557364e-43, 1.0226308137428632, -0.022630813742863295, 3.82181821894748e-43, 3.999055676434285e-43, 3.0399832051889895e-43, 2.64776970891196e-43, 2.5118397282906034e-43, 1.6130080997695365e-43]\n",
      "\n",
      "\n",
      "\n",
      "Done b1\n",
      "\n",
      "\n"
     ]
    },
    {
     "name": "stderr",
     "output_type": "stream",
     "text": [
      "C:\\Users\\zakst\\Documents\\NIH\\Git clone\\CovidEM\\Executables\\CovidEM2.py:172: UserWarning: Eigenvector contains both negative and positive elements\n",
      "  warnings.warn(\"Eigenvector contains both negative and positive elements\")\n"
     ]
    }
   ],
   "source": [
    "cis_2b1 = CovidEM2.CI_calc2(best_est, CovidEM2.neg_Covid_KL2)\n",
    "print(\"\\n\\n\\nDone b1\\n\\n\")\n",
    "#cis_2b2 = CovidEM2.CI_calc2(best_est, CovidEM2.neg_Covid_KL2)\n",
    "#print(\"\\n\\n\\nDone b2\\n\\n\")\n",
    "#cis_2b3 = CovidEM2.CI_calc2(best_est, CovidEM2.neg_Covid_KL2)\n",
    "#print(\"\\n\\n\\nDone b3\\n\\n\")"
   ]
  },
  {
   "cell_type": "code",
   "execution_count": 73,
   "id": "4b293656",
   "metadata": {},
   "outputs": [],
   "source": [
    "imp.reload(CovidEM2) #applies changes made to file\n",
    "np.random.seed(451)\n",
    "\n",
    "bad_params = [-1.72245253, -0.91245638,  0.01888201,  0.34871368,  0.35877798,\n",
    "              0.39279521,  0.41702544,  1.95818931, -0.10753684,  0.3775735 ,\n",
    "              -9.22278978,  1.15643563,  1.2910407 ,  1.64917554]\n",
    "\n",
    "CovidEM2.Covid_KL2(bad_params, prem, cases_dict, countries)\n",
    "\n",
    "res = optimize.basinhopping(CovidEM2.Covid_KL2, bad_params, minimizer_kwargs = kwargs)"
   ]
  },
  {
   "cell_type": "code",
   "execution_count": 61,
   "id": "0d933fdb",
   "metadata": {},
   "outputs": [
    {
     "name": "stdout",
     "output_type": "stream",
     "text": [
      "                        fun: 0.3167849972770691\n",
      " lowest_optimization_result:       fun: 0.3167849972770691\n",
      " hess_inv: <14x14 LbfgsInvHessProduct with dtype=float64>\n",
      "      jac: array([ 5.55111516e-06,  5.00710582e-06, -6.49480470e-07, -1.16684440e-05,\n",
      "        4.81281681e-06, -2.31481501e-06,  3.68594042e-06, -4.62407893e-06,\n",
      "        1.40998323e-06, -1.06747944e-05, -1.11022293e-08, -3.96349618e-06,\n",
      "       -1.32116539e-06,  7.93809467e-06])\n",
      "  message: 'CONVERGENCE: REL_REDUCTION_OF_F_<=_FACTR*EPSMCH'\n",
      "     nfev: 1635\n",
      "      nit: 99\n",
      "     njev: 109\n",
      "   status: 0\n",
      "  success: True\n",
      "        x: array([ -1.61258473,  -0.7744435 ,   0.09740116,   0.4341267 ,\n",
      "         0.4574897 ,   0.49643494,   0.54340821,   1.54197721,\n",
      "        -0.91237976,   0.01405923, -13.1434035 ,   0.72507274,\n",
      "         0.92642529,   1.21675698])\n",
      "                    message: ['requested number of basinhopping iterations completed successfully']\n",
      "      minimization_failures: 0\n",
      "                       nfev: 151485\n",
      "                        nit: 100\n",
      "                       njev: 10099\n",
      "                          x: array([ -1.61258473,  -0.7744435 ,   0.09740116,   0.4341267 ,\n",
      "         0.4574897 ,   0.49643494,   0.54340821,   1.54197721,\n",
      "        -0.91237976,   0.01405923, -13.1434035 ,   0.72507274,\n",
      "         0.92642529,   1.21675698])\n"
     ]
    }
   ],
   "source": [
    "print(res)"
   ]
  },
  {
   "cell_type": "code",
   "execution_count": 69,
   "id": "69997e39",
   "metadata": {},
   "outputs": [
    {
     "name": "stdout",
     "output_type": "stream",
     "text": [
      "Overhauled KL, Estimate\n",
      "non-trans: theta:  -1.517340579207497\n",
      "non-trans: CIs: [-1.75830738 -1.3460149 ]\n",
      "non-trans: theta - upper:  0.240966796875\n",
      "non-trans: theta - lower:  -0.17132568359375\n",
      "\n",
      "\n",
      "Parameter # 1\n",
      "trans: theta:  0.219294308\n",
      "trans: CIs: [0.17233631766572943, 0.2602754213875373]\n",
      "trans: theta - upper: 0.04695799033427056\n",
      "trans: theta - lower: -0.040981113387537293\n",
      "\n",
      "\n",
      "Parameter # 2\n",
      "trans: theta:  0.423309799\n",
      "trans: CIs: [0.3537965293739492, 0.6038150065919994]\n",
      "trans: theta - upper: 0.06951326962605081\n",
      "trans: theta - lower: -0.1805052075919994\n",
      "\n",
      "\n",
      "Parameter # 3\n",
      "trans: theta:  1.124597388\n",
      "trans: CIs: [1.0342586189947878, 1.2918188582038286]\n",
      "trans: theta - upper: 0.0903387690052122\n",
      "trans: theta - lower: -0.1672214702038286\n",
      "\n",
      "\n",
      "Parameter # 4\n",
      "trans: theta:  1.511734653\n",
      "trans: CIs: [1.3934404525236117, 1.787712020316659]\n",
      "trans: theta - upper: 0.11829420047638828\n",
      "trans: theta - lower: -0.275977367316659\n",
      "\n",
      "\n",
      "Parameter # 5\n",
      "trans: theta:  1.560386081\n",
      "trans: CIs: [1.4334647434051875, 1.8456393239522004]\n",
      "trans: theta - upper: 0.1269213375948126\n",
      "trans: theta - lower: -0.28525324295220034\n",
      "\n",
      "\n",
      "Parameter # 6\n",
      "trans: theta:  1.727919503\n",
      "trans: CIs: [1.438541151983311, 2.004115863149364]\n",
      "trans: theta - upper: 0.2893783510166892\n",
      "trans: theta - lower: -0.276196360149364\n",
      "\n",
      "\n",
      "Parameter # 7\n",
      "trans: theta:  1.734579037\n",
      "trans: CIs: [1.5444152646387945, 2.057601782118099]\n",
      "trans: theta - upper: 0.19016377236120552\n",
      "trans: theta - lower: -0.32302274511809914\n",
      "\n",
      "\n",
      "Parameter # 8\n",
      "trans: theta:  3.77747199\n",
      "trans: CIs: [2.3689367615081474, 8.476372094707342]\n",
      "trans: theta - upper: 1.4085352284918526\n",
      "trans: theta - lower: -4.6989001047073415\n",
      "\n",
      "\n",
      "Parameter # 9\n",
      "trans: theta:  0.71170154\n",
      "trans: CIs: [0.17170598732331452, 1.6018875553734517]\n",
      "trans: theta - upper: 0.5399955526766854\n",
      "trans: theta - lower: -0.8901860153734518\n",
      "\n",
      "\n",
      "Parameter # 10\n",
      "trans: theta:  0.769347828\n",
      "trans: CIs: [0.6793615981178821, 1.7737838777073194]\n",
      "trans: theta - upper: 0.08998622988211791\n",
      "trans: theta - lower: -1.0044360497073193\n",
      "\n",
      "\n",
      "Parameter # 11\n",
      "trans: theta:  0.104869899\n",
      "trans: CIs: [2.0681215070288287e-05, 0.1961141891418101]\n",
      "trans: theta - upper: 0.10484921778492971\n",
      "trans: theta - lower: -0.09124429014181011\n",
      "\n",
      "\n",
      "Parameter # 12\n",
      "trans: theta:  2.090248998\n",
      "trans: CIs: [1.581273384979877, 4.088015170455175]\n",
      "trans: theta - upper: 0.5089756130201228\n",
      "trans: theta - lower: -1.997766172455175\n",
      "\n",
      "\n",
      "Parameter # 13\n",
      "trans: theta:  1.98923028\n",
      "trans: CIs: [0.014761265958566286, 3.8914566066185916]\n",
      "trans: theta - upper: 1.9744690140414336\n",
      "trans: theta - lower: -1.9022263266185917\n",
      "\n",
      "\n",
      "Parameter # 14\n",
      "trans: theta:  3.373799478\n",
      "trans: CIs: [0.01065209362119845, 5.202688634961642]\n",
      "trans: theta - upper: 3.363147384378802\n",
      "trans: theta - lower: -1.8288891569616417\n",
      "\n",
      "\n"
     ]
    }
   ],
   "source": [
    "thetas = best_est\n",
    "confint = cis_2b1\n",
    "\n",
    "print(\"Overhauled KL, Estimate\")\n",
    "print(\"non-trans: theta: \", thetas[0])\n",
    "print(\"non-trans: CIs:\", confint[0,:])\n",
    "print(\"non-trans: theta - upper: \", thetas[0] - confint[0,0])\n",
    "print(\"non-trans: theta - lower: \", thetas[0] - confint[0,1])\n",
    "print(\"\\n\")\n",
    "\n",
    "for i in range(0,len(thetas)):\n",
    "    print(\"Parameter #\", i+1)\n",
    "    print(\"trans: theta: \", CovidEM2.param_trans2(thetas)[i])\n",
    "    print(\"trans: CIs:\", CovidEM2.param_trans2(confint[i,:]))\n",
    "    print(\"trans: theta - upper:\", CovidEM2.param_trans2(thetas)[i] - CovidEM2.param_trans2(confint[i,0]))\n",
    "    print(\"trans: theta - lower:\", CovidEM2.param_trans2(thetas)[i] - CovidEM2.param_trans2(confint[i,1]))\n",
    "    print(\"\\n\")"
   ]
  },
  {
   "cell_type": "raw",
   "id": "d3421591",
   "metadata": {},
   "source": [
    "ci_header = [\"Age\", \"Lower\", \"Estimate\", \"Upper\"]\n",
    "\n",
    "ci_res = [[\"s0-9\",\"s10-19\",\"s30-39\",\"s40-49\",\"s50-59\",\"s60-69\",\"s70-79\",\n",
    "           \"v0-9\",\"v10-19\",\"v30-39\",\"v40-49\",\"v50-59\",\"v60-69\",\"v70-79\"],\n",
    "          CovidEM2.param_trans2(cis_2b[:,0]),\n",
    "          CovidEM2.param_trans2(best_est),\n",
    "          CovidEM2.param_trans2(cis_2b[:,1])]\n",
    "print(best_est - cis_2b[:,0])\n",
    "print(best_est)\n",
    "print(best_est - cis_2b[:,1])\n",
    "ci_res = np.array(ci_res).T.tolist()\n",
    "\n",
    "print(ci_res)\n"
   ]
  },
  {
   "cell_type": "raw",
   "id": "32acb3f7",
   "metadata": {},
   "source": [
    "with open('CovidStratified/Output/CIEstimates2.csv', 'w', encoding='UTF8', newline='') as f:\n",
    "    writer = csv.writer(f)\n",
    "\n",
    "    # write the header\n",
    "    writer.writerow(ci_header)\n",
    "\n",
    "    # write multiple rows\n",
    "    writer.writerows(ci_res)\n",
    "    \n",
    "f.close()"
   ]
  }
 ],
 "metadata": {
  "kernelspec": {
   "display_name": "Python 3 (ipykernel)",
   "language": "python",
   "name": "python3"
  },
  "language_info": {
   "codemirror_mode": {
    "name": "ipython",
    "version": 3
   },
   "file_extension": ".py",
   "mimetype": "text/x-python",
   "name": "python",
   "nbconvert_exporter": "python",
   "pygments_lexer": "ipython3",
   "version": "3.9.7"
  }
 },
 "nbformat": 4,
 "nbformat_minor": 5
}
