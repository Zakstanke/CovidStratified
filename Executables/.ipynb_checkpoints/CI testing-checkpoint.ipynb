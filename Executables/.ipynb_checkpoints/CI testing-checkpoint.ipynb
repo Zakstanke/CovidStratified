{
 "cells": [
  {
   "cell_type": "raw",
   "id": "4c0d0f52",
   "metadata": {},
   "source": [
    "import os\n",
    "os.chdir('C:/Users/zakst/Documents/NIH')\n",
    "os.getcwd()"
   ]
  },
  {
   "cell_type": "code",
   "execution_count": 3,
   "id": "bb9acc7c",
   "metadata": {},
   "outputs": [],
   "source": [
    "# Initialization\n",
    "import numpy as np\n",
    "from numpy import linalg as la\n",
    "import pandas as pd\n",
    "from scipy import optimize\n",
    "import warnings\n",
    "import math\n",
    "import sys\n",
    "from tabulate import tabulate\n",
    "import csv\n",
    "\n",
    "import CovidEM\n",
    "import CovidEM2\n",
    "import CovidCI\n",
    "\n",
    "import imp\n",
    "imp.reload(CovidCI)\n",
    "imp.reload(CovidEM) #applies changes made to file\n",
    "imp.reload(CovidEM2)\n",
    "\n",
    "# Read in data\n",
    "cases = pd.read_csv('CovidStratified/Data/cases.csv', index_col=0)\n",
    "cases = cases.sort_index(ascending = True)\n",
    "# to retrieve entries as plain data types: cases.iloc[i,j].values\n",
    "cases_dict = {}\n",
    "cases_mat = cases.to_dict(\"split\")[\"data\"] # temp variable to hold onto arrays\n",
    "for i in range(len(cases)):\n",
    "    cases_dict[cases.index[i]] = cases_mat[i]\n",
    "del cases_mat\n",
    "\n",
    "prem = {\n",
    "\"can\" : pd.read_csv('CovidStratified/Data/premCan.csv', index_col=0).to_numpy(),\n",
    "\"chn\" : pd.read_csv('CovidStratified/Data/premChn.csv', index_col=0).to_numpy(),\n",
    "\"gbr\" : pd.read_csv('CovidStratified/Data/premGbr.csv', index_col=0).to_numpy(),\n",
    "\"isr\" : pd.read_csv('CovidStratified/Data/premIsr.csv', index_col=0).to_numpy(),\n",
    "\"ita\" : pd.read_csv('CovidStratified/Data/premIta.csv', index_col=0).to_numpy(),\n",
    "\"nld\" : pd.read_csv('CovidStratified/Data/premNLD.csv', index_col=0).to_numpy(),\n",
    "}\n",
    "# to retrieve entries: prem[\"can\"]\n",
    "\n",
    "countries = list(prem)\n",
    "\n",
    "# print(cases)\n",
    "# print(prem[\"can\"])"
   ]
  },
  {
   "cell_type": "code",
   "execution_count": 15,
   "id": "a954c45a",
   "metadata": {},
   "outputs": [
    {
     "name": "stdout",
     "output_type": "stream",
     "text": [
      "The estimate is: k=4.233, p=0.086\n"
     ]
    }
   ],
   "source": [
    "# Example of Confidence intervals\n",
    "\n",
    "import numpy as np               # for numerical operations\n",
    "from scipy import stats          # for stats functions\n",
    "from scipy import optimize as op # to maximize the likelihood\n",
    "\n",
    "import numdifftools as nd        # to compute gradient and Hessian numerically;\n",
    "                                 # the package can be found on pypi.\n",
    "                                 # Another good package for that purpose\n",
    "                                 # (using automatic differentiation) is autograd\n",
    "\n",
    "from ci_rvm import find_CI\n",
    "np.random.seed(451)\n",
    "\n",
    "# Define the size of the data set\n",
    "n = 100\n",
    "\n",
    "# Define the true parameters\n",
    "k, p = 5, 0.1\n",
    "\n",
    "# Generate the data set\n",
    "data = np.random.negative_binomial(k, p, size=n)\n",
    "\n",
    "# Because the parameters are constrained to the positive range and the\n",
    "# interval (0, 1), respectively, we work on a transformed parameter space\n",
    "# with unbounded domain.\n",
    "def transform_parameters(params):\n",
    "    k, p = params\n",
    "    return np.exp(k), 1/(1+np.exp(-p))\n",
    "    #return k, p\n",
    "\n",
    "# Log-Likelihood function for a negative binomial model\n",
    "def logL(params):\n",
    "    k, p = transform_parameters(params)\n",
    "    return stats.nbinom.logpmf(data, k, p).sum()\n",
    "\n",
    "# negative log-Likelihood function for optimization (because we use\n",
    "# minimization algorithms instead of maximization algorithms)\n",
    "negLogL = lambda params: -logL(params)\n",
    "\n",
    "# Initial guess\n",
    "x0 = [4, 0.2]\n",
    "\n",
    "# Maximize the likelihood\n",
    "result = op.minimize(negLogL, x0)\n",
    "#print(result.x)\n",
    "\n",
    "# Print the result (we need to transform the parameters to the original\n",
    "# parameter space to make them interpretable)\n",
    "print(\"The estimate is: k={:5.3f}, p={:5.3f}\".format(*transform_parameters(result.x)))\n",
    "\n"
   ]
  },
  {
   "cell_type": "code",
   "execution_count": 17,
   "id": "df73bed2",
   "metadata": {},
   "outputs": [
    {
     "name": "stdout",
     "output_type": "stream",
     "text": [
      "Confidence interval for k: [3.106, 5.687]\n",
      "\n",
      "\n",
      "trans: k:  4.2334692165135435\n",
      "trans: k - upper: -1.4535306447825596\n",
      "trans: k - lower: 1.1274530109756\n",
      "\n",
      "\n",
      "non-trans: k:  1.4430218026703197\n",
      "non-trans: k - upper:  0.30968086046292687\n",
      "non-trans: k - lower:  -0.2951610412647001\n"
     ]
    }
   ],
   "source": [
    "np.random.seed(451)\n",
    "\n",
    "# Define gradient and Hessian\n",
    "jac = nd.Gradient(logL)\n",
    "hess = nd.Hessian(logL)\n",
    "\n",
    "# Find confidence intervals for all parameters.\n",
    "# Note: For complicated problems, it is worthwile doing this in parallel.\n",
    "#       However, then we would need to encapsulate the procedure in a\n",
    "#       method and define the likelihood function, gradient, and Hessian\n",
    "#       on the top level of the module.\n",
    "CIs = find_CI(result.x, logL, jac, hess, alpha = 0.95,\n",
    "              disp=False) # the disp argument lets the algorithm print\n",
    "                         # status messages.\n",
    "    \n",
    "#print(result.x)\n",
    "#print(CIs)\n",
    "    \n",
    "# CIs is a 2D numpy array with CIs[i, 0] containing the lower bound of the\n",
    "# confidence interval for the i-th parameter and CIs[i, 1] containing the\n",
    "# respective upper bound.\n",
    "\n",
    "# Print the confidence intervals. Note: we need to transform the parameters\n",
    "# back to the original parameter space.\n",
    "original_lower = transform_parameters(CIs[:,0])\n",
    "original_upper = transform_parameters(CIs[:,1])\n",
    "print(\"Confidence interval for k: [{:5.3f}, {:5.3f}]\".format(\n",
    "   original_lower[0], original_upper[0]))\n",
    "#print(\"Confidence interval for p: [{:5.3f}, {:5.3f}]\".format(\n",
    "#   original_lower[1], original_upper[1]))\n",
    "print(\"\\n\")\n",
    "print(\"trans: k: \", transform_parameters(result.x)[0])\n",
    "print(\"trans: k - upper:\", transform_parameters(result.x)[0] - original_upper[0])\n",
    "print(\"trans: k - lower:\", transform_parameters(result.x)[0] - original_lower[0])\n",
    "print(\"\\n\")\n",
    "print(\"non-trans: k: \", result.x[0])\n",
    "print(\"non-trans: k - upper: \", result.x[0] - CIs[0,0])\n",
    "print(\"non-trans: k - lower: \", result.x[0] - CIs[0,1])"
   ]
  },
  {
   "cell_type": "code",
   "execution_count": 8,
   "id": "086a5b02",
   "metadata": {},
   "outputs": [
    {
     "name": "stdout",
     "output_type": "stream",
     "text": [
      "Cumulative country calculation with randomized starting points:\n",
      "\n",
      "20.00 %, 40.00 %, 60.00 %, 80.00 %, 100.00 %, -----------  ----------  -  ---------  ---------  ---------  ---------  ---------  ----------  ----------  -  ----------  -----------  ---------  ----------  ----------  --------  --------  -  --------  --------  --------  -------  --------  -------  -------  -  --------  ---------  ---------  ---------  -------  --------\n",
      "-1.36287     -0.0898766  1  -1.1815     0.755689   0.272781  -0.292139  -0.232897  -0.544864    0.0340029  1   0.287413    0.290463    -1.10035    0.101635   -0.389342   -2.02074  -2.1184   1  0.199176  0.521528  0.942774  1.05447  0.849896  2.37378  1.90766  1  0.858506  -0.479178  -12.6561   -0.101932  1.66057  -9.10312\n",
      " 0.521455    -0.148669   1  -0.492077   0.216775  -0.652791  -0.399962   0.714557  -0.0573359  -0.416248   1   0.0117233   0.0205226    0.169948   0.323661   -0.0824058  -2.02026  -2.11777  1  0.199348  0.521715  0.942857  1.05463  0.850089  2.37173  1.90527  1  0.857202  -0.480457  -11.6281   -0.103313  1.65926  -9.10311\n",
      " 0.00595678  -2.26075    1  -1.2463     0.41095   -0.549861   0.595156   0.680315   0.253097    0.260215   1  -0.173254   -0.185709    -0.388209  -0.0751505  -0.075034   -2.02044  -2.11794  1  0.199052  0.521462  0.94263   1.0543   0.849741  2.37319  1.90697  1  0.859303  -0.478754   -8.62546  -0.10129   1.66112  -9.10308\n",
      "-0.505778    -0.479677   1   0.330034  -0.76779   -0.705452   0.398252  -1.16158   -0.718757   -0.234152   1   0.333201   -0.00616135   0.352185  -0.500943    0.0449783  -2.02035  -2.11808  1  0.199308  0.521618  0.942824  1.05461  0.849997  2.37237  1.90621  1  0.857492  -0.479714  -11.3072   -0.103222  1.65973  -9.10311\n",
      " 0.031356    -0.246861   1   0.393746   0.224798  -0.449619  -0.056648  -1.04419   -0.410535    0.463367   1   0.26608    -0.872415    -0.939634  -0.278564   -0.222445   -2.02049  -2.11788  1  0.199401  0.521808  0.94293   1.05467  0.850091  2.37229  1.90505  1  0.856577  -0.481266  -10.7609   -0.103599  1.6589   -9.10311\n",
      "-----------  ----------  -  ---------  ---------  ---------  ---------  ---------  ----------  ----------  -  ----------  -----------  ---------  ----------  ----------  --------  --------  -  --------  --------  --------  -------  --------  -------  -------  -  --------  ---------  ---------  ---------  -------  --------\n"
     ]
    }
   ],
   "source": [
    "imp.reload(CovidEM2)\n",
    "\n",
    "starts = 5 #number of different starting points to test\n",
    "trials = 1 # Number of trials per start point\n",
    "iters = (starts * trials)\n",
    "theta_iter = [[0] * 33] * iters\n",
    "best_res = optimize.OptimizeResult(x = 100, fun = 100, success = False) #placeholder var to track best result\n",
    "\n",
    "print (\"Cumulative country calculation with randomized starting points:\\n\")\n",
    "kwargs = dict(args = (prem, cases_dict, countries), method=\"L-BFGS-B\")\n",
    "for i in range(0, starts):\n",
    "    theta_guess = np.random.gamma(4, 1/4, 14) # mean = 1, sd = 2\n",
    "    for k in range(len(theta_guess)): theta_guess[k] = math.log(theta_guess[k], math.e)\n",
    "    for j in range(0, trials):\n",
    "        res = optimize.basinhopping(CovidEM2.Covid_KL2, theta_guess, minimizer_kwargs = kwargs)\n",
    "        out_start = np.insert(np.insert(theta_guess, 2,1),10,1)\n",
    "        out_end = np.insert(np.insert(res.x, 2,1),10,1)\n",
    "        theta_iter[((i*trials)+j)] = np.append(np.append(out_start, out_end), res.fun)\n",
    "        if (res.fun < best_res.fun): \n",
    "            best_res = res\n",
    "            \n",
    "    print(f\"{((((i+1)*trials)/iters)*100):.2f}\",\"%, \", end = \"\")\n",
    "\n",
    "\n",
    "print(tabulate(theta_iter))\n"
   ]
  },
  {
   "cell_type": "raw",
   "id": "de055ff8",
   "metadata": {},
   "source": [
    "theta_header = [\"s0-9i\",\"s10-19i\",\"s20-29i\",\"s30-39i\",\"s40-49i\",\"s50-59i\",\"s60-69i\",\"s70-79i\",\n",
    "                \"v0-9i\",\"v10-19i\",\"v20-29i\",\"v30-39i\",\"v40-49i\",\"v50-59i\",\"v60-69i\",\"v70-79i\",\n",
    "                \"s0-9\",\"s10-19\",\"s20-29\",\"s30-39\",\"s40-49\",\"s50-59\",\"s60-69\",\"s70-79\",\n",
    "                \"v0-9\",\"v10-19\",\"v20-29\",\"v30-39\",\"v40-49\",\"v50-59\",\"v60-69\",\"v70-79\", \"kl_div\"]\n",
    "\n",
    "\n",
    "with open('CovidStratified/Output/ThetaIterations2.csv', 'w', encoding='UTF8', newline='') as f:\n",
    "    writer = csv.writer(f)\n",
    "\n",
    "    # write the header\n",
    "    writer.writerow(theta_header)\n",
    "\n",
    "    # write multiple rows\n",
    "    writer.writerows(theta_iter)\n",
    "    \n",
    "f.close()"
   ]
  },
  {
   "cell_type": "code",
   "execution_count": 13,
   "id": "86433ce7",
   "metadata": {
    "scrolled": true
   },
   "outputs": [],
   "source": [
    "imp.reload(CovidEM2) #applies changes made to file\n",
    "np.random.seed(451)\n",
    "\n",
    "best_res_x = [0]*14\n",
    "best_est = [0.219294308, 0.423309799, 1.124597388, 1.511734653, 1.560386081, 1.727919503, 1.734579037, \n",
    "            3.77747199,  0.71170154,  0.769347828, 0.104869899, 2.090248998, 1.98923028,  3.373799478]\n",
    "for i in range(0, len(best_est)):\n",
    "    best_est[i] = math.log(best_est[i])\n",
    "    best_res_x[i] = (best_res.x[i])\n",
    "\n",
    "# Initialize variables\n",
    "CovidEM2.set_prem(prem)\n",
    "CovidEM2.set_cases(cases_dict)\n",
    "CovidEM2.set_countries(countries)\n"
   ]
  },
  {
   "cell_type": "code",
   "execution_count": 18,
   "id": "4e4f3404",
   "metadata": {},
   "outputs": [
    {
     "name": "stdout",
     "output_type": "stream",
     "text": [
      "[-1.517340579207497, -0.8596509826563389, 0.11742509426967462, 0.41325776830884, 0.44493327846189984, 0.5469180853847627, 0.5507647539882276, 1.3290550001802846, -0.340096640846177, -0.26221209964514486, -2.255034754233455, 0.7372831966794187, 0.6877477699424692, 1.2160395508223831]\n",
      "[-2.0207391948161275, -2.118397835349923, 0.1991761324762376, 0.5215279332629494, 0.9427736523337448, 1.0544720903386497, 0.8498964677927807, 2.3737802113113586, 1.907657491262772, 0.8585061734229341, -0.4791775851786038, -12.656148974124854, -0.10193222120246291, 1.6605681379148496]\n"
     ]
    }
   ],
   "source": [
    "print(best_est)\n",
    "print(best_res_x)"
   ]
  },
  {
   "cell_type": "code",
   "execution_count": 21,
   "id": "0d2e098b",
   "metadata": {},
   "outputs": [
    {
     "name": "stdout",
     "output_type": "stream",
     "text": [
      "iter   1<: x_0_d= 0.000; f_d= 1.921; jac_d= 0.004; nsteps=33; x_d= 0.000; f_impr= 0.000; jac_impr=-3.490; f_e= 0.000; step= 1.000; radius= 1.000 - maximizing nuisance parameters\n",
      "iter   2<: x_0_d= 0.000; f_d= 1.920; jac_d= 0.249; nsteps=21; x_d= 0.000; f_impr= 0.000; jac_impr=-5.815; f_e= 0.000; step= 0.000; radius= 0.000 - maximizing nuisance parameters\n"
     ]
    },
    {
     "ename": "KeyboardInterrupt",
     "evalue": "",
     "output_type": "error",
     "traceback": [
      "\u001b[1;31m---------------------------------------------------------------------------\u001b[0m",
      "\u001b[1;31mKeyboardInterrupt\u001b[0m                         Traceback (most recent call last)",
      "\u001b[1;32m~\\AppData\\Local\\Temp/ipykernel_8040/741001592.py\u001b[0m in \u001b[0;36m<module>\u001b[1;34m\u001b[0m\n\u001b[1;32m----> 1\u001b[1;33m \u001b[0mcis_2a1\u001b[0m \u001b[1;33m=\u001b[0m \u001b[0mCovidEM2\u001b[0m\u001b[1;33m.\u001b[0m\u001b[0mCI_calc2\u001b[0m\u001b[1;33m(\u001b[0m\u001b[0mbest_res_x\u001b[0m\u001b[1;33m,\u001b[0m \u001b[0mCovidEM2\u001b[0m\u001b[1;33m.\u001b[0m\u001b[0mneg_Covid_KL2\u001b[0m\u001b[1;33m)\u001b[0m\u001b[1;33m\u001b[0m\u001b[1;33m\u001b[0m\u001b[0m\n\u001b[0m\u001b[0;32m      2\u001b[0m \u001b[0mprint\u001b[0m\u001b[1;33m(\u001b[0m\u001b[1;34m\"\\n\\n\\nDone a1\\n\\n\"\u001b[0m\u001b[1;33m)\u001b[0m\u001b[1;33m\u001b[0m\u001b[1;33m\u001b[0m\u001b[0m\n\u001b[0;32m      3\u001b[0m \u001b[0mcis_2a2\u001b[0m \u001b[1;33m=\u001b[0m \u001b[0mCovidEM2\u001b[0m\u001b[1;33m.\u001b[0m\u001b[0mCI_calc2\u001b[0m\u001b[1;33m(\u001b[0m\u001b[0mbest_res_x\u001b[0m\u001b[1;33m,\u001b[0m \u001b[0mCovidEM2\u001b[0m\u001b[1;33m.\u001b[0m\u001b[0mneg_Covid_KL2\u001b[0m\u001b[1;33m)\u001b[0m\u001b[1;33m\u001b[0m\u001b[1;33m\u001b[0m\u001b[0m\n\u001b[0;32m      4\u001b[0m \u001b[0mprint\u001b[0m\u001b[1;33m(\u001b[0m\u001b[1;34m\"\\n\\n\\nDone a2\\n\\n\"\u001b[0m\u001b[1;33m)\u001b[0m\u001b[1;33m\u001b[0m\u001b[1;33m\u001b[0m\u001b[0m\n\u001b[0;32m      5\u001b[0m \u001b[0mcis_2a3\u001b[0m \u001b[1;33m=\u001b[0m \u001b[0mCovidEM2\u001b[0m\u001b[1;33m.\u001b[0m\u001b[0mCI_calc2\u001b[0m\u001b[1;33m(\u001b[0m\u001b[0mbest_res_x\u001b[0m\u001b[1;33m,\u001b[0m \u001b[0mCovidEM2\u001b[0m\u001b[1;33m.\u001b[0m\u001b[0mneg_Covid_KL2\u001b[0m\u001b[1;33m)\u001b[0m\u001b[1;33m\u001b[0m\u001b[1;33m\u001b[0m\u001b[0m\n",
      "\u001b[1;32m~\\Documents\\NIH\\Git clone\\CovidEM\\Executables\\CovidEM2.py\u001b[0m in \u001b[0;36mCI_calc2\u001b[1;34m(estimate, fun)\u001b[0m\n\u001b[0;32m    306\u001b[0m     \u001b[0mhess\u001b[0m \u001b[1;33m=\u001b[0m \u001b[0mnd\u001b[0m\u001b[1;33m.\u001b[0m\u001b[0mHessian\u001b[0m\u001b[1;33m(\u001b[0m\u001b[0mfun\u001b[0m\u001b[1;33m)\u001b[0m\u001b[1;33m\u001b[0m\u001b[1;33m\u001b[0m\u001b[0m\n\u001b[0;32m    307\u001b[0m \u001b[1;33m\u001b[0m\u001b[0m\n\u001b[1;32m--> 308\u001b[1;33m     return find_CI(estimate, fun, jac, hess, alpha = 0.95, \n\u001b[0m\u001b[0;32m    309\u001b[0m                    \u001b[0mdisp\u001b[0m\u001b[1;33m=\u001b[0m\u001b[1;32mTrue\u001b[0m\u001b[1;33m,\u001b[0m \u001b[0mparallel\u001b[0m \u001b[1;33m=\u001b[0m \u001b[1;32mFalse\u001b[0m\u001b[1;33m,\u001b[0m\u001b[1;33m\u001b[0m\u001b[1;33m\u001b[0m\u001b[0m\n\u001b[0;32m    310\u001b[0m                    \u001b[0mapprxtol\u001b[0m\u001b[1;33m=\u001b[0m\u001b[1;36m0.5\u001b[0m\u001b[1;33m,\u001b[0m \u001b[0mresulttol\u001b[0m\u001b[1;33m=\u001b[0m\u001b[1;36m0.001\u001b[0m\u001b[1;33m,\u001b[0m \u001b[0mminstep\u001b[0m\u001b[1;33m=\u001b[0m\u001b[1;36m1e-05\u001b[0m\u001b[1;33m,\u001b[0m\u001b[1;33m\u001b[0m\u001b[1;33m\u001b[0m\u001b[0m\n",
      "\u001b[1;32m~\\anaconda3\\lib\\site-packages\\ci_rvm\\ci_rvm.py\u001b[0m in \u001b[0;36mfind_CI\u001b[1;34m(x0, fun, jac, hess, indices, directions, alpha, parallel, return_full_results, return_success, **kwargs)\u001b[0m\n\u001b[0;32m   1347\u001b[0m             \u001b[0mresult_list\u001b[0m \u001b[1;33m=\u001b[0m \u001b[0mlist\u001b[0m\u001b[1;33m(\u001b[0m\u001b[0mpool\u001b[0m\u001b[1;33m.\u001b[0m\u001b[0mmap\u001b[0m\u001b[1;33m(\u001b[0m\u001b[0m__parallel_helper_fun\u001b[0m\u001b[1;33m,\u001b[0m \u001b[0mtask_chain\u001b[0m\u001b[1;33m)\u001b[0m\u001b[1;33m)\u001b[0m\u001b[1;33m\u001b[0m\u001b[1;33m\u001b[0m\u001b[0m\n\u001b[0;32m   1348\u001b[0m     \u001b[1;32melse\u001b[0m\u001b[1;33m:\u001b[0m\u001b[1;33m\u001b[0m\u001b[1;33m\u001b[0m\u001b[0m\n\u001b[1;32m-> 1349\u001b[1;33m         \u001b[0mresult_list\u001b[0m \u001b[1;33m=\u001b[0m \u001b[0mlist\u001b[0m\u001b[1;33m(\u001b[0m\u001b[0mmap\u001b[0m\u001b[1;33m(\u001b[0m\u001b[0m__parallel_helper_fun\u001b[0m\u001b[1;33m,\u001b[0m \u001b[0mtask_chain\u001b[0m\u001b[1;33m)\u001b[0m\u001b[1;33m)\u001b[0m\u001b[1;33m\u001b[0m\u001b[1;33m\u001b[0m\u001b[0m\n\u001b[0m\u001b[0;32m   1350\u001b[0m \u001b[1;33m\u001b[0m\u001b[0m\n\u001b[0;32m   1351\u001b[0m     \u001b[0mresult\u001b[0m \u001b[1;33m=\u001b[0m \u001b[1;33m[\u001b[0m\u001b[1;33m[\u001b[0m\u001b[1;33m]\u001b[0m \u001b[1;32mfor\u001b[0m \u001b[0m_\u001b[0m \u001b[1;32min\u001b[0m \u001b[0mrange\u001b[0m\u001b[1;33m(\u001b[0m\u001b[0mmin\u001b[0m\u001b[1;33m(\u001b[0m\u001b[0mlen\u001b[0m\u001b[1;33m(\u001b[0m\u001b[0mindices\u001b[0m\u001b[1;33m)\u001b[0m\u001b[1;33m,\u001b[0m \u001b[0mlen\u001b[0m\u001b[1;33m(\u001b[0m\u001b[0mdirections\u001b[0m\u001b[1;33m)\u001b[0m\u001b[1;33m)\u001b[0m\u001b[1;33m)\u001b[0m\u001b[1;33m]\u001b[0m\u001b[1;33m\u001b[0m\u001b[1;33m\u001b[0m\u001b[0m\n",
      "\u001b[1;32m~\\anaconda3\\lib\\site-packages\\ci_rvm\\ci_rvm.py\u001b[0m in \u001b[0;36m__parallel_helper_fun\u001b[1;34m(args)\u001b[0m\n\u001b[0;32m   1277\u001b[0m \u001b[1;33m\u001b[0m\u001b[0m\n\u001b[0;32m   1278\u001b[0m \u001b[1;32mdef\u001b[0m \u001b[0m__parallel_helper_fun\u001b[0m\u001b[1;33m(\u001b[0m\u001b[0margs\u001b[0m\u001b[1;33m)\u001b[0m\u001b[1;33m:\u001b[0m\u001b[1;33m\u001b[0m\u001b[1;33m\u001b[0m\u001b[0m\n\u001b[1;32m-> 1279\u001b[1;33m     \u001b[1;32mreturn\u001b[0m \u001b[0margs\u001b[0m\u001b[1;33m[\u001b[0m\u001b[1;36m0\u001b[0m\u001b[1;33m]\u001b[0m\u001b[1;33m,\u001b[0m \u001b[0margs\u001b[0m\u001b[1;33m[\u001b[0m\u001b[1;36m5\u001b[0m\u001b[1;33m]\u001b[0m\u001b[1;33m,\u001b[0m \u001b[0mfind_CI_bound\u001b[0m\u001b[1;33m(\u001b[0m\u001b[1;33m*\u001b[0m\u001b[0margs\u001b[0m\u001b[1;33m[\u001b[0m\u001b[1;36m1\u001b[0m\u001b[1;33m:\u001b[0m\u001b[1;33m-\u001b[0m\u001b[1;36m1\u001b[0m\u001b[1;33m]\u001b[0m\u001b[1;33m,\u001b[0m \u001b[1;33m**\u001b[0m\u001b[0margs\u001b[0m\u001b[1;33m[\u001b[0m\u001b[1;33m-\u001b[0m\u001b[1;36m1\u001b[0m\u001b[1;33m]\u001b[0m\u001b[1;33m)\u001b[0m\u001b[1;33m\u001b[0m\u001b[1;33m\u001b[0m\u001b[0m\n\u001b[0m\u001b[0;32m   1280\u001b[0m \u001b[1;33m\u001b[0m\u001b[0m\n\u001b[0;32m   1281\u001b[0m \u001b[1;31m# todo: parallel, result keywords\u001b[0m\u001b[1;33m\u001b[0m\u001b[1;33m\u001b[0m\u001b[0m\n",
      "\u001b[1;32m~\\anaconda3\\lib\\site-packages\\ci_rvm\\ci_rvm.py\u001b[0m in \u001b[0;36mfind_CI_bound\u001b[1;34m(x0, fun, jac, hess, index, direction, alpha, fun0, jac0, hess0, customTarget, nmax, nchecks, apprxtol, resulttol, singtol, minstep, radiusFactor, infstep, maxRadius, disp, track_x, track_f)\u001b[0m\n\u001b[0;32m   1212\u001b[0m                     \u001b[0mcloseToDisc\u001b[0m \u001b[1;33m=\u001b[0m \u001b[1;32mFalse\u001b[0m\u001b[1;33m\u001b[0m\u001b[1;33m\u001b[0m\u001b[0m\n\u001b[0;32m   1213\u001b[0m \u001b[1;33m\u001b[0m\u001b[0m\n\u001b[1;32m-> 1214\u001b[1;33m             \u001b[0mH\u001b[0m \u001b[1;33m=\u001b[0m \u001b[0mhess\u001b[0m\u001b[1;33m(\u001b[0m\u001b[0mx\u001b[0m\u001b[1;33m)\u001b[0m\u001b[1;33m\u001b[0m\u001b[1;33m\u001b[0m\u001b[0m\n\u001b[0m\u001b[0;32m   1215\u001b[0m \u001b[1;33m\u001b[0m\u001b[0m\n\u001b[0;32m   1216\u001b[0m         \u001b[1;32melse\u001b[0m\u001b[1;33m:\u001b[0m\u001b[1;33m\u001b[0m\u001b[1;33m\u001b[0m\u001b[0m\n",
      "\u001b[1;32m~\\anaconda3\\lib\\site-packages\\ci_rvm\\ci_rvm.py\u001b[0m in \u001b[0;36m__call__\u001b[1;34m(self, *args, **kwargs)\u001b[0m\n\u001b[0;32m    144\u001b[0m     \u001b[1;32mdef\u001b[0m \u001b[0m__call__\u001b[0m\u001b[1;33m(\u001b[0m\u001b[0mself\u001b[0m\u001b[1;33m,\u001b[0m \u001b[1;33m*\u001b[0m\u001b[0margs\u001b[0m\u001b[1;33m,\u001b[0m \u001b[1;33m**\u001b[0m\u001b[0mkwargs\u001b[0m\u001b[1;33m)\u001b[0m\u001b[1;33m:\u001b[0m\u001b[1;33m\u001b[0m\u001b[1;33m\u001b[0m\u001b[0m\n\u001b[0;32m    145\u001b[0m         \u001b[0mself\u001b[0m\u001b[1;33m.\u001b[0m\u001b[0mevals\u001b[0m \u001b[1;33m+=\u001b[0m \u001b[1;36m1\u001b[0m\u001b[1;33m\u001b[0m\u001b[1;33m\u001b[0m\u001b[0m\n\u001b[1;32m--> 146\u001b[1;33m         \u001b[1;32mreturn\u001b[0m \u001b[0mself\u001b[0m\u001b[1;33m.\u001b[0m\u001b[0mfun\u001b[0m\u001b[1;33m(\u001b[0m\u001b[1;33m*\u001b[0m\u001b[0margs\u001b[0m\u001b[1;33m,\u001b[0m \u001b[1;33m**\u001b[0m\u001b[0mkwargs\u001b[0m\u001b[1;33m)\u001b[0m\u001b[1;33m\u001b[0m\u001b[1;33m\u001b[0m\u001b[0m\n\u001b[0m\u001b[0;32m    147\u001b[0m \u001b[1;33m\u001b[0m\u001b[0m\n\u001b[0;32m    148\u001b[0m \u001b[1;33m\u001b[0m\u001b[0m\n",
      "\u001b[1;32m~\\anaconda3\\lib\\site-packages\\ci_rvm\\ci_rvm.py\u001b[0m in \u001b[0;36m<lambda>\u001b[1;34m(x)\u001b[0m\n\u001b[0;32m    246\u001b[0m         \u001b[0mfun\u001b[0m \u001b[1;33m=\u001b[0m \u001b[1;32mlambda\u001b[0m \u001b[0mx\u001b[0m\u001b[1;33m:\u001b[0m \u001b[0mfun2\u001b[0m\u001b[1;33m(\u001b[0m\u001b[0mflip\u001b[0m\u001b[1;33m(\u001b[0m\u001b[0mx\u001b[0m\u001b[1;33m)\u001b[0m\u001b[1;33m)\u001b[0m\u001b[1;33m\u001b[0m\u001b[1;33m\u001b[0m\u001b[0m\n\u001b[0;32m    247\u001b[0m         \u001b[0mjac\u001b[0m \u001b[1;33m=\u001b[0m \u001b[1;32mlambda\u001b[0m \u001b[0mx\u001b[0m\u001b[1;33m:\u001b[0m \u001b[0mflip\u001b[0m\u001b[1;33m(\u001b[0m\u001b[0mnp\u001b[0m\u001b[1;33m.\u001b[0m\u001b[0masarray\u001b[0m\u001b[1;33m(\u001b[0m\u001b[0mjac2\u001b[0m\u001b[1;33m(\u001b[0m\u001b[0mflip\u001b[0m\u001b[1;33m(\u001b[0m\u001b[0mx\u001b[0m\u001b[1;33m)\u001b[0m\u001b[1;33m)\u001b[0m\u001b[1;33m)\u001b[0m\u001b[1;33m)\u001b[0m\u001b[1;33m\u001b[0m\u001b[1;33m\u001b[0m\u001b[0m\n\u001b[1;32m--> 248\u001b[1;33m         \u001b[0mhess\u001b[0m \u001b[1;33m=\u001b[0m \u001b[1;32mlambda\u001b[0m \u001b[0mx\u001b[0m\u001b[1;33m:\u001b[0m \u001b[0mflip\u001b[0m\u001b[1;33m(\u001b[0m\u001b[0mnp\u001b[0m\u001b[1;33m.\u001b[0m\u001b[0masarray\u001b[0m\u001b[1;33m(\u001b[0m\u001b[0mhess2\u001b[0m\u001b[1;33m(\u001b[0m\u001b[0mflip\u001b[0m\u001b[1;33m(\u001b[0m\u001b[0mx\u001b[0m\u001b[1;33m)\u001b[0m\u001b[1;33m)\u001b[0m\u001b[1;33m)\u001b[0m\u001b[1;33m)\u001b[0m\u001b[1;33m\u001b[0m\u001b[1;33m\u001b[0m\u001b[0m\n\u001b[0m\u001b[0;32m    249\u001b[0m         \u001b[0mx0\u001b[0m \u001b[1;33m=\u001b[0m \u001b[0mx0\u001b[0m\u001b[1;33m.\u001b[0m\u001b[0mcopy\u001b[0m\u001b[1;33m(\u001b[0m\u001b[1;33m)\u001b[0m\u001b[1;33m\u001b[0m\u001b[1;33m\u001b[0m\u001b[0m\n\u001b[0;32m    250\u001b[0m         \u001b[0mx0\u001b[0m\u001b[1;33m[\u001b[0m\u001b[0mindex\u001b[0m\u001b[1;33m]\u001b[0m \u001b[1;33m*=\u001b[0m \u001b[1;33m-\u001b[0m\u001b[1;36m1\u001b[0m\u001b[1;33m\u001b[0m\u001b[1;33m\u001b[0m\u001b[0m\n",
      "\u001b[1;32m~\\anaconda3\\lib\\site-packages\\numdifftools\\core.py\u001b[0m in \u001b[0;36m__call__\u001b[1;34m(self, x, *args, **kwds)\u001b[0m\n\u001b[0;32m    536\u001b[0m \u001b[1;33m\u001b[0m\u001b[0m\n\u001b[0;32m    537\u001b[0m     \u001b[1;32mdef\u001b[0m \u001b[0m__call__\u001b[0m\u001b[1;33m(\u001b[0m\u001b[0mself\u001b[0m\u001b[1;33m,\u001b[0m \u001b[0mx\u001b[0m\u001b[1;33m,\u001b[0m \u001b[1;33m*\u001b[0m\u001b[0margs\u001b[0m\u001b[1;33m,\u001b[0m \u001b[1;33m**\u001b[0m\u001b[0mkwds\u001b[0m\u001b[1;33m)\u001b[0m\u001b[1;33m:\u001b[0m\u001b[1;33m\u001b[0m\u001b[1;33m\u001b[0m\u001b[0m\n\u001b[1;32m--> 538\u001b[1;33m         \u001b[1;32mreturn\u001b[0m \u001b[0msuper\u001b[0m\u001b[1;33m(\u001b[0m\u001b[0mHessdiag\u001b[0m\u001b[1;33m,\u001b[0m \u001b[0mself\u001b[0m\u001b[1;33m)\u001b[0m\u001b[1;33m.\u001b[0m\u001b[0m__call__\u001b[0m\u001b[1;33m(\u001b[0m\u001b[0mnp\u001b[0m\u001b[1;33m.\u001b[0m\u001b[0matleast_1d\u001b[0m\u001b[1;33m(\u001b[0m\u001b[0mx\u001b[0m\u001b[1;33m)\u001b[0m\u001b[1;33m,\u001b[0m \u001b[1;33m*\u001b[0m\u001b[0margs\u001b[0m\u001b[1;33m,\u001b[0m \u001b[1;33m**\u001b[0m\u001b[0mkwds\u001b[0m\u001b[1;33m)\u001b[0m\u001b[1;33m\u001b[0m\u001b[1;33m\u001b[0m\u001b[0m\n\u001b[0m\u001b[0;32m    539\u001b[0m \u001b[1;33m\u001b[0m\u001b[0m\n\u001b[0;32m    540\u001b[0m \u001b[1;33m\u001b[0m\u001b[0m\n",
      "\u001b[1;32m~\\anaconda3\\lib\\site-packages\\numdifftools\\core.py\u001b[0m in \u001b[0;36m__call__\u001b[1;34m(self, x, *args, **kwds)\u001b[0m\n\u001b[0;32m    286\u001b[0m         \u001b[0mx_i\u001b[0m \u001b[1;33m=\u001b[0m \u001b[0mnp\u001b[0m\u001b[1;33m.\u001b[0m\u001b[0masarray\u001b[0m\u001b[1;33m(\u001b[0m\u001b[0mx\u001b[0m\u001b[1;33m)\u001b[0m\u001b[1;33m\u001b[0m\u001b[1;33m\u001b[0m\u001b[0m\n\u001b[0;32m    287\u001b[0m         \u001b[1;32mwith\u001b[0m \u001b[0mnp\u001b[0m\u001b[1;33m.\u001b[0m\u001b[0merrstate\u001b[0m\u001b[1;33m(\u001b[0m\u001b[0mdivide\u001b[0m\u001b[1;33m=\u001b[0m\u001b[1;34m'ignore'\u001b[0m\u001b[1;33m,\u001b[0m \u001b[0minvalid\u001b[0m\u001b[1;33m=\u001b[0m\u001b[1;34m'ignore'\u001b[0m\u001b[1;33m)\u001b[0m\u001b[1;33m:\u001b[0m\u001b[1;33m\u001b[0m\u001b[1;33m\u001b[0m\u001b[0m\n\u001b[1;32m--> 288\u001b[1;33m             \u001b[0mresults\u001b[0m\u001b[1;33m,\u001b[0m \u001b[0mf_xi\u001b[0m \u001b[1;33m=\u001b[0m \u001b[0mself\u001b[0m\u001b[1;33m.\u001b[0m\u001b[0m_derivative\u001b[0m\u001b[1;33m(\u001b[0m\u001b[0mx_i\u001b[0m\u001b[1;33m,\u001b[0m \u001b[0margs\u001b[0m\u001b[1;33m,\u001b[0m \u001b[0mkwds\u001b[0m\u001b[1;33m)\u001b[0m\u001b[1;33m\u001b[0m\u001b[1;33m\u001b[0m\u001b[0m\n\u001b[0m\u001b[0;32m    289\u001b[0m             \u001b[0mderivative\u001b[0m\u001b[1;33m,\u001b[0m \u001b[0minfo\u001b[0m \u001b[1;33m=\u001b[0m \u001b[0mself\u001b[0m\u001b[1;33m.\u001b[0m\u001b[0m_extrapolate\u001b[0m\u001b[1;33m(\u001b[0m\u001b[1;33m*\u001b[0m\u001b[0mresults\u001b[0m\u001b[1;33m)\u001b[0m\u001b[1;33m\u001b[0m\u001b[1;33m\u001b[0m\u001b[0m\n\u001b[0;32m    290\u001b[0m         \u001b[1;32mif\u001b[0m \u001b[0mself\u001b[0m\u001b[1;33m.\u001b[0m\u001b[0mfull_output\u001b[0m\u001b[1;33m:\u001b[0m\u001b[1;33m\u001b[0m\u001b[1;33m\u001b[0m\u001b[0m\n",
      "\u001b[1;32m~\\anaconda3\\lib\\site-packages\\numdifftools\\core.py\u001b[0m in \u001b[0;36m_derivative_nonzero_order\u001b[1;34m(self, x_i, args, kwds)\u001b[0m\n\u001b[0;32m    236\u001b[0m         \u001b[0msteps\u001b[0m\u001b[1;33m,\u001b[0m \u001b[0mstep_ratio\u001b[0m \u001b[1;33m=\u001b[0m \u001b[0mself\u001b[0m\u001b[1;33m.\u001b[0m\u001b[0m_get_steps\u001b[0m\u001b[1;33m(\u001b[0m\u001b[0mx_i\u001b[0m\u001b[1;33m)\u001b[0m\u001b[1;33m\u001b[0m\u001b[1;33m\u001b[0m\u001b[0m\n\u001b[0;32m    237\u001b[0m         \u001b[0mfxi\u001b[0m \u001b[1;33m=\u001b[0m \u001b[0mself\u001b[0m\u001b[1;33m.\u001b[0m\u001b[0m_eval_first\u001b[0m\u001b[1;33m(\u001b[0m\u001b[0mf\u001b[0m\u001b[1;33m,\u001b[0m \u001b[0mx_i\u001b[0m\u001b[1;33m)\u001b[0m\u001b[1;33m\u001b[0m\u001b[1;33m\u001b[0m\u001b[0m\n\u001b[1;32m--> 238\u001b[1;33m         \u001b[0mresults\u001b[0m \u001b[1;33m=\u001b[0m \u001b[1;33m[\u001b[0m\u001b[0mdiff\u001b[0m\u001b[1;33m(\u001b[0m\u001b[0mf\u001b[0m\u001b[1;33m,\u001b[0m \u001b[0mfxi\u001b[0m\u001b[1;33m,\u001b[0m \u001b[0mx_i\u001b[0m\u001b[1;33m,\u001b[0m \u001b[0mh\u001b[0m\u001b[1;33m)\u001b[0m \u001b[1;32mfor\u001b[0m \u001b[0mh\u001b[0m \u001b[1;32min\u001b[0m \u001b[0msteps\u001b[0m\u001b[1;33m]\u001b[0m\u001b[1;33m\u001b[0m\u001b[1;33m\u001b[0m\u001b[0m\n\u001b[0m\u001b[0;32m    239\u001b[0m \u001b[1;33m\u001b[0m\u001b[0m\n\u001b[0;32m    240\u001b[0m         \u001b[0mself\u001b[0m\u001b[1;33m.\u001b[0m\u001b[0mset_richardson_rule\u001b[0m\u001b[1;33m(\u001b[0m\u001b[0mstep_ratio\u001b[0m\u001b[1;33m,\u001b[0m \u001b[0mself\u001b[0m\u001b[1;33m.\u001b[0m\u001b[0mrichardson_terms\u001b[0m\u001b[1;33m)\u001b[0m\u001b[1;33m\u001b[0m\u001b[1;33m\u001b[0m\u001b[0m\n",
      "\u001b[1;32m~\\anaconda3\\lib\\site-packages\\numdifftools\\core.py\u001b[0m in \u001b[0;36m<listcomp>\u001b[1;34m(.0)\u001b[0m\n\u001b[0;32m    236\u001b[0m         \u001b[0msteps\u001b[0m\u001b[1;33m,\u001b[0m \u001b[0mstep_ratio\u001b[0m \u001b[1;33m=\u001b[0m \u001b[0mself\u001b[0m\u001b[1;33m.\u001b[0m\u001b[0m_get_steps\u001b[0m\u001b[1;33m(\u001b[0m\u001b[0mx_i\u001b[0m\u001b[1;33m)\u001b[0m\u001b[1;33m\u001b[0m\u001b[1;33m\u001b[0m\u001b[0m\n\u001b[0;32m    237\u001b[0m         \u001b[0mfxi\u001b[0m \u001b[1;33m=\u001b[0m \u001b[0mself\u001b[0m\u001b[1;33m.\u001b[0m\u001b[0m_eval_first\u001b[0m\u001b[1;33m(\u001b[0m\u001b[0mf\u001b[0m\u001b[1;33m,\u001b[0m \u001b[0mx_i\u001b[0m\u001b[1;33m)\u001b[0m\u001b[1;33m\u001b[0m\u001b[1;33m\u001b[0m\u001b[0m\n\u001b[1;32m--> 238\u001b[1;33m         \u001b[0mresults\u001b[0m \u001b[1;33m=\u001b[0m \u001b[1;33m[\u001b[0m\u001b[0mdiff\u001b[0m\u001b[1;33m(\u001b[0m\u001b[0mf\u001b[0m\u001b[1;33m,\u001b[0m \u001b[0mfxi\u001b[0m\u001b[1;33m,\u001b[0m \u001b[0mx_i\u001b[0m\u001b[1;33m,\u001b[0m \u001b[0mh\u001b[0m\u001b[1;33m)\u001b[0m \u001b[1;32mfor\u001b[0m \u001b[0mh\u001b[0m \u001b[1;32min\u001b[0m \u001b[0msteps\u001b[0m\u001b[1;33m]\u001b[0m\u001b[1;33m\u001b[0m\u001b[1;33m\u001b[0m\u001b[0m\n\u001b[0m\u001b[0;32m    239\u001b[0m \u001b[1;33m\u001b[0m\u001b[0m\n\u001b[0;32m    240\u001b[0m         \u001b[0mself\u001b[0m\u001b[1;33m.\u001b[0m\u001b[0mset_richardson_rule\u001b[0m\u001b[1;33m(\u001b[0m\u001b[0mstep_ratio\u001b[0m\u001b[1;33m,\u001b[0m \u001b[0mself\u001b[0m\u001b[1;33m.\u001b[0m\u001b[0mrichardson_terms\u001b[0m\u001b[1;33m)\u001b[0m\u001b[1;33m\u001b[0m\u001b[1;33m\u001b[0m\u001b[0m\n",
      "\u001b[1;32m~\\anaconda3\\lib\\site-packages\\numdifftools\\finite_difference.py\u001b[0m in \u001b[0;36m_central_even\u001b[1;34m(f, f_x, x, h)\u001b[0m\n\u001b[0;32m    284\u001b[0m                 \u001b[0me_j\u001b[0m \u001b[1;33m=\u001b[0m \u001b[0meee\u001b[0m\u001b[1;33m[\u001b[0m\u001b[0mj\u001b[0m\u001b[1;33m,\u001b[0m \u001b[1;33m:\u001b[0m\u001b[1;33m]\u001b[0m\u001b[1;33m\u001b[0m\u001b[1;33m\u001b[0m\u001b[0m\n\u001b[0;32m    285\u001b[0m                 hess[i, j] = (f(x + e_i + e_j) - f(x + e_i - e_j)\n\u001b[1;32m--> 286\u001b[1;33m                               - f(x - e_i + e_j) + f(x - e_i - e_j)) / (4. * hess[j, i])\n\u001b[0m\u001b[0;32m    287\u001b[0m                 \u001b[0mhess\u001b[0m\u001b[1;33m[\u001b[0m\u001b[0mj\u001b[0m\u001b[1;33m,\u001b[0m \u001b[0mi\u001b[0m\u001b[1;33m]\u001b[0m \u001b[1;33m=\u001b[0m \u001b[0mhess\u001b[0m\u001b[1;33m[\u001b[0m\u001b[0mi\u001b[0m\u001b[1;33m,\u001b[0m \u001b[0mj\u001b[0m\u001b[1;33m]\u001b[0m\u001b[1;33m\u001b[0m\u001b[1;33m\u001b[0m\u001b[0m\n\u001b[0;32m    288\u001b[0m         \u001b[1;32mreturn\u001b[0m \u001b[0mhess\u001b[0m\u001b[1;33m\u001b[0m\u001b[1;33m\u001b[0m\u001b[0m\n",
      "\u001b[1;32m~\\anaconda3\\lib\\site-packages\\numdifftools\\core.py\u001b[0m in \u001b[0;36mexport_fun\u001b[1;34m(x)\u001b[0m\n\u001b[0;32m    255\u001b[0m \u001b[1;33m\u001b[0m\u001b[0m\n\u001b[0;32m    256\u001b[0m         \u001b[1;32mdef\u001b[0m \u001b[0mexport_fun\u001b[0m\u001b[1;33m(\u001b[0m\u001b[0mx\u001b[0m\u001b[1;33m)\u001b[0m\u001b[1;33m:\u001b[0m\u001b[1;33m\u001b[0m\u001b[1;33m\u001b[0m\u001b[0m\n\u001b[1;32m--> 257\u001b[1;33m             \u001b[1;32mreturn\u001b[0m \u001b[0mfun\u001b[0m\u001b[1;33m(\u001b[0m\u001b[0mx\u001b[0m\u001b[1;33m,\u001b[0m \u001b[1;33m*\u001b[0m\u001b[0margs\u001b[0m\u001b[1;33m,\u001b[0m \u001b[1;33m**\u001b[0m\u001b[0mkwds\u001b[0m\u001b[1;33m)\u001b[0m\u001b[1;33m\u001b[0m\u001b[1;33m\u001b[0m\u001b[0m\n\u001b[0m\u001b[0;32m    258\u001b[0m \u001b[1;33m\u001b[0m\u001b[0m\n\u001b[0;32m    259\u001b[0m         \u001b[1;32mreturn\u001b[0m \u001b[0mself\u001b[0m\u001b[1;33m.\u001b[0m\u001b[0mfd_rule\u001b[0m\u001b[1;33m.\u001b[0m\u001b[0mdiff\u001b[0m\u001b[1;33m,\u001b[0m \u001b[0mexport_fun\u001b[0m\u001b[1;33m\u001b[0m\u001b[1;33m\u001b[0m\u001b[0m\n",
      "\u001b[1;32m~\\Documents\\NIH\\Git clone\\CovidEM\\Executables\\CovidEM2.py\u001b[0m in \u001b[0;36mneg_Covid_KL2\u001b[1;34m(theta0)\u001b[0m\n\u001b[0;32m    293\u001b[0m     \u001b[1;32mglobal\u001b[0m \u001b[0mcases_global\u001b[0m\u001b[1;33m\u001b[0m\u001b[1;33m\u001b[0m\u001b[0m\n\u001b[0;32m    294\u001b[0m     \u001b[1;32mglobal\u001b[0m \u001b[0mcountries_global\u001b[0m\u001b[1;33m\u001b[0m\u001b[1;33m\u001b[0m\u001b[0m\n\u001b[1;32m--> 295\u001b[1;33m     \u001b[1;32mreturn\u001b[0m \u001b[1;33m-\u001b[0m\u001b[1;36m1\u001b[0m \u001b[1;33m*\u001b[0m \u001b[0mCovid_KL2\u001b[0m\u001b[1;33m(\u001b[0m\u001b[0mtheta0\u001b[0m\u001b[1;33m,\u001b[0m \u001b[0mprem_global\u001b[0m\u001b[1;33m,\u001b[0m \u001b[0mcases_global\u001b[0m\u001b[1;33m,\u001b[0m \u001b[0mcountries_global\u001b[0m\u001b[1;33m)\u001b[0m\u001b[1;33m\u001b[0m\u001b[1;33m\u001b[0m\u001b[0m\n\u001b[0m\u001b[0;32m    296\u001b[0m \u001b[1;33m\u001b[0m\u001b[0m\n\u001b[0;32m    297\u001b[0m \u001b[1;32mdef\u001b[0m \u001b[0mpos_Covid_KL2\u001b[0m\u001b[1;33m(\u001b[0m\u001b[0mtheta0\u001b[0m\u001b[1;33m)\u001b[0m\u001b[1;33m:\u001b[0m\u001b[1;33m\u001b[0m\u001b[1;33m\u001b[0m\u001b[0m\n",
      "\u001b[1;32m~\\Documents\\NIH\\Git clone\\CovidEM\\Executables\\CovidEM2.py\u001b[0m in \u001b[0;36mCovid_KL2\u001b[1;34m(theta0, prem_in, cases_in, country_codes)\u001b[0m\n\u001b[0;32m    254\u001b[0m         \u001b[1;31m# Consider adding asserts to make sure that the code is present in both dicts\u001b[0m\u001b[1;33m\u001b[0m\u001b[1;33m\u001b[0m\u001b[0m\n\u001b[0;32m    255\u001b[0m         \u001b[1;31m# May bot be necessary, because key_errors get thrown if it doesn't exist\u001b[0m\u001b[1;33m\u001b[0m\u001b[1;33m\u001b[0m\u001b[0m\n\u001b[1;32m--> 256\u001b[1;33m         \u001b[0mres\u001b[0m \u001b[1;33m=\u001b[0m \u001b[0mCovid_KL_k2\u001b[0m\u001b[1;33m(\u001b[0m\u001b[0mtheta0\u001b[0m\u001b[1;33m,\u001b[0m \u001b[0mprem_in\u001b[0m\u001b[1;33m[\u001b[0m\u001b[0mcountry_codes\u001b[0m\u001b[1;33m[\u001b[0m\u001b[0mi\u001b[0m\u001b[1;33m]\u001b[0m\u001b[1;33m]\u001b[0m\u001b[1;33m,\u001b[0m \u001b[0mcases_in\u001b[0m\u001b[1;33m[\u001b[0m\u001b[0mcountry_codes\u001b[0m\u001b[1;33m[\u001b[0m\u001b[0mi\u001b[0m\u001b[1;33m]\u001b[0m\u001b[1;33m]\u001b[0m\u001b[1;33m)\u001b[0m\u001b[1;33m\u001b[0m\u001b[1;33m\u001b[0m\u001b[0m\n\u001b[0m\u001b[0;32m    257\u001b[0m         \u001b[0mkl_sum\u001b[0m \u001b[1;33m=\u001b[0m \u001b[0mkl_sum\u001b[0m \u001b[1;33m+\u001b[0m \u001b[0mres\u001b[0m\u001b[1;33m\u001b[0m\u001b[1;33m\u001b[0m\u001b[0m\n\u001b[0;32m    258\u001b[0m \u001b[1;33m\u001b[0m\u001b[0m\n",
      "\u001b[1;32m~\\Documents\\NIH\\Git clone\\CovidEM\\Executables\\CovidEM2.py\u001b[0m in \u001b[0;36mCovid_KL_k2\u001b[1;34m(theta0, prem_in, kcases_in, debug)\u001b[0m\n\u001b[0;32m    226\u001b[0m     \u001b[0mu_hat\u001b[0m \u001b[1;33m=\u001b[0m \u001b[1;33m[\u001b[0m\u001b[0melement\u001b[0m \u001b[1;33m/\u001b[0m \u001b[0mtotal_cases\u001b[0m \u001b[1;32mfor\u001b[0m \u001b[0melement\u001b[0m \u001b[1;32min\u001b[0m \u001b[0mkcases\u001b[0m\u001b[1;33m]\u001b[0m\u001b[1;33m\u001b[0m\u001b[1;33m\u001b[0m\u001b[0m\n\u001b[0;32m    227\u001b[0m \u001b[1;33m\u001b[0m\u001b[0m\n\u001b[1;32m--> 228\u001b[1;33m     \u001b[0mu_tilda\u001b[0m \u001b[1;33m=\u001b[0m \u001b[0mscv_eig2\u001b[0m\u001b[1;33m(\u001b[0m\u001b[0ms\u001b[0m \u001b[1;33m=\u001b[0m \u001b[0mtheta0\u001b[0m\u001b[1;33m[\u001b[0m\u001b[1;36m0\u001b[0m\u001b[1;33m:\u001b[0m\u001b[1;33m(\u001b[0m\u001b[0mint\u001b[0m\u001b[1;33m(\u001b[0m\u001b[0mlen\u001b[0m\u001b[1;33m(\u001b[0m\u001b[0mtheta0\u001b[0m\u001b[1;33m)\u001b[0m\u001b[1;33m/\u001b[0m\u001b[1;36m2\u001b[0m\u001b[1;33m)\u001b[0m\u001b[1;33m)\u001b[0m\u001b[1;33m]\u001b[0m\u001b[1;33m,\u001b[0m \u001b[0mc\u001b[0m \u001b[1;33m=\u001b[0m \u001b[0mprem_in\u001b[0m\u001b[1;33m,\u001b[0m \u001b[0mv\u001b[0m \u001b[1;33m=\u001b[0m \u001b[0mtheta0\u001b[0m\u001b[1;33m[\u001b[0m\u001b[1;33m(\u001b[0m\u001b[0mint\u001b[0m\u001b[1;33m(\u001b[0m\u001b[0mlen\u001b[0m\u001b[1;33m(\u001b[0m\u001b[0mtheta0\u001b[0m\u001b[1;33m)\u001b[0m\u001b[1;33m/\u001b[0m\u001b[1;36m2\u001b[0m\u001b[1;33m)\u001b[0m\u001b[1;33m)\u001b[0m\u001b[1;33m:\u001b[0m\u001b[1;33m]\u001b[0m\u001b[1;33m)\u001b[0m\u001b[1;33m\u001b[0m\u001b[1;33m\u001b[0m\u001b[0m\n\u001b[0m\u001b[0;32m    229\u001b[0m     \u001b[1;32mif\u001b[0m \u001b[1;33m(\u001b[0m\u001b[0mu_tilda\u001b[0m \u001b[1;33m==\u001b[0m \u001b[1;36m0\u001b[0m\u001b[1;33m)\u001b[0m\u001b[1;33m:\u001b[0m \u001b[1;32mreturn\u001b[0m \u001b[0mmath\u001b[0m\u001b[1;33m.\u001b[0m\u001b[0minf\u001b[0m \u001b[1;31m#Check for fail condition within scv_eig\u001b[0m\u001b[1;33m\u001b[0m\u001b[1;33m\u001b[0m\u001b[0m\n\u001b[0;32m    230\u001b[0m     \u001b[1;32massert\u001b[0m\u001b[1;33m(\u001b[0m\u001b[0misclose\u001b[0m\u001b[1;33m(\u001b[0m\u001b[0msum\u001b[0m\u001b[1;33m(\u001b[0m\u001b[0mu_tilda\u001b[0m\u001b[1;33m)\u001b[0m\u001b[1;33m,\u001b[0m \u001b[1;36m1\u001b[0m\u001b[1;33m,\u001b[0m \u001b[0mrel_tol\u001b[0m\u001b[1;33m=\u001b[0m\u001b[1;36m1e-3\u001b[0m\u001b[1;33m)\u001b[0m\u001b[1;33m)\u001b[0m\u001b[1;33m,\u001b[0m \u001b[1;34m\"u-tilda: %s,\\tsum: %s\"\u001b[0m \u001b[1;33m%\u001b[0m\u001b[1;33m(\u001b[0m\u001b[0mu_tilda\u001b[0m\u001b[1;33m,\u001b[0m \u001b[0msum\u001b[0m\u001b[1;33m(\u001b[0m\u001b[0mu_tilda\u001b[0m\u001b[1;33m)\u001b[0m\u001b[1;33m)\u001b[0m\u001b[1;33m\u001b[0m\u001b[1;33m\u001b[0m\u001b[0m\n",
      "\u001b[1;32m~\\Documents\\NIH\\Git clone\\CovidEM\\Executables\\CovidEM2.py\u001b[0m in \u001b[0;36mscv_eig2\u001b[1;34m(s, c, v, debug, peek)\u001b[0m\n\u001b[0;32m    155\u001b[0m \u001b[1;33m\u001b[0m\u001b[0m\n\u001b[0;32m    156\u001b[0m     \u001b[1;31m# Find Perron Frobenius Eigenvalue/vector\u001b[0m\u001b[1;33m\u001b[0m\u001b[1;33m\u001b[0m\u001b[0m\n\u001b[1;32m--> 157\u001b[1;33m     \u001b[0meigs\u001b[0m \u001b[1;33m=\u001b[0m \u001b[0mla\u001b[0m\u001b[1;33m.\u001b[0m\u001b[0meig\u001b[0m\u001b[1;33m(\u001b[0m\u001b[0mbuilder\u001b[0m\u001b[1;33m)\u001b[0m\u001b[1;33m\u001b[0m\u001b[1;33m\u001b[0m\u001b[0m\n\u001b[0m\u001b[0;32m    158\u001b[0m     \u001b[0meig\u001b[0m \u001b[1;33m=\u001b[0m \u001b[0meigs\u001b[0m\u001b[1;33m[\u001b[0m\u001b[1;36m1\u001b[0m\u001b[1;33m]\u001b[0m\u001b[1;33m[\u001b[0m\u001b[1;33m:\u001b[0m\u001b[1;33m,\u001b[0m\u001b[1;36m0\u001b[0m\u001b[1;33m]\u001b[0m\u001b[1;33m\u001b[0m\u001b[1;33m\u001b[0m\u001b[0m\n\u001b[0;32m    159\u001b[0m     \u001b[0mbest\u001b[0m \u001b[1;33m=\u001b[0m \u001b[0meigs\u001b[0m\u001b[1;33m[\u001b[0m\u001b[1;36m0\u001b[0m\u001b[1;33m]\u001b[0m\u001b[1;33m[\u001b[0m\u001b[1;36m0\u001b[0m\u001b[1;33m]\u001b[0m\u001b[1;33m\u001b[0m\u001b[1;33m\u001b[0m\u001b[0m\n",
      "\u001b[1;32m<__array_function__ internals>\u001b[0m in \u001b[0;36meig\u001b[1;34m(*args, **kwargs)\u001b[0m\n",
      "\u001b[1;32m~\\anaconda3\\lib\\site-packages\\numpy\\linalg\\linalg.py\u001b[0m in \u001b[0;36meig\u001b[1;34m(a)\u001b[0m\n\u001b[0;32m   1321\u001b[0m         _raise_linalgerror_eigenvalues_nonconvergence)\n\u001b[0;32m   1322\u001b[0m     \u001b[0msignature\u001b[0m \u001b[1;33m=\u001b[0m \u001b[1;34m'D->DD'\u001b[0m \u001b[1;32mif\u001b[0m \u001b[0misComplexType\u001b[0m\u001b[1;33m(\u001b[0m\u001b[0mt\u001b[0m\u001b[1;33m)\u001b[0m \u001b[1;32melse\u001b[0m \u001b[1;34m'd->DD'\u001b[0m\u001b[1;33m\u001b[0m\u001b[1;33m\u001b[0m\u001b[0m\n\u001b[1;32m-> 1323\u001b[1;33m     \u001b[0mw\u001b[0m\u001b[1;33m,\u001b[0m \u001b[0mvt\u001b[0m \u001b[1;33m=\u001b[0m \u001b[0m_umath_linalg\u001b[0m\u001b[1;33m.\u001b[0m\u001b[0meig\u001b[0m\u001b[1;33m(\u001b[0m\u001b[0ma\u001b[0m\u001b[1;33m,\u001b[0m \u001b[0msignature\u001b[0m\u001b[1;33m=\u001b[0m\u001b[0msignature\u001b[0m\u001b[1;33m,\u001b[0m \u001b[0mextobj\u001b[0m\u001b[1;33m=\u001b[0m\u001b[0mextobj\u001b[0m\u001b[1;33m)\u001b[0m\u001b[1;33m\u001b[0m\u001b[1;33m\u001b[0m\u001b[0m\n\u001b[0m\u001b[0;32m   1324\u001b[0m \u001b[1;33m\u001b[0m\u001b[0m\n\u001b[0;32m   1325\u001b[0m     \u001b[1;32mif\u001b[0m \u001b[1;32mnot\u001b[0m \u001b[0misComplexType\u001b[0m\u001b[1;33m(\u001b[0m\u001b[0mt\u001b[0m\u001b[1;33m)\u001b[0m \u001b[1;32mand\u001b[0m \u001b[0mall\u001b[0m\u001b[1;33m(\u001b[0m\u001b[0mw\u001b[0m\u001b[1;33m.\u001b[0m\u001b[0mimag\u001b[0m \u001b[1;33m==\u001b[0m \u001b[1;36m0.0\u001b[0m\u001b[1;33m)\u001b[0m\u001b[1;33m:\u001b[0m\u001b[1;33m\u001b[0m\u001b[1;33m\u001b[0m\u001b[0m\n",
      "\u001b[1;31mKeyboardInterrupt\u001b[0m: "
     ]
    }
   ],
   "source": [
    "cis_2a1 = CovidEM2.CI_calc2(best_res_x, CovidEM2.neg_Covid_KL2)\n",
    "print(\"\\n\\n\\nDone a1\\n\\n\")\n",
    "cis_2a2 = CovidEM2.CI_calc2(best_res_x, CovidEM2.neg_Covid_KL2)\n",
    "print(\"\\n\\n\\nDone a2\\n\\n\")\n",
    "cis_2a3 = CovidEM2.CI_calc2(best_res_x, CovidEM2.neg_Covid_KL2)\n",
    "print(\"\\n\\n\\nDone a3\\n\\n\")"
   ]
  },
  {
   "cell_type": "code",
   "execution_count": null,
   "id": "a87407ca",
   "metadata": {},
   "outputs": [],
   "source": [
    "cis_2b1 = CovidEM2.CI_calc2(best_est, CovidEM2.neg_Covid_KL)\n",
    "print(\"\\n\\n\\nDone b1\\n\\n\")\n",
    "cis_2b2 = CovidEM2.CI_calc2(best_est, CovidEM2.neg_Covid_KL)\n",
    "print(\"\\n\\n\\nDone b2\\n\\n\")\n",
    "cis_2b3 = CovidEM2.CI_calc2(best_est, CovidEM2.neg_Covid_KL)\n",
    "print(\"\\n\\n\\nDone b3\\n\\n\")"
   ]
  },
  {
   "cell_type": "code",
   "execution_count": null,
   "id": "4b293656",
   "metadata": {},
   "outputs": [],
   "source": [
    "imp.reload(CovidEM2) #applies changes made to file\n",
    "np.random.seed(451)\n",
    "\n",
    "bad_params = [-1.72245253, -0.91245638,  0.01888201,  0.34871368,  0.35877798,\n",
    "              0.39279521,  0.41702544,  1.95818931, -0.10753684,  0.3775735 ,\n",
    "              -9.22278978,  1.15643563,  1.2910407 ,  1.64917554]\n",
    "\n",
    "CovidEM2.Covid_KL2(bad_params, prem, cases_dict, countries)\n",
    "\n",
    "res = optimize.basinhopping(CovidEM2.Covid_KL2, bad_params, minimizer_kwargs = kwargs)"
   ]
  },
  {
   "cell_type": "code",
   "execution_count": null,
   "id": "0d933fdb",
   "metadata": {},
   "outputs": [],
   "source": [
    "print(res)"
   ]
  },
  {
   "cell_type": "code",
   "execution_count": null,
   "id": "69997e39",
   "metadata": {},
   "outputs": [],
   "source": [
    "thetas = best_est\n",
    "confint = cis_2b\n",
    "\n",
    "print(\"Overhauled KL, Estimate\")\n",
    "print(\"non-trans: theta: \", thetas[0])\n",
    "print(\"non-trans: CIs:\", confint[0,:])\n",
    "print(\"non-trans: theta - upper: \", thetas[0] - confint[0,0])\n",
    "print(\"non-trans: theta - lower: \", thetas[0] - confint[0,1])\n",
    "print(\"\\n\")\n",
    "\n",
    "for i in range(0,len(thetas)):\n",
    "    print(\"Parameter #\", i+1)\n",
    "    print(\"trans: theta: \", CovidEM2.param_trans2(thetas)[i])\n",
    "    print(\"trans: CIs:\", CovidEM2.param_trans2(confint[i,:]))\n",
    "    print(\"trans: theta - upper:\", CovidEM2.param_trans2(thetas)[i] - CovidEM2.param_trans2(confint[i,0]))\n",
    "    print(\"trans: theta - lower:\", CovidEM2.param_trans2(thetas)[i] - CovidEM2.param_trans2(confint[i,1]))\n",
    "    print(\"\\n\")"
   ]
  },
  {
   "cell_type": "code",
   "execution_count": null,
   "id": "eea1e8e3",
   "metadata": {},
   "outputs": [],
   "source": [
    "ci_header = [\"Age\", \"Lower\", \"Estimate\", \"Upper\"]\n",
    "\n",
    "ci_res = [[\"s0-9\",\"s10-19\",\"s30-39\",\"s40-49\",\"s50-59\",\"s60-69\",\"s70-79\",\n",
    "           \"v0-9\",\"v10-19\",\"v30-39\",\"v40-49\",\"v50-59\",\"v60-69\",\"v70-79\"],\n",
    "          CovidEM2.param_trans2(cis_2b[:,0]),\n",
    "          CovidEM2.param_trans2(best_est),\n",
    "          CovidEM2.param_trans2(cis_2b[:,1])]\n",
    "print(best_est - cis_2b[:,0])\n",
    "print(best_est)\n",
    "print(best_est - cis_2b[:,1])\n",
    "ci_res = np.array(ci_res).T.tolist()\n",
    "\n",
    "print(ci_res)\n"
   ]
  },
  {
   "cell_type": "raw",
   "id": "32acb3f7",
   "metadata": {},
   "source": [
    "with open('CovidStratified/Output/CIEstimates2.csv', 'w', encoding='UTF8', newline='') as f:\n",
    "    writer = csv.writer(f)\n",
    "\n",
    "    # write the header\n",
    "    writer.writerow(ci_header)\n",
    "\n",
    "    # write multiple rows\n",
    "    writer.writerows(ci_res)\n",
    "    \n",
    "f.close()"
   ]
  }
 ],
 "metadata": {
  "kernelspec": {
   "display_name": "Python 3 (ipykernel)",
   "language": "python",
   "name": "python3"
  },
  "language_info": {
   "codemirror_mode": {
    "name": "ipython",
    "version": 3
   },
   "file_extension": ".py",
   "mimetype": "text/x-python",
   "name": "python",
   "nbconvert_exporter": "python",
   "pygments_lexer": "ipython3",
   "version": "3.9.7"
  }
 },
 "nbformat": 4,
 "nbformat_minor": 5
}
